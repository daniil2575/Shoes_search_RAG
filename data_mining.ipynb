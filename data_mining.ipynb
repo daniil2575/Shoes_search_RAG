{
 "cells": [
  {
   "cell_type": "code",
   "execution_count": 21,
   "id": "b142171a",
   "metadata": {},
   "outputs": [
    {
     "name": "stdout",
     "output_type": "stream",
     "text": [
      "Requirement already satisfied: langchain in c:\\users\\savely\\desktop\\project_example\\.venv\\lib\\site-packages (from -r requirements.txt (line 1)) (0.3.25)\n",
      "Requirement already satisfied: langchain_openai in c:\\users\\savely\\desktop\\project_example\\.venv\\lib\\site-packages (from -r requirements.txt (line 2)) (0.3.23)\n",
      "Requirement already satisfied: pandas in c:\\users\\savely\\desktop\\project_example\\.venv\\lib\\site-packages (from -r requirements.txt (line 3)) (2.3.0)\n",
      "Requirement already satisfied: numpy in c:\\users\\savely\\desktop\\project_example\\.venv\\lib\\site-packages (from -r requirements.txt (line 4)) (2.2.6)\n",
      "Requirement already satisfied: dotenv in c:\\users\\savely\\desktop\\project_example\\.venv\\lib\\site-packages (from -r requirements.txt (line 5)) (0.9.9)\n",
      "Requirement already satisfied: bs4 in c:\\users\\savely\\desktop\\project_example\\.venv\\lib\\site-packages (from -r requirements.txt (line 6)) (0.0.2)\n",
      "Requirement already satisfied: sentence_transformers in c:\\users\\savely\\desktop\\project_example\\.venv\\lib\\site-packages (from -r requirements.txt (line 7)) (4.1.0)\n",
      "Requirement already satisfied: hf_xet in c:\\users\\savely\\desktop\\project_example\\.venv\\lib\\site-packages (from -r requirements.txt (line 8)) (1.1.3)\n",
      "Requirement already satisfied: psycopg in c:\\users\\savely\\desktop\\project_example\\.venv\\lib\\site-packages (from -r requirements.txt (line 9)) (3.2.9)\n",
      "Requirement already satisfied: pgvector in c:\\users\\savely\\desktop\\project_example\\.venv\\lib\\site-packages (from -r requirements.txt (line 10)) (0.4.1)\n",
      "Requirement already satisfied: plotly in c:\\users\\savely\\desktop\\project_example\\.venv\\lib\\site-packages (from -r requirements.txt (line 11)) (6.1.2)\n",
      "Requirement already satisfied: scikit-learn in c:\\users\\savely\\desktop\\project_example\\.venv\\lib\\site-packages (from -r requirements.txt (line 12)) (1.7.0)\n",
      "Requirement already satisfied: umap-learn in c:\\users\\savely\\desktop\\project_example\\.venv\\lib\\site-packages (from -r requirements.txt (line 13)) (0.5.7)\n",
      "Requirement already satisfied: nbformat>=4.2.0 in c:\\users\\savely\\desktop\\project_example\\.venv\\lib\\site-packages (from -r requirements.txt (line 14)) (5.10.4)\n",
      "Requirement already satisfied: fastmcp in c:\\users\\savely\\desktop\\project_example\\.venv\\lib\\site-packages (from -r requirements.txt (line 15)) (2.8.1)\n",
      "Requirement already satisfied: xgboost in c:\\users\\savely\\desktop\\project_example\\.venv\\lib\\site-packages (from -r requirements.txt (line 16)) (3.0.2)\n",
      "Collecting category_encoders (from -r requirements.txt (line 17))\n",
      "  Downloading category_encoders-2.8.1-py3-none-any.whl.metadata (7.9 kB)\n",
      "Requirement already satisfied: langchain-core<1.0.0,>=0.3.58 in c:\\users\\savely\\desktop\\project_example\\.venv\\lib\\site-packages (from langchain->-r requirements.txt (line 1)) (0.3.65)\n",
      "Requirement already satisfied: langchain-text-splitters<1.0.0,>=0.3.8 in c:\\users\\savely\\desktop\\project_example\\.venv\\lib\\site-packages (from langchain->-r requirements.txt (line 1)) (0.3.8)\n",
      "Requirement already satisfied: langsmith<0.4,>=0.1.17 in c:\\users\\savely\\desktop\\project_example\\.venv\\lib\\site-packages (from langchain->-r requirements.txt (line 1)) (0.3.45)\n",
      "Requirement already satisfied: pydantic<3.0.0,>=2.7.4 in c:\\users\\savely\\desktop\\project_example\\.venv\\lib\\site-packages (from langchain->-r requirements.txt (line 1)) (2.11.7)\n",
      "Requirement already satisfied: SQLAlchemy<3,>=1.4 in c:\\users\\savely\\desktop\\project_example\\.venv\\lib\\site-packages (from langchain->-r requirements.txt (line 1)) (2.0.41)\n",
      "Requirement already satisfied: requests<3,>=2 in c:\\users\\savely\\desktop\\project_example\\.venv\\lib\\site-packages (from langchain->-r requirements.txt (line 1)) (2.32.4)\n",
      "Requirement already satisfied: PyYAML>=5.3 in c:\\users\\savely\\desktop\\project_example\\.venv\\lib\\site-packages (from langchain->-r requirements.txt (line 1)) (6.0.2)\n",
      "Requirement already satisfied: tenacity!=8.4.0,<10.0.0,>=8.1.0 in c:\\users\\savely\\desktop\\project_example\\.venv\\lib\\site-packages (from langchain-core<1.0.0,>=0.3.58->langchain->-r requirements.txt (line 1)) (9.1.2)\n",
      "Requirement already satisfied: jsonpatch<2.0,>=1.33 in c:\\users\\savely\\desktop\\project_example\\.venv\\lib\\site-packages (from langchain-core<1.0.0,>=0.3.58->langchain->-r requirements.txt (line 1)) (1.33)\n",
      "Requirement already satisfied: packaging<25,>=23.2 in c:\\users\\savely\\desktop\\project_example\\.venv\\lib\\site-packages (from langchain-core<1.0.0,>=0.3.58->langchain->-r requirements.txt (line 1)) (24.2)\n",
      "Requirement already satisfied: typing-extensions>=4.7 in c:\\users\\savely\\desktop\\project_example\\.venv\\lib\\site-packages (from langchain-core<1.0.0,>=0.3.58->langchain->-r requirements.txt (line 1)) (4.14.0)\n",
      "Requirement already satisfied: jsonpointer>=1.9 in c:\\users\\savely\\desktop\\project_example\\.venv\\lib\\site-packages (from jsonpatch<2.0,>=1.33->langchain-core<1.0.0,>=0.3.58->langchain->-r requirements.txt (line 1)) (3.0.0)\n",
      "Requirement already satisfied: httpx<1,>=0.23.0 in c:\\users\\savely\\desktop\\project_example\\.venv\\lib\\site-packages (from langsmith<0.4,>=0.1.17->langchain->-r requirements.txt (line 1)) (0.28.1)\n",
      "Requirement already satisfied: orjson<4.0.0,>=3.9.14 in c:\\users\\savely\\desktop\\project_example\\.venv\\lib\\site-packages (from langsmith<0.4,>=0.1.17->langchain->-r requirements.txt (line 1)) (3.10.18)\n",
      "Requirement already satisfied: requests-toolbelt<2.0.0,>=1.0.0 in c:\\users\\savely\\desktop\\project_example\\.venv\\lib\\site-packages (from langsmith<0.4,>=0.1.17->langchain->-r requirements.txt (line 1)) (1.0.0)\n",
      "Requirement already satisfied: zstandard<0.24.0,>=0.23.0 in c:\\users\\savely\\desktop\\project_example\\.venv\\lib\\site-packages (from langsmith<0.4,>=0.1.17->langchain->-r requirements.txt (line 1)) (0.23.0)\n",
      "Requirement already satisfied: anyio in c:\\users\\savely\\desktop\\project_example\\.venv\\lib\\site-packages (from httpx<1,>=0.23.0->langsmith<0.4,>=0.1.17->langchain->-r requirements.txt (line 1)) (4.9.0)\n",
      "Requirement already satisfied: certifi in c:\\users\\savely\\desktop\\project_example\\.venv\\lib\\site-packages (from httpx<1,>=0.23.0->langsmith<0.4,>=0.1.17->langchain->-r requirements.txt (line 1)) (2025.6.15)\n",
      "Requirement already satisfied: httpcore==1.* in c:\\users\\savely\\desktop\\project_example\\.venv\\lib\\site-packages (from httpx<1,>=0.23.0->langsmith<0.4,>=0.1.17->langchain->-r requirements.txt (line 1)) (1.0.9)\n",
      "Requirement already satisfied: idna in c:\\users\\savely\\desktop\\project_example\\.venv\\lib\\site-packages (from httpx<1,>=0.23.0->langsmith<0.4,>=0.1.17->langchain->-r requirements.txt (line 1)) (3.10)\n",
      "Requirement already satisfied: h11>=0.16 in c:\\users\\savely\\desktop\\project_example\\.venv\\lib\\site-packages (from httpcore==1.*->httpx<1,>=0.23.0->langsmith<0.4,>=0.1.17->langchain->-r requirements.txt (line 1)) (0.16.0)\n",
      "Requirement already satisfied: annotated-types>=0.6.0 in c:\\users\\savely\\desktop\\project_example\\.venv\\lib\\site-packages (from pydantic<3.0.0,>=2.7.4->langchain->-r requirements.txt (line 1)) (0.7.0)\n",
      "Requirement already satisfied: pydantic-core==2.33.2 in c:\\users\\savely\\desktop\\project_example\\.venv\\lib\\site-packages (from pydantic<3.0.0,>=2.7.4->langchain->-r requirements.txt (line 1)) (2.33.2)\n",
      "Requirement already satisfied: typing-inspection>=0.4.0 in c:\\users\\savely\\desktop\\project_example\\.venv\\lib\\site-packages (from pydantic<3.0.0,>=2.7.4->langchain->-r requirements.txt (line 1)) (0.4.1)\n",
      "Requirement already satisfied: charset_normalizer<4,>=2 in c:\\users\\savely\\desktop\\project_example\\.venv\\lib\\site-packages (from requests<3,>=2->langchain->-r requirements.txt (line 1)) (3.4.2)\n",
      "Requirement already satisfied: urllib3<3,>=1.21.1 in c:\\users\\savely\\desktop\\project_example\\.venv\\lib\\site-packages (from requests<3,>=2->langchain->-r requirements.txt (line 1)) (2.4.0)\n",
      "Requirement already satisfied: greenlet>=1 in c:\\users\\savely\\desktop\\project_example\\.venv\\lib\\site-packages (from SQLAlchemy<3,>=1.4->langchain->-r requirements.txt (line 1)) (3.2.3)\n",
      "Requirement already satisfied: openai<2.0.0,>=1.68.2 in c:\\users\\savely\\desktop\\project_example\\.venv\\lib\\site-packages (from langchain_openai->-r requirements.txt (line 2)) (1.86.0)\n",
      "Requirement already satisfied: tiktoken<1,>=0.7 in c:\\users\\savely\\desktop\\project_example\\.venv\\lib\\site-packages (from langchain_openai->-r requirements.txt (line 2)) (0.9.0)\n",
      "Requirement already satisfied: distro<2,>=1.7.0 in c:\\users\\savely\\desktop\\project_example\\.venv\\lib\\site-packages (from openai<2.0.0,>=1.68.2->langchain_openai->-r requirements.txt (line 2)) (1.9.0)\n",
      "Requirement already satisfied: jiter<1,>=0.4.0 in c:\\users\\savely\\desktop\\project_example\\.venv\\lib\\site-packages (from openai<2.0.0,>=1.68.2->langchain_openai->-r requirements.txt (line 2)) (0.10.0)\n",
      "Requirement already satisfied: sniffio in c:\\users\\savely\\desktop\\project_example\\.venv\\lib\\site-packages (from openai<2.0.0,>=1.68.2->langchain_openai->-r requirements.txt (line 2)) (1.3.1)\n",
      "Requirement already satisfied: tqdm>4 in c:\\users\\savely\\desktop\\project_example\\.venv\\lib\\site-packages (from openai<2.0.0,>=1.68.2->langchain_openai->-r requirements.txt (line 2)) (4.67.1)\n",
      "Requirement already satisfied: regex>=2022.1.18 in c:\\users\\savely\\desktop\\project_example\\.venv\\lib\\site-packages (from tiktoken<1,>=0.7->langchain_openai->-r requirements.txt (line 2)) (2024.11.6)\n",
      "Requirement already satisfied: python-dateutil>=2.8.2 in c:\\users\\savely\\desktop\\project_example\\.venv\\lib\\site-packages (from pandas->-r requirements.txt (line 3)) (2.9.0.post0)\n",
      "Requirement already satisfied: pytz>=2020.1 in c:\\users\\savely\\desktop\\project_example\\.venv\\lib\\site-packages (from pandas->-r requirements.txt (line 3)) (2025.2)\n",
      "Requirement already satisfied: tzdata>=2022.7 in c:\\users\\savely\\desktop\\project_example\\.venv\\lib\\site-packages (from pandas->-r requirements.txt (line 3)) (2025.2)\n",
      "Requirement already satisfied: python-dotenv in c:\\users\\savely\\desktop\\project_example\\.venv\\lib\\site-packages (from dotenv->-r requirements.txt (line 5)) (1.1.0)\n",
      "Requirement already satisfied: beautifulsoup4 in c:\\users\\savely\\desktop\\project_example\\.venv\\lib\\site-packages (from bs4->-r requirements.txt (line 6)) (4.13.4)\n",
      "Requirement already satisfied: transformers<5.0.0,>=4.41.0 in c:\\users\\savely\\desktop\\project_example\\.venv\\lib\\site-packages (from sentence_transformers->-r requirements.txt (line 7)) (4.52.4)\n",
      "Requirement already satisfied: torch>=1.11.0 in c:\\users\\savely\\desktop\\project_example\\.venv\\lib\\site-packages (from sentence_transformers->-r requirements.txt (line 7)) (2.7.1)\n",
      "Requirement already satisfied: scipy in c:\\users\\savely\\desktop\\project_example\\.venv\\lib\\site-packages (from sentence_transformers->-r requirements.txt (line 7)) (1.15.3)\n",
      "Requirement already satisfied: huggingface-hub>=0.20.0 in c:\\users\\savely\\desktop\\project_example\\.venv\\lib\\site-packages (from sentence_transformers->-r requirements.txt (line 7)) (0.33.0)\n",
      "Requirement already satisfied: Pillow in c:\\users\\savely\\desktop\\project_example\\.venv\\lib\\site-packages (from sentence_transformers->-r requirements.txt (line 7)) (11.2.1)\n",
      "Requirement already satisfied: filelock in c:\\users\\savely\\desktop\\project_example\\.venv\\lib\\site-packages (from transformers<5.0.0,>=4.41.0->sentence_transformers->-r requirements.txt (line 7)) (3.18.0)\n",
      "Requirement already satisfied: tokenizers<0.22,>=0.21 in c:\\users\\savely\\desktop\\project_example\\.venv\\lib\\site-packages (from transformers<5.0.0,>=4.41.0->sentence_transformers->-r requirements.txt (line 7)) (0.21.1)\n",
      "Requirement already satisfied: safetensors>=0.4.3 in c:\\users\\savely\\desktop\\project_example\\.venv\\lib\\site-packages (from transformers<5.0.0,>=4.41.0->sentence_transformers->-r requirements.txt (line 7)) (0.5.3)\n",
      "Requirement already satisfied: fsspec>=2023.5.0 in c:\\users\\savely\\desktop\\project_example\\.venv\\lib\\site-packages (from huggingface-hub>=0.20.0->sentence_transformers->-r requirements.txt (line 7)) (2025.5.1)\n",
      "Requirement already satisfied: narwhals>=1.15.1 in c:\\users\\savely\\desktop\\project_example\\.venv\\lib\\site-packages (from plotly->-r requirements.txt (line 11)) (1.42.1)\n",
      "Requirement already satisfied: joblib>=1.2.0 in c:\\users\\savely\\desktop\\project_example\\.venv\\lib\\site-packages (from scikit-learn->-r requirements.txt (line 12)) (1.5.1)\n",
      "Requirement already satisfied: threadpoolctl>=3.1.0 in c:\\users\\savely\\desktop\\project_example\\.venv\\lib\\site-packages (from scikit-learn->-r requirements.txt (line 12)) (3.6.0)\n",
      "Requirement already satisfied: numba>=0.51.2 in c:\\users\\savely\\desktop\\project_example\\.venv\\lib\\site-packages (from umap-learn->-r requirements.txt (line 13)) (0.61.2)\n",
      "Requirement already satisfied: pynndescent>=0.5 in c:\\users\\savely\\desktop\\project_example\\.venv\\lib\\site-packages (from umap-learn->-r requirements.txt (line 13)) (0.5.13)\n",
      "Requirement already satisfied: fastjsonschema>=2.15 in c:\\users\\savely\\desktop\\project_example\\.venv\\lib\\site-packages (from nbformat>=4.2.0->-r requirements.txt (line 14)) (2.21.1)\n",
      "Requirement already satisfied: jsonschema>=2.6 in c:\\users\\savely\\desktop\\project_example\\.venv\\lib\\site-packages (from nbformat>=4.2.0->-r requirements.txt (line 14)) (4.24.0)\n",
      "Requirement already satisfied: jupyter-core!=5.0.*,>=4.12 in c:\\users\\savely\\desktop\\project_example\\.venv\\lib\\site-packages (from nbformat>=4.2.0->-r requirements.txt (line 14)) (5.8.1)\n",
      "Requirement already satisfied: traitlets>=5.1 in c:\\users\\savely\\desktop\\project_example\\.venv\\lib\\site-packages (from nbformat>=4.2.0->-r requirements.txt (line 14)) (5.14.3)\n",
      "Requirement already satisfied: authlib>=1.5.2 in c:\\users\\savely\\desktop\\project_example\\.venv\\lib\\site-packages (from fastmcp->-r requirements.txt (line 15)) (1.6.0)\n",
      "Requirement already satisfied: exceptiongroup>=1.2.2 in c:\\users\\savely\\desktop\\project_example\\.venv\\lib\\site-packages (from fastmcp->-r requirements.txt (line 15)) (1.3.0)\n",
      "Requirement already satisfied: mcp<2.0.0,>=1.9.4 in c:\\users\\savely\\desktop\\project_example\\.venv\\lib\\site-packages (from fastmcp->-r requirements.txt (line 15)) (1.9.4)\n",
      "Requirement already satisfied: openapi-pydantic>=0.5.1 in c:\\users\\savely\\desktop\\project_example\\.venv\\lib\\site-packages (from fastmcp->-r requirements.txt (line 15)) (0.5.1)\n",
      "Requirement already satisfied: rich>=13.9.4 in c:\\users\\savely\\desktop\\project_example\\.venv\\lib\\site-packages (from fastmcp->-r requirements.txt (line 15)) (14.0.0)\n",
      "Requirement already satisfied: typer>=0.15.2 in c:\\users\\savely\\desktop\\project_example\\.venv\\lib\\site-packages (from fastmcp->-r requirements.txt (line 15)) (0.16.0)\n",
      "Requirement already satisfied: httpx-sse>=0.4 in c:\\users\\savely\\desktop\\project_example\\.venv\\lib\\site-packages (from mcp<2.0.0,>=1.9.4->fastmcp->-r requirements.txt (line 15)) (0.4.0)\n",
      "Requirement already satisfied: pydantic-settings>=2.5.2 in c:\\users\\savely\\desktop\\project_example\\.venv\\lib\\site-packages (from mcp<2.0.0,>=1.9.4->fastmcp->-r requirements.txt (line 15)) (2.9.1)\n",
      "Requirement already satisfied: python-multipart>=0.0.9 in c:\\users\\savely\\desktop\\project_example\\.venv\\lib\\site-packages (from mcp<2.0.0,>=1.9.4->fastmcp->-r requirements.txt (line 15)) (0.0.20)\n",
      "Requirement already satisfied: sse-starlette>=1.6.1 in c:\\users\\savely\\desktop\\project_example\\.venv\\lib\\site-packages (from mcp<2.0.0,>=1.9.4->fastmcp->-r requirements.txt (line 15)) (2.3.6)\n",
      "Requirement already satisfied: starlette>=0.27 in c:\\users\\savely\\desktop\\project_example\\.venv\\lib\\site-packages (from mcp<2.0.0,>=1.9.4->fastmcp->-r requirements.txt (line 15)) (0.47.0)\n",
      "Requirement already satisfied: uvicorn>=0.23.1 in c:\\users\\savely\\desktop\\project_example\\.venv\\lib\\site-packages (from mcp<2.0.0,>=1.9.4->fastmcp->-r requirements.txt (line 15)) (0.34.3)\n",
      "Collecting patsy>=0.5.1 (from category_encoders->-r requirements.txt (line 17))\n",
      "  Downloading patsy-1.0.1-py2.py3-none-any.whl.metadata (3.3 kB)\n",
      "Collecting statsmodels>=0.9.0 (from category_encoders->-r requirements.txt (line 17))\n",
      "  Downloading statsmodels-0.14.4-cp311-cp311-win_amd64.whl.metadata (9.5 kB)\n",
      "Requirement already satisfied: cryptography in c:\\users\\savely\\desktop\\project_example\\.venv\\lib\\site-packages (from authlib>=1.5.2->fastmcp->-r requirements.txt (line 15)) (45.0.4)\n",
      "Requirement already satisfied: attrs>=22.2.0 in c:\\users\\savely\\desktop\\project_example\\.venv\\lib\\site-packages (from jsonschema>=2.6->nbformat>=4.2.0->-r requirements.txt (line 14)) (25.3.0)\n",
      "Requirement already satisfied: jsonschema-specifications>=2023.03.6 in c:\\users\\savely\\desktop\\project_example\\.venv\\lib\\site-packages (from jsonschema>=2.6->nbformat>=4.2.0->-r requirements.txt (line 14)) (2025.4.1)\n",
      "Requirement already satisfied: referencing>=0.28.4 in c:\\users\\savely\\desktop\\project_example\\.venv\\lib\\site-packages (from jsonschema>=2.6->nbformat>=4.2.0->-r requirements.txt (line 14)) (0.36.2)\n",
      "Requirement already satisfied: rpds-py>=0.7.1 in c:\\users\\savely\\desktop\\project_example\\.venv\\lib\\site-packages (from jsonschema>=2.6->nbformat>=4.2.0->-r requirements.txt (line 14)) (0.25.1)\n",
      "Requirement already satisfied: platformdirs>=2.5 in c:\\users\\savely\\desktop\\project_example\\.venv\\lib\\site-packages (from jupyter-core!=5.0.*,>=4.12->nbformat>=4.2.0->-r requirements.txt (line 14)) (4.3.8)\n",
      "Requirement already satisfied: pywin32>=300 in c:\\users\\savely\\desktop\\project_example\\.venv\\lib\\site-packages (from jupyter-core!=5.0.*,>=4.12->nbformat>=4.2.0->-r requirements.txt (line 14)) (310)\n",
      "Requirement already satisfied: llvmlite<0.45,>=0.44.0dev0 in c:\\users\\savely\\desktop\\project_example\\.venv\\lib\\site-packages (from numba>=0.51.2->umap-learn->-r requirements.txt (line 13)) (0.44.0)\n",
      "Requirement already satisfied: six>=1.5 in c:\\users\\savely\\desktop\\project_example\\.venv\\lib\\site-packages (from python-dateutil>=2.8.2->pandas->-r requirements.txt (line 3)) (1.17.0)\n",
      "Requirement already satisfied: markdown-it-py>=2.2.0 in c:\\users\\savely\\desktop\\project_example\\.venv\\lib\\site-packages (from rich>=13.9.4->fastmcp->-r requirements.txt (line 15)) (3.0.0)\n",
      "Requirement already satisfied: pygments<3.0.0,>=2.13.0 in c:\\users\\savely\\desktop\\project_example\\.venv\\lib\\site-packages (from rich>=13.9.4->fastmcp->-r requirements.txt (line 15)) (2.19.1)\n",
      "Requirement already satisfied: mdurl~=0.1 in c:\\users\\savely\\desktop\\project_example\\.venv\\lib\\site-packages (from markdown-it-py>=2.2.0->rich>=13.9.4->fastmcp->-r requirements.txt (line 15)) (0.1.2)\n",
      "Requirement already satisfied: sympy>=1.13.3 in c:\\users\\savely\\desktop\\project_example\\.venv\\lib\\site-packages (from torch>=1.11.0->sentence_transformers->-r requirements.txt (line 7)) (1.14.0)\n",
      "Requirement already satisfied: networkx in c:\\users\\savely\\desktop\\project_example\\.venv\\lib\\site-packages (from torch>=1.11.0->sentence_transformers->-r requirements.txt (line 7)) (3.5)\n",
      "Requirement already satisfied: jinja2 in c:\\users\\savely\\desktop\\project_example\\.venv\\lib\\site-packages (from torch>=1.11.0->sentence_transformers->-r requirements.txt (line 7)) (3.1.6)\n",
      "Requirement already satisfied: mpmath<1.4,>=1.1.0 in c:\\users\\savely\\desktop\\project_example\\.venv\\lib\\site-packages (from sympy>=1.13.3->torch>=1.11.0->sentence_transformers->-r requirements.txt (line 7)) (1.3.0)\n",
      "Requirement already satisfied: colorama in c:\\users\\savely\\desktop\\project_example\\.venv\\lib\\site-packages (from tqdm>4->openai<2.0.0,>=1.68.2->langchain_openai->-r requirements.txt (line 2)) (0.4.6)\n",
      "Requirement already satisfied: click>=8.0.0 in c:\\users\\savely\\desktop\\project_example\\.venv\\lib\\site-packages (from typer>=0.15.2->fastmcp->-r requirements.txt (line 15)) (8.2.1)\n",
      "Requirement already satisfied: shellingham>=1.3.0 in c:\\users\\savely\\desktop\\project_example\\.venv\\lib\\site-packages (from typer>=0.15.2->fastmcp->-r requirements.txt (line 15)) (1.5.4)\n",
      "Requirement already satisfied: soupsieve>1.2 in c:\\users\\savely\\desktop\\project_example\\.venv\\lib\\site-packages (from beautifulsoup4->bs4->-r requirements.txt (line 6)) (2.7)\n",
      "Requirement already satisfied: cffi>=1.14 in c:\\users\\savely\\desktop\\project_example\\.venv\\lib\\site-packages (from cryptography->authlib>=1.5.2->fastmcp->-r requirements.txt (line 15)) (1.17.1)\n",
      "Requirement already satisfied: pycparser in c:\\users\\savely\\desktop\\project_example\\.venv\\lib\\site-packages (from cffi>=1.14->cryptography->authlib>=1.5.2->fastmcp->-r requirements.txt (line 15)) (2.22)\n",
      "Requirement already satisfied: MarkupSafe>=2.0 in c:\\users\\savely\\desktop\\project_example\\.venv\\lib\\site-packages (from jinja2->torch>=1.11.0->sentence_transformers->-r requirements.txt (line 7)) (3.0.2)\n",
      "Downloading category_encoders-2.8.1-py3-none-any.whl (85 kB)\n",
      "Downloading patsy-1.0.1-py2.py3-none-any.whl (232 kB)\n",
      "Downloading statsmodels-0.14.4-cp311-cp311-win_amd64.whl (9.9 MB)\n",
      "   ---------------------------------------- 0.0/9.9 MB ? eta -:--:--\n",
      "   -------- ------------------------------- 2.1/9.9 MB 10.7 MB/s eta 0:00:01\n",
      "   ------------------- -------------------- 4.7/9.9 MB 11.4 MB/s eta 0:00:01\n",
      "   ---------------------------- ----------- 7.1/9.9 MB 11.5 MB/s eta 0:00:01\n",
      "   ------------------------------------- -- 9.2/9.9 MB 11.0 MB/s eta 0:00:01\n",
      "   ---------------------------------------- 9.9/9.9 MB 10.4 MB/s eta 0:00:00\n",
      "Installing collected packages: patsy, statsmodels, category_encoders\n",
      "\n",
      "   ---------------------------------------- 0/3 [patsy]\n",
      "   ---------------------------------------- 0/3 [patsy]\n",
      "   ------------- -------------------------- 1/3 [statsmodels]\n",
      "   ------------- -------------------------- 1/3 [statsmodels]\n",
      "   ------------- -------------------------- 1/3 [statsmodels]\n",
      "   ------------- -------------------------- 1/3 [statsmodels]\n",
      "   ------------- -------------------------- 1/3 [statsmodels]\n",
      "   ------------- -------------------------- 1/3 [statsmodels]\n",
      "   ------------- -------------------------- 1/3 [statsmodels]\n",
      "   ------------- -------------------------- 1/3 [statsmodels]\n",
      "   ------------- -------------------------- 1/3 [statsmodels]\n",
      "   ------------- -------------------------- 1/3 [statsmodels]\n",
      "   ------------- -------------------------- 1/3 [statsmodels]\n",
      "   ------------- -------------------------- 1/3 [statsmodels]\n",
      "   ------------- -------------------------- 1/3 [statsmodels]\n",
      "   ------------- -------------------------- 1/3 [statsmodels]\n",
      "   ------------- -------------------------- 1/3 [statsmodels]\n",
      "   ------------- -------------------------- 1/3 [statsmodels]\n",
      "   ------------- -------------------------- 1/3 [statsmodels]\n",
      "   ------------- -------------------------- 1/3 [statsmodels]\n",
      "   ------------- -------------------------- 1/3 [statsmodels]\n",
      "   ------------- -------------------------- 1/3 [statsmodels]\n",
      "   ------------- -------------------------- 1/3 [statsmodels]\n",
      "   ------------- -------------------------- 1/3 [statsmodels]\n",
      "   ------------- -------------------------- 1/3 [statsmodels]\n",
      "   ------------- -------------------------- 1/3 [statsmodels]\n",
      "   ------------- -------------------------- 1/3 [statsmodels]\n",
      "   ------------- -------------------------- 1/3 [statsmodels]\n",
      "   ------------- -------------------------- 1/3 [statsmodels]\n",
      "   ------------- -------------------------- 1/3 [statsmodels]\n",
      "   ------------- -------------------------- 1/3 [statsmodels]\n",
      "   ------------- -------------------------- 1/3 [statsmodels]\n",
      "   ------------- -------------------------- 1/3 [statsmodels]\n",
      "   ------------- -------------------------- 1/3 [statsmodels]\n",
      "   ------------- -------------------------- 1/3 [statsmodels]\n",
      "   ------------- -------------------------- 1/3 [statsmodels]\n",
      "   ------------- -------------------------- 1/3 [statsmodels]\n",
      "   ------------- -------------------------- 1/3 [statsmodels]\n",
      "   ------------- -------------------------- 1/3 [statsmodels]\n",
      "   ------------- -------------------------- 1/3 [statsmodels]\n",
      "   ------------- -------------------------- 1/3 [statsmodels]\n",
      "   ------------- -------------------------- 1/3 [statsmodels]\n",
      "   ------------- -------------------------- 1/3 [statsmodels]\n",
      "   ------------- -------------------------- 1/3 [statsmodels]\n",
      "   ------------- -------------------------- 1/3 [statsmodels]\n",
      "   ------------- -------------------------- 1/3 [statsmodels]\n",
      "   ------------- -------------------------- 1/3 [statsmodels]\n",
      "   ------------- -------------------------- 1/3 [statsmodels]\n",
      "   ------------- -------------------------- 1/3 [statsmodels]\n",
      "   ------------- -------------------------- 1/3 [statsmodels]\n",
      "   ------------- -------------------------- 1/3 [statsmodels]\n",
      "   ------------- -------------------------- 1/3 [statsmodels]\n",
      "   ------------- -------------------------- 1/3 [statsmodels]\n",
      "   ------------- -------------------------- 1/3 [statsmodels]\n",
      "   ------------- -------------------------- 1/3 [statsmodels]\n",
      "   ------------- -------------------------- 1/3 [statsmodels]\n",
      "   ------------- -------------------------- 1/3 [statsmodels]\n",
      "   ------------- -------------------------- 1/3 [statsmodels]\n",
      "   ------------- -------------------------- 1/3 [statsmodels]\n",
      "   ------------- -------------------------- 1/3 [statsmodels]\n",
      "   ------------- -------------------------- 1/3 [statsmodels]\n",
      "   ------------- -------------------------- 1/3 [statsmodels]\n",
      "   ------------- -------------------------- 1/3 [statsmodels]\n",
      "   ------------- -------------------------- 1/3 [statsmodels]\n",
      "   ------------- -------------------------- 1/3 [statsmodels]\n",
      "   ------------- -------------------------- 1/3 [statsmodels]\n",
      "   ------------- -------------------------- 1/3 [statsmodels]\n",
      "   ------------- -------------------------- 1/3 [statsmodels]\n",
      "   ------------- -------------------------- 1/3 [statsmodels]\n",
      "   ------------- -------------------------- 1/3 [statsmodels]\n",
      "   ------------- -------------------------- 1/3 [statsmodels]\n",
      "   ------------- -------------------------- 1/3 [statsmodels]\n",
      "   ------------- -------------------------- 1/3 [statsmodels]\n",
      "   ------------- -------------------------- 1/3 [statsmodels]\n",
      "   ------------- -------------------------- 1/3 [statsmodels]\n",
      "   ------------- -------------------------- 1/3 [statsmodels]\n",
      "   ------------- -------------------------- 1/3 [statsmodels]\n",
      "   ------------- -------------------------- 1/3 [statsmodels]\n",
      "   ------------- -------------------------- 1/3 [statsmodels]\n",
      "   ------------- -------------------------- 1/3 [statsmodels]\n",
      "   ------------- -------------------------- 1/3 [statsmodels]\n",
      "   ------------- -------------------------- 1/3 [statsmodels]\n",
      "   ------------- -------------------------- 1/3 [statsmodels]\n",
      "   ------------- -------------------------- 1/3 [statsmodels]\n",
      "   ------------- -------------------------- 1/3 [statsmodels]\n",
      "   ------------- -------------------------- 1/3 [statsmodels]\n",
      "   ------------- -------------------------- 1/3 [statsmodels]\n",
      "   ------------- -------------------------- 1/3 [statsmodels]\n",
      "   ------------- -------------------------- 1/3 [statsmodels]\n",
      "   ------------- -------------------------- 1/3 [statsmodels]\n",
      "   ------------- -------------------------- 1/3 [statsmodels]\n",
      "   ------------- -------------------------- 1/3 [statsmodels]\n",
      "   ------------- -------------------------- 1/3 [statsmodels]\n",
      "   ------------- -------------------------- 1/3 [statsmodels]\n",
      "   ------------- -------------------------- 1/3 [statsmodels]\n",
      "   ------------- -------------------------- 1/3 [statsmodels]\n",
      "   ------------- -------------------------- 1/3 [statsmodels]\n",
      "   ------------- -------------------------- 1/3 [statsmodels]\n",
      "   ------------- -------------------------- 1/3 [statsmodels]\n",
      "   ------------- -------------------------- 1/3 [statsmodels]\n",
      "   ------------- -------------------------- 1/3 [statsmodels]\n",
      "   ------------- -------------------------- 1/3 [statsmodels]\n",
      "   ------------- -------------------------- 1/3 [statsmodels]\n",
      "   ------------- -------------------------- 1/3 [statsmodels]\n",
      "   ------------- -------------------------- 1/3 [statsmodels]\n",
      "   ------------- -------------------------- 1/3 [statsmodels]\n",
      "   ------------- -------------------------- 1/3 [statsmodels]\n",
      "   ------------- -------------------------- 1/3 [statsmodels]\n",
      "   ------------- -------------------------- 1/3 [statsmodels]\n",
      "   ------------- -------------------------- 1/3 [statsmodels]\n",
      "   ------------- -------------------------- 1/3 [statsmodels]\n",
      "   -------------------------- ------------- 2/3 [category_encoders]\n",
      "   -------------------------- ------------- 2/3 [category_encoders]\n",
      "   ---------------------------------------- 3/3 [category_encoders]\n",
      "\n",
      "Successfully installed category_encoders-2.8.1 patsy-1.0.1 statsmodels-0.14.4\n",
      "Note: you may need to restart the kernel to use updated packages.\n"
     ]
    }
   ],
   "source": [
    "%pip install -r requirements.txt"
   ]
  },
  {
   "cell_type": "code",
   "execution_count": 5,
   "id": "593b4b1f",
   "metadata": {},
   "outputs": [],
   "source": [
    "from dotenv import load_dotenv\n",
    "import os\n",
    "from langchain_openai import ChatOpenAI\n",
    "\n",
    "import warnings\n",
    "warnings.filterwarnings('ignore')"
   ]
  },
  {
   "cell_type": "code",
   "execution_count": 16,
   "id": "aac659c7",
   "metadata": {},
   "outputs": [
    {
     "data": {
      "text/plain": [
       "True"
      ]
     },
     "execution_count": 16,
     "metadata": {},
     "output_type": "execute_result"
    }
   ],
   "source": [
    "load_dotenv()"
   ]
  },
  {
   "cell_type": "code",
   "execution_count": 44,
   "id": "e6b72323",
   "metadata": {},
   "outputs": [],
   "source": [
    "import requests\n",
    "from bs4 import BeautifulSoup\n",
    "import json\n",
    "\n",
    "def get_all_shoes():\n",
    "    # Создаем сессию для сохранения cookies между запросами\n",
    "    session = requests.Session()\n",
    "    \n",
    "    headers = {\n",
    "        \"User-Agent\": \"Mozilla/5.0 (Windows NT 10.0; Win64; x64) AppleWebKit/537.36 (KHTML, like Gecko) Chrome/91.0.4472.124 Safari/537.36\",\n",
    "        \"X-Requested-With\": \"XMLHttpRequest\",\n",
    "        \"Accept\": \"application/json, text/javascript, */*; q=0.01\",\n",
    "        \"Referer\": \"https://www.velostrana.ru/velosipedy/\",\n",
    "        \"Origin\": \"https://www.velostrana.ru\"\n",
    "    }\n",
    "    \n",
    "    # Первый запрос для получения начальных cookies\n",
    "    init_response = session.get(\"https://www.velostrana.ru/velosipedy/\", headers=headers)\n",
    "    if init_response.status_code != 200:\n",
    "        print(f\"Ошибка начального запроса: {init_response.status_code}\")\n",
    "        return []\n",
    "    \n",
    "    # Устанавливаем количество элементов на странице\n",
    "    settings_url = \"https://www.velostrana.ru/catalog/settings/\"\n",
    "    settings_headers = headers.copy()\n",
    "    settings_headers[\"Content-Type\"] = \"application/x-www-form-urlencoded; charset=UTF-8\"\n",
    "    \n",
    "    settings_response = session.post(\n",
    "        settings_url,\n",
    "        headers=settings_headers,\n",
    "        data={\"per_page\": \"3000\"}\n",
    "    )\n",
    "    \n",
    "    if settings_response.status_code != 200:\n",
    "        print(f\"Ошибка при изменении настроек: {settings_response.status_code}\")\n",
    "        return []\n",
    "    \n",
    "    # Получаем велосипеды с новыми настройками\n",
    "    shoes_url = \"https://www.velostrana.ru/velosipedy/\"\n",
    "    shoes_headers = headers.copy()\n",
    "    shoes_headers[\"Content-Type\"] = \"application/x-www-form-urlencoded; charset=UTF-8\"\n",
    "    \n",
    "    shoes_response = session.post(shoes_url, headers=shoes_headers, data={})\n",
    "    \n",
    "    if shoes_response.status_code != 200:\n",
    "        print(f\"Ошибка при получении велосипедов: {shoes_response.status_code}\")\n",
    "        return []\n",
    "    \n",
    "    try:\n",
    "        shoes_data = shoes_response.json()\n",
    "    except json.JSONDecodeError:\n",
    "        print(\"Ошибка декодирования JSON\")\n",
    "        return []\n",
    "    \n",
    "    if \"html\" not in shoes_data:\n",
    "        print(\"В ответе отсутствует HTML\")\n",
    "        return []\n",
    "    \n",
    "    return parse_shoes_html(shoes_data[\"html\"])\n",
    "\n",
    "def parse_shoes_html(html):\n",
    "    soup = BeautifulSoup(html, \"html.parser\")\n",
    "    bike_cards = soup.find_all(\"div\", class_=\"product-card\")\n",
    "    \n",
    "    shoes = []\n",
    "    \n",
    "    for card in bike_cards:\n",
    "        try:\n",
    "            bike = {\n",
    "                \"name\": card.find(\"div\", class_=\"product-card__model\").get_text(strip=True),\n",
    "                \"brand\": card.find(\"meta\", itemprop=\"brand\")[\"content\"],\n",
    "                \"category\": card.find(\"div\", class_=\"product-card__category\").get_text(strip=True),\n",
    "                \"price\": card.find(\"div\", class_=\"product-card__price\").get_text(strip=True).replace(\"\\u20bd\", \"\").strip(),\n",
    "                \"old_price\": None,\n",
    "                \"discount\": None,\n",
    "                \"in_stock\": card.find(\"div\", class_=\"product-card__instock\").get_text(strip=True),\n",
    "                \"url\": \"https://www.velostrana.ru\" + card.find(\"a\", class_=\"product-card__title\")[\"href\"],\n",
    "                \"image_url\": None,\n",
    "                \"description\": []\n",
    "            }\n",
    "            \n",
    "            # Проверяем наличие старой цены и скидки\n",
    "            discount_div = card.find(\"div\", class_=\"product-card__discount\")\n",
    "            if discount_div:\n",
    "                old_price = discount_div.find(\"div\", class_=\"product-card__oldprice\")\n",
    "                if old_price:\n",
    "                    bike[\"old_price\"] = old_price.get_text(strip=True)\n",
    "                \n",
    "                sale = discount_div.find(\"div\", class_=\"product-card__sale\")\n",
    "                if sale:\n",
    "                    bike[\"discount\"] = sale.get_text(strip=True)\n",
    "            \n",
    "            # Получаем URL изображения\n",
    "            img_tag = card.find(\"img\", itemprop=\"image\") or card.find(\"img\")\n",
    "            if img_tag:\n",
    "                bike[\"image_url\"] = img_tag.get(\"src\", \"\").replace(\"medium.jpg\", \"big.jpg\")\n",
    "            \n",
    "            # Получаем описание\n",
    "            desc = card.find(\"ul\", class_=\"product-card__desc\")\n",
    "            if desc:\n",
    "                bike[\"description\"] = [li.get_text(strip=True) for li in desc.find_all(\"li\")]\n",
    "            \n",
    "            shoes.append(bike)\n",
    "            \n",
    "        except Exception as e:\n",
    "            print(f\"Ошибка при парсинге карточки велосипеда: {e}\")\n",
    "            continue\n",
    "    \n",
    "    return shoes"
   ]
  },
  {
   "cell_type": "code",
   "execution_count": null,
   "id": "4117e5a0",
   "metadata": {},
   "outputs": [
    {
     "name": "stdout",
     "output_type": "stream",
     "text": [
      "Ошибка при парсинге карточки велосипеда: 'NoneType' object has no attribute 'get_text'\n",
      "Ошибка при парсинге карточки велосипеда: 'NoneType' object has no attribute 'get_text'\n",
      "Всего найдено велосипедов: 2998\n",
      "\n",
      "Велосипед #1:\n",
      "name: Aspect Radium Pro 29 (2025)\n",
      "brand: Aspect\n",
      "category: Горный велосипед\n",
      "price: 45 990руб\n",
      "old_price: None\n",
      "discount: None\n",
      "in_stock: В наличии\n",
      "url: https://www.velostrana.ru/aspect/radium-pro-29/\n",
      "image_url: https://cdn.velostrana.ru/upload/models/velo/66071/full/11568be7350f3acc11fc7d2ae4617848.jpg\n",
      "description: ['Горный велосипед', 'Модель оснащена алюминиевой рамой', 'Дисковые гидравлические тормоза', '8 скоростей', 'Пружинно-эластомерная с блокировкой вилка', 'Задний переключатель Shimano Tourney']\n",
      "\n",
      "Велосипед #2:\n",
      "name: Aspect Air 29 (2025)\n",
      "brand: Aspect\n",
      "category: Горный велосипед\n",
      "price: 76 990руб\n",
      "old_price: 84 490\n",
      "discount: -9%\n",
      "in_stock: В наличии\n",
      "url: https://www.velostrana.ru/aspect/air-29/\n",
      "image_url: https://cdn.velostrana.ru/upload/models/velo/66188/big.jpg\n",
      "description: ['Горный велосипед', 'Модель оснащена алюминиевой рамой', 'Дисковые гидравлические тормоза', '9 скоростей', 'Воздушно-масляная с блокировкой вилка', 'Задний переключатель Shimano Cues']\n",
      "\n",
      "Велосипед #3:\n",
      "name: Aspect Nickel 29 (2025)\n",
      "brand: Aspect\n",
      "category: Горный велосипед\n",
      "price: 49 990руб\n",
      "old_price: None\n",
      "discount: None\n",
      "in_stock: В наличии\n",
      "url: https://www.velostrana.ru/aspect/nickel-29/\n",
      "image_url: https://cdn.velostrana.ru/upload/models/velo/66074/full/fee9201d1ac935cee31b1595ac790481.jpg\n",
      "description: ['Горный велосипед', 'Модель оснащена алюминиевой рамой', 'Дисковые гидравлические тормоза', '8 скоростей', 'Пружинно-эластомерная с блокировкой вилка', 'Задний переключатель Shimano Tourney']\n",
      "\n",
      "Все данные сохранены в файл 'all_velostrana_shoes2.json'\n"
     ]
    }
   ],
   "source": [
    "all_shoes = get_all_shoes()\n",
    "print(f\"Всего найдено велосипедов: {len(all_shoes)}\")\n",
    "\n",
    "# Выводим первые 3 велосипеда для примера\n",
    "for i, bike in enumerate(all_shoes[:3], 1):\n",
    "    print(f\"\\nВелосипед #{i}:\")\n",
    "    for key, value in bike.items():\n",
    "        print(f\"{key}: {value}\")\n",
    "\n",
    "# Сохраняем все данные в JSON файл\n",
    "with open(\"shoes.json\", \"w\", encoding=\"utf-8\") as f:\n",
    "    json.dump(all_shoes, f, ensure_ascii=False, indent=2)\n",
    "\n",
    "print(\"\\nВсе данные сохранены в файл 'shoes.json'\")"
   ]
  },
  {
   "cell_type": "code",
   "execution_count": 15,
   "id": "133892d8",
   "metadata": {},
   "outputs": [],
   "source": [
    "# Инициализация модели эмбедера\n",
    "from sentence_transformers import SentenceTransformer\n",
    "model = SentenceTransformer(\"Qwen/Qwen3-Embedding-0.6B\")"
   ]
  },
  {
   "cell_type": "code",
   "execution_count": null,
   "id": "2048ff9e",
   "metadata": {},
   "outputs": [
    {
     "name": "stderr",
     "output_type": "stream",
     "text": [
      "100%|██████████| 2998/2998 [24:09<00:00,  2.07it/s]\n"
     ]
    }
   ],
   "source": [
    "import json\n",
    "import psycopg\n",
    "from tqdm import tqdm\n",
    "\n",
    "# Подключение к БД\n",
    "conn = psycopg.connect(\n",
    "    dbname=\"shoes\",\n",
    "    user=\"postgres\",\n",
    "    host=\"localhost\",\n",
    "    port=\"5430\"\n",
    ")\n",
    "cur = conn.cursor()\n",
    "\n",
    "# Загрузка данных\n",
    "with open(\"shoes.json\", \"r\", encoding=\"utf-8\") as f:\n",
    "    shoes = json.load(f)\n",
    "\n",
    "def process_price(price_text):\n",
    "    \"\"\"Обработка цены с защитой от ошибок\"\"\"\n",
    "    if not price_text:\n",
    "        return None\n",
    "    try:\n",
    "        # Удаляем все нецифровые символы, кроме точки\n",
    "        cleaned = ''.join(c for c in price_text if c.isdigit() or c == '.')\n",
    "        return float(cleaned) if cleaned else None\n",
    "    except (ValueError, TypeError):\n",
    "        return None\n",
    "\n",
    "for bike in tqdm(shoes):\n",
    "    # Склеивание описания\n",
    "    full_desc = \". \".join(bike[\"description\"])\n",
    "    \n",
    "    # Генерация эмбеддинга\n",
    "    embedding = model.encode([full_desc])[0].tolist()\n",
    "    \n",
    "    # Вставка данных\n",
    "    cur.execute(\"\"\"\n",
    "        INSERT INTO shoes (\n",
    "            name, brand, category, price, old_price, discount, \n",
    "            in_stock, url, image_url, full_description, \n",
    "            embedding, fts_vector\n",
    "        ) VALUES (\n",
    "            %s, %s, %s, %s, %s, %s, %s, %s, %s, %s, %s,\n",
    "            to_tsvector('russian', %s)\n",
    "        )\n",
    "    \"\"\", (\n",
    "        bike[\"name\"],\n",
    "        bike[\"brand\"],\n",
    "        bike[\"category\"],\n",
    "        process_price(bike[\"price\"]),\n",
    "        bike[\"old_price\"],\n",
    "        bike[\"discount\"],\n",
    "        bike[\"in_stock\"],\n",
    "        bike[\"url\"],\n",
    "        bike[\"image_url\"],\n",
    "        full_desc,\n",
    "        embedding,\n",
    "        full_desc  # Для полнотекстового индекса\n",
    "    ))\n",
    "\n",
    "conn.commit()\n",
    "cur.close()\n",
    "conn.close()"
   ]
  },
  {
   "cell_type": "code",
   "execution_count": 16,
   "id": "7ae72816",
   "metadata": {},
   "outputs": [],
   "source": [
    "from pgvector.psycopg import register_vector\n",
    "\n",
    "def connect_db():\n",
    "    conn = psycopg.connect(\n",
    "        dbname=\"shoes\",\n",
    "        user=\"postgres\",\n",
    "        host=\"localhost\",\n",
    "        port=\"5430\"\n",
    "    )\n",
    "    register_vector(conn)\n",
    "    return conn\n",
    "\n",
    "def vector_search(query: str, limit: int = 5):\n",
    "    \"\"\"Поиск по векторному сходству\"\"\"\n",
    "    conn = connect_db()\n",
    "    cur = conn.cursor()\n",
    "    \n",
    "    # Генерация эмбеддинга для запроса\n",
    "    query_embedding = model.encode([query], prompt_name=\"query\")[0]\n",
    "    \n",
    "    cur.execute(\"\"\"\n",
    "        SELECT name, full_description, brand, price, url,\n",
    "            1 - (embedding <=> %s) AS similarity\n",
    "        FROM shoes\n",
    "        ORDER BY embedding <=> %s\n",
    "        LIMIT %s\n",
    "    \"\"\", (query_embedding, query_embedding, limit))\n",
    "    \n",
    "    results = cur.fetchall()\n",
    "    cur.close()\n",
    "    conn.close()\n",
    "    return results\n",
    "\n",
    "def fulltext_search(query: str, limit: int = 5):\n",
    "    \"\"\"Полнотекстовый поиск\"\"\"\n",
    "    conn = connect_db()\n",
    "    cur = conn.cursor()\n",
    "    \n",
    "    cur.execute(\"\"\"\n",
    "        SELECT name, full_description, brand, price, url,\n",
    "            ts_rank(fts_vector, websearch_to_tsquery('russian', %s)) AS rank\n",
    "        FROM shoes\n",
    "        WHERE fts_vector @@ websearch_to_tsquery('russian', %s)\n",
    "        ORDER BY rank DESC\n",
    "        LIMIT %s\n",
    "    \"\"\", (query, query, limit))\n",
    "    \n",
    "    results = cur.fetchall()\n",
    "    cur.close()\n",
    "    conn.close()\n",
    "    return results\n",
    "\n",
    "def hybrid_search(query: str, limit: int = 5):\n",
    "    \"\"\"Гибридный поиск (векторный + полнотекстовый)\"\"\"\n",
    "    conn = connect_db()\n",
    "    cur = conn.cursor()\n",
    "    \n",
    "    # Генерация эмбеддинга\n",
    "    query_embedding = model.encode([query], prompt_name=\"query\")[0]\n",
    "    \n",
    "    cur.execute(\"\"\"\n",
    "        SELECT name, full_description, brand, price, url,\n",
    "            (0.7 * (1 - (embedding <=> %s)) + \n",
    "             0.3 * ts_rank(fts_vector, websearch_to_tsquery('russian', %s))) AS score\n",
    "        FROM shoes\n",
    "        ORDER BY score DESC\n",
    "        LIMIT %s\n",
    "    \"\"\", (query_embedding, query, limit))\n",
    "    \n",
    "    results = cur.fetchall()\n",
    "    cur.close()\n",
    "    conn.close()\n",
    "    return results"
   ]
  },
  {
   "cell_type": "code",
   "execution_count": null,
   "id": "241f362d",
   "metadata": {},
   "outputs": [
    {
     "name": "stdout",
     "output_type": "stream",
     "text": [
      "Vector search results:\n"
     ]
    },
    {
     "ename": "NameError",
     "evalue": "name 'vector_search' is not defined",
     "output_type": "error",
     "traceback": [
      "\u001b[31m---------------------------------------------------------------------------\u001b[39m",
      "\u001b[31mNameError\u001b[39m                                 Traceback (most recent call last)",
      "\u001b[36mCell\u001b[39m\u001b[36m \u001b[39m\u001b[32mIn[1]\u001b[39m\u001b[32m, line 3\u001b[39m\n\u001b[32m      1\u001b[39m \u001b[38;5;66;03m# Поиск по вектору\u001b[39;00m\n\u001b[32m      2\u001b[39m \u001b[38;5;28mprint\u001b[39m(\u001b[33m\"\u001b[39m\u001b[33mVector search results:\u001b[39m\u001b[33m\"\u001b[39m)\n\u001b[32m----> \u001b[39m\u001b[32m3\u001b[39m \u001b[38;5;28;01mfor\u001b[39;00m result \u001b[38;5;129;01min\u001b[39;00m \u001b[43mvector_search\u001b[49m(\u001b[33m\"\u001b[39m\u001b[33mгорный велосипед с гидравлическими тормозами\u001b[39m\u001b[33m\"\u001b[39m):\n\u001b[32m      4\u001b[39m     \u001b[38;5;28mprint\u001b[39m(\u001b[33mf\u001b[39m\u001b[33m\"\u001b[39m\u001b[38;5;132;01m{\u001b[39;00mresult[\u001b[32m5\u001b[39m]\u001b[38;5;132;01m:\u001b[39;00m\u001b[33m.2f\u001b[39m\u001b[38;5;132;01m}\u001b[39;00m\u001b[33m | \u001b[39m\u001b[38;5;132;01m{\u001b[39;00mresult[\u001b[32m0\u001b[39m]\u001b[38;5;132;01m}\u001b[39;00m\u001b[33m \u001b[39m\u001b[38;5;132;01m{\u001b[39;00mresult[\u001b[32m3\u001b[39m]\u001b[38;5;132;01m}\u001b[39;00m\u001b[33m (\u001b[39m\u001b[38;5;132;01m{\u001b[39;00mresult[\u001b[32m1\u001b[39m]\u001b[38;5;132;01m}\u001b[39;00m\u001b[33m)\u001b[39m\u001b[33m\"\u001b[39m)\n\u001b[32m      6\u001b[39m \u001b[38;5;66;03m# Полнотекстовый поиск\u001b[39;00m\n",
      "\u001b[31mNameError\u001b[39m: name 'vector_search' is not defined"
     ]
    }
   ],
   "source": [
    "# Поиск по вектору\n",
    "print(\"Vector search results:\")\n",
    "for result in vector_search(\"горный велосипед с гидравлическими тормозами\"):\n",
    "    print(f\"{result[5]:.2f} | {result[0]} {result[3]} ({result[1]})\")\n",
    "\n",
    "# Полнотекстовый поиск\n",
    "print(\"\\nFulltext search results:\")\n",
    "for result in fulltext_search(\"9 скоростей\"):\n",
    "    print(f\"{result[5]:.2f} | {result[0]} {result[3]} ({result[1]})\")\n",
    "\n",
    "# Гибридный поиск\n",
    "print(\"\\nHybrid search results:\")\n",
    "for result in hybrid_search(\"алюминиевая рама 8 скоростей электровелик\"):\n",
    "    print(f\"{result[5]:.2f} | {result[0]} {result[3]} ({result[1]})\")"
   ]
  },
  {
   "cell_type": "code",
   "execution_count": null,
   "id": "b602336c",
   "metadata": {},
   "outputs": [],
   "source": []
  },
  {
   "cell_type": "code",
   "execution_count": 7,
   "id": "9b01d627",
   "metadata": {},
   "outputs": [],
   "source": [
    "import plotly.express as px\n",
    "import plotly.subplots as sp\n",
    "from sklearn.cluster import KMeans\n",
    "from umap import UMAP\n",
    "from pgvector.psycopg import register_vector\n",
    "import numpy as np\n",
    "import psycopg\n",
    "\n",
    "\n",
    "# Загрузка данных (как в предыдущем примере)\n",
    "def load_data():\n",
    "    conn = psycopg.connect(dbname=\"shoes\", user=\"postgres\", host=\"localhost\", port=\"5430\")\n",
    "    register_vector(conn)\n",
    "    cur = conn.cursor()\n",
    "    cur.execute(\"SELECT name, brand, category, price, embedding FROM bikes WHERE embedding IS NOT NULL\")\n",
    "    data = cur.fetchall()\n",
    "    cur.close()\n",
    "    conn.close()\n",
    "    \n",
    "    metadata = {\n",
    "        'names': [x[0] for x in data],\n",
    "        'brands': [x[1] for x in data],\n",
    "        'categories': [x[2] for x in data],\n",
    "        'prices': [x[3] for x in data]\n",
    "    }\n",
    "    embeddings = np.array([x[4] for x in data])\n",
    "    return metadata, embeddings\n",
    "\n",
    "def visualize_umap_kmeans(embeddings, metadata=None):\n",
    "    # UMAP снижение размерности\n",
    "    umap_reducer = UMAP(n_components=2, metric='cosine', random_state=42)\n",
    "    umap_embeddings = umap_reducer.fit_transform(embeddings)\n",
    "    \n",
    "    # KMeans кластеризация\n",
    "    kmeans = KMeans(n_clusters=4, random_state=42)\n",
    "    clusters = kmeans.fit_predict(embeddings)\n",
    "    \n",
    "    # Создаем DataFrame для визуализации\n",
    "    fig = px.scatter(\n",
    "        x=umap_embeddings[:, 0],\n",
    "        y=umap_embeddings[:, 1],\n",
    "        color=clusters.astype(str),\n",
    "        title='UMAP + KMeans кластеризация',\n",
    "        labels={'color': 'Кластер'},\n",
    "        hover_name=metadata['names'] if metadata else None,\n",
    "        hover_data={\n",
    "            'brand': metadata['brands'] if metadata else None,\n",
    "            'category': metadata['categories'] if metadata else None,\n",
    "            'price': metadata['prices'] if metadata else None\n",
    "        } if metadata else None\n",
    "    )\n",
    "    \n",
    "    fig.update_layout(\n",
    "        xaxis_title='UMAP 1',\n",
    "        yaxis_title='UMAP 2',\n",
    "        showlegend=True\n",
    "    )\n",
    "    \n",
    "    fig.show()"
   ]
  },
  {
   "cell_type": "code",
   "execution_count": 8,
   "id": "1f837402",
   "metadata": {},
   "outputs": [
    {
     "data": {
      "application/vnd.plotly.v1+json": {
       "config": {
        "plotlyServerURL": "https://plot.ly"
       },
       "data": [
        {
         "customdata": [
          [
           "Stels",
           "Детский велосипед",
           9980
          ],
          [
           "Royal Baby",
           "Детский велосипед",
           21400
          ],
          [
           "Novatrack",
           "Детский велосипед",
           12710
          ],
          [
           "Novatrack",
           "BMX",
           29740
          ],
          [
           "Kama",
           "Складной велосипед",
           13730
          ],
          [
           "Stels",
           "Детский велосипед",
           9790
          ],
          [
           "Lamborghini",
           "Детский трёхколесный велосипед",
           null
          ],
          [
           "Format",
           "BMX",
           17900
          ],
          [
           "Stels",
           "Складной велосипед",
           12850
          ],
          [
           "Spinn",
           "Женский велосипед",
           35900
          ],
          [
           "Stels",
           "Складной велосипед",
           11770
          ],
          [
           "Stels",
           "Детский велосипед",
           10790
          ],
          [
           "Aspect",
           "Детский велосипед",
           23990
          ],
          [
           "Stels",
           "Комфортный велосипед",
           13300
          ],
          [
           "Stark",
           "Городской велосипед",
           33990
          ],
          [
           "Stels",
           "Складной велосипед",
           11500
          ],
          [
           "Novatrack",
           "Детский велосипед",
           11900
          ],
          [
           "Stark",
           "BMX",
           30590
          ],
          [
           "Electra",
           "Женский велосипед",
           55000
          ],
          [
           "Stels",
           "Детский велосипед",
           10240
          ],
          [
           "Stark",
           "BMX",
           22490
          ],
          [
           "Stels",
           "Женский велосипед",
           29640
          ],
          [
           "Aspect",
           "Детский велосипед",
           29990
          ],
          [
           "Novatrack",
           "Складной велосипед",
           11590
          ],
          [
           "Maxiscoo",
           "Детский велосипед",
           17900
          ],
          [
           "Pifagor",
           "Детский велосипед",
           20000
          ],
          [
           "Royal Baby",
           "Детский велосипед",
           34600
          ],
          [
           "Novatrack",
           "Детский велосипед",
           9540
          ],
          [
           "Maxiscoo",
           "Детский велосипед",
           46900
          ],
          [
           "Stels",
           "Детский велосипед",
           10600
          ],
          [
           "Maxiscoo",
           "Детский велосипед",
           16300
          ],
          [
           "Novatrack",
           "Детский велосипед",
           22760
          ],
          [
           "Novatrack",
           "Детский велосипед",
           19930
          ],
          [
           "Spinn",
           "Комфортный велосипед",
           35900
          ],
          [
           "Stark",
           "BMX",
           33990
          ],
          [
           "Globber",
           "Детский велосипед",
           9500
          ],
          [
           "Pifagor",
           "Детский велосипед",
           24100
          ],
          [
           "Globber",
           "Детский велосипед",
           7500
          ],
          [
           "Stels",
           "Детский велосипед",
           19140
          ],
          [
           "Stels",
           "Детский велосипед",
           14080
          ],
          [
           "Pifagor",
           "Подростковый велосипед",
           31800
          ],
          [
           "Schwinn",
           "Комфортный велосипед",
           43990
          ],
          [
           "Novatrack",
           "Детский велосипед",
           12640
          ],
          [
           "Novatrack",
           "Складной велосипед",
           11100
          ],
          [
           "Forward",
           "Детский велосипед",
           14900
          ],
          [
           "Stels",
           "Женский велосипед",
           15550
          ],
          [
           "Stark",
           "BMX",
           25190
          ],
          [
           "Bear Bike",
           "Городской велосипед",
           71780
          ],
          [
           "Stels",
           "Детский велосипед",
           9430
          ],
          [
           "Novatrack",
           "Детский велосипед",
           21220
          ],
          [
           "Royal Baby",
           "Детский велосипед",
           20000
          ],
          [
           "Forward",
           "Комфортный велосипед",
           13365
          ],
          [
           "Haro",
           "Трюковый велосипед",
           21200
          ],
          [
           "Novatrack",
           "Детский велосипед",
           8630
          ],
          [
           "Novatrack",
           "Подростковый велосипед",
           22650
          ],
          [
           "Novatrack",
           "Детский велосипед",
           12860
          ],
          [
           "Maxiscoo",
           "Детский велосипед",
           14900
          ],
          [
           "Electra",
           "Подростковый велосипед",
           59000
          ],
          [
           "Maxiscoo",
           "Детский велосипед",
           22900
          ],
          [
           "Forward",
           "Детский велосипед",
           7570
          ],
          [
           "Welt",
           "Детский велосипед",
           29990
          ],
          [
           "Maxiscoo",
           "Детский велосипед",
           17900
          ],
          [
           "Maxiscoo",
           "Детский велосипед",
           21500
          ],
          [
           "Haro",
           "BMX",
           31100
          ],
          [
           "Stels",
           "Детский велосипед",
           14550
          ],
          [
           "Stels",
           "Комфортный велосипед",
           23000
          ],
          [
           "Pifagor",
           "Детский велосипед",
           11300
          ],
          [
           "Novatrack",
           "Детский велосипед",
           9440
          ],
          [
           "Maxiscoo",
           "Детский велосипед",
           17600
          ],
          [
           "Stark",
           "BMX",
           28790
          ],
          [
           "Novatrack",
           "Детский велосипед",
           12010
          ],
          [
           "Spinn",
           "Детский велосипед",
           22900
          ],
          [
           "Stels",
           "Детский велосипед",
           15990
          ],
          [
           "Stels",
           "Детский велосипед",
           10600
          ],
          [
           "Stels",
           "Детский велосипед",
           11500
          ],
          [
           "Maxiscoo",
           "Детский велосипед",
           9900
          ],
          [
           "Maxiscoo",
           "Детский велосипед",
           21400
          ],
          [
           "Spinn",
           "Женский велосипед",
           45900
          ],
          [
           "Spinn",
           "Детский велосипед",
           23900
          ],
          [
           "Royal Baby",
           "Детский велосипед",
           37800
          ],
          [
           "Pifagor",
           "Детский велосипед",
           16300
          ],
          [
           "Stels",
           "Детский велосипед",
           21380
          ],
          [
           "Stels",
           "Детский велосипед",
           9790
          ],
          [
           "Novatrack",
           "Детский велосипед",
           11020
          ],
          [
           "Novatrack",
           "BMX",
           32780
          ],
          [
           "Stels",
           "Детский велосипед",
           11500
          ],
          [
           "Maxiscoo",
           "Детский велосипед",
           16500
          ],
          [
           "Maxiscoo",
           "Детский велосипед",
           19100
          ],
          [
           "Stark",
           "BMX",
           47150
          ],
          [
           "Maxiscoo",
           "Детский велосипед",
           18900
          ],
          [
           "Forward",
           "Детский велосипед",
           14670
          ],
          [
           "Maxiscoo",
           "Детский велосипед",
           14900
          ],
          [
           "Forward",
           "Детский велосипед",
           15300
          ],
          [
           "Novatrack",
           "Детский велосипед",
           8630
          ],
          [
           "Electra",
           "Комфортный велосипед",
           55000
          ],
          [
           "Novatrack",
           "Детский велосипед",
           21460
          ],
          [
           "Maxiscoo",
           "Детский велосипед",
           32900
          ],
          [
           "Stark",
           "BMX",
           34640
          ],
          [
           "Stels",
           "Детский велосипед",
           9520
          ],
          [
           "Maxiscoo",
           "Детский велосипед",
           31500
          ],
          [
           "Stels",
           "Детский велосипед",
           13750
          ],
          [
           "Maxiscoo",
           "Детский велосипед",
           29900
          ],
          [
           "Forward",
           "Детский велосипед",
           12960
          ],
          [
           "Maxiscoo",
           "Детский велосипед",
           16500
          ],
          [
           "Stels",
           "Детский велосипед",
           18680
          ],
          [
           "Stark",
           "BMX",
           27990
          ],
          [
           "Maxiscoo",
           "Детский велосипед",
           29700
          ],
          [
           "Royal Baby",
           "Детский велосипед",
           23500
          ],
          [
           "Forward",
           "Детский велосипед",
           14310
          ],
          [
           "Novatrack",
           "Детский велосипед",
           11700
          ],
          [
           "Globber",
           "Детский велосипед",
           6900
          ],
          [
           "Globber",
           "Детский велосипед",
           7900
          ],
          [
           "Maxiscoo",
           "Детский велосипед",
           6300
          ],
          [
           "Novatrack",
           "Детский велосипед",
           10640
          ],
          [
           "Maxiscoo",
           "Детский велосипед",
           17900
          ],
          [
           "Stels",
           "Детский велосипед",
           14730
          ],
          [
           "Maxiscoo",
           "Детский велосипед",
           20900
          ],
          [
           "Novatrack",
           "Детский велосипед",
           11330
          ],
          [
           "Novatrack",
           "Детский велосипед",
           9590
          ],
          [
           "Novatrack",
           "BMX",
           29880
          ],
          [
           "Novatrack",
           "Детский велосипед",
           19850
          ],
          [
           "Globber",
           "Детский велосипед",
           7500
          ],
          [
           "Schwinn",
           "Детский велосипед",
           20990
          ],
          [
           "Novatrack",
           "Детский велосипед",
           13340
          ],
          [
           "Stark",
           "Детский велосипед",
           26490
          ],
          [
           "Maxiscoo",
           "Детский велосипед",
           17500
          ],
          [
           "Novatrack",
           "Детский велосипед",
           11130
          ],
          [
           "Stels",
           "Детский велосипед",
           7600
          ],
          [
           "Stels",
           "Детский велосипед",
           11500
          ],
          [
           "Maxiscoo",
           "Детский велосипед",
           29700
          ],
          [
           "Forward",
           "Детский велосипед",
           14420
          ],
          [
           "Aspect",
           "Велосипед круизёр",
           17745
          ],
          [
           "Stark",
           "Детский велосипед",
           26490
          ],
          [
           "Stark",
           "BMX",
           39990
          ],
          [
           "Maxiscoo",
           "Детский велосипед",
           14900
          ],
          [
           "Welt",
           "Детский велосипед",
           46990
          ],
          [
           "Novatrack",
           "Детский велосипед для возраста от 5 до 9 лет (18\", 20\")",
           20990
          ],
          [
           "Stels",
           "Детский велосипед",
           9340
          ],
          [
           "Stels",
           "Детский велосипед",
           10600
          ],
          [
           "Electra",
           "Дорожный велосипед",
           79000
          ],
          [
           "Novatrack",
           "Детский велосипед",
           12710
          ],
          [
           "Polygon",
           "BMX",
           48300
          ],
          [
           "Maxiscoo",
           "Детский велосипед",
           21900
          ],
          [
           "Maxiscoo",
           "Детский велосипед",
           16200
          ],
          [
           "Maxiscoo",
           "Детский велосипед",
           20700
          ],
          [
           "Novatrack",
           "Детский велосипед",
           23010
          ],
          [
           "Royal Baby",
           "Детский велосипед",
           18400
          ],
          [
           "Maxiscoo",
           "Детский велосипед",
           15900
          ],
          [
           "Globber",
           "Детский велосипед",
           30900
          ],
          [
           "Royal Baby",
           "Детский велосипед",
           26200
          ],
          [
           "Stels",
           "Детский велосипед",
           18860
          ],
          [
           "Maxiscoo",
           "Детский велосипед",
           25900
          ],
          [
           "Maxiscoo",
           "Детский велосипед",
           18900
          ],
          [
           "Royal Baby",
           "Детский велосипед",
           28800
          ],
          [
           "Maxiscoo",
           "Детский велосипед",
           21400
          ],
          [
           "Maxiscoo",
           "Детский велосипед",
           20900
          ],
          [
           "Globber",
           "Детский велосипед",
           12500
          ],
          [
           "Maxiscoo",
           "Детский велосипед",
           24400
          ],
          [
           "Maxiscoo",
           "Детский велосипед",
           17500
          ],
          [
           "Novatrack",
           "Детский велосипед",
           9370
          ],
          [
           "Maxiscoo",
           "Детский велосипед",
           20900
          ],
          [
           "Novatrack",
           "Детский велосипед",
           9650
          ],
          [
           "Novatrack",
           "Детский велосипед",
           17110
          ],
          [
           "Pifagor",
           "Детский велосипед",
           17200
          ],
          [
           "Novatrack",
           "Детский велосипед",
           12350
          ],
          [
           "Giant",
           "Детский велосипед",
           33190
          ],
          [
           "Maxiscoo",
           "Детский велосипед",
           22900
          ],
          [
           "Novatrack",
           "Детский велосипед",
           15060
          ],
          [
           "Maxiscoo",
           "Детский велосипед",
           17900
          ],
          [
           "Novatrack",
           "Детский велосипед",
           10480
          ],
          [
           "Novatrack",
           "Детский велосипед",
           9930
          ],
          [
           "Novatrack",
           "Детский велосипед",
           14990
          ],
          [
           "Maxiscoo",
           "Детский велосипед",
           16900
          ],
          [
           "Novatrack",
           "Детский велосипед",
           14320
          ],
          [
           "Globber",
           "Детский велосипед",
           10900
          ],
          [
           "Novatrack",
           "Детский велосипед",
           13600
          ],
          [
           "Electra",
           "Подростковый велосипед для мальчиков",
           55000
          ],
          [
           "Globber",
           "Детский велосипед",
           9800
          ],
          [
           "Novatrack",
           "Детский велосипед",
           9290
          ],
          [
           "Stels",
           "Детский велосипед",
           17610
          ],
          [
           "Novatrack",
           "Детский велосипед",
           12710
          ],
          [
           "Forward",
           "Детский велосипед",
           14460
          ],
          [
           "Novatrack",
           "Детский велосипед",
           11870
          ],
          [
           "Electra",
           "Детский велосипед",
           45000
          ],
          [
           "Novatrack",
           "Детский велосипед",
           10200
          ],
          [
           "Novatrack",
           "Детский велосипед",
           9970
          ],
          [
           "Maxiscoo",
           "Детский велосипед",
           19400
          ],
          [
           "Maxiscoo",
           "Детский велосипед",
           8900
          ],
          [
           "Novatrack",
           "Детский велосипед",
           18660
          ],
          [
           "Maxiscoo",
           "Детский велосипед",
           18900
          ],
          [
           "Globber",
           "Детский велосипед",
           13900
          ],
          [
           "Novatrack",
           "Детский велосипед",
           14090
          ],
          [
           "Red Pepper",
           "Детский велосипед",
           29500
          ],
          [
           "Novatrack",
           "Детский велосипед",
           14170
          ],
          [
           "Forward",
           "Детский велосипед",
           17090
          ],
          [
           "Pifagor",
           "Детский велосипед",
           17400
          ],
          [
           "Forward",
           "Детский велосипед",
           14240
          ],
          [
           "Stels",
           "Детский велосипед",
           9790
          ],
          [
           "Globber",
           "Детский велосипед",
           22900
          ],
          [
           "Forward",
           "Детский велосипед",
           14040
          ],
          [
           "Forward",
           "Детский велосипед",
           14040
          ],
          [
           "Forward",
           "Детский велосипед",
           17690
          ],
          [
           "Maxiscoo",
           "Детский велосипед",
           19500
          ],
          [
           "Stels",
           "Детский велосипед",
           14160
          ],
          [
           "Novatrack",
           "Детский велосипед",
           10200
          ],
          [
           "Novatrack",
           "Детский велосипед",
           17040
          ],
          [
           "Electra",
           "Детский велосипед",
           39000
          ],
          [
           "Royal Baby",
           "Детский велосипед",
           20000
          ],
          [
           "Maxiscoo",
           "Детский велосипед",
           21400
          ],
          [
           "Maxiscoo",
           "Детский велосипед",
           18000
          ],
          [
           "Forward",
           "Детский велосипед",
           14100
          ],
          [
           "Pifagor",
           "Детский велосипед",
           17400
          ],
          [
           "Royal Baby",
           "Детский велосипед",
           21400
          ],
          [
           "Novatrack",
           "Детский велосипед",
           14490
          ],
          [
           "Maxiscoo",
           "Детский велосипед",
           22900
          ],
          [
           "Royal Baby",
           "Детский велосипед",
           20300
          ],
          [
           "Maxiscoo",
           "Детский велосипед",
           25900
          ],
          [
           "Forward",
           "Детский велосипед",
           14670
          ],
          [
           "Novatrack",
           "Детский велосипед",
           16860
          ],
          [
           "Forward",
           "Детский велосипед",
           13530
          ],
          [
           "Maxiscoo",
           "Детский велосипед",
           15200
          ],
          [
           "Stels",
           "Детский велосипед",
           15540
          ],
          [
           "Forward",
           "Детский велосипед",
           13530
          ],
          [
           "Globber",
           "Детский велосипед",
           12500
          ],
          [
           "Electra",
           "Детский велосипед",
           39000
          ],
          [
           "Maxiscoo",
           "Детский велосипед",
           19800
          ],
          [
           "Maxiscoo",
           "Детский велосипед",
           20000
          ],
          [
           "Novatrack",
           "Детский велосипед",
           11760
          ],
          [
           "Pifagor",
           "Детский велосипед",
           22200
          ],
          [
           "Novatrack",
           "Детский велосипед",
           10200
          ],
          [
           "Format",
           "Детский велосипед",
           29900
          ],
          [
           "Novatrack",
           "Детский велосипед",
           10200
          ],
          [
           "Novatrack",
           "Детский велосипед",
           17510
          ],
          [
           "Novatrack",
           "Детский велосипед",
           10480
          ],
          [
           "Novatrack",
           "Детский велосипед",
           12060
          ],
          [
           "Novatrack",
           "Детский велосипед",
           14930
          ],
          [
           "Novatrack",
           "Детский велосипед",
           14180
          ],
          [
           "Novatrack",
           "Детский велосипед",
           16890
          ],
          [
           "Stels",
           "Комфортный велосипед",
           60220
          ],
          [
           "Pifagor",
           "Детский велосипед",
           23300
          ],
          [
           "Novatrack",
           "Детский велосипед",
           18120
          ],
          [
           "Maxiscoo",
           "Детский велосипед",
           15900
          ],
          [
           "Globber",
           "Детский велосипед",
           22900
          ],
          [
           "Maxiscoo",
           "Детский велосипед",
           19400
          ],
          [
           "Novatrack",
           "Детский велосипед",
           17290
          ],
          [
           "Stels",
           "Детский велосипед",
           17880
          ],
          [
           "Stels",
           "Детский велосипед",
           16350
          ],
          [
           "Novatrack",
           "Детский велосипед",
           17460
          ],
          [
           "Novatrack",
           "Детский велосипед",
           17750
          ],
          [
           "Novatrack",
           "Детский велосипед",
           10200
          ],
          [
           "Novatrack",
           "Детский велосипед",
           12350
          ],
          [
           "Novatrack",
           "Детский велосипед",
           18990
          ],
          [
           "Forward",
           "Складной велосипед",
           21670
          ],
          [
           "Stels",
           "Детский велосипед",
           13750
          ],
          [
           "Stels",
           "Детский велосипед",
           13660
          ],
          [
           "Novatrack",
           "Детский велосипед",
           9780
          ],
          [
           "Novatrack",
           "Детский велосипед",
           13730
          ],
          [
           "Welt",
           "Детский велосипед",
           28990
          ],
          [
           "Stels",
           "Детский велосипед",
           17610
          ],
          [
           "Merida",
           "Детский велосипед",
           24900
          ],
          [
           "Novatrack",
           "Детский велосипед",
           12620
          ],
          [
           "FOXX",
           "Складной велосипед",
           15010
          ],
          [
           "Royal Baby",
           "Детский велосипед",
           10500
          ],
          [
           "Scott",
           "Детский велосипед",
           41990
          ],
          [
           "Stels",
           "Детский велосипед",
           15720
          ],
          [
           "Royal Baby",
           "Детский велосипед",
           22400
          ],
          [
           "Globber",
           "Детский велосипед",
           26900
          ],
          [
           "Scott",
           "Детский велосипед",
           43990
          ],
          [
           "Scott",
           "Детский велосипед",
           41990
          ],
          [
           "Scott",
           "Детский велосипед",
           41990
          ],
          [
           "Stels",
           "Детский велосипед",
           8230
          ],
          [
           "Royal Baby",
           "Детский велосипед",
           19400
          ],
          [
           "Royal Baby",
           "Детский велосипед",
           18400
          ],
          [
           "Stels",
           "Комфортный велосипед",
           12760
          ],
          [
           "Stels",
           "Женский велосипед",
           13300
          ],
          [
           "Royal Baby",
           "Детский велосипед",
           16300
          ],
          [
           "Electra",
           "Детский велосипед",
           45000
          ],
          [
           "Stels",
           "Женский велосипед",
           13790
          ],
          [
           "Format",
           "Городской велосипед",
           65040
          ],
          [
           "Aspect",
           "BMX",
           27192
          ],
          [
           "Stels",
           "Женский велосипед",
           13300
          ],
          [
           "Stels",
           "Детский велосипед",
           9400
          ],
          [
           "Stels",
           "Детский велосипед",
           11500
          ],
          [
           "Stels",
           "Женский велосипед",
           12760
          ],
          [
           "Stels",
           "Детский велосипед",
           9790
          ],
          [
           "Stels",
           "Женский велосипед",
           23000
          ],
          [
           "Stels",
           "Детский велосипед",
           8730
          ],
          [
           "Novatrack",
           "Детский велосипед",
           20320
          ],
          [
           "Stels",
           "Детский велосипед",
           7440
          ],
          [
           "Royal Baby",
           "Детский велосипед",
           21400
          ],
          [
           "Pifagor",
           "Детский велосипед",
           23700
          ],
          [
           "Stels",
           "Детский велосипед",
           15540
          ],
          [
           "Stels",
           "Детский велосипед",
           11680
          ],
          [
           "Novatrack",
           "Детский велосипед",
           11870
          ],
          [
           "Stels",
           "Детский велосипед",
           13660
          ],
          [
           "Stark",
           "Детский велосипед",
           14580
          ],
          [
           "FOXX",
           "Складной велосипед",
           15760
          ],
          [
           "Stark",
           "BMX",
           34130
          ],
          [
           "Maxiscoo",
           "Детский велосипед",
           5900
          ],
          [
           "Royal Baby",
           "Детский велосипед",
           20800
          ],
          [
           "Stark",
           "Детский велосипед",
           24640
          ],
          [
           "Stark",
           "Детский велосипед",
           13540
          ],
          [
           "Stark",
           "BMX",
           24990
          ],
          [
           "Format",
           "Детский велосипед",
           26120
          ],
          [
           "B-Link",
           "Детский велосипед для возраста От 1,5 до 3 лет (12\")",
           1990
          ],
          [
           "Novatrack",
           "Детский велосипед",
           17330
          ],
          [
           "Stels",
           "Детский велосипед",
           9810
          ],
          [
           "Novatrack",
           "Детский велосипед",
           18020
          ],
          [
           "Stels",
           "Детский велосипед",
           11500
          ],
          [
           "Stark",
           "BMX",
           27990
          ],
          [
           "Stark",
           "Детский велосипед",
           27590
          ],
          [
           "Forward",
           "Женский велосипед",
           16490
          ],
          [
           "Novatrack",
           "Детский велосипед",
           8200
          ],
          [
           "Format",
           "BMX",
           30980
          ],
          [
           "Royal Baby",
           "Детский велосипед",
           12400
          ],
          [
           "Maxiscoo",
           "Детский велосипед",
           17900
          ],
          [
           "Schwinn",
           "Детский велосипед",
           13491
          ],
          [
           "Stels",
           "Городской велосипед",
           13300
          ],
          [
           "Stels",
           "Детский велосипед",
           15720
          ],
          [
           "Stark",
           "Детский велосипед",
           10560
          ],
          [
           "Stark",
           "Детский велосипед",
           27590
          ],
          [
           "Stels",
           "Детский велосипед",
           14190
          ],
          [
           "Red Pepper",
           "Детский велосипед",
           31500
          ],
          [
           "Novatrack",
           "Детский велосипед",
           8690
          ],
          [
           "Stels",
           "Женский велосипед",
           15550
          ],
          [
           "Royal Baby",
           "Детский велосипед",
           18100
          ],
          [
           "Maxiscoo",
           "Детский велосипед",
           8900
          ],
          [
           "Aspect",
           "Детский велосипед",
           14990
          ],
          [
           "Stels",
           "Женский велосипед",
           12760
          ],
          [
           "Maxiscoo",
           "Детский велосипед",
           24400
          ],
          [
           "Hagen",
           "Детский велосипед",
           44990
          ],
          [
           "Haro",
           "BMX",
           32200
          ],
          [
           "Stark",
           "BMX",
           31990
          ],
          [
           "Royal Baby",
           "Детский велосипед",
           10200
          ],
          [
           "Stels",
           "Городской велосипед",
           16500
          ],
          [
           "Novatrack",
           "Детский велосипед",
           16650
          ],
          [
           "Stels",
           "Детский велосипед",
           9330
          ],
          [
           "Aspect",
           "Детский велосипед",
           20817
          ],
          [
           "Format",
           "Городской велосипед",
           79160
          ],
          [
           "Royal Baby",
           "Детский велосипед",
           19600
          ],
          [
           "Stels",
           "Детский велосипед",
           8070
          ],
          [
           "Electra",
           "Женский велосипед",
           179000
          ],
          [
           "Format",
           "Детский велосипед",
           20720
          ],
          [
           "Globber",
           "Детский велосипед",
           14900
          ],
          [
           "Yedoo",
           "Детский велосипед для возраста От 1,5 до 3 лет (12\")",
           8150
          ],
          [
           "Forward",
           "Комфортный велосипед",
           27290
          ],
          [
           "Schwinn",
           "Детский велосипед",
           12590
          ],
          [
           "Stels",
           "Детский велосипед",
           21380
          ],
          [
           "Stels",
           "Детский велосипед",
           18680
          ],
          [
           "Novatrack",
           "Детский велосипед",
           19590
          ],
          [
           "Pifagor",
           "Детский велосипед",
           22500
          ],
          [
           "Novatrack",
           "Детский велосипед",
           12620
          ],
          [
           "Royal Baby",
           "Детский велосипед",
           22700
          ],
          [
           "Schwinn",
           "Детский велосипед",
           12990
          ],
          [
           "Stels",
           "Детский велосипед",
           9980
          ],
          [
           "Novatrack",
           "BMX",
           25510
          ],
          [
           "Novatrack",
           "Детский велосипед",
           17000
          ],
          [
           "Aspect",
           "Детский велосипед для возраста от 3 до 5 лет (14\", 16\")",
           14390
          ],
          [
           "Royal Baby",
           "Детский велосипед",
           26200
          ],
          [
           "Welt",
           "Детский велосипед",
           19990
          ],
          [
           "Novatrack",
           "Детский велосипед",
           8750
          ],
          [
           "Novatrack",
           "Детский велосипед",
           8630
          ],
          [
           "Scott",
           "Детский велосипед для возраста от 3 до 5 лет (14\", 16\")",
           19420
          ],
          [
           "Maxiscoo",
           "Детский велосипед",
           14900
          ],
          [
           "Forward",
           "Детский велосипед",
           9990
          ],
          [
           "Pifagor",
           "Детский велосипед",
           16700
          ],
          [
           "Forward",
           "Детский велосипед",
           14670
          ],
          [
           "Scool",
           "Детский велосипед для возраста от 3 до 5 лет (14\", 16\")",
           17800
          ],
          [
           "Novatrack",
           "Детский велосипед",
           12620
          ],
          [
           "Stels",
           "Детский велосипед",
           8230
          ],
          [
           "Pifagor",
           "Детский велосипед",
           22200
          ],
          [
           "Novatrack",
           "Детский велосипед",
           12920
          ],
          [
           "Stels",
           "Детский велосипед",
           9790
          ],
          [
           "Stels",
           "Детский велосипед",
           9790
          ],
          [
           "Stels",
           "Трюковый велосипед",
           22940
          ],
          [
           "Atom",
           "BMX",
           20040
          ],
          [
           "Stels",
           "Детский велосипед",
           8630
          ],
          [
           "Cube",
           "Детский велосипед",
           null
          ],
          [
           "Forward",
           "Детский велосипед",
           7410
          ],
          [
           "Stels",
           "Детский велосипед",
           9790
          ],
          [
           "Stels",
           "Детский велосипед",
           4200
          ],
          [
           "Novatrack",
           "Детский велосипед",
           8750
          ],
          [
           "Novatrack",
           "Детский велосипед",
           16830
          ],
          [
           "Stels",
           "Детский велосипед",
           7120
          ],
          [
           "Welt",
           "Детский велосипед",
           29990
          ],
          [
           "Forward",
           "Детский велосипед",
           6920
          ],
          [
           "Stels",
           "Детский велосипед",
           9340
          ],
          [
           "Haro",
           "Трюковый велосипед",
           23100
          ],
          [
           "Stels",
           "Подростковый велосипед",
           24070
          ],
          [
           "Novatrack",
           "Детский велосипед",
           18390
          ],
          [
           "Stels",
           "Детский велосипед",
           7120
          ],
          [
           "Scool",
           "Детский велосипед для возраста от 3 до 5 лет (14\", 16\")",
           9990
          ],
          [
           "Stels",
           "Детский велосипед",
           11080
          ],
          [
           "FOXX",
           "Женский велосипед",
           15900
          ],
          [
           "Red Pepper",
           "Детский велосипед",
           29900
          ],
          [
           "Kama",
           "Складной велосипед",
           20490
          ],
          [
           "Haro",
           "BMX",
           25300
          ],
          [
           "Maxiscoo",
           "Детский велосипед",
           17400
          ],
          [
           "Stels",
           "Женский велосипед",
           18790
          ],
          [
           "Stels",
           "Женский велосипед",
           13790
          ],
          [
           "Stels",
           "Детский велосипед",
           9340
          ],
          [
           "Hagen",
           "Детский велосипед",
           44990
          ],
          [
           "Stels",
           "Комфортный велосипед",
           12760
          ],
          [
           "Format",
           "BMX",
           21870
          ],
          [
           "Forward",
           "Детский велосипед",
           14620
          ],
          [
           "Haro",
           "BMX",
           39700
          ],
          [
           "Atom",
           "Трюковый велосипед",
           23530
          ],
          [
           "Stels",
           "Складной велосипед",
           12850
          ],
          [
           "Welt",
           "BMX",
           16990
          ],
          [
           "Electra",
           "Детский велосипед",
           76000
          ],
          [
           "Forward",
           "Детский велосипед",
           18440
          ],
          [
           "Atom",
           "Велосипед для стрит/дёрт",
           34570
          ],
          [
           "Maxiscoo",
           "Детский велосипед",
           18900
          ],
          [
           "Maxiscoo",
           "Детский велосипед",
           18900
          ],
          [
           "Royal Baby",
           "Детский велосипед",
           22800
          ],
          [
           "Pifagor",
           "Детский велосипед",
           15200
          ],
          [
           "Schwinn",
           "Городской велосипед",
           34990
          ],
          [
           "Pifagor",
           "Детский велосипед",
           18500
          ],
          [
           "Maxiscoo",
           "Детский велосипед",
           16600
          ],
          [
           "Stels",
           "Детский велосипед",
           13660
          ],
          [
           "Stels",
           "Детский велосипед",
           8070
          ],
          [
           "Scott",
           "Детский велосипед",
           41990
          ],
          [
           "Royal Baby",
           "Детский велосипед",
           19400
          ],
          [
           "Stels",
           "Складной велосипед",
           11770
          ],
          [
           "Scott",
           "Велосипед для стрит/дёрт",
           null
          ],
          [
           "Stels",
           "Комфортный велосипед",
           12760
          ],
          [
           "Stels",
           "Женский велосипед",
           12760
          ],
          [
           "Stels",
           "Складной велосипед",
           11500
          ],
          [
           "Cube",
           "Детский велосипед для возраста от 3 до 5 лет (14\", 16\")",
           19100
          ],
          [
           "Trek",
           "Детский велосипед для возраста От 1,5 до 3 лет (12\")",
           9999
          ],
          [
           "Lamborghini",
           "Детский трёхколесный велосипед",
           null
          ],
          [
           "Format",
           "Детский велосипед",
           32190
          ],
          [
           "Novatrack",
           "Детский велосипед",
           11870
          ],
          [
           "Maxiscoo",
           "Детский велосипед",
           12900
          ],
          [
           "Stels",
           "Комфортный велосипед",
           50810
          ],
          [
           "Haro",
           "BMX",
           28990
          ],
          [
           "Kama",
           "Складной велосипед",
           23990
          ],
          [
           "Maxiscoo",
           "Детский велосипед",
           9900
          ],
          [
           "Forward",
           "Складной велосипед",
           10490
          ],
          [
           "Schwinn",
           "Подростковый велосипед для девочек",
           12590
          ],
          [
           "Stels",
           "Складной велосипед",
           15550
          ],
          [
           "Schwinn",
           "Комфортный велосипед",
           53991
          ],
          [
           "Forward",
           "Женский велосипед",
           27270
          ],
          [
           "Stels",
           "Складной эконом велосипед",
           12850
          ],
          [
           "Haro",
           "BMX",
           23200
          ],
          [
           "Lexus Trike",
           "Детский трёхколесный велосипед",
           7000
          ],
          [
           "Stark",
           "Детский велосипед",
           30760
          ],
          [
           "Aspect",
           "BMX",
           29990
          ],
          [
           "Bear Bike",
           "Городской велосипед",
           29070
          ],
          [
           "Royal Baby",
           "Детский велосипед",
           27800
          ],
          [
           "Schwinn",
           "Дорожный велосипед",
           39990
          ],
          [
           "Schwinn",
           "Комфортный велосипед",
           28490
          ],
          [
           "Forward",
           "Детский велосипед",
           14900
          ],
          [
           "Lexus Trike",
           "Детский трёхколесный велосипед",
           5900
          ],
          [
           "Stels",
           "Комфортный велосипед",
           60220
          ],
          [
           "Electra",
           "Детский велосипед",
           39000
          ],
          [
           "Stels",
           "Детский велосипед",
           12020
          ],
          [
           "Schwinn",
           "Детский трёхколесный велосипед",
           9290
          ],
          [
           "Stels",
           "Женский велосипед",
           15550
          ],
          [
           "Atom",
           "BMX",
           20335
          ],
          [
           "Trek",
           "Детский велосипед",
           29930
          ],
          [
           "Stels",
           "Городской велосипед",
           13790
          ],
          [
           "Forward",
           "Складной велосипед",
           17990
          ],
          [
           "Stark",
           "BMX",
           44480
          ],
          [
           "Forward",
           "Подростковый велосипед",
           14180
          ],
          [
           "Electra",
           "Детский велосипед",
           59000
          ],
          [
           "Bear Bike",
           "Гравийный велосипед",
           47600
          ],
          [
           "Atom",
           "Трюковый велосипед",
           29050
          ],
          [
           "Format",
           "Детский велосипед",
           30990
          ],
          [
           "Cube",
           "Подростковый велосипед для мальчиков",
           128600
          ],
          [
           "Stels",
           "Детский велосипед",
           10380
          ],
          [
           "Electra",
           "Городской велосипед",
           29000
          ],
          [
           "Forward",
           "Детский велосипед",
           14670
          ],
          [
           "Stels",
           "Подростковый велосипед для мальчиков",
           19540
          ],
          [
           "Yedoo",
           "Детский велосипед для возраста От 1,5 до 3 лет (12\")",
           9200
          ],
          [
           "Stels",
           "Комфортный велосипед",
           13300
          ],
          [
           "Stels",
           "Женский велосипед",
           13790
          ],
          [
           "Bear Bike",
           "Городской велосипед",
           35700
          ],
          [
           "Stels",
           "Дорожный велосипед",
           40710
          ],
          [
           "Novatrack",
           "Детский велосипед",
           22080
          ],
          [
           "Schwinn",
           "Детский трёхколесный велосипед",
           8190
          ],
          [
           "Forward",
           "Складной велосипед",
           12990
          ],
          [
           "Aspect",
           "Детский велосипед",
           16990
          ],
          [
           "Format",
           "Детский велосипед",
           26790
          ],
          [
           "Format",
           "Детский велосипед",
           null
          ],
          [
           "Bear Bike",
           "Детский велосипед",
           30400
          ],
          [
           "Giant",
           "Детский велосипед для возраста от 3 до 5 лет (14\", 16\")",
           19990
          ],
          [
           "Electra",
           "Детский велосипед",
           69000
          ],
          [
           "Stinger",
           "Велосипед начального уровня",
           12170
          ],
          [
           "Stinger",
           "Трюковый велосипед",
           14800
          ],
          [
           "Forward",
           "Складной велосипед",
           11690
          ],
          [
           "Polygon",
           "BMX",
           54000
          ],
          [
           "Pifagor",
           "Детский велосипед",
           19800
          ],
          [
           "Format",
           "BMX",
           null
          ],
          [
           "Electra",
           "Детский велосипед для возраста от 5 до 9 лет (18\", 20\")",
           40000
          ],
          [
           "Polygon",
           "BMX",
           48300
          ],
          [
           "Stels",
           "Трюковый велосипед",
           19140
          ],
          [
           "Electra",
           "Велосипед круизёр",
           199000
          ],
          [
           "Stinger",
           "Комфортный велосипед",
           25780
          ],
          [
           "Format",
           "BMX",
           24000
          ],
          [
           "Forward",
           "Детский велосипед",
           19250
          ],
          [
           "Forward",
           "Детский велосипед для возраста От 1,5 до 3 лет (12\")",
           4581
          ],
          [
           "Atom",
           "Трюковый велосипед",
           29050
          ],
          [
           "Stels",
           "Детский велосипед",
           11950
          ],
          [
           "Haro",
           "Детский велосипед для возраста от 5 до 9 лет (18\", 20\")",
           19900
          ],
          [
           "Cube",
           "Детский велосипед",
           null
          ],
          [
           "Aspect",
           "Велосипед круизёр",
           17745
          ],
          [
           "Giant",
           "Детский велосипед",
           29790
          ],
          [
           "Giant",
           "Детский велосипед",
           26490
          ],
          [
           "Stinger",
           "Комфортный велосипед",
           18140
          ],
          [
           "Stinger",
           "Подростковый велосипед для мальчиков",
           13830
          ],
          [
           "Stels",
           "Велосипед начального уровня",
           17690
          ],
          [
           "Globber",
           "Детский велосипед",
           26900
          ],
          [
           "Novatrack",
           "BMX",
           42780
          ],
          [
           "Stels",
           "Велосипед начального уровня",
           16700
          ],
          [
           "Stels",
           "Складной велосипед",
           11770
          ],
          [
           "Stinger",
           "Подростковый велосипед для мальчиков",
           8440
          ],
          [
           "Forward",
           "Складной велосипед",
           16490
          ],
          [
           "Novatrack",
           "Складной велосипед",
           16680
          ],
          [
           "Electra",
           "Детский велосипед",
           39000
          ],
          [
           "Novatrack",
           "Детский велосипед",
           19910
          ],
          [
           "Format",
           "Детский велосипед",
           null
          ],
          [
           "Stels",
           "Детский велосипед",
           8230
          ],
          [
           "Stels",
           "Подростковый велосипед для мальчиков",
           21500
          ],
          [
           "Atom",
           "BMX",
           36935
          ],
          [
           "Format",
           "BMX",
           35070
          ],
          [
           "Stels",
           "Складной эконом велосипед",
           12550
          ],
          [
           "Giant",
           "Детский велосипед для возраста от 3 до 5 лет (14\", 16\")",
           15000
          ],
          [
           "Aspect",
           "Детский велосипед",
           16990
          ],
          [
           "Stels",
           "Велосипед начального уровня",
           16120
          ],
          [
           "Royal Baby",
           "Детский велосипед",
           12800
          ],
          [
           "Stark",
           "Велосипед для стрит/дёрт",
           28820
          ],
          [
           "Stark",
           "Велосипед для стрит/дёрт",
           57980
          ],
          [
           "Stels",
           "Велосипед начального уровня",
           11710
          ],
          [
           "Electra",
           "Городской велосипед",
           24000
          ],
          [
           "Forward",
           "Детский велосипед",
           4580
          ],
          [
           "Stark",
           "BMX",
           19990
          ],
          [
           "Stels",
           "Городской велосипед",
           13300
          ],
          [
           "Trek",
           "Детский велосипед для возраста от 5 до 9 лет (18\", 20\")",
           17900
          ],
          [
           "Forward",
           "Городской велосипед",
           13590
          ],
          [
           "Aspect",
           "Детский велосипед для возраста от 3 до 5 лет (14\", 16\")",
           12590
          ],
          [
           "Forward",
           "Городской велосипед",
           20490
          ],
          [
           "Haro",
           "Трюковый велосипед",
           26600
          ],
          [
           "Stark",
           "BMX",
           23940
          ],
          [
           "Stels",
           "Женский велосипед",
           13790
          ],
          [
           "Forward",
           "Складной велосипед",
           12190
          ],
          [
           "Forward",
           "Трюковый велосипед",
           14490
          ],
          [
           "Forward",
           "Велосипед начального уровня",
           16090
          ],
          [
           "Bear Bike",
           "Детский велосипед",
           22680
          ],
          [
           "Forward",
           "Велосипед BMX",
           25990
          ],
          [
           "Lexus Trike",
           "Детский трёхколесный велосипед",
           9900
          ],
          [
           "Forward",
           "Складной эконом велосипед",
           8370
          ],
          [
           "Stels",
           "Велосипед начального уровня",
           13030
          ],
          [
           "Stels",
           "Детский велосипед",
           8860
          ],
          [
           "Bentley",
           "Детский трёхколесный велосипед",
           13200
          ],
          [
           "Stels",
           "Велосипед начального уровня",
           15320
          ],
          [
           "Merida",
           "Детский велосипед для возраста от 3 до 5 лет (14\", 16\")",
           13065
          ],
          [
           "Giant",
           "Детский велосипед для возраста от 5 до 9 лет (18\", 20\")",
           12900
          ],
          [
           "Giant",
           "Детский велосипед для возраста От 1,5 до 3 лет (12\")",
           12600
          ],
          [
           "FOXX",
           "Детский велосипед",
           12860
          ],
          [
           "Giant",
           "Детский велосипед",
           null
          ],
          [
           "Forward",
           "Детский велосипед для возраста от 5 до 9 лет (18\", 20\")",
           8388
          ],
          [
           "Stinger",
           "Подростковый велосипед для мальчиков",
           11400
          ],
          [
           "Forward",
           "Детский велосипед для возраста от 3 до 5 лет (14\", 16\")",
           5490
          ],
          [
           "Stark",
           "Велосипед для стрит/дёрт",
           52860
          ],
          [
           "Trek",
           "Детский велосипед для возраста от 5 до 9 лет (18\", 20\")",
           14999
          ],
          [
           "Lexus Trike",
           "Детский трёхколесный велосипед",
           5700
          ],
          [
           "Aspect",
           "Детский велосипед",
           17990
          ],
          [
           "Stels",
           "Комфортный велосипед",
           8650
          ],
          [
           "Forward",
           "Детский велосипед",
           9390
          ],
          [
           "Lexus Trike",
           "Детский трёхколесный велосипед",
           8400
          ],
          [
           "Stinger",
           "Комфортный велосипед",
           30400
          ],
          [
           "Welt",
           "Детский велосипед",
           19990
          ],
          [
           "Forward",
           "Складной велосипед",
           11090
          ],
          [
           "Royal Baby",
           "Детский велосипед",
           28200
          ],
          [
           "Stels",
           "Женский велосипед",
           13300
          ],
          [
           "Bear Bike",
           "Детский велосипед",
           25200
          ],
          [
           "Format",
           "BMX",
           84000
          ],
          [
           "Aspect",
           "Детский велосипед для возраста От 1,5 до 3 лет (12\")",
           7909
          ],
          [
           "Polygon",
           "BMX",
           null
          ],
          [
           "Stark",
           "Городской велосипед",
           24174
          ],
          [
           "Haro",
           "BMX",
           null
          ],
          [
           "Lamborghini",
           "Детский трёхколесный велосипед",
           null
          ],
          [
           "Forward",
           "Детский велосипед",
           8990
          ],
          [
           "Forward",
           "Велосипед начального уровня",
           15471
          ],
          [
           "Trek",
           "Детский велосипед для возраста от 3 до 5 лет (14\", 16\")",
           19999
          ],
          [
           "Trek",
           "Детский велосипед для возраста от 5 до 9 лет (18\", 20\")",
           37319
          ],
          [
           "Merida",
           "Детский велосипед для возраста от 3 до 5 лет (14\", 16\")",
           13400
          ],
          [
           "Welt",
           "Детский велосипед",
           null
          ],
          [
           "Trek",
           "Детский велосипед для возраста От 1,5 до 3 лет (12\")",
           12300
          ],
          [
           "Stels",
           "Городской велосипед",
           12760
          ],
          [
           "Forward",
           "Складной эконом велосипед",
           21090
          ],
          [
           "Forward",
           "Трюковый велосипед",
           19690
          ],
          [
           "Merida",
           "Детский велосипед для возраста от 3 до 5 лет (14\", 16\")",
           10854
          ],
          [
           "Schwinn",
           "Детский трёхколесный велосипед",
           9290
          ],
          [
           "Trek",
           "Детский велосипед для возраста От 1,5 до 3 лет (12\")",
           14449
          ],
          [
           "Scott",
           "Детский велосипед для возраста от 3 до 5 лет (14\", 16\")",
           13900
          ],
          [
           "Schwinn",
           "Велосипед круизёр",
           13990
          ],
          [
           "Forward",
           "Спортивный велосипед",
           22600
          ],
          [
           "Stark",
           "Городской велосипед",
           24660
          ],
          [
           "Globber",
           "Детский велосипед",
           30900
          ],
          [
           "Stinger",
           "Трюковый велосипед",
           19800
          ],
          [
           "Forward",
           "Детский велосипед",
           7770
          ],
          [
           "Lexus Trike",
           "Детский трёхколесный велосипед",
           6000
          ],
          [
           "Giant",
           "Детский велосипед для возраста от 3 до 5 лет (14\", 16\")",
           22200
          ],
          [
           "Giant",
           "Детский велосипед для возраста От 1,5 до 3 лет (12\")",
           19990
          ],
          [
           "Pifagor",
           "Детский велосипед",
           22500
          ],
          [
           "Forward",
           "Подростковый велосипед для мальчиков",
           17990
          ],
          [
           "Forward",
           "Женский велосипед",
           10160
          ],
          [
           "Stels",
           "Комфортный велосипед",
           13800
          ],
          [
           "Forward",
           "Подростковый велосипед для мальчиков",
           14390
          ],
          [
           "Lexus Trike",
           "Детский трёхколесный велосипед",
           5100
          ],
          [
           "Altair",
           "Подростковый велосипед",
           13440
          ],
          [
           "Maxiscoo",
           "Детский велосипед",
           5390
          ],
          [
           "Cube",
           "Детский велосипед",
           null
          ],
          [
           "Lexus Trike",
           "Детский трёхколесный велосипед",
           null
          ]
         ],
         "hovertemplate": "<b>%{hovertext}</b><br><br>Кластер=2<br>x=%{x}<br>y=%{y}<br>brand=%{customdata[0]}<br>category=%{customdata[1]}<br>price=%{customdata[2]}<extra></extra>",
         "hovertext": [
          "Stels Jet KC 16\" Z010 (2025)",
          "Royal Baby Stargirl 18\" (2024)",
          "Novatrack Vector 20\" (2025)",
          "Novatrack Psycho 20\" (2024)",
          "Kama 20\" (2023)",
          "Stels Little Princess KC 16\" Z010 (2025)",
          "Lamborghini L2 (2019)",
          "Format Kids 14'' (2020)",
          "Stels Pilot 710 C Z010 (2025)",
          "Spinn Charm 1 sp. (2024)",
          "Stels Pilot 410 C Z010 (2025)",
          "Stels Jet KC 18\" Z010 (2025)",
          "Aspect Smile 16 (2025)",
          "Stels Avangard 300 Z010 (2025)",
          "Stark Terros 700 S (2025)",
          "Stels Pilot 310 C Z010 (2025)",
          "Novatrack Juster 20\" (2023)",
          "Stark Madness BMX 4 (2025)",
          "Electra Cruiser 1 Ladies (2020)",
          "Stels Mistery C 18\" Z010 (2024)",
          "Stark Madness BMX 1 (2025)",
          "Stels Legenda 340 Z010 (2025)",
          "Aspect Smile 20 (2025)",
          "Novatrack TG 30 V-brake (2021)",
          "Maxiscoo Jazz Standart 18\" (2024)",
          "Pifagor Level 20\" (2024)",
          "Royal Baby Space Shuttle 16\" (2024)",
          "Novatrack Wind 20\" (2022)",
          "Maxiscoo 7Bike 20'' (2024)",
          "Stels Little Princess KC 18\" Z010 (2025)",
          "Maxiscoo Space Standart 16'' (2025)",
          "Novatrack Shark Disc 20\" (2020)",
          "Novatrack Shark 20\" (2020)",
          "Spinn Horizon (2024)",
          "Stark Madness BMX 4 (2024)",
          "Globber Go Bike Duo (2021)",
          "Pifagor Moonshine 16\" (2024)",
          "Globber Learning Trike 2 in 1 (2024)",
          "Stels Pilot 250 Gent V020 (2023)",
          "Stels Pilot 250 Lady V020 (2023)",
          "Pifagor Level Up 24\" (2024)",
          "Schwinn Alu 1 Women (2022)",
          "Novatrack Twist 20\" (2025)",
          "Novatrack TG 20 (2021)",
          "Forward Meteor 18 (2023)",
          "Stels Pilot 810 C Z012 (2025)",
          "Stark Madness BMX 2 (2025)",
          "Bear Bike Armata (2023)",
          "Stels Little Princess KC 14\" Z010 (2025)",
          "Novatrack Shark 6-sp. 20\" (2020)",
          "Royal Baby Freestyle 16\" (2024)",
          "Forward Barcelona Air 2.0 (2018)",
          "Haro Parkway (2022)",
          "Novatrack Valiant 14\" (2019)",
          "Novatrack Alice Disc 20\" (2021)",
          "Novatrack Tetris 20\" (2025)",
          "Maxiscoo Jazz Standart Plus 14\" (2024)",
          "Electra Cruiser 1 24 Ladie’s (2020)",
          "Maxiscoo Cosmic Deluxe 18'' (2025)",
          "Forward Azure 16 (2021)",
          "Welt Moovix 1.0 20 V (2025)",
          "Maxiscoo Air Standart 18\" (2024)",
          "Maxiscoo Cosmic Deluxe 16'' (2025)",
          "Haro Inspired (2021)",
          "Stels Flash KB 16\" Z010 (2025)",
          "Stels Navigator 375 Z010 (2024)",
          "Pifagor Point 16\" (2024)",
          "Novatrack Twist 14\" (2025)",
          "Maxiscoo Space Standart 18'' (2025)",
          "Stark Madness BMX 3 (2025)",
          "Novatrack Butterfly 16\" (2023)",
          "Spinn Pxie 16 (2024)",
          "Stels Storm MD 14\" Z010 (2024)",
          "Stels Jast KB 18\" Z010 (2025)",
          "Stels Cristy 200 C Z010 (2025)",
          "Maxiscoo Octopus (2025)",
          "Maxiscoo Jazz Pro 16\" (2024)",
          "Spinn Charm 3 sp. (2024)",
          "Spinn Pixie 20 (2024)",
          "Royal Baby Space Shuttle 18\" (2024)",
          "Pifagor Line 16\" (2024)",
          "Stels Leader 210 MD Z010 (2025)",
          "Stels Jast KB 16\" Z010 (2025)",
          "Novatrack Maple 16\" (2025)",
          "Novatrack Zodiac (2025)",
          "Stels Pilot 205 C Z010 (2023)",
          "Maxiscoo Air Standart Plus 16\" (2024)",
          "Maxiscoo Cosmic Standart 18'' (2025)",
          "Stark Madness BMX 5 Cr-Mo (2025)",
          "Maxiscoo Air Standart 18'' (2025)",
          "Forward Barrio 18 (2023)",
          "Maxiscoo Air Standart Plus 14\" (2024)",
          "Forward Dakota 16 (2022)",
          "Novatrack Valiant 14\" (2022)",
          "Electra Cruiser 1 Mens (2020)",
          "Novatrack Extreme 20\" (2021)",
          "Maxiscoo Air Stellar 20'' (2025)",
          "Stark Madness BMX 5 (2025)",
          "Stels Jet KC 14\" Z010 (2025)",
          "Maxiscoo Air Stellar 18'' (2025)",
          "Stels Galaxy KMD 14\" Z010 (2024)",
          "Maxiscoo Air Stellar 16'' (2025)",
          "Forward Barrio 14 (2023)",
          "Maxiscoo Jazz Standart Plus 16\" (2024)",
          "Stels Galaxy Pro MD 18\" Z010 (2024)",
          "Stark Madness BMX 2 (2024)",
          "Maxiscoo 3Bike 20'' Boy (2025)",
          "Royal Baby Little Swan 18\" (2024)",
          "Forward Funky 16 (2023)",
          "Novatrack Strike 20\" (2022)",
          "Globber Go Bike (2019)",
          "Globber Go Bike Air (2021)",
          "Maxiscoo Dolphin (2025)",
          "Novatrack Juster 16\" (2023)",
          "Maxiscoo Cosmic Standart 16'' (2025)",
          "Stels Galaxy KMD 16\" Z010 (2024)",
          "Maxiscoo Air Pro 14'' (2025)",
          "Novatrack Vector 18\" (2022)",
          "Novatrack Tetris 14\" (2025)",
          "Novatrack Jupiter 20\" (2024)",
          "Novatrack Racer 12 sp. 20\" (2020)",
          "Globber Learning Bike (2023)",
          "Schwinn Gremlin (2022)",
          "Novatrack Cooper 16\" (2025)",
          "Stark Foxy Boy 16\" (2025)",
          "Maxiscoo Jazz Standart Plus 16'' (2025)",
          "Novatrack Strike 18\" (2022)",
          "Stels Talisman C 16\" Z010 (2025)",
          "Stels Turbo 200 VC Z010 (2025)",
          "Maxiscoo 3Bike 20'' Girl (2025)",
          "Forward Meteor 16 (2023)",
          "Aspect CRUISER LADY (2018)",
          "Stark Foxy Girl 16\" (2025)",
          "Stark Madness BMX Race (2024)",
          "Maxiscoo Space Standart Plus 14'' (2025)",
          "Welt Brave 2.0 20 HD (2025)",
          "Novatrack Alice 20\" (2021)",
          "Stels Magic C 14\" Z010 (2025)",
          "Stels Magic C 18\" Z010 (2025)",
          "Electra Cruiser Lux 3i Mens (2020)",
          "Novatrack Forest 20\" (2025)",
          "Polygon Rudge 3 (2025)",
          "Maxiscoo Space Deluxe 18'' (2025)",
          "Maxiscoo Cosmic Standart Plus 14'' (2025)",
          "Maxiscoo Shark Sport 18'' (2025)",
          "Novatrack Extreme Disc 20\" (2021)",
          "Royal Baby Freestyle 14\" (2024)",
          "Maxiscoo Jazz Standart Plus 14'' (2025)",
          "Globber Explorer Trike Foldable 4 in1 (2025)",
          "Royal Baby Freestyle Space №1 16\" (2024)",
          "Stels Joy MD 18\" Z010 (2025)",
          "Maxiscoo Air Pro 18'' (2025)",
          "Maxiscoo Jazz Standart 18'' (2025)",
          "Royal Baby Space Shuttle 14\" (2024)",
          "Maxiscoo Cosmic Deluxe 18\" (2024)",
          "Maxiscoo Space Deluxe 16'' (2025)",
          "Globber Go Bike Elite Duo (2023)",
          "Maxiscoo Jazz Pro 18\" (2024)",
          "Maxiscoo Air Standart Plus 16'' (2025)",
          "Novatrack Vector 14\" (2025)",
          "Maxiscoo Jazz Pro 14'' (2025)",
          "Novatrack Turbo 16\" (2020)",
          "Novatrack Lynx 16\" (2024)",
          "Pifagor Shine 16\" (2024)",
          "Novatrack Juster 14\" (2023)",
          "Giant ARX 16 F/W (2021)",
          "Maxiscoo Air Pro 16'' (2025)",
          "Novatrack Ancona 16\" (2019)",
          "Maxiscoo Shark (2025)",
          "Novatrack Valiant 16\" (2022)",
          "Novatrack Strike 16\" (2022)",
          "Novatrack Blast 16\" (2024)",
          "Maxiscoo Cosmic Standart 16\" (2024)",
          "Novatrack Novara 14\" (2022)",
          "Globber Go Bike Elite (2023)",
          "Novatrack Dodger 14\" (2022)",
          "Electra Cruiser 1 24 Mens (2020)",
          "Globber Learning Bike 3 in 1 (2023)",
          "Novatrack Vector 16\" (2022)",
          "Stels Galaxy Pro MD 16\" Z010 (2024)",
          "Novatrack YT Forest 20\" (2025)",
          "Forward Nitro 16 (2023)",
          "Novatrack Vector 20\" (2022)",
          "Electra Graffiti 16 (2020)",
          "Novatrack Urban 16\" (2022)",
          "Novatrack Neptune 16\" (2020)",
          "Maxiscoo Jazz Pro 14\" (2024)",
          "Maxiscoo Compass Standart Plus 12'' (2025)",
          "Novatrack Lumen 16\" (2019)",
          "Maxiscoo Space Deluxe Plus 14'' (2025)",
          "Globber Go Bike Elite Air (2023)",
          "Novatrack Prime 16\" (2019)",
          "Red Pepper 16\" (2024)",
          "Novatrack Dodger 16\" (2022)",
          "Forward Cosmo 14 (2023)",
          "Pifagor Candy 16 (2024)",
          "Forward Crocky 18 (2023)",
          "Stels Magic C 16\" Z010 (2025)",
          "Globber Trike Explorer (4 IN 1) (2020)",
          "Forward Barrio 16 (2023)",
          "Forward Crocky 16 (2023)",
          "Forward Cosmo 16 (2023)",
          "Maxiscoo Cosmic Deluxe Plus 14'' (2025)",
          "Stels Galaxy Pro 14\" V010 (2024)",
          "Novatrack Astra 16\" (2020)",
          "Novatrack Flight 16\" (2025)",
          "Electra Starship 16 (2020)",
          "Royal Baby Freestyle 7th 16\" (2024)",
          "Maxiscoo Air Pro 16\" (2024)",
          "Maxiscoo Cosmic Deluxe Plus 14\" (2024)",
          "Forward Meteor 14 (2023)",
          "Pifagor Currant 16 (2024)",
          "Royal Baby Freestyle 7th 18\" (2024)",
          "Novatrack Tornado 16\" (2019)",
          "Maxiscoo Jazz Pro 16'' (2025)",
          "Royal Baby Freestyle EZ 16\" (2024)",
          "Maxiscoo Jazz Pro 18'' (2025)",
          "Forward Azure 16 (2023)",
          "Novatrack Extreme 16\" (2025)",
          "Forward Funky 14 (2023)",
          "Maxiscoo Cosmic Standart Plus 14\" (2024)",
          "Stels Flash KB 18\" Z010 (2025)",
          "Forward Nitro 14 (2023)",
          "Globber Learning Bike 3 in 1 Deluxe (2023)",
          "Electra Sun Shimmer 16 (2020)",
          "Maxiscoo Shark Sport 16'' (2025)",
          "Maxiscoo Cosmic Deluxe 16\" (2024)",
          "Novatrack Candy 16\" (2023)",
          "Pifagor Hawk 16 (2024)",
          "Novatrack Extreme 16\" (2021)",
          "Format 7414 (2025)",
          "Novatrack Maple 16\" (2022)",
          "Novatrack Katrina 16\" V-Brake (2025)",
          "Novatrack Valiant 16 \" boy (2019)",
          "Novatrack Calibri 16\" (2022)",
          "Novatrack Novara 16\" (2022)",
          "Novatrack Prime Girl Steel 16\" (2020)",
          "Novatrack Extreme 16\" V-Brake (2025)",
          "Stels Energy III Z010 (2025)",
          "Pifagor Pro Line 16\" (2024)",
          "Novatrack Flight Pro 16\" (2025)",
          "Maxiscoo Air Standart Plus 14'' (2025)",
          "Globber Explorer Trike 4 in1 (2025)",
          "Maxiscoo Air Pro 14\" (2024)",
          "Novatrack Novara 16\" (2025)",
          "Stels Joy MD 16\" Z010 (2025)",
          "Stels Galaxy Pro MD 14\" Z010 (2024)",
          "Novatrack Katrina 16\" (2025)",
          "Novatrack Prime Boy Alu 16\" (2020)",
          "Novatrack Maple 16\" (2019)",
          "Novatrack Flightline 14\" (2019)",
          "Novatrack Katrina 16\" (2022)",
          "Forward Valencia 24 X (2024)",
          "Stels Galaxy 14\" V010 (2023)",
          "Stels Flash KB 14\" Z010 (2025)",
          "Novatrack Valiant 16\" (2019)",
          "Novatrack Lynx 16\" (2022)",
          "Welt Teddy 16 (2025)",
          "Stels Storm MD 16\" Z010 (2024)",
          "Merida Matts J16 Plus (2023)",
          "Novatrack Butterfly 20\" (2023)",
          "FOXX Shift 20\" (2024)",
          "Royal Baby Run 12\" (2024)",
          "Scott Contessa 14 (2023)",
          "Stels Galaxy KMD 18\" Z010 (2024)",
          "Royal Baby Little Swan 16\" (2024)",
          "Globber Explorer Trike 4 in1 Deluxe Play (2025)",
          "Scott Scale 16 (2022)",
          "Scott Roxter 16 (2023)",
          "Scott Contessa 16 (2023)",
          "Stels Talisman C 18\" Z010 (2025)",
          "Royal Baby Little Swan 14\" (2024)",
          "Royal Baby Freestyle 7th 14\" (2024)",
          "Stels Avangard 200 Z010 (2025)",
          "Stels Legenda 240 Z010 (2025)",
          "Royal Baby Stargirl 12\" (2024)",
          "Electra Super Sprocket 16\" (2023)",
          "Stels Legenda 330 Z010 (2025)",
          "Format 5343 700С (2023)",
          "Aspect Street (2024)",
          "Stels Legenda 300 Z010 (2025)",
          "Stels Flyte C 18\" Z012 (2025)",
          "Stels Pilot 205 C Z010 (2025)",
          "Stels Legenda 200 Z010 (2025)",
          "Stels Shadow VC 16\" Z010 (2024)",
          "Stels Navigator 375 VC Z011 (2025)",
          "Stels Flyte C 16\" Z012 (2025)",
          "Novatrack Lynx 20\" (2024)",
          "Stels Echo 12\" V020 (2023)",
          "Royal Baby Freestyle 18\" (2024)",
          "Pifagor Shine 20\" (2024)",
          "Stels Flash KR 18\" V010 (2024)",
          "Stels Pilot 210 VC Z010 (2025)",
          "Novatrack Urban 20\" (2022)",
          "Stels Flash KR 14\" V010 (2024)",
          "Stark Tanuki 18 Boy (2023)",
          "FOXX Shift 24\" (2024)",
          "Stark Madness BMX 5 (2023)",
          "Maxiscoo Rocket Standart Plus 12 (2022)",
          "Royal Baby Stargirl 16\" (2024)",
          "Stark Foxy Boy 16 (2024)",
          "Stark Tanuki 16 Boy (2023)",
          "Stark Madness BMX 1 (2024)",
          "Format Kids 16 (2022)",
          "B-Link DSP-05 (2020)",
          "Novatrack Blast 18\" (2024)",
          "Stels Pilot 190 16\" V030 (2023)",
          "Novatrack Prime 20\" (2024)",
          "Stels Pilot 200 VC Z010 (2025)",
          "Stark Madness BMX 5 (2022)",
          "Stark Foxy Boy 18\" (2025)",
          "Forward Grace 26 1.0 (2022)",
          "Novatrack Indigo 12\" (2022)",
          "Format Kids BMX 14 (2022)",
          "Royal Baby Dream 12\" (2024)",
          "Maxiscoo Cosmic Standart 18\" (2024)",
          "Schwinn Roadster Trike (2021)",
          "Stels Navigator 300 Gent 28\" Z010 (2023)",
          "Stels Storm KR 18\" Z010 (2024)",
          "Stark Tanuki 14 Boy (2023)",
          "Stark Foxy Girl 18\" (2025)",
          "Stels Pilot 220 V Z010 (2025)",
          "Red Pepper 20\" (2024)",
          "Novatrack Astra 14\" (2020)",
          "Stels Pilot 810 C Z011 (2024)",
          "Royal Baby Stargirl 14\" (2024)",
          "Maxiscoo Comet Standart Plus 12 (2022)",
          "Aspect SPARK (2021)",
          "Stels Navigator 205 С Z010 (2023)",
          "Maxiscoo Air Pro 18\" (2024)",
          "Hagen Teen 20 R (2025)",
          "Haro Boulevard (2021)",
          "Stark Madness BMX 3 (2024)",
          "Royal Baby Rawr 12\" (2024)",
          "Stels Navigator 200 Gent 26\" Z010 (2023)",
          "Novatrack Novara 18\" (2022)",
          "Stels Talisman 16\" Z010 (2023)",
          "Aspect Smile (2024)",
          "Format 5232 29 (2023)",
          "Royal Baby Freestyle EZ 14\" (2024)",
          "Stels Flyte C 14\" Z011 (2025)",
          "Electra Koa 3i (2020)",
          "Format Kids 16 (2021)",
          "Globber TRIKE EXPLORER (3 IN 1) (2022)",
          "Yedoo One Too (2019)",
          "Forward Barcelona 26 3.0 (2021)",
          "Schwinn Koen 16 (2022)",
          "Stels Leader 210 MD 20\" Z010 (2024)",
          "Stels Storm MD 18\" Z010 (2024)",
          "Novatrack Dodger 18\" (2022)",
          "Pifagor Currant 18 (2024)",
          "Novatrack Butterfly 14\" (2023)",
          "Royal Baby Buttons Alloy 18\" (2024)",
          "Schwinn Lil Sting-Ray (2022)",
          "Stels Jet 16\" Z010 (2023)",
          "Novatrack Crow 20\" (2024)",
          "Novatrack Lumen 14\" (2019)",
          "Aspect SPARK (2020)",
          "Royal Baby Mars 16\" (2024)",
          "Welt Dingo 16 (2023)",
          "Novatrack Maple 14\" (2022)",
          "Novatrack Urban 14\" (2020)",
          "Scott Contessa 16 (2020)",
          "Maxiscoo Ultrasonic Deluxe Plus 14 (2022)",
          "Forward Cosmo 16 (2022)",
          "Pifagor IceBerry 16 (2024)",
          "Forward Nitro 18 (2023)",
          "Scool XXlite 16 alloy (2019)",
          "Novatrack Extreme 18\" (2021)",
          "Stels Strike VC 18\" Z010 (2024)",
          "Pifagor Candy 16 (2022)",
          "Novatrack Candy 16\" (2019)",
          "Stels Jast KB 16\" Z010 (2024)",
          "Stels Little Princess KC 16\" Z010 (2024)",
          "Stels Viper 20\" V010 (2023)",
          "Atom Ion (2022)",
          "Stels Mistery C 12\" Z010 (2024)",
          "Cube Cubie 120 Walk (2023)",
          "Forward Funky 16 (2021)",
          "Stels Mistery C 16\" Z010 (2024)",
          "Stels Powerkid 12 Girl V020 (2023)",
          "Novatrack Wind 14\" (2022)",
          "Novatrack Dodger 20\" (2024)",
          "Stels Talisman 14\" Z010 (2023)",
          "Welt Teddy 18 (2025)",
          "Forward Meteor 16 (2021)",
          "Stels Shadow VC 14\" Z010 (2024)",
          "Haro Parkway DLX (2022)",
          "Stels Mustang MD 24\" Z010 (2025)",
          "Novatrack Katrina 20\" (2024)",
          "Stels Mistery C 14\" Z010 (2024)",
          "Scool niXe 16 steel (2018)",
          "Stels Pilot 150 16\" V010 (2023)",
          "FOXX Vintage (2025)",
          "Red Pepper 18\" (2024)",
          "Kama 24 (2024)",
          "Haro Leucadia DLX (2022)",
          "Maxiscoo Space Deluxe Plus 14\" (2024)",
          "Stels Navigator 110 Lady 1-sp V010 (2023)",
          "Stels Legenda 320 Z010 (2025)",
          "Stels Jast KB 14\" Z010 (2025)",
          "Hagen Teen 20 (2025)",
          "Stels Navigator 200 С Z011 (2024)",
          "Format Kids Bmx 14 (2021)",
          "Forward Scorpions 20 1.0 (2022)",
          "Haro Midway Freecoaster (2021)",
          "Atom Team (2022)",
          "Stels Pilot 710 24\" Z010 (2023)",
          "Welt BMX Freedom 1.0 (2024)",
          "Electra Straight 8 3i 20 (2020)",
          "Forward Cosmo 18 (2023)",
          "Atom DJ Radon (2022)",
          "Maxiscoo Space Deluxe 16\" (2024)",
          "Maxiscoo Space Deluxe 18\" (2024)",
          "Royal Baby Stargirl 20\" (2024)",
          "Pifagor Rowan 16 (2024)",
          "Schwinn Wayfarer (2022)",
          "Pifagor Line 18\" (2024)",
          "Maxiscoo Space Standart 18\" (2024)",
          "Stels Storm KR 14\" Z010 (2024)",
          "Stels Flyte C 14\" Z012 (2024)",
          "Scott Roxter 14 (2023)",
          "Royal Baby Little Swan 12\" (2024)",
          "Stels Pilot 410 20\" Z011 (2023)",
          "Scott Voltage YZ 0.1 (2018)",
          "Stels Navigator 200 С Z012 (2025)",
          "Stels Navigator 205 С Z011 (2024)",
          "Stels Pilot 310 Z011 (2023)",
          "Cube Kid 160 (2018)",
          "Trek Kickster (2022)",
          "Lamborghini L3 (2019)",
          "Format Kids BMX 16 (2022)",
          "Novatrack Vector 20\" (2019)",
          "Maxiscoo Standart Plus 14\" (2024)",
          "Stels Energy VI Z010 (2025)",
          "Haro Pistol 29r (2021)",
          "Kama 26 (2024)",
          "Maxiscoo Comet Deluxe Plus 12 (2022)",
          "Forward Valencia 24 1.0 (2022)",
          "Schwinn Baywood 24 (2019)",
          "Stels Pilot 810 Z010 (2023)",
          "Schwinn Classic Deluxe (2021)",
          "Forward Evia 26 (2024)",
          "Stels Pilot 715 Z010 (2023)",
          "Haro Leucadia (2022)",
          "Lexus Trike T400M2 N1210 (2018)",
          "Stark Foxy 20\" (2024)",
          "Aspect Street (2023)",
          "Bear Bike Madrid (2021)",
          "Royal Baby Freestyle Space №1 18\" (2024)",
          "Schwinn Town & Country (2018)",
          "Schwinn S1 (2022)",
          "Forward Azure 18 (2023)",
          "Lexus Trike Щенячий патруль (2018)",
          "Stels Energy III K010 (2024)",
          "Electra Soft Serve 16 (2020)",
          "Stels Galaxy 14\" V010 (2024)",
          "Schwinn Roadster Trike 12 (2019)",
          "Stels Pilot 810 C Z011 (2025)",
          "Atom Ion DLX (2022)",
          "Trek Precaliber 16 Boys F/W 16 (2021)",
          "Stels Navigator 325 Z010 (2023)",
          "Forward Sevilla 26 3.0 (2022)",
          "Stark Madness BMX 5 Cr-Mo (2024)",
          "Forward Grace 24 (2022)",
          "Electra Tutti Frutti 16\" (2023)",
          "Bear Bike Riga (2020)",
          "Atom Nitro (S) (2022)",
          "Format Kids Bmx 18 (2024)",
          "Cube Acid 240 Hybrid (2019)",
          "Stels Jet 18\" Z010 (2023)",
          "Electra Loft 1 Nickel Plated (2020)",
          "Forward Funky 18 (2023)",
          "Stels Challenger V 24 Z010 (2018)",
          "Yedoo YooToo (2020)",
          "Stels Navigator 300 Lady 28\" Z010 (2023)",
          "Stels Navigator 345 28\" Z010 (2023)",
          "Bear Bike Milan (2022)",
          "Stels Energy I V020 (2018)",
          "Novatrack Titanium 6-sp. 20\" (2020)",
          "Schwinn ROADSTER TRIKE 12 (2018)",
          "Forward Sevilla 26 1.0 (2022)",
          "Aspect Spark (2022)",
          "Format Kids 18 (2022)",
          "Format Kids BMX 16 (2023)",
          "Bear Bike Kitez 20 (2021)",
          "Giant Animator F/W 16 (2022)",
          "Electra Cat’s Meow 20\" (2023)",
          "Stinger Banzai 26 (2018)",
          "Stinger Graffiti (2021)",
          "Forward Sevilla 26 1.0 (2021)",
          "Polygon Razor (2023)",
          "Pifagor Shine 18\" (2024)",
          "Format 9222 (2023)",
          "Electra Tiger Shark 3i 20\" (2019)",
          "Polygon Rudge 3 (2023)",
          "Stels Tyrant V030 (2021)",
          "Electra Ghostrider 3i (2020)",
          "Stinger Barcelona Std (2020)",
          "Format Kids Bmx 16 (2021)",
          "Forward Zigzag 16 (2022)",
          "Forward Funky 12 (2018)",
          "Atom Nitro (2022)",
          "Stels Pilot 150 18\" V010 (2023)",
          "Haro Shredder 20 (2022)",
          "Cube Numove 140 (2025)",
          "Aspect CRUISER (2018)",
          "Giant ARX 16 F/W (2022)",
          "Giant Adore F/W 16 (2022)",
          "Stinger Cruiser Lady 26\" (2018)",
          "Stinger Highlander 24 (2018)",
          "Stels Miss 5000 MD V010 (2018)",
          "Globber Explorer Trike Deluxe Play (4 in 1) (2023)",
          "Novatrack Reply 20\" (2023)",
          "Stels Navigator 900 MD V010 (2018)",
          "Stels Pilot 415 Z010 20 (2023)",
          "Stinger Defender 24 (2018)",
          "Forward Arsenal 20 X (2022)",
          "Novatrack TG 24\" 2.0 (2021)",
          "Electra Saur 16\" (2020)",
          "Novatrack Prime Boy Alu 16\" (2021)",
          "Format Kids BMX 14 (2023)",
          "Stels Talisman 18\" Z010 (2023)",
          "Stels Navigator 470 MD + V010 (2018)",
          "Atom Icon (2022)",
          "Format 3215 (2023)",
          "Stels Pilot 430 V010 (2018)",
          "Giant Adore F/W 16 (2019)",
          "Aspect Melissa (2022)",
          "Stels Navigator 700 MD 27,5\" V010 (2018)",
          "Royal Baby Rawr Air 12\" (2024)",
          "Stark Grinder 2 (2018)",
          "Stark Pusher 2 (2020)",
          "Stels Navigator 500 V 29\" V020 (2018)",
          "Electra Loft 1 Matte Black (2019)",
          "Forward Leo 12 (2021)",
          "Stark Madness BMX 1 (2023)",
          "Stels Navigator 300 С Z010 (2023)",
          "Trek Precaliber 20 SS Girl's (2018)",
          "Forward Dortmund 28 2.0 (2022)",
          "Aspect MELISSA (2019)",
          "Forward Dortmund 28 3.0 (2022)",
          "Haro Downtown 16\" (2022)",
          "Stark Madness BMX 3 (2023)",
          "Stels Navigator 325 C Z011 (2025)",
          "Forward Arsenal 20 1.0 (2022)",
          "Forward Zigzag 16 (2020)",
          "Forward Dakota 26 2.0 (2019)",
          "Bear Bike Kitez 16 (2021)",
          "Forward Zigzag 20 (2022)",
          "Lexus Trike 11M N1210 (2019)",
          "Forward Portsmouth 1.0 (2018)",
          "Stels Navigator 500 V 27.5\" V020 (2018)",
          "Stels Jolly 18\" V010 (2023)",
          "Bentley Bike (2018)",
          "Stels Navigator 500 V V020 (2018)",
          "Merida Spider J16 (2019)",
          "Giant Motr C/B 20 (2019)",
          "Giant Adore F/W 12 (2019)",
          "FOXX Simple Girl  20\" (2025)",
          "Giant Adore 20 (2021)",
          "Forward Unit 1.0 (2018)",
          "Stinger Banzai 24 (2018)",
          "Forward Funky 14 (2020)",
          "Stark Pusher 1 SS (2022)",
          "Trek PreCaliber 20 SS Boys (2019)",
          "Lexus Trike 950M1 N1210 (2018)",
          "Aspect Enter (2022)",
          "Stels Navigator 305 Lady Z010 (2018)",
          "Forward Cosmo 12 (2022)",
          "Lexus Trike T400M2 N1210P (2019)",
          "Stinger Cruiser M (2021)",
          "Welt Pony 16 (2023)",
          "Forward Timba 20 (2022)",
          "Royal Baby Mars 18\" (2024)",
          "Stels Navigator 245 Z010 (2023)",
          "Bear Bike Kitez 16 (2022)",
          "Format 9222 (2022)",
          "Aspect RUN (2019)",
          "Polygon Rogue (2025)",
          "Stark Terros 700 S (2021)",
          "Haro Steel Reserve 1.1 (2021)",
          "Lamborghini L5 (2019)",
          "Forward Cosmo 16 (2021)",
          "Forward Iris 24 2.0 disc (2018)",
          "Trek Precaliber 16 Boy's (2020)",
          "Trek MT - 201 (2021)",
          "Merida Bella J16 (2019)",
          "Welt Pony 18 (2024)",
          "Trek Kickster (2018)",
          "Stels Navigator 200 С Z010 (2023)",
          "Forward Valencia 24 3.0 (2022)",
          "Forward Zigzag 20 Go (2022)",
          "Merida Fox J16 (2019)",
          "Schwinn Roadster Trike (2020)",
          "Trek Precaliber 12 Girls (2019)",
          "Scott Voltage JR 16 Bike (2018)",
          "Schwinn Gammon (2020)",
          "Forward Iris 26 2.0 Disc (2021)",
          "Stark Terros 700 S (2023)",
          "Globber Explorer Trike Foldable 4 in 1 (2024)",
          "Stinger Shift (2021)",
          "Forward Funky 14 (2022)",
          "Lexus Trike 950M3 N1210 (2018)",
          "Giant ARX 16 F/W (2020)",
          "Giant Animator F/W 12 (2021)",
          "Pifagor Candy 18 (2024)",
          "Forward Raptor 24 2.0 Disc (2020)",
          "Forward Talica 28 1.0 (2021)",
          "Stels Navigator 310 Gent V020 (2018)",
          "Forward Dakota 24 1.0 (2019)",
          "Lexus Trike 950 N1210 (2018)",
          "Altair MTB HT 24 1.0 (2021)",
          "Maxiscoo Octopus (2022)",
          "Cube Cubie 120 Walk (2024)",
          "Lexus Trike 950 108 (2018)"
         ],
         "legendgroup": "2",
         "marker": {
          "color": "#636efa",
          "symbol": "circle"
         },
         "mode": "markers",
         "name": "2",
         "showlegend": true,
         "type": "scattergl",
         "x": {
          "bdata": "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",
          "dtype": "f4"
         },
         "xaxis": "x",
         "y": {
          "bdata": "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",
          "dtype": "f4"
         },
         "yaxis": "y"
        },
        {
         "customdata": [
          [
           "Cube",
           "BMX",
           117780
          ],
          [
           "Aspect",
           "Гравийный велосипед",
           119990
          ],
          [
           "Aspect",
           "Комфортный велосипед",
           70990
          ],
          [
           "Aspect",
           "Дорожный велосипед",
           69990
          ],
          [
           "Aspect",
           "Гравийный велосипед",
           104990
          ],
          [
           "Aspect",
           "Гравийный велосипед",
           159990
          ],
          [
           "Stinger",
           "Гравийный велосипед",
           102200
          ],
          [
           "Aspect",
           "Женский велосипед",
           82990
          ],
          [
           "Format",
           "Гравийный велосипед",
           88900
          ],
          [
           "Cube",
           "Двухподвесный велосипед",
           499000
          ],
          [
           "Welt",
           "Двухподвесный велосипед",
           149990
          ],
          [
           "Aspect",
           "Женский велосипед",
           57990
          ],
          [
           "Aspect",
           "Женский велосипед",
           72490
          ],
          [
           "Welt",
           "Гравийный велосипед",
           119990
          ],
          [
           "Welt",
           "Городской велосипед",
           79990
          ],
          [
           "Stark",
           "Гравийный велосипед",
           87990
          ],
          [
           "Aspect",
           "Женский велосипед",
           46990
          ],
          [
           "Atom",
           "Комфортный велосипед",
           68850
          ],
          [
           "Stark",
           "Двухподвесный велосипед",
           109990
          ],
          [
           "Welt",
           "Гравийный велосипед",
           99990
          ],
          [
           "Superior",
           "Шоссейный велосипед",
           165900
          ],
          [
           "Stinger",
           "Гравийный велосипед",
           126000
          ],
          [
           "Welt",
           "Гравийный велосипед",
           154990
          ],
          [
           "Stark",
           "Двухподвесный велосипед",
           89990
          ],
          [
           "Cube",
           "Двухподвесный велосипед",
           491400
          ],
          [
           "Giant",
           "Двухподвесный велосипед",
           849990
          ],
          [
           "Stinger",
           "Гравийный велосипед",
           177000
          ],
          [
           "Eltreco",
           "Электровелосипед",
           74500
          ],
          [
           "Bear Bike",
           "Электровелосипед",
           88740
          ],
          [
           "Fixie",
           "Электровелосипед",
           119000
          ],
          [
           "Specialized",
           "Двухподвесный велосипед",
           670390
          ],
          [
           "Hagen",
           "Гравийный велосипед",
           101240
          ],
          [
           "Gelbert",
           "Электровелосипед",
           62990
          ],
          [
           "Superior",
           "Шоссейный велосипед",
           177800
          ],
          [
           "Polygon",
           "Двухподвесный велосипед",
           124300
          ],
          [
           "Format",
           "Шоссейный велосипед",
           125500
          ],
          [
           "Polygon",
           "Двухподвесный велосипед",
           260400
          ],
          [
           "Welt",
           "Гравийный велосипед",
           149990
          ],
          [
           "Hagen",
           "Гравийный велосипед",
           87740
          ],
          [
           "Polygon",
           "Двухподвесный велосипед",
           156800
          ],
          [
           "Hagen",
           "Гравийный велосипед",
           107990
          ],
          [
           "Superior",
           "Двухподвесный велосипед",
           295500
          ],
          [
           "Gelbert",
           "Электровелосипед",
           75990
          ],
          [
           "Polygon",
           "Двухподвесный велосипед",
           227360
          ],
          [
           "Superior",
           "Двухподвесный велосипед",
           250600
          ],
          [
           "Gelbert",
           "Электровелосипед",
           74990
          ],
          [
           "Haro",
           "Двухподвесный велосипед",
           171500
          ],
          [
           "Gelbert",
           "Электровелосипед",
           69990
          ],
          [
           "Hagen",
           "Гравийный велосипед",
           131840
          ],
          [
           "Scott",
           "Двухподвесный велосипед",
           469190
          ],
          [
           "Format",
           "Шоссейный велосипед",
           156500
          ],
          [
           "Welt",
           "Шоссейный велосипед",
           149990
          ],
          [
           "Welt",
           "Женский велосипед",
           72990
          ],
          [
           "Stark",
           "Двухподвесный велосипед",
           130520
          ],
          [
           "Polygon",
           "Двухподвесный велосипед",
           200250
          ],
          [
           "Atom",
           "Женский велосипед",
           62550
          ],
          [
           "Haro",
           "Двухподвесный велосипед",
           215300
          ],
          [
           "Polygon",
           "Гравийный велосипед",
           151235
          ],
          [
           "Pardus",
           "Шоссейный велосипед",
           159100
          ],
          [
           "Scott",
           "Двухподвесный велосипед",
           563090
          ],
          [
           "Atom",
           "Шоссейный велосипед",
           123750
          ],
          [
           "Electra",
           "Электровелосипед",
           329000
          ],
          [
           "Scott",
           "Двухподвесный велосипед",
           582000
          ],
          [
           "Stark",
           "Женский велосипед",
           53990
          ],
          [
           "Scott",
           "Двухподвесный велосипед",
           428990
          ],
          [
           "Atom",
           "Женский велосипед",
           67050
          ],
          [
           "Polygon",
           "Двухподвесный велосипед",
           156800
          ],
          [
           "Polygon",
           "Городской велосипед",
           76650
          ],
          [
           "Polygon",
           "Двухподвесный велосипед",
           220255
          ],
          [
           "Polygon",
           "Двухподвесный велосипед",
           252300
          ],
          [
           "Stark",
           "Женский велосипед",
           47690
          ],
          [
           "Atom",
           "Женский велосипед",
           68850
          ],
          [
           "Gelbert",
           "Электровелосипед",
           89990
          ],
          [
           "Haibike",
           "Электровелосипед",
           499900
          ],
          [
           "Stark",
           "BMX",
           82690
          ],
          [
           "Gelbert",
           "Электровелосипед",
           77990
          ],
          [
           "Stark",
           "Гравийный велосипед",
           57990
          ],
          [
           "Atom",
           "Женский велосипед",
           71100
          ],
          [
           "Stark",
           "Женский велосипед",
           74450
          ],
          [
           "Polygon",
           "Городской велосипед",
           80135
          ],
          [
           "KTM",
           "Двухподвесный велосипед",
           619400
          ],
          [
           "Gelbert",
           "Электровелосипед",
           126990
          ],
          [
           "Polygon",
           "Городской велосипед",
           95550
          ],
          [
           "Gelbert",
           "Электровелосипед",
           85990
          ],
          [
           "KTM",
           "Двухподвесный велосипед",
           417300
          ],
          [
           "Polygon",
           "Городской велосипед",
           126600
          ],
          [
           "Gelbert",
           "Электровелосипед",
           105990
          ],
          [
           "Stark",
           "Женский велосипед",
           75590
          ],
          [
           "KTM",
           "Двухподвесный велосипед",
           417600
          ],
          [
           "Stark",
           "Гравийный велосипед",
           71990
          ],
          [
           "Gelbert",
           "Электровелосипед",
           89990
          ],
          [
           "Gelbert",
           "Электровелосипед",
           94990
          ],
          [
           "Stark",
           "Женский велосипед",
           89990
          ],
          [
           "Gelbert",
           "Электровелосипед",
           124990
          ],
          [
           "Superior",
           "Двухподвесный велосипед",
           366900
          ],
          [
           "Gelbert",
           "Электровелосипед",
           96990
          ],
          [
           "Gelbert",
           "Электровелосипед",
           99990
          ],
          [
           "Gelbert",
           "Электровелосипед",
           114990
          ],
          [
           "Gelbert",
           "Электровелосипед",
           93990
          ],
          [
           "Masi",
           "Гравийный велосипед",
           111900
          ],
          [
           "Superior",
           "Гравийный велосипед",
           124900
          ],
          [
           "Titan Racing",
           "Гравийный велосипед",
           151200
          ],
          [
           "Scott",
           "Шоссейный велосипед",
           833990
          ],
          [
           "Atom",
           "BMX",
           65250
          ],
          [
           "Superior",
           "Шоссейный велосипед",
           364400
          ],
          [
           "Superior",
           "Шоссейный велосипед",
           262600
          ],
          [
           "Titan Racing",
           "Двухподвесный велосипед",
           245250
          ],
          [
           "Haro",
           "Женский велосипед",
           69300
          ],
          [
           "Superior",
           "Шоссейный велосипед",
           170200
          ],
          [
           "Scott",
           "Двухподвесный велосипед",
           344990
          ],
          [
           "KTM",
           "Электровелосипед",
           779700
          ],
          [
           "Titan Racing",
           "Шоссейный велосипед",
           146250
          ],
          [
           "KTM",
           "Двухподвесный велосипед",
           989160
          ],
          [
           "KTM",
           "Электровелосипед",
           948900
          ],
          [
           "Rock Machine",
           "Двухподвесный велосипед",
           266175
          ],
          [
           "Haro",
           "Двухподвесный велосипед",
           215300
          ],
          [
           "Sunpeed",
           "Городской велосипед",
           78300
          ],
          [
           "Gelbert",
           "Электровелосипед",
           136990
          ],
          [
           "Медведь",
           "Электровелосипед",
           114720
          ],
          [
           "Superior",
           "Двухподвесный велосипед",
           438200
          ],
          [
           "Sunpeed",
           "Шоссейный велосипед",
           159990
          ],
          [
           "Медведь",
           "Электровелосипед",
           150350
          ],
          [
           "KTM",
           "Женский велосипед",
           193300
          ],
          [
           "Gelbert",
           "Электровелосипед",
           109990
          ],
          [
           "Медведь",
           "Электровелосипед",
           117690
          ],
          [
           "KTM",
           "Двухподвесный велосипед",
           305300
          ],
          [
           "Scott",
           "Двухподвесный велосипед",
           354990
          ],
          [
           "Gelbert",
           "Электровелосипед",
           126990
          ],
          [
           "Sunpeed",
           "Комфортный велосипед",
           68700
          ],
          [
           "KTM",
           "Электровелосипед",
           485300
          ],
          [
           "Haro",
           "Двухподвесный велосипед",
           171500
          ],
          [
           "Polygon",
           "BMX",
           134540
          ],
          [
           "Polygon",
           "Гравийный велосипед",
           194125
          ],
          [
           "KTM",
           "Электровелосипед",
           988400
          ],
          [
           "Sunpeed",
           "Шоссейный велосипед",
           472600
          ],
          [
           "Gelbert",
           "Электровелосипед",
           329990
          ],
          [
           "KTM",
           "Двухподвесный велосипед",
           700600
          ],
          [
           "Polygon",
           "Гравийный велосипед",
           325125
          ],
          [
           "KTM",
           "Электровелосипед",
           883000
          ],
          [
           "Gelbert",
           "Электровелосипед",
           97990
          ],
          [
           "Sunpeed",
           "Двухподвесный велосипед",
           409900
          ],
          [
           "Медведь",
           "Электровелосипед",
           114720
          ],
          [
           "Polygon",
           "Шоссейный велосипед",
           162900
          ],
          [
           "Polygon",
           "Шоссейный велосипед",
           207620
          ],
          [
           "Polygon",
           "Двухподвесный велосипед",
           185400
          ],
          [
           "KTM",
           "Электровелосипед",
           700600
          ],
          [
           "KTM",
           "Электровелосипед",
           584200
          ],
          [
           "Polygon",
           "BMX",
           270135
          ],
          [
           "Electra",
           "Электровелосипед",
           490000
          ],
          [
           "KTM",
           "Электровелосипед",
           507400
          ],
          [
           "Gelbert",
           "Электровелосипед",
           189990
          ],
          [
           "KTM",
           "Двухподвесный велосипед",
           670440
          ],
          [
           "Gelbert",
           "Электровелосипед",
           72990
          ],
          [
           "KTM",
           "Электровелосипед",
           441500
          ],
          [
           "Polygon",
           "Шоссейный велосипед",
           180090
          ],
          [
           "Gelbert",
           "Электровелосипед",
           132990
          ],
          [
           "Gelbert",
           "Электровелосипед",
           143990
          ],
          [
           "Polygon",
           "Женский велосипед",
           62850
          ],
          [
           "Electra",
           "Электровелосипед",
           329000
          ],
          [
           "KTM",
           "Электровелосипед",
           467800
          ],
          [
           "KTM",
           "Электровелосипед",
           571100
          ],
          [
           "KTM",
           "Электровелосипед",
           590900
          ],
          [
           "Sunpeed",
           "Городской велосипед",
           121990
          ],
          [
           "KTM",
           "Электровелосипед",
           531500
          ],
          [
           "KTM",
           "Электровелосипед",
           454700
          ],
          [
           "KTM",
           "Электровелосипед",
           531500
          ],
          [
           "KTM",
           "Электровелосипед",
           531500
          ],
          [
           "Медведь",
           "Электровелосипед",
           140500
          ],
          [
           "Scott",
           "Двухподвесный велосипед",
           480990
          ],
          [
           "Polygon",
           "Шоссейный велосипед",
           193575
          ],
          [
           "KTM",
           "Двухподвесный велосипед",
           727000
          ],
          [
           "Медведь",
           "Электровелосипед",
           163500
          ],
          [
           "Polygon",
           "Городской велосипед",
           78540
          ],
          [
           "Polygon",
           "Шоссейный велосипед",
           377125
          ],
          [
           "Gelbert",
           "Электровелосипед",
           134990
          ],
          [
           "KTM",
           "Электровелосипед",
           467800
          ],
          [
           "Gelbert",
           "Электровелосипед",
           104990
          ],
          [
           "Gelbert",
           "Электровелосипед",
           174900
          ],
          [
           "KTM",
           "Электровелосипед",
           467800
          ],
          [
           "KTM",
           "Электровелосипед",
           467800
          ],
          [
           "Welt",
           "Женский велосипед",
           42990
          ],
          [
           "Atom",
           "Комфортный велосипед",
           52780
          ],
          [
           "Rock Machine",
           "Гравийный велосипед",
           89900
          ],
          [
           "Atom",
           "Женский велосипед",
           52780
          ],
          [
           "Format",
           "Гравийный велосипед",
           85500
          ],
          [
           "Welt",
           "Гравийный велосипед",
           169990
          ],
          [
           "Stark",
           "Гравийный велосипед",
           69990
          ],
          [
           "Rock Machine",
           "Двухподвесный велосипед",
           215175
          ],
          [
           "Scott",
           "Двухподвесный велосипед",
           321990
          ],
          [
           "Stels",
           "Женский велосипед",
           20570
          ],
          [
           "Hagen",
           "Женский велосипед",
           55340
          ],
          [
           "Stark",
           "Двухподвесный велосипед",
           134210
          ],
          [
           "Hagen",
           "Женский велосипед",
           59390
          ],
          [
           "Novatrack",
           "Фэтбайк",
           39070
          ],
          [
           "Aspect",
           "Спортивный велосипед",
           46990
          ],
          [
           "Superior",
           "Шоссейный велосипед",
           154300
          ],
          [
           "Welt",
           "Женский велосипед",
           33990
          ],
          [
           "Volteco",
           "Фэтбайк",
           73500
          ],
          [
           "Aspect",
           "Спортивный велосипед",
           49990
          ],
          [
           "Polygon",
           "Двухподвесный велосипед",
           195300
          ],
          [
           "Merida",
           "Женский велосипед",
           49990
          ],
          [
           "Giant",
           "Женский велосипед",
           86890
          ],
          [
           "Stark",
           "Двухподвесный велосипед",
           92690
          ],
          [
           "Titan Racing",
           "Двухподвесный велосипед",
           173880
          ],
          [
           "Forward",
           "Двухподвесный велосипед",
           45740
          ],
          [
           "Welt",
           "Полупрофессиональный велосипед",
           69990
          ],
          [
           "Welt",
           "Шоссейный велосипед",
           147990
          ],
          [
           "Atom",
           "Гравийный велосипед",
           99000
          ],
          [
           "Format",
           "Гравийный велосипед",
           86560
          ],
          [
           "Hagen",
           "Шоссейный велосипед",
           119990
          ],
          [
           "Haro",
           "Городской велосипед",
           73800
          ],
          [
           "Hagen",
           "Гравийный велосипед",
           99990
          ],
          [
           "Gelbert",
           "Электровелосипед",
           92890
          ],
          [
           "Forward",
           "Двухподвесный велосипед",
           23090
          ],
          [
           "Eltreco",
           "Электровелосипед",
           76990
          ],
          [
           "Giant",
           "Женский велосипед",
           89490
          ],
          [
           "Merida",
           "Комфортный велосипед",
           38512
          ],
          [
           "Forward",
           "Электровелосипед",
           82880
          ],
          [
           "Bianchi",
           "Шоссейный велосипед",
           1609600
          ],
          [
           "Stinger",
           "Женский велосипед",
           38000
          ],
          [
           "Bianchi",
           "Гравийный велосипед",
           420700
          ],
          [
           "Haibike",
           "Электровелосипед",
           1484910
          ],
          [
           "Titan Racing",
           "Комфортный велосипед",
           36450
          ],
          [
           "Stinger",
           "Двухподвесный велосипед",
           255900
          ],
          [
           "Titan Racing",
           "Женский велосипед",
           43150
          ],
          [
           "Titan Racing",
           "Женский велосипед",
           36450
          ],
          [
           "Haibike",
           "Электровелосипед",
           1390900
          ],
          [
           "Titan Racing",
           "Электровелосипед",
           226800
          ],
          [
           "Atom",
           "BMX",
           71550
          ],
          [
           "Haibike",
           "Электровелосипед",
           1349900
          ],
          [
           "Superior",
           "Гравийный велосипед",
           211400
          ],
          [
           "Superior",
           "Гравийный велосипед",
           346400
          ],
          [
           "Titan Racing",
           "Электровелосипед",
           211050
          ],
          [
           "Format",
           "Шоссейный велосипед",
           190900
          ],
          [
           "Titan Racing",
           "Женский велосипед",
           50400
          ],
          [
           "KTM",
           "Двухподвесный велосипед",
           1516680
          ],
          [
           "Haibike",
           "Электровелосипед",
           490900
          ],
          [
           "Welt",
           "Женский велосипед",
           39990
          ],
          [
           "Rock Machine",
           "Двухподвесный велосипед",
           251925
          ],
          [
           "Haibike",
           "Электровелосипед",
           419900
          ],
          [
           "Welt",
           "Женский велосипед",
           59990
          ],
          [
           "Scott",
           "Двухподвесный велосипед",
           576490
          ],
          [
           "Aspect",
           "Двухподвесный велосипед",
           249990
          ],
          [
           "Atom",
           "Гравийный велосипед",
           104850
          ],
          [
           "Haibike",
           "Электровелосипед",
           890900
          ],
          [
           "Rock Machine",
           "Двухподвесный велосипед",
           201675
          ],
          [
           "Welt",
           "Женский велосипед",
           65990
          ],
          [
           "Bianchi",
           "Гравийный велосипед",
           547300
          ],
          [
           "Polygon",
           "Шоссейный велосипед",
           377125
          ],
          [
           "Haibike",
           "Электровелосипед",
           299900
          ],
          [
           "Hagen",
           "Гравийный велосипед",
           139040
          ],
          [
           "Colnago",
           "Гравийный велосипед",
           497500
          ],
          [
           "Hagen",
           "Городской велосипед",
           71990
          ],
          [
           "Медведь",
           "Электровелосипед",
           277810
          ],
          [
           "Haibike",
           "Электровелосипед",
           260900
          ],
          [
           "Welt",
           "Городской велосипед",
           60990
          ],
          [
           "Pardus",
           "Шоссейный велосипед",
           67100
          ],
          [
           "Медведь",
           "Электровелосипед",
           83930
          ],
          [
           "Медведь",
           "Электровелосипед",
           137390
          ],
          [
           "Colnago",
           "Шоссейный велосипед",
           1197000
          ],
          [
           "Welt",
           "Гравийный велосипед",
           79990
          ],
          [
           "Rock Machine",
           "Женский велосипед",
           84900
          ],
          [
           "Bianchi",
           "Гравийный велосипед",
           500700
          ],
          [
           "Rock Machine",
           "Женский велосипед",
           149925
          ],
          [
           "Haibike",
           "Электровелосипед",
           590900
          ],
          [
           "Welt",
           "Женский велосипед",
           82990
          ],
          [
           "Haibike",
           "Электровелосипед",
           649900
          ],
          [
           "Haibike",
           "Электровелосипед",
           1099900
          ],
          [
           "Bianchi",
           "Шоссейный велосипед",
           369500
          ],
          [
           "Gelbert",
           "Электровелосипед",
           119990
          ],
          [
           "Bianchi",
           "Шоссейный велосипед",
           310000
          ],
          [
           "Forward",
           "Гравийный велосипед",
           45490
          ],
          [
           "Format",
           "BMX",
           98750
          ],
          [
           "Aspect",
           "Женский велосипед",
           45892
          ],
          [
           "Hagen",
           "Женский велосипед",
           71090
          ],
          [
           "Stark",
           "Гравийный велосипед",
           42660
          ],
          [
           "Haibike",
           "Электровелосипед",
           890900
          ],
          [
           "Pardus",
           "Городской велосипед",
           55800
          ],
          [
           "Polygon",
           "Гравийный велосипед",
           117040
          ],
          [
           "Colnago",
           "Шоссейный велосипед",
           389000
          ],
          [
           "Colnago",
           "Гравийный велосипед",
           488500
          ],
          [
           "Haibike",
           "Электровелосипед",
           419900
          ],
          [
           "Stels",
           "Спортивный велосипед",
           16610
          ],
          [
           "Pardus",
           "Шоссейный велосипед",
           207800
          ],
          [
           "Pardus",
           "Шоссейный велосипед",
           257000
          ],
          [
           "Scott",
           "Женский велосипед",
           84990
          ],
          [
           "Haibike",
           "Электровелосипед",
           699900
          ],
          [
           "Haibike",
           "Электровелосипед",
           750900
          ],
          [
           "Bianchi",
           "Шоссейный велосипед",
           703400
          ],
          [
           "Haibike",
           "Электровелосипед",
           750900
          ],
          [
           "KTM",
           "Комфортный велосипед",
           94400
          ],
          [
           "Haibike",
           "Электровелосипед",
           659900
          ],
          [
           "Polygon",
           "Двухподвесный велосипед",
           173040
          ],
          [
           "Polygon",
           "Двухподвесный велосипед",
           156800
          ],
          [
           "Welt",
           "Гравийный велосипед",
           178990
          ],
          [
           "KTM",
           "Городской велосипед",
           193300
          ],
          [
           "Polygon",
           "Гравийный велосипед",
           194125
          ],
          [
           "Pardus",
           "Шоссейный велосипед",
           287600
          ],
          [
           "Electra",
           "Электровелосипед",
           329000
          ],
          [
           "Ruff Cycles",
           "Электровелосипед",
           299000
          ],
          [
           "Sunpeed",
           "Шоссейный велосипед",
           119500
          ],
          [
           "Polygon",
           "Двухподвесный велосипед",
           227400
          ],
          [
           "Welt",
           "Женский велосипед",
           49990
          ],
          [
           "Haibike",
           "Электровелосипед",
           869900
          ],
          [
           "Welt",
           "Гравийный велосипед",
           79990
          ],
          [
           "Polygon",
           "Двухподвесный велосипед",
           195300
          ],
          [
           "Polygon",
           "Двухподвесный велосипед",
           260400
          ],
          [
           "Electra",
           "Электровелосипед",
           329000
          ],
          [
           "Merida",
           "Женский велосипед",
           34490
          ],
          [
           "Merida",
           "Двухподвесный велосипед 29\"",
           162810
          ],
          [
           "Polygon",
           "Гравийный велосипед",
           155000
          ],
          [
           "Cube",
           "Двухподвесный велосипед",
           291900
          ],
          [
           "Colnago",
           "Шоссейный велосипед",
           768800
          ],
          [
           "Scott",
           "Женский велосипед",
           104990
          ],
          [
           "Scott",
           "Женский велосипед",
           84990
          ],
          [
           "Pardus",
           "Шоссейный велосипед",
           284500
          ],
          [
           "Colnago",
           "Шоссейный велосипед",
           470400
          ],
          [
           "Polygon",
           "Двухподвесный велосипед",
           124300
          ],
          [
           "Scott",
           "Двухподвесный велосипед",
           413990
          ],
          [
           "Pardus",
           "Шоссейный велосипед",
           541000
          ],
          [
           "Colnago",
           "Шоссейный велосипед",
           638400
          ],
          [
           "KTM",
           "Электровелосипед",
           869800
          ],
          [
           "Polygon",
           "Городской велосипед",
           76650
          ],
          [
           "Медведь",
           "Электровелосипед",
           73770
          ],
          [
           "Merida",
           "Спортивный велосипед",
           36580
          ],
          [
           "Haibike",
           "Электровелосипед",
           690900
          ],
          [
           "Haibike",
           "Электровелосипед",
           790900
          ],
          [
           "KTM",
           "Электровелосипед",
           883000
          ],
          [
           "KTM",
           "Электровелосипед",
           467800
          ],
          [
           "Stinger",
           "Женский велосипед",
           52700
          ],
          [
           "Haibike",
           "Электровелосипед",
           469900
          ],
          [
           "Colnago",
           "Шоссейный велосипед",
           496700
          ],
          [
           "Hagen",
           "Гравийный велосипед",
           84900
          ],
          [
           "Polygon",
           "Женский велосипед",
           62850
          ],
          [
           "Cube",
           "BMX",
           null
          ],
          [
           "KTM",
           "Электровелосипед",
           740200
          ],
          [
           "Polygon",
           "Городской велосипед",
           76510
          ],
          [
           "KTM",
           "Электровелосипед",
           740200
          ],
          [
           "KTM",
           "Электровелосипед",
           740200
          ],
          [
           "Format",
           "Дорожный велосипед",
           56100
          ],
          [
           "Polygon",
           "Городской велосипед",
           113390
          ],
          [
           "Intro",
           "Электровелосипед",
           117900
          ],
          [
           "KTM",
           "Электровелосипед",
           494200
          ],
          [
           "Cube",
           "Электровелосипед",
           1540000
          ],
          [
           "Cube",
           "Шоссейный велосипед",
           null
          ],
          [
           "Merida",
           "Шоссейный велосипед",
           143260
          ],
          [
           "KTM",
           "Городской велосипед",
           254800
          ],
          [
           "Rock Machine",
           "Двухподвесный велосипед",
           388425
          ],
          [
           "Merida",
           "Городской велосипед",
           34490
          ],
          [
           "Cube",
           "Фэтбайк",
           271500
          ],
          [
           "Merida",
           "Двухподвесный велосипед",
           298480
          ],
          [
           "Welt",
           "Городской велосипед",
           49990
          ],
          [
           "Superior",
           "Гравийный велосипед",
           151000
          ],
          [
           "Cube",
           "Городской велосипед",
           85680
          ],
          [
           "Cube",
           "Гравийный велосипед",
           null
          ],
          [
           "Polygon",
           "Шоссейный велосипед",
           193575
          ],
          [
           "Format",
           "Гравийный велосипед",
           93260
          ],
          [
           "Superior",
           "Шоссейный велосипед",
           281900
          ],
          [
           "Merida",
           "Велосипед любительского уровня",
           null
          ],
          [
           "Bianchi",
           "Шоссейный велосипед",
           949900
          ],
          [
           "Merida",
           "Городской велосипед",
           135460
          ],
          [
           "Merida",
           "Классический шоссейник",
           160550
          ],
          [
           "Merida",
           "Городской велосипед",
           33990
          ],
          [
           "Stark",
           "Гравийный велосипед",
           58990
          ],
          [
           "Merida",
           "Городской велосипед",
           63945
          ],
          [
           "Scott",
           "Шоссейный велосипед",
           449990
          ],
          [
           "Cube",
           "Городской велосипед",
           null
          ],
          [
           "Haibike",
           "Электровелосипед",
           590900
          ],
          [
           "Welt",
           "Дорожный велосипед",
           39990
          ],
          [
           "Bear Bike",
           "Гравийный велосипед",
           17190
          ],
          [
           "Bianchi",
           "Шоссейный велосипед",
           405400
          ],
          [
           "Merida",
           "Шоссейный велосипед",
           206640
          ],
          [
           "Bianchi",
           "Электровелосипед",
           661600
          ],
          [
           "Scott",
           "Шоссейный велосипед",
           779990
          ],
          [
           "Cube",
           "Городской велосипед",
           null
          ],
          [
           "Cube",
           "Женский велосипед",
           86200
          ],
          [
           "Stinger",
           "Гравийный велосипед",
           54100
          ],
          [
           "Superior",
           "Шоссейный велосипед",
           168200
          ],
          [
           "Merida",
           "Шоссейный велосипед",
           212420
          ],
          [
           "Merida",
           "Электровелосипед",
           815100
          ],
          [
           "Merida",
           "Городской велосипед",
           24070
          ],
          [
           "Merida",
           "Городской велосипед",
           88970
          ],
          [
           "Cube",
           "Шоссейный велосипед",
           null
          ],
          [
           "Cube",
           "Гравийный велосипед",
           null
          ],
          [
           "Trek",
           "Профессиональный велосипед",
           91299
          ],
          [
           "Merida",
           "Профессиональный двухподвесный велосипед",
           80601
          ],
          [
           "Merida",
           "Электровелосипед",
           186463
          ],
          [
           "Colnago",
           "Гравийный велосипед",
           1234800
          ],
          [
           "Scott",
           "Женский велосипед",
           176000
          ],
          [
           "Colnago",
           "Шоссейный велосипед",
           588000
          ],
          [
           "Haibike",
           "Электровелосипед",
           419900
          ],
          [
           "Giant",
           "Гравийный велосипед",
           null
          ],
          [
           "Merida",
           "Двухподвесный велосипед",
           207480
          ],
          [
           "Scott",
           "Велосипед для стрит/дёрт",
           158290
          ],
          [
           "Trek",
           "Велосипед любительского уровня",
           59999
          ],
          [
           "Electra",
           "Электровелосипед",
           299000
          ],
          [
           "Forward",
           "Электровелосипед",
           75580
          ],
          [
           "Superior",
           "Гравийный велосипед",
           253300
          ],
          [
           "Atom",
           "BMX",
           34570
          ],
          [
           "Cube",
           "Комфортный велосипед",
           null
          ],
          [
           "Pardus",
           "Шоссейный велосипед",
           676800
          ],
          [
           "Scott",
           "Двухподвесный велосипед",
           509490
          ],
          [
           "Merida",
           "Горный электровелосипед",
           117250
          ],
          [
           "Scott",
           "Женский велосипед",
           142000
          ],
          [
           "Haibike",
           "Электровелосипед",
           490900
          ],
          [
           "Trek",
           "Шоссейный велосипед",
           243750
          ],
          [
           "Медведь",
           "Электровелосипед",
           186530
          ],
          [
           "Aspect",
           "Женский велосипед",
           40367
          ],
          [
           "Trek",
           "Комфортный велосипед",
           null
          ],
          [
           "Медведь",
           "Электровелосипед",
           135660
          ],
          [
           "Scott",
           "Шоссейный велосипед",
           649990
          ],
          [
           "Stinger",
           "Комфортный велосипед",
           61300
          ],
          [
           "Trek",
           "Двухподвесный велосипед",
           null
          ],
          [
           "Scott",
           "Электровелосипед",
           1436290
          ],
          [
           "Stinger",
           "Женский велосипед",
           30200
          ],
          [
           "Forward",
           "Гравийный велосипед",
           50190
          ],
          [
           "Shulz",
           "Гравийный велосипед",
           null
          ],
          [
           "Voltrix",
           "Электровелосипед",
           74990
          ],
          [
           "Shulz",
           "Гравийный велосипед",
           null
          ],
          [
           "Cube",
           "Гравийный велосипед",
           null
          ],
          [
           "Stinger",
           "Гравийный велосипед",
           82000
          ],
          [
           "Cube",
           "Городской велосипед",
           null
          ],
          [
           "Cube",
           "BMX",
           null
          ],
          [
           "Hagen",
           "Городской велосипед",
           82340
          ],
          [
           "Trek",
           "Городской велосипед",
           null
          ],
          [
           "Cube",
           "Гравийный велосипед",
           null
          ],
          [
           "Stark",
           "Гравийный велосипед",
           96290
          ],
          [
           "Cube",
           "Двухподвесный велосипед",
           573300
          ],
          [
           "Merida",
           "Гравийный велосипед",
           242060
          ],
          [
           "Trek",
           "Профессиональный двухподвесный велосипед",
           null
          ],
          [
           "Cube",
           "Гравийный велосипед",
           null
          ],
          [
           "Cube",
           "Гравийный велосипед",
           null
          ],
          [
           "KTM",
           "Двухподвесный велосипед",
           1692600
          ],
          [
           "Trek",
           "Городской велосипед",
           86999
          ],
          [
           "Superior",
           "Двухподвесный велосипед",
           793300
          ],
          [
           "Giant",
           "BMX",
           null
          ],
          [
           "Pardus",
           "Шоссейный велосипед",
           278600
          ],
          [
           "Trek",
           "Женский велосипед",
           72967
          ],
          [
           "Merida",
           "Велосипед любительского уровня",
           null
          ],
          [
           "Format",
           "Гравийный велосипед",
           98040
          ],
          [
           "Aspect",
           "Велосипед любительского уровня",
           54490
          ],
          [
           "Ruff Cycles",
           "Электровелосипед",
           799000
          ],
          [
           "Trek",
           "Электровелосипед",
           637668
          ],
          [
           "Polygon",
           "Городской велосипед",
           95550
          ],
          [
           "Cube",
           "Городской велосипед",
           null
          ],
          [
           "Giant",
           "BMX",
           151490
          ],
          [
           "Cube",
           "Городской велосипед",
           null
          ],
          [
           "Cube",
           "Гравийный велосипед",
           null
          ],
          [
           "Trek",
           "Электровелосипед",
           762886
          ],
          [
           "Hoverbot",
           "Складной электровелосипед",
           45000
          ],
          [
           "Stark",
           "Фэтбайк",
           56990
          ],
          [
           "Trek",
           "Городской велосипед",
           109999
          ],
          [
           "Haro",
           "Двухподвесный велосипед",
           null
          ],
          [
           "Aspect",
           "Велосипед любительского уровня",
           62490
          ],
          [
           "Shulz",
           "Электровелосипед",
           57600
          ],
          [
           "Trek",
           "Полупрофессиональный велосипед",
           null
          ],
          [
           "Polygon",
           "Городской велосипед",
           113390
          ],
          [
           "Scott",
           "Городской велосипед",
           82290
          ],
          [
           "Superior",
           "Шоссейный велосипед",
           362600
          ],
          [
           "Cube",
           "Шоссейный велосипед",
           null
          ],
          [
           "Merida",
           "Полупрофессиональный велосипед",
           68723
          ],
          [
           "Stark",
           "Гравийный велосипед",
           134990
          ],
          [
           "Cube",
           "Комфортный велосипед",
           null
          ],
          [
           "Format",
           "BMX",
           null
          ],
          [
           "Welt",
           "Велосипед любительского уровня",
           52990
          ],
          [
           "Stark",
           "BMX",
           73090
          ],
          [
           "Cube",
           "Городской велосипед",
           175560
          ],
          [
           "Polygon",
           "Городской велосипед",
           78540
          ],
          [
           "Merida",
           "Велосипед любительского уровня",
           41528
          ],
          [
           "Cube",
           "Двухподвесный велосипед",
           null
          ],
          [
           "Aspect",
           "Комфортный велосипед",
           54990
          ],
          [
           "Welt",
           "Женский велосипед",
           29990
          ],
          [
           "KTM",
           "Двухподвесный велосипед",
           384700
          ],
          [
           "Format",
           "BMX",
           161000
          ],
          [
           "Specialized",
           "Двухподвесный велосипед",
           670400
          ],
          [
           "Cube",
           "Гравийный велосипед",
           null
          ],
          [
           "Scott",
           "Полупрофессиональный велосипед",
           67000
          ],
          [
           "Stinger",
           "Велосипед любительского уровня",
           41510
          ],
          [
           "Volteco",
           "Складной электровелосипед",
           39900
          ],
          [
           "Trek",
           "Фэтбайк 26\"",
           null
          ],
          [
           "Merida",
           "Велосипед любительского уровня",
           43365
          ],
          [
           "Hiper",
           "Электровелосипед",
           39990
          ],
          [
           "Cube",
           "Гравийный велосипед",
           null
          ],
          [
           "Cube",
           "Гравийный велосипед",
           null
          ],
          [
           "Specialized",
           "Двухподвесный велосипед",
           390000
          ],
          [
           "Trek",
           "Двухподвесный велосипед",
           null
          ],
          [
           "Giant",
           "Полупрофессиональный велосипед",
           62800
          ],
          [
           "Haro",
           "Велосипед хардтейл-комфорт",
           69300
          ],
          [
           "Giant",
           "Гравийный велосипед",
           209990
          ],
          [
           "Electra",
           "Электровелосипед",
           329000
          ],
          [
           "Format",
           "Шоссейный велосипед",
           139990
          ],
          [
           "Aspect",
           "Городской велосипед",
           45490
          ],
          [
           "Cube",
           "Шоссейный велосипед",
           null
          ],
          [
           "Superior",
           "Шоссейный велосипед",
           202100
          ],
          [
           "Scott",
           "Женский велосипед",
           142000
          ],
          [
           "Cube",
           "Электровелосипед",
           544020
          ],
          [
           "Stinger",
           "Женский велосипед",
           52700
          ],
          [
           "Polygon",
           "BMX",
           199784
          ],
          [
           "Giant",
           "Городской велосипед",
           64990
          ],
          [
           "Merida",
           "Шоссейный велосипед",
           204340
          ],
          [
           "Tern",
           "Складной велосипед",
           229990
          ],
          [
           "Welt",
           "Женский велосипед",
           43990
          ],
          [
           "Cube",
           "Электровелосипед",
           null
          ],
          [
           "Haro",
           "Начальный двухподвесный велосипед",
           null
          ],
          [
           "Scott",
           "Женский велосипед",
           438790
          ],
          [
           "Scott",
           "Гравийный велосипед",
           1039390
          ],
          [
           "Cube",
           "Женский велосипед",
           null
          ],
          [
           "Atom",
           "Гравийный велосипед",
           107900
          ],
          [
           "Welt",
           "Гравийный велосипед",
           87990
          ],
          [
           "Cube",
           "Городской велосипед",
           null
          ],
          [
           "Cube",
           "Гравийный велосипед",
           null
          ],
          [
           "Forward",
           "Электровелосипед",
           65180
          ],
          [
           "Медведь",
           "Электровелосипед",
           183500
          ],
          [
           "Cube",
           "Гравийный велосипед",
           null
          ],
          [
           "Cube",
           "Городской велосипед",
           null
          ],
          [
           "Volteco",
           "Электровелосипед",
           139900
          ],
          [
           "Electra",
           "Электровелосипед",
           595000
          ],
          [
           "Scott",
           "Женский велосипед",
           958490
          ],
          [
           "Merida",
           "Циклокроссовый велосипед",
           146250
          ],
          [
           "Welt",
           "Гравийный велосипед",
           88990
          ],
          [
           "Polygon",
           "BMX",
           167860
          ],
          [
           "Cube",
           "Электровелосипед",
           null
          ],
          [
           "Медведь",
           "Электровелосипед",
           258640
          ],
          [
           "Forward",
           "Электровелосипед",
           51650
          ],
          [
           "Electra",
           "Электровелосипед",
           329000
          ],
          [
           "Cube",
           "Электровелосипед",
           432960
          ],
          [
           "Titan Racing",
           "Гравийный велосипед",
           136950
          ],
          [
           "Giant",
           "Электровелосипед",
           449990
          ],
          [
           "Cube",
           "Двухподвесный велосипед",
           435000
          ],
          [
           "Merida",
           "Полупрофессиональный велосипед",
           49613
          ],
          [
           "Forward",
           "Электровелосипед",
           61010
          ],
          [
           "Cube",
           "Двухподвесный велосипед",
           440000
          ],
          [
           "Stinger",
           "Профессиональный велосипед",
           104200
          ],
          [
           "Polygon",
           "Электровелосипед",
           null
          ],
          [
           "Aspect",
           "Электровелосипед",
           164989
          ],
          [
           "Format",
           "BMX",
           112500
          ],
          [
           "Медведь",
           "Электровелосипед",
           148900
          ],
          [
           "Format",
           "Электровелосипед",
           136440
          ],
          [
           "Cube",
           "Шоссейный велосипед",
           null
          ],
          [
           "Voltrix",
           "Электровелосипед",
           47990
          ],
          [
           "Scott",
           "Гравийный велосипед",
           692890
          ],
          [
           "Format",
           "Женский велосипед",
           58940
          ],
          [
           "Superior",
           "Шоссейный велосипед",
           221600
          ],
          [
           "Hiper",
           "Электровелосипед",
           52690
          ],
          [
           "Медведь",
           "Электровелосипед",
           188750
          ],
          [
           "Haibike",
           "Электровелосипед",
           209900
          ],
          [
           "Cube",
           "Двухподвесный велосипед",
           null
          ],
          [
           "Cube",
           "Электровелосипед",
           null
          ],
          [
           "Haro",
           "Начальный двухподвесный велосипед",
           null
          ],
          [
           "Cube",
           "Гравийный велосипед",
           null
          ],
          [
           "Scott",
           "Велосипед для стрит/дёрт",
           null
          ],
          [
           "Hagen",
           "Шоссейный велосипед",
           179900
          ],
          [
           "Hagen",
           "Шоссейный велосипед",
           129999
          ],
          [
           "Cube",
           "Двухподвесный велосипед",
           1061000
          ],
          [
           "Cube",
           "Электровелосипед",
           494520
          ],
          [
           "Stels",
           "Спортивный велосипед",
           17280
          ],
          [
           "Cube",
           "Профессиональный велосипед",
           166200
          ],
          [
           "Cube",
           "Профессиональный велосипед",
           null
          ],
          [
           "Welt",
           "Циклокроссовый велосипед",
           34950
          ],
          [
           "Haibike",
           "Электровелосипед",
           640900
          ],
          [
           "Cube",
           "Шоссейный велосипед",
           null
          ],
          [
           "Cube",
           "Шоссейный велосипед",
           null
          ],
          [
           "Cube",
           "Гравийный велосипед",
           null
          ],
          [
           "Cube",
           "Городской велосипед",
           null
          ],
          [
           "Forward",
           "Электровелосипед",
           58040
          ],
          [
           "Stinger",
           "Женский велосипед",
           36900
          ],
          [
           "Haibike",
           "Электровелосипед",
           990900
          ],
          [
           "Trek",
           "Женский велосипед",
           73662
          ],
          [
           "Trek",
           "Комфортный велосипед",
           null
          ],
          [
           "Aspect",
           "Городской велосипед",
           50990
          ],
          [
           "Cube",
           "Шоссейный велосипед",
           null
          ],
          [
           "Cube",
           "Комфортный велосипед",
           null
          ],
          [
           "Ghost",
           "Гравийный велосипед",
           null
          ],
          [
           "Scott",
           "Электровелосипед",
           442790
          ],
          [
           "Медведь",
           "Электровелосипед",
           72400
          ],
          [
           "Cube",
           "Гравийный велосипед",
           null
          ],
          [
           "Welt",
           "Велосипед любительского уровня",
           27672
          ],
          [
           "Cube",
           "Гравийный велосипед",
           null
          ],
          [
           "Format",
           "Велосипед любительского уровня",
           55250
          ],
          [
           "Cube",
           "Профессиональный велосипед",
           171900
          ],
          [
           "Eltreco",
           "Городской электровелосипед",
           49900
          ],
          [
           "Cube",
           "Шоссейный велосипед",
           null
          ],
          [
           "Aspect",
           "Полупрофессиональный велосипед",
           34190
          ],
          [
           "Stinger",
           "Двухподвесный велосипед",
           139800
          ],
          [
           "Merida",
           "Велосипед любительского уровня",
           38220
          ],
          [
           "Welt",
           "Фэтбайк",
           99490
          ],
          [
           "Scott",
           "Профессиональный велосипед",
           339220
          ],
          [
           "Cube",
           "Профессиональный велосипед",
           null
          ],
          [
           "Hiper",
           "Электровелосипед",
           35990
          ],
          [
           "Scott",
           "Электровелосипед",
           374790
          ],
          [
           "Merida",
           "Шоссейный велосипед",
           172200
          ],
          [
           "Cube",
           "Шоссейный велосипед",
           null
          ],
          [
           "Cube",
           "Шоссейный велосипед",
           null
          ],
          [
           "Merida",
           "Профессиональный велосипед",
           null
          ],
          [
           "Merida",
           "Шоссейный велосипед",
           159000
          ],
          [
           "Bergamont",
           "Городской велосипед",
           99810
          ],
          [
           "Cube",
           "Шоссейный велосипед",
           782600
          ],
          [
           "Haibike",
           "Фэтбайк",
           559920
          ],
          [
           "Welt",
           "Гравийный велосипед",
           87990
          ],
          [
           "Cube",
           "Электровелосипед",
           null
          ],
          [
           "Cube",
           "Шоссейный велосипед",
           null
          ],
          [
           "Electra",
           "Электровелосипед",
           299000
          ],
          [
           "Titan Racing",
           "Гравийный велосипед",
           202310
          ],
          [
           "Stinger",
           "Профессиональный велосипед",
           108700
          ],
          [
           "Scott",
           "Велосипед для стрит/дёрт",
           101320
          ],
          [
           "Merida",
           "Шоссейный велосипед",
           270000
          ],
          [
           "Merida",
           "Электровелосипед",
           304220
          ],
          [
           "Trek",
           "Профессиональный велосипед",
           null
          ],
          [
           "Colnago",
           "Шоссейный велосипед",
           2036200
          ],
          [
           "Aspect",
           "Спортивный велосипед",
           41490
          ],
          [
           "Merida",
           "Профессиональный велосипед",
           124950
          ],
          [
           "Scott",
           "Электровелосипед",
           658190
          ],
          [
           "Медведь",
           "Электровелосипед",
           162880
          ],
          [
           "Cube",
           "Городской велосипед",
           null
          ],
          [
           "Welt",
           "Женский велосипед",
           65990
          ],
          [
           "Cube",
           "Городской велосипед",
           null
          ],
          [
           "Forward",
           "Электровелосипед",
           51020
          ],
          [
           "Cube",
           "Гравийный велосипед",
           null
          ],
          [
           "Cube",
           "Городской велосипед",
           null
          ],
          [
           "Crolan",
           "Городской электровелосипед",
           67900
          ],
          [
           "Cube",
           "Двухподвесный велосипед",
           823400
          ],
          [
           "Bianchi",
           "Гравийный велосипед",
           679790
          ],
          [
           "Giant",
           "Гравийный велосипед",
           null
          ],
          [
           "Rock Machine",
           "Гравийный велосипед",
           null
          ],
          [
           "Volteco",
           "Электровелосипед",
           113500
          ],
          [
           "Merida",
           "Шоссейный велосипед",
           153260
          ],
          [
           "Kalkhoff",
           "Городской электровелосипед",
           148400
          ],
          [
           "Cube",
           "Гравийный велосипед",
           null
          ],
          [
           "Specialized",
           "Двухподвесный велосипед",
           576490
          ],
          [
           "Polygon",
           "Шоссейный велосипед",
           207620
          ],
          [
           "Aspect",
           "Велосипед любительского уровня",
           54490
          ],
          [
           "Giant",
           "Городской велосипед",
           70490
          ],
          [
           "Aspect",
           "Велосипед любительского уровня",
           31490
          ],
          [
           "Cube",
           "BMX",
           114300
          ],
          [
           "Cube",
           "Гравийный велосипед",
           null
          ],
          [
           "Cube",
           "Электровелосипед",
           313700
          ],
          [
           "Медведь",
           "Электровелосипед",
           171260
          ],
          [
           "Cube",
           "Двухподвесный велосипед",
           null
          ],
          [
           "Cube",
           "Шоссейный велосипед",
           866600
          ],
          [
           "Hoverbot",
           "Фэтбайк",
           77900
          ],
          [
           "Trek",
           "Городской электровелосипед",
           null
          ],
          [
           "Trek",
           "Городской велосипед",
           null
          ],
          [
           "Cube",
           "Гравийный велосипед",
           null
          ],
          [
           "Cube",
           "Гравийный велосипед",
           null
          ],
          [
           "Cube",
           "Шоссейный велосипед",
           null
          ],
          [
           "Stels",
           "Велосипед любительского уровня",
           40060
          ],
          [
           "Cube",
           "Женский велосипед",
           115500
          ],
          [
           "Cube",
           "Двухподвесный велосипед",
           null
          ],
          [
           "Trek",
           "Спортивный велосипед",
           null
          ],
          [
           "Marin",
           "Велосипед любительского уровня",
           null
          ],
          [
           "Cube",
           "Электровелосипед",
           null
          ],
          [
           "Cube",
           "Двухподвесный велосипед",
           981750
          ],
          [
           "Welt",
           "Велосипед любительского уровня",
           26910
          ],
          [
           "Cube",
           "Электровелосипед",
           1044900
          ],
          [
           "Cube",
           "Шоссейный велосипед",
           null
          ],
          [
           "Giant",
           "Профессиональный двухподвесный велосипед",
           379990
          ],
          [
           "Intro",
           "Электровелосипед",
           54320
          ],
          [
           "Eltreco",
           "Электровелосипед",
           64900
          ],
          [
           "Aspect",
           "Полупрофессиональный велосипед",
           34545
          ],
          [
           "Eltreco",
           "Городской электровелосипед",
           59700
          ],
          [
           "Superior",
           "Шоссейный велосипед",
           205700
          ],
          [
           "Trek",
           "Городской электровелосипед",
           null
          ],
          [
           "Rock Machine",
           "Гравийный велосипед",
           null
          ],
          [
           "Superior",
           "Шоссейный велосипед",
           357800
          ],
          [
           "Superior",
           "Шоссейный велосипед",
           255440
          ],
          [
           "Cube",
           "Городской электровелосипед",
           200100
          ],
          [
           "Scott",
           "Полупрофессиональный велосипед",
           46250
          ],
          [
           "Scott",
           "Полупрофессиональный велосипед",
           null
          ],
          [
           "Scott",
           "Электровелосипед",
           null
          ],
          [
           "Cube",
           "Двухподвесный велосипед",
           null
          ],
          [
           "Pardus",
           "Гравийный велосипед",
           289740
          ],
          [
           "Merida",
           "Гравийный велосипед",
           186732
          ],
          [
           "Merida",
           "Электровелосипед",
           269230
          ],
          [
           "Trek",
           "Профессиональный велосипед",
           null
          ],
          [
           "Scott",
           "Горный электровелосипед",
           null
          ],
          [
           "Cube",
           "Женский велосипед",
           null
          ],
          [
           "Cube",
           "Женский велосипед",
           null
          ],
          [
           "Bianchi",
           "Шоссейный велосипед",
           387500
          ],
          [
           "Giant",
           "Гравийный велосипед",
           484790
          ],
          [
           "Merida",
           "Профессиональный велосипед",
           42775
          ],
          [
           "Cube",
           "Электровелосипед",
           421700
          ],
          [
           "Cube",
           "Шоссейный велосипед",
           null
          ],
          [
           "Voltrix",
           "Электровелосипед",
           69990
          ],
          [
           "Cube",
           "Женский велосипед",
           null
          ],
          [
           "Giant",
           "Городской велосипед",
           89990
          ],
          [
           "Merida",
           "Велосипед любительского уровня",
           36075
          ],
          [
           "Scott",
           "Спортивный велосипед",
           76600
          ],
          [
           "Format",
           "Велосипед любительского уровня",
           47600
          ],
          [
           "Haro",
           "Городской велосипед",
           40900
          ],
          [
           "Format",
           "Гравийный велосипед",
           74070
          ],
          [
           "Polygon",
           "Шоссейный велосипед",
           308500
          ],
          [
           "Cube",
           "Двухподвесный велосипед",
           491400
          ],
          [
           "Polygon",
           "Электровелосипед",
           null
          ],
          [
           "Giant",
           "Спортивный велосипед",
           98000
          ],
          [
           "Format",
           "Полупрофессиональный велосипед",
           60940
          ],
          [
           "Cube",
           "Электровелосипед",
           null
          ],
          [
           "Merida",
           "Гравийный велосипед",
           null
          ],
          [
           "Cube",
           "Городской велосипед",
           null
          ],
          [
           "Cube",
           "Гравийный велосипед",
           null
          ],
          [
           "Haro",
           "Электровелосипед",
           null
          ],
          [
           "Kross",
           "Профессиональный велосипед",
           null
          ],
          [
           "Trek",
           "Профессиональный двухподвесный велосипед",
           null
          ],
          [
           "Giant",
           "Городской электровелосипед",
           null
          ],
          [
           "Giant",
           "Женский электровелосипед",
           null
          ],
          [
           "Giant",
           "Женский велосипед",
           null
          ],
          [
           "Cube",
           "Профессиональный велосипед",
           55100
          ],
          [
           "Forward",
           "Электровелосипед",
           76330
          ],
          [
           "Bianchi",
           "Шоссейный велосипед",
           329900
          ],
          [
           "Cube",
           "Женский велосипед",
           203460
          ],
          [
           "Scott",
           "Двухподвесный велосипед",
           562490
          ],
          [
           "Format",
           "BMX",
           51800
          ],
          [
           "Merida",
           "Велосипед любительского уровня",
           33300
          ],
          [
           "Merida",
           "Двухподвесный велосипед",
           218120
          ],
          [
           "Cube",
           "Городской велосипед",
           null
          ],
          [
           "Eccoffect",
           "Складной электровелосипед",
           49900
          ],
          [
           "Cube",
           "Гравийный велосипед",
           null
          ],
          [
           "Cube",
           "Шоссейный велосипед",
           169200
          ],
          [
           "Scott",
           "Гравийный велосипед",
           380990
          ],
          [
           "Giant",
           "Гравийный велосипед",
           null
          ],
          [
           "Cube",
           "Профессиональный велосипед",
           null
          ],
          [
           "Aspect",
           "Спортивный велосипед",
           35990
          ],
          [
           "Aspect",
           "Полупрофессиональный велосипед",
           52459
          ],
          [
           "Merida",
           "Городской электровелосипед",
           103850
          ],
          [
           "Cube",
           "Полупрофессиональный велосипед",
           57500
          ],
          [
           "Univega",
           "Женский электровелосипед",
           119250
          ],
          [
           "Stinger",
           "Профессиональный велосипед",
           104200
          ],
          [
           "KTM",
           "Городской велосипед",
           81720
          ],
          [
           "Scott",
           "Шоссейный велосипед",
           179400
          ],
          [
           "Giant",
           "Женский велосипед",
           199990
          ],
          [
           "Cube",
           "Двухподвесный велосипед",
           null
          ],
          [
           "Giant",
           "Спортивный велосипед",
           null
          ],
          [
           "Scott",
           "Профессиональный велосипед",
           null
          ],
          [
           "Giant",
           "Женский велосипед",
           299990
          ],
          [
           "Cube",
           "Городской велосипед",
           null
          ],
          [
           "Welt",
           "Спортивный велосипед",
           23571
          ],
          [
           "Cube",
           "Женский велосипед",
           null
          ],
          [
           "Merida",
           "Электровелосипед",
           693000
          ],
          [
           "Merida",
           "Велосипед любительского уровня",
           31500
          ],
          [
           "Polygon",
           "Электровелосипед",
           null
          ],
          [
           "Eltreco",
           "Электровелосипед",
           93500
          ],
          [
           "Cube",
           "Городской велосипед",
           null
          ],
          [
           "Welt",
           "Велосипед любительского уровня",
           30960
          ],
          [
           "Cube",
           "Шоссейный велосипед",
           135720
          ],
          [
           "Welt",
           "Полупрофессиональный велосипед",
           77990
          ],
          [
           "Giant",
           "Городской велосипед",
           null
          ],
          [
           "Polygon",
           "Электровелосипед",
           null
          ],
          [
           "Aspect",
           "Велосипед любительского уровня",
           23390
          ],
          [
           "Cube",
           "Горный электровелосипед",
           176300
          ],
          [
           "Cube",
           "Женский электровелосипед",
           229600
          ],
          [
           "Cube",
           "Электровелосипед",
           301800
          ],
          [
           "Cube",
           "Городской велосипед",
           null
          ],
          [
           "Cube",
           "Электровелосипед",
           null
          ],
          [
           "Merida",
           "Городской электровелосипед",
           null
          ],
          [
           "Trek",
           "Велосипед любительского уровня",
           40150
          ],
          [
           "Cube",
           "Шоссейный велосипед",
           158040
          ],
          [
           "Cube",
           "Городской велосипед",
           null
          ],
          [
           "Cube",
           "Городской велосипед",
           null
          ],
          [
           "Scott",
           "Женский велосипед",
           334790
          ],
          [
           "Stinger",
           "Женский велосипед",
           30200
          ],
          [
           "Cube",
           "Двухподвесный велосипед",
           952000
          ],
          [
           "Scott",
           "Велосипед любительского уровня",
           null
          ],
          [
           "Trek",
           "Городской электровелосипед",
           null
          ],
          [
           "Cube",
           "Комфортный велосипед",
           null
          ],
          [
           "Cube",
           "Электровелосипед",
           null
          ],
          [
           "Format",
           "Женский велосипед",
           67800
          ],
          [
           "Scott",
           "Велосипед любительского уровня",
           31990
          ],
          [
           "Giant",
           "Полупрофессиональный велосипед",
           null
          ],
          [
           "Giant",
           "Гравийный велосипед",
           null
          ],
          [
           "Giant",
           "Шоссейный велосипед",
           null
          ],
          [
           "Kross",
           "Городской велосипед",
           null
          ],
          [
           "Tern",
           "Складной премиум велосипед",
           null
          ],
          [
           "Bianchi",
           "Шоссейный велосипед",
           335000
          ],
          [
           "Cube",
           "Двухподвесный велосипед",
           374850
          ],
          [
           "Format",
           "Велосипед любительского уровня",
           43200
          ],
          [
           "Cube",
           "Двухподвесный велосипед",
           null
          ],
          [
           "Trek",
           "Профессиональный двухподвесный велосипед",
           null
          ],
          [
           "Format",
           "Велосипед любительского уровня",
           41100
          ],
          [
           "Bear Bike",
           "Электровелосипед",
           98600
          ],
          [
           "Cube",
           "Гравийный велосипед",
           239760
          ],
          [
           "Giant",
           "Электровелосипед",
           719990
          ],
          [
           "Eltreco",
           "Электровелосипед",
           89910
          ],
          [
           "Colnago",
           "Шоссейный велосипед",
           1421500
          ],
          [
           "Cube",
           "Электровелосипед",
           null
          ],
          [
           "Cube",
           "Городской велосипед",
           null
          ],
          [
           "Cube",
           "Шоссейный велосипед",
           null
          ]
         ],
         "hovertemplate": "<b>%{hovertext}</b><br><br>Кластер=1<br>x=%{x}<br>y=%{y}<br>brand=%{customdata[0]}<br>category=%{customdata[1]}<br>price=%{customdata[2]}<extra></extra>",
         "hovertext": [
          "Cube Flying Circus (2022)",
          "Aspect Allroad Pro (2025)",
          "Aspect Pathway (2025)",
          "Aspect Glider (2025)",
          "Aspect Allroad (2025)",
          "Aspect Allroad Elite (2025)",
          "Stinger Gravix STD (2024)",
          "Aspect Aura Pro (2025)",
          "Format 5211 (2024)",
          "Cube Stereo One55 C:62 SLX 29 (2024)",
          "Welt De' Viant (2025)",
          "Aspect Alma Elite 27 (2025)",
          "Aspect Aura (2025)",
          "Welt G90 (2025)",
          "Welt Stroke (2025)",
          "Stark Gravel 700.5 D (2024)",
          "Aspect Alma HD (2023)",
          "Atom Symbiotic Speed (2024)",
          "Stark Tactic FS 29.4 HD (2024)",
          "Welt G80 (2025)",
          "Superior X-Road 6.2 GR (2024)",
          "Stinger Gravix FS (2024)",
          "Welt G-Air (2025)",
          "Stark Tactic FS 27.4 HD (2024)",
          "Cube Stereo One22 C:62 TM 29 (2025)",
          "Giant Anthem Advanced Pro 29 0 (2022)",
          "Stinger Gravix Evo (2024)",
          "Eltreco e-ALFA (2020)",
          "Bear Bike Ekb (2021)",
          "Fixie Backspin Zehus (2024)",
          "Specialized Stumpjumper Comp (2024)",
          "Hagen GR10 (2025)",
          "Gelbert Ran 1 ST (2025)",
          "Superior X-Road Issue Disc (2024)",
          "Polygon Siskiu D5 27,5 (2025)",
          "Format 2323 (2024)",
          "Polygon Siskiu T8 29 (2025)",
          "Welt G100 (2025)",
          "Hagen GR9 (2025)",
          "Polygon Siskiu D6 29 (2025)",
          "Hagen GR10 Air (2025)",
          "Superior XF 939 RC (2024)",
          "Gelbert Ran Star 1 ST (2025)",
          "Polygon Siskiu T7 29 (2025)",
          "Superior XF 919 RC (2024)",
          "Gelbert Ran 2 ST (2025)",
          "Haro Shift R5 29 (2021)",
          "Gelbert Dors 1 ST (2025)",
          "Hagen GR20 (2025)",
          "Scott Spark 960 (2024)",
          "Format 2322 (2024)",
          "Welt Enzo (2025)",
          "Welt Sienna 3.0 HD (2025)",
          "Stark Tactic FS LT 27.5 HD (2024)",
          "Polygon Siskiu D7 29 (2025)",
          "Atom Vibes Seven 20 (2024)",
          "Haro Shift R7 29 (2021)",
          "Polygon Path X4 (2025)",
          "Pardus Robin Sport Rim 105 (2024)",
          "Scott Spark 950 (2024)",
          "Atom Tundra Pro (2024)",
          "Electra Loft Go! 7D EQ Step Over (2024)",
          "Scott Spark 930 (2024)",
          "Stark Viva 27.3 HD (2025)",
          "Scott Spark 970 (2024)",
          "Atom Vibes Seven 50 (2024)",
          "Polygon Siskiu D6 27,5 (2025)",
          "Polygon Heist X2 (2025)",
          "Polygon Siskiu T7 27.5 (2025)",
          "Polygon Siskiu T8 27.5 (2025)",
          "Stark Viva 27.2 HD (2025)",
          "Atom Symbiotic Speed Lady (2024)",
          "Gelbert Ran 3 Pro (2025)",
          "Haibike Trekking 10 Unisex 625Wh (2024)",
          "Stark Pusher Pro HD (2025)",
          "Gelbert Alfa 1 ST (2025)",
          "Stark Gravel 700.2 D (2025)",
          "Atom Vibes Seven LTD (2024)",
          "Stark Viva 27.5 HD (2024)",
          "Polygon Path 3 Gent (2025)",
          "KTM Scarp MT Master (2024)",
          "Gelbert Saturn Dual Pro (2025)",
          "Polygon Heist X5 (2025)",
          "Gelbert Dors 2 Pro (2025)",
          "KTM Scarp MT Pro (2024)",
          "Polygon Path F4 (2025)",
          "Gelbert Ran Star 3 Pro (2025)",
          "Stark Viva 27.5 HD (2025)",
          "KTM Prowler 1964 (2024)",
          "Stark Gravel 700.3 D (2025)",
          "Gelbert Dors 3 Pro (2025)",
          "Gelbert Saturn 1 ST (2025)",
          "Stark Ultra 27.6 HD (2025)",
          "Gelbert Saturn 4 Ultra (2025)",
          "Superior XF 929 RC (2024)",
          "Gelbert Ran Star 2 Pro (2025)",
          "Gelbert Alfa 3 Pro (2025)",
          "Gelbert Saturn 3 Pro Max (2025)",
          "Gelbert Alfa 2 Pro (2025)",
          "Masi Brunello R10 (2025)",
          "Superior X-Road Comp (2024)",
          "Titan Racing Switch Comp (2024)",
          "Scott Addict RC 15 (2023)",
          "Atom Dabomb (2024)",
          "Superior X-Road 9.5 GF (2025)",
          "Superior X-Road 9.3 GF (2025)",
          "Titan Racing Skyrim Expert (2024)",
          "Haro Lxi Flow 3 ST (2021)",
          "Superior X-Road 6.3 GF (2025)",
          "Scott Spark 960 (2022)",
          "KTM Macina Lycan 771 (2024)",
          "Titan Racing Valerian Comp (2024)",
          "KTM Scarp MT Prime (2024)",
          "KTM Macina Kapoho 7971 (2024)",
          "Rock Machine Blizzard TRL 70-29 (2024)",
          "Haro Shift R7 27.5 (2021)",
          "Sunpeed Kepler (2024)",
          "Gelbert Pegas 3 Dual Pro (2025)",
          "Медведь Fold 750 HD (2024)",
          "Superior XF 979 RC (2024)",
          "Sunpeed Unvierse (2024)",
          "Медведь Fold 750x750 HD (2023)",
          "KTM X-Life 1964 Cross Lady (2024)",
          "Gelbert Navi 2 Pro (2025)",
          "Медведь Fold MS 750 HD (2024)",
          "KTM Scarp 294 (2024)",
          "Scott Spark 970 (2023)",
          "Gelbert Pegas 1 Pro (2025)",
          "Sunpeed Space 27.5\" (2024)",
          "KTM Macina Mini Me SX 26 (2024)",
          "Haro Shift R5 27.5 (2021)",
          "Polygon Trid (2025)",
          "Polygon Bend R7 700 (2025)",
          "KTM Macina Kapoho Master (2024)",
          "Sunpeed Victory (2024)",
          "Gelbert Alcor (2025)",
          "KTM Scarp Master (2024)",
          "Polygon Tambora G7 (2025)",
          "KTM Macina Prowler Elite (2024)",
          "Gelbert Ran 4 Pro (2025)",
          "Sunpeed Leader 29\" (2024)",
          "Медведь Fold M 750 HD (2024)",
          "Polygon Strattos S4D (2025)",
          "Polygon Strattos S7D (2025)",
          "Polygon Siskiu DSE 29 (2025)",
          "KTM Macina Team 791 (2024)",
          "KTM Macina Style 730 Man (2024)",
          "Polygon Trid ZZ (2025)",
          "Electra Ponto Go! (2024)",
          "KTM Macina Sport CX 750 LTD 64 Man (2024)",
          "Gelbert Hydra (2025)",
          "KTM Prowler Master (2024)",
          "Gelbert Moon (2025)",
          "KTM Macina Tour P500 LTD 64 (2024)",
          "Polygon Tambora A4 (2025)",
          "Gelbert Pegas 2 Ultra (2025)",
          "Gelbert Pegas 4 Dual Pro Max (2025)",
          "Polygon Cleo 2 27.5 (2025)",
          "Electra Cruiser Go! Step Thru Bali (2022)",
          "KTM Macina Race 572 (2024)",
          "KTM Macina Aera 671 (2024)",
          "KTM Macina Style 730 Lady (2024)",
          "Sunpeed Kepler Pro (2024)",
          "KTM Macina Gran 610 Man (2024)",
          "KTM Macina Aera P571 Street (2024)",
          "KTM Macina Gran 610 Lady (2024)",
          "KTM Macina Aera 571 LFC (2024)",
          "Медведь Fold 1000 HD (2023)",
          "Scott Spark 950 (2022)",
          "Polygon Path X5 (2025)",
          "KTM Macina Kapoho 7973 (2023)",
          "Медведь 2.0 Fold 750 (2023)",
          "Polygon Zeta 2 (2025)",
          "Polygon Bend R9X 700 (2025)",
          "Gelbert Saturn 5 Ultra (2025)",
          "KTM Macina Race 592 Glorious (2024)",
          "Gelbert Saturn 2 Pro (2025)",
          "Gelbert Emojo (2025)",
          "KTM Macina Race 572 Glorious (2024)",
          "KTM Macina Gran P510 Lady (2024)",
          "Welt Bianca 2.0 27 HD (2025)",
          "Atom Symbiotic Cross (2024)",
          "Rock Machine Gravelride 200 (2024)",
          "Atom Symbiotic Cross Lady (2024)",
          "Format 1443 700C (2024)",
          "Welt G110 (2025)",
          "Stark Gravel 700.3 D (2024)",
          "Rock Machine Blizzard TRL 30-29 (2024)",
          "Scott Spark 970 (2022)",
          "Stels Miss 6100 D V010 (2023)",
          "Hagen Queen 8 27.5 (2025)",
          "Stark Tactic FS LT 29.5 HD (2024)",
          "Hagen Queen 9 27.5 (2025)",
          "Novatrack Fatbike 24\" SUV (2022)",
          "Aspect Alma HD (2022)",
          "Superior X-Road Comp GR (2024)",
          "Welt Floxy 1.0 HD 26 (2024)",
          "Volteco Flex (2020)",
          "Aspect Aura (2022)",
          "Polygon Siskiu D7 27.5 (2025)",
          "Merida Matts 7.10-D (2021)",
          "Giant Tempt 2 27,5 (2022)",
          "Stark Tactic FS 29.5 HD (2022)",
          "Titan Racing Skyrim Dash (2024)",
          "Forward Flare 27,5 2.0 Disc (2021)",
          "Welt Ranger 4.0 27 (2022)",
          "Welt G100 (2024)",
          "Atom Tundra X10 (2023)",
          "Format 5221 (2021)",
          "Hagen Cr-Mo GR10 Air (2024)",
          "Haro Beasley 27.5 DLX (2021)",
          "Hagen GR10 Air (2024)",
          "Gelbert Navi 1 Pro (2025)",
          "Forward Raptor 27.5 1.0 (2021)",
          "Eltreco Sporto Folding 20\" (2024)",
          "Giant Tempt 2 29 (2022)",
          "Merida Crossway 10-D Lady (2022)",
          "Forward Apache E-350 27.5 (2022)",
          "Bianchi Oltre RC Dura Ace Di2 12S (2024)",
          "Stinger Vega Evo 29\" (2021)",
          "Bianchi Aria Aero Ultegra (2024)",
          "Haibike Hybe 11 750Wh (2024)",
          "Titan Racing Transporter Berlin (2024)",
          "Stinger Magnum Team 27.5\" (2024)",
          "Titan Racing Rogue Calypso Ryde (2024)",
          "Titan Racing Transporter Madison (2024)",
          "Haibike Hybe 10.5 720Wh (2024)",
          "Titan Racing Nitric Dash (2024)",
          "Atom Dabomb SS (2024)",
          "Haibike Lyke CF 11 430Wh (2024)",
          "Superior X-Road 6.5 GR (2025)",
          "Superior X-Road 9.7 GR (2025)",
          "Titan Racing Nitric Sport (2024)",
          "Format 2221 (2024)",
          "Titan Racing Rogue Calypso Cruz (2024)",
          "KTM Prowler Exonic (2024)",
          "Haibike Alltrail 3 750Wh (2024)",
          "Welt Highway 700 lady (2024)",
          "Rock Machine Blizzard XCM 70-29 (2024)",
          "Haibike Alltrack 6 29 750Wh (2024)",
          "Welt Sienna 2.0 HD (2025)",
          "Scott Spark 940 (2024)",
          "Aspect Covenant (2025)",
          "Atom Tundra LTD (2024)",
          "Haibike Allmtn CF 11 750Wh (2024)",
          "Rock Machine Blizzard XCM 30-29 (2024)",
          "Welt Monza 2.0 HD (2025)",
          "Bianchi Arcadex GRX810 Di2 (2024)",
          "Polygon Bend R9X 700 (2023)",
          "Haibike Alltrack 4 29\" 500Wh (2024)",
          "Hagen GR20 Air (2025)",
          "Colnago G3-X Disc GRX820 (2024)",
          "Hagen HG9 (2025)",
          "Медведь 3.0 1000 (2023)",
          "Haibike Trekking S 9 Trapez 500Wh (2024)",
          "Welt Horizon (2024)",
          "Pardus Explore Sport MD (2024)",
          "Медведь Prime (2023)",
          "Медведь Fold 1000 (2023)",
          "Colnago V4Rs Disc Ultegra Di2 12v (2024)",
          "Welt G80 (2024)",
          "Rock Machine Catherine 20-29 (2024)",
          "Bianchi Arcadex Pro GRX822 (2024)",
          "Rock Machine Catherine CRB 20-29 (2024)",
          "Haibike Alltrail 10 29\" 750Wh (2024)",
          "Welt Monza 3.0 HD (2025)",
          "Haibike Trekking 11 High 750Wh (2024)",
          "Haibike Allmtn CF SE 750Wh (2024)",
          "Bianchi Impulso Comp Disc GRX822 (2024)",
          "Gelbert Navi 3 Pro (2025)",
          "Bianchi Sprint ICR Disc 105 12v VR30 (2024)",
          "Forward Impulse 28 X D (2022)",
          "Format 9213 (2023)",
          "Aspect Aura (2024)",
          "Hagen Queen 10 27.5 (2025)",
          "Stark Gravel 700.1 D (2023)",
          "Haibike Hybe 9 750Wh (2024)",
          "Pardus Legend Sport Disc (2024)",
          "Polygon Bend R2 27.5 (2023)",
          "Colnago V3 Disc 105 (2024)",
          "Colnago G3-X Disc GRX822 (2024)",
          "Haibike Trekking 7 Trapez 630Wh (2024)",
          "Stels Miss 5000 D 26\" V020 (2023)",
          "Pardus Uragano Sport MD 105 (2024)",
          "Pardus Spark Sport Disc 105 (2024)",
          "Scott Contessa Active 40 27.5 (2022)",
          "Haibike Allmtn 3 720Wh (2024)",
          "Haibike Allmtn CF 8 NX Eagle 750Wh (2024)",
          "Bianchi Oltre Comp Disc Ultegra Di2 (2024)",
          "Haibike Allmtn CF 8 SX Eagle 750Wh (2024)",
          "KTM Chester (2020)",
          "Haibike Allmtn 2 720Wh (2024)",
          "Polygon Siskiu DSE 29 (2023)",
          "Polygon Siskiu D6 29 (2023)",
          "Welt G110 (2024)",
          "KTM X-Life 1964 Cross Man (2024)",
          "Polygon Bend R7 700 (2023)",
          "Pardus Spark Evo Rim 105 (2024)",
          "Electra Townie Go! 7D EQ Step Over (2024)",
          "Ruff Cycles Lil' Buddy Edge (2024)",
          "Sunpeed Astro (2024)",
          "Polygon Siskiu T7 29 (2023)",
          "Welt Wave (2024)",
          "Haibike Adventr SS 720Wh (2024)",
          "Welt G90 (2024)",
          "Polygon Siskiu D7 27.5 (2023)",
          "Polygon Siskiu T8 29 (2023)",
          "Electra Loft Go! 7D EQ Step Thru (2024)",
          "Merida Crossway Urban 50 Lady (2023)",
          "Merida One-Twenty 9.6000 (2019)",
          "Polygon Path X4 (2023)",
          "Cube Stereo One22 Pro 29 (2025)",
          "Colnago V4 Ultegra Di2 12v (2024)",
          "Scott Contessa Active 20 29 (2022)",
          "Scott Contessa Active 40 29 (2022)",
          "Pardus Spark RS Disc 105 (2024)",
          "Colnago Colnago V3 Disc 105 Di2 (2024)",
          "Polygon Siskiu D5 27,5 (2023)",
          "Scott Ransom 930 (2022)",
          "Pardus Spark Evo Disc Rival eTap AXS (2024)",
          "Colnago V4 105 Di2 12v (2024)",
          "KTM Macina Kapoho Elite (2024)",
          "Polygon Heist X2 (2023)",
          "Медведь Nano (2023)",
          "Merida JULIET 7.100 (2018)",
          "Haibike Adventr 9 720Wh (2024)",
          "Haibike Allmtn CF 9 750Wh (2024)",
          "KTM Macina Kapoho LTD 64 (2024)",
          "KTM Macina Race 592 (2024)",
          "Stinger Vega Evo 27.5\" (2024)",
          "Haibike Alltrack 7 29\" 750Wh (2024)",
          "Colnago G3X Disc GRX810 Zonda (2024)",
          "Hagen GR9 (2024)",
          "Polygon Cleo 2 27.5 (2023)",
          "Cube Flying Circus (2025)",
          "KTM Macina Aera 771 LFC Lady (2024)",
          "Polygon Path 3 Gent (2023)",
          "KTM Macina Gran 710 ABS Lady (2024)",
          "KTM Macina Gran 710 ABS Man (2024)",
          "Format 5342 (2024)",
          "Polygon Heist X7 (2025)",
          "Intro Ralf 500 (2024)",
          "KTM Macina Tour CX 625 LTD 64 Man (2024)",
          "Cube Stereo Hybrid 140 HPC Bosch 10th Anniversary 625 29 (2021)",
          "Cube Aerium C:68X SLT (2025)",
          "Merida Silex 400 (2022)",
          "KTM X-Life Race Man (2024)",
          "Rock Machine Blizzard 90-297 RZ (2024)",
          "Merida Crossway Urban 50 (2023)",
          "Cube Nutrail Hybrid 500 (2019)",
          "Merida One-Forty 800 (2021)",
          "Welt Escape (2024)",
          "Superior X-Road Elite GR (2024)",
          "Cube SL Road (2022)",
          "Cube Nuroad C:62 Pro (2025)",
          "Polygon Path X5 (2023)",
          "Format 5211 27.5 (2023)",
          "Superior X-Road Team Issue (2024)",
          "Merida MATTS 6.20-D (2018)",
          "Bianchi Oltre XR4 CV Ultegra Di2 (2024)",
          "Merida Crossway XT-Edition (2021)",
          "Merida Silex 600 (2022)",
          "Merida Crossway 50 (2023)",
          "Stark Gravel 700.1 D (2024)",
          "Merida Speeder 300 (2020)",
          "Scott Addict 10 (2022)",
          "Cube Hyde Pro (2025)",
          "Haibike Alltrail 6 27.5\" 750Wh (2024)",
          "Welt Highway 700 (2024)",
          "Bear Bike Riga (2022)",
          "Bianchi Zolder Pro GRX610 (2024)",
          "Merida Silex 4000 (2021)",
          "Bianchi Aria E-Road Disc Ultegra (2024)",
          "Scott Addict RC 15 (2022)",
          "Cube Kathmandu Pro (2025)",
          "Cube Access WS EXC 27.5 (2024)",
          "Stinger Gravix STD (2023)",
          "Superior X-Road 6.5 GF (2025)",
          "Merida Scultura 4000 (2022)",
          "Merida eOne-Sixty 10K 29\"/27.5\" (2022)",
          "Merida Crossway 10-D 2022 (2022)",
          "Merida Crossway 300 (2021)",
          "Cube Attain C:62 Race (2025)",
          "Cube Nuroad EX (2025)",
          "Trek Roscoe 7 27,5\" (2020)",
          "Merida One-Twenty 7.400 (2019)",
          "Merida eONE-Twenty 600 (2019)",
          "Colnago C68 Gravel Disc Force AXS (2024)",
          "Scott Contessa Scale 930 (2024)",
          "Colnago V3 Disc Ultegra Di2 (2024)",
          "Haibike Alltrack 6 27.5\" 720Wh (2024)",
          "Giant Revolt 1 (2022)",
          "Merida One-Twenty 600 (2022)",
          "Scott Voltage YZ 0.1 (2022)",
          "Trek Marlin 5 29\" (2022)",
          "Electra Cruiser Go! Step Thru (2022)",
          "Forward Tsunami 29 2.0 Disc 500 W (2021)",
          "Superior X-Road Team Comp GR (2024)",
          "Atom Dabomb (2022)",
          "Cube Nature (2023)",
          "Pardus Robin Evo Disc Ultegra Di2 (2024)",
          "Scott Genius 940 (2023)",
          "Merida eBIG.Nine 500 (2019)",
          "Scott Contessa Active 10 29 (2024)",
          "Haibike Hardseven 9 625Wh (2024)",
          "Trek Domane AL 4 Disc (2022)",
          "Медведь Cargo Plus 500 (2024)",
          "Aspect Alma HD (2024)",
          "Trek 920 (2019)",
          "Медведь Cruise (2023)",
          "Scott Addict RC 30 (2023)",
          "Stinger Vancouver Pro (2021)",
          "Trek Session 8 29 GX (2022)",
          "Scott Patron eRide 900 Ultimate (2022)",
          "Stinger Laguna Pro 26\" (2023)",
          "Forward Everest 29 X D (2024)",
          "Shulz Boys Don’t Cry (2021)",
          "Voltrix Bizon (2021)",
          "Shulz Wanderer (2021)",
          "Cube Nuroad Race (2025)",
          "Stinger Gravix Evo (2023)",
          "Cube Nature Pro Allroad (2025)",
          "Cube Flying Circus (2023)",
          "Hagen HG10 (2025)",
          "Trek Verve 3 Disc (2020)",
          "Cube Nuroad One (2025)",
          "Stark GRL 700.5 D (2025)",
          "Cube TWO15 Race 27.5 (2025)",
          "Merida Silex 7000 (2022)",
          "Trek Session 9.9 DH 27.5 Race Shop Limited (2019)",
          "Cube Nuroad Pro (2024)",
          "Cube Nuroad C:62 One (2025)",
          "KTM Macina Prowler Exonic (2024)",
          "Trek FX 2 Disc (2022)",
          "Superior XF 9.9 Team (2024)",
          "Giant STP 26 SS (2022)",
          "Pardus Robin Evo Rim 105 (2024)",
          "Trek Marlin 6 Women's 29 (2021)",
          "Merida MATTS 6.40-D (2018)",
          "Format 5211 700С (2023)",
          "Aspect FORCE (2021)",
          "Ruff Cycles The Ruffian (2024)",
          "Trek Powerfly FS 4 625 W 29\" (2022)",
          "Polygon Heist X5 (2023)",
          "Cube Nulane Pro (2025)",
          "Giant STP 26 (2021)",
          "Cube Touring Pro (2025)",
          "Cube Nuroad FE (2024)",
          "Trek Powerfly FS 7 29\" (2022)",
          "Hoverbot CB-8 Quper (2019)",
          "Stark Fat 26.2 HD (2023)",
          "Trek Dual Sport 3 (2022)",
          "Haro Thread Slope (2021)",
          "Aspect Force (2022)",
          "Shulz E-GOA (2021)",
          "Trek Farley 5 (2022)",
          "Polygon Heist X7 (2023)",
          "Scott Sub Cross 50 Men (2022)",
          "Superior X-Road 9.7 GF (2025)",
          "Cube Attain C:62 SLX (2025)",
          "Merida Big.Seven 500 (2020)",
          "Stark GRL 700.6 HD (2025)",
          "Cube Kathmandu Pro (2023)",
          "Format 9212 (2023)",
          "Welt Rockfall SE Plus (2022)",
          "Stark Pusher Pro (2024)",
          "Cube Nature SL (2022)",
          "Polygon Zeta 2 (2023)",
          "Merida Big.Seven 20-D (2020)",
          "Cube AMS Zero99 C:68X Race 29 (2025)",
          "Aspect Air Grand Tour 29 (2022)",
          "Welt Floxy 1.0 HD 27 (2024)",
          "KTM Scarp Elite (2024)",
          "Format 9212 (2022)",
          "Specialized Stumpjumper Evo Comp (2024)",
          "Cube Nuroad Pro (2023)",
          "Scott Aspect 730 (2020)",
          "Stinger Reload Pro 27.5\" (2020)",
          "Volteco Shrinker II (2019)",
          "Trek Farley 9.6 (2019)",
          "Merida Big.Nine 40 (2020)",
          "Hiper Engine Fold X1 (2022)",
          "Cube Nuroad Pro FE (2024)",
          "Cube Nuroad Race (2024)",
          "Specialized Stumpjumper Alloy (2024)",
          "Trek Fuel EX 8 29\" (2022)",
          "Giant Momentum iRide Rocker 1 (2018)",
          "Haro Lxi Flow 3 (2021)",
          "Giant Revolt Advanced 3 (2022)",
          "Electra Townie Go! 7D Step Thru (2022)",
          "Format 2222 (2024)",
          "Aspect EDGE (2021)",
          "Cube Litening Aero C:68X Race (2025)",
          "Superior X-Road Team Issue SE (2024)",
          "Scott Contessa Active 10 27.5 (2024)",
          "Cube Stereo Hybrid 140 HPC SL 750 29 (2022)",
          "Stinger Vega Evo 29\" (2024)",
          "Polygon Trid ZZ (2023)",
          "Giant Roam 3 Disc (2022)",
          "Merida Silex 700 (2021)",
          "Tern Eclipse X22 (2021)",
          "Welt Edelweiss 2.0 HD 27 (2024)",
          "Cube Stereo Hybrid 160 HPC Actionteam 750 27.5 (2023)",
          "Haro Thread Slope (2019)",
          "Scott Contessa Spark 920 (2022)",
          "Scott Addict Gravel Tuned (2022)",
          "Cube Kathmandu SLX Lady (2025)",
          "Atom Tundra X11 (2023)",
          "Welt G80 (2023)",
          "Cube Nature Pro (2025)",
          "Cube Nuroad C:62 EX (2025)",
          "Forward Dundee E-250 20 (2022)",
          "Медведь 2.0 HD 750 (2023)",
          "Cube Nuroad C:62 SLT (2025)",
          "Cube Nature One Allroad (2025)",
          "Volteco Bad Dual (2024)",
          "Electra Ghostrider Go! (2022)",
          "Scott Contessa Spark RC World Cup (2022)",
          "Merida Silex 7000 (2020)",
          "Welt G90 (2023)",
          "Polygon Trid (2023)",
          "Cube Cargo Hybrid (2021)",
          "Медведь 2.0 1000 Mid (2023)",
          "Forward Riviera 24 250W (2021)",
          "Electra Cruiser Go! Step Thru Shibori (2022)",
          "Cube Stereo Hybrid 120 Pro 625 29 (2022)",
          "Titan Racing Switch Carbon Comp (2022)",
          "Giant Revolt E+ Pro XR (2021)",
          "Cube Stereo One77 Pro 29 (2024)",
          "Merida Big.Seven 200 (2020)",
          "Forward Volcano 27.5 2.0 Disc 250W (2021)",
          "Cube Stereo One55 C:62 Race 29 (2024)",
          "Stinger Zeta Pro 29\" (2020)",
          "Polygon Path E5 Lady (2023)",
          "Aspect ION (2021)",
          "Format 9212 (2021)",
          "Медведь FatTruck 500 (2023)",
          "Format 5342E (2021)",
          "Cube Attain Race (2025)",
          "Voltrix VCSB (2021)",
          "Scott Addict Gravel 10 (2022)",
          "Format 7713 27.5 (2022)",
          "Superior X-Road Team Comp (2024)",
          "Hiper Engine Nova D1 (2022)",
          "Медведь 2.0 HD 1500 (2023)",
          "Haibike HardNine 5 500Wh (2024)",
          "Cube TWO15 Race 27.5 (2023)",
          "Cube Reaction Hybrid ABS 750 29 (2023)",
          "Haro Thread Slope (2020)",
          "Cube Nuroad Race FE (2025)",
          "Scott Voltage YZ 10 (2018)",
          "Hagen Cr-Mo GR11 Apex (2024)",
          "Hagen GR20 Air (2024)",
          "Cube Stereo One77 C:68X SLT 29 (2024)",
          "Cube Stereo Hybrid 140 HPC Race 625 29 (2022)",
          "Stels Miss 5000 D 26\" K010 (2023)",
          "Cube Nutrail (2020)",
          "Cube Race One 29 (2019)",
          "Welt VIGO (2018)",
          "Haibike Allmtn 4 750Wh (2024)",
          "Cube Agree C:62 One (2025)",
          "Cube Attain C:62 SLT (2025)",
          "Cube Nuroad C:62 Race (2025)",
          "Cube Nature One (2025)",
          "Forward Cyclone 26 2.0 Disc 250W (2021)",
          "Stinger Vega Evo 27\" (2021)",
          "Haibike Nduro 8 Freeride 750Wh (2024)",
          "Trek Dual Sport 2 Women's (2021)",
          "Trek Police (2018)",
          "Aspect Edge (2022)",
          "Cube Aerium C:68X SLX (2025)",
          "Cube Touring ONE (2021)",
          "Ghost Road Rage Base (2021)",
          "Scott Aspect eRide 910 (2022)",
          "Медведь Urban (2023)",
          "Cube Nuroad (2024)",
          "Welt Rockfall 2.0 29 (2019)",
          "Cube Nuroad Race FE (2023)",
          "Format 1314 Plus (2020)",
          "Cube Nutrail Race (2018)",
          "Eltreco e-ALFA (2018)",
          "Cube Cross Race Pro (2024)",
          "Aspect AIR 27.5 (2019)",
          "Stinger Magnum Park 27.5\" (2024)",
          "Merida Big.Seven 15-D (2020)",
          "Welt Freedom 27 E-Plus (2018)",
          "Scott Scale RC 900 Pro (2020)",
          "Cube Race One 29 (2021)",
          "Hiper Engine B54 (2022)",
          "Scott E-Spark 720 (2018)",
          "Merida Silex 600 (2021)",
          "Cube Attain SLX (2025)",
          "Cube Agree C:62 Race (2025)",
          "Merida BIG.NINE 9000 (2019)",
          "Merida Mission CX 400 (2021)",
          "Bergamont Sweep 4 EQ (2021)",
          "Cube Litening C:68X SL (2021)",
          "Haibike FullFatSix (2021)",
          "Welt G80 (2021)",
          "Cube Stereo Hybrid 140 HPC SLX 750 29 (2023)",
          "Cube Agree C:62 SLX (2025)",
          "Electra Cruiser Go! Step Over (2022)",
          "Titan Racing Switch Carbon Elite (2022)",
          "Stinger Quest Pro 27.5\" (2020)",
          "Scott Voltage YZ 0.1 (2020)",
          "Merida Silex+ 6000 (2021)",
          "Merida eSilex +600 (2021)",
          "Trek Farley 9.8 (2018)",
          "Colnago TT1 Disc Sram Red eTap AXS (2024)",
          "Aspect Oasis HD (2022)",
          "Merida Big.Nine 4000 (2020)",
          "Scott Genius eRide 920 (2022)",
          "Медведь 2.0 1500 (2023)",
          "Cube Touring One (2025)",
          "Welt Edelweiss 3.0 HD 27 (2024)",
          "Cube Nature EXC Allroad (2025)",
          "Forward Dundee 20 250w (2021)",
          "Cube Nuroad C:62 SL (2023)",
          "Cube Kathmandu SLX (2025)",
          "Crolan 500W (2019)",
          "Cube Stereo 150 C:68 SLT 29 (2021)",
          "Bianchi Aria Aero Sram Rival AXS (2024)",
          "Giant Revolt Advanced Pro 0 (2022)",
          "Rock Machine Gravelride 500 (2024)",
          "Volteco Cyber (2024)",
          "Merida Silex 400 (2021)",
          "Kalkhoff Jubilee Advance 17R (2018)",
          "Cube Nuroad EX (2024)",
          "Specialized Epic Evo (2024)",
          "Polygon Strattos S7D (2023)",
          "Aspect Discovery (2022)",
          "Giant Escape City Disc 2 (2022)",
          "Aspect NICKEL (2020)",
          "Cube Flying Circus (2021)",
          "Cube Nuroad One FE (2025)",
          "Cube Reaction Hybrid Pro 500 Allroad 29 (2021)",
          "Медведь 2.0 750 (2023)",
          "Cube AMS Zero99 C:68X SLX 29 (2025)",
          "Cube Aerium C:68 SLT Low (2021)",
          "Hoverbot FB-2 (2018)",
          "Trek Lift+ Men's (2018)",
          "Trek Zektor 3 (2018)",
          "Cube Nuroad Race (2023)",
          "Cube Nuroad FE (2023)",
          "Cube Agree C:62 Pro (2025)",
          "Stels Aggressor D 26\" V010 (2019)",
          "Cube Access WS Pro Allroad 29 (2024)",
          "Cube AMS Zero99 C:68X SLT 29 (2025)",
          "Trek Top Fuel 9.8 SL 29 Women's (2018)",
          "Marin Bobcat Trail 3 27.5 (2020)",
          "Cube Stereo Hybrid 160 HPC SLX 750 27.5 (2023)",
          "Cube Stereo One22 C:62 SLT 29 (2025)",
          "Welt Rockfall 1.0 (2018)",
          "Cube Stereo Hybrid 160 C:62 SLT 625 27.5 Nyon (2021)",
          "Cube Cross Race C:62 Pro (2025)",
          "Giant Trance Advanced Pro 29 2 (2022)",
          "Intro Sport (2024)",
          "Eltreco Green City Beta (2022)",
          "Aspect AIR (2018)",
          "Eltreco e-ALFA L (2018)",
          "Superior X-Road Team Elite (2024)",
          "Trek CrossRip+ (2018)",
          "Rock Machine Gravelride CRB 700 (2024)",
          "Superior X-Road Team Issue GR Di2 (2024)",
          "Superior X-Road Team Elite Di2 (2024)",
          "Cube Touring Hybrid Exc 500 (2018)",
          "Scott Aspect 940 (2019)",
          "Scott Aspect 720 (2018)",
          "Scott E-Genius 700 Tuned (2018)",
          "Cube AMS Zero99 C:68X Race 29 (2023)",
          "Pardus Uragano Disc GRX 810 (2024)",
          "Merida Silex 4000 (2022)",
          "Merida eSilex 400 (2022)",
          "Trek Procaliber 9.8 SL 29 (2018)",
          "Scott E-Scale 930 (2018)",
          "Cube Access WS Pro Allroad 29 (2023)",
          "Cube Axial WS GTC SL (2023)",
          "Bianchi Oltre Race 105 Disc (2024)",
          "Giant Revolt X Advanced Pro 1 (2023)",
          "Merida BIG.SEVEN 300 (2018)",
          "Cube Stereo Hybrid 120 Pro 625 29 (2021)",
          "Cube Cross Race C:68X SLT (2025)",
          "Voltrix City Fat 20 (2021)",
          "Cube Nuroad WS C:62 Pro (2024)",
          "Giant Escape Disc 1 (2022)",
          "Merida Big.Seven 40-D (2019)",
          "Scott Contessa Active 30 27.5 (2021)",
          "Format 1411 29 (2020)",
          "Haro Rivon (2021)",
          "Format 5222 CF (2021)",
          "Polygon Helios A7 (2023)",
          "Cube TWO15 Pro 27.5 (2025)",
          "Polygon MT Bromo N7 29 (2023)",
          "Giant Embolden 2 (2018)",
          "Format 1313 Plus (2020)",
          "Cube Nuride Hybrid SL 750 Allroad (2022)",
          "Merida Silex+ Limited (2022)",
          "Cube Nulane Pro (2023)",
          "Cube Nuroad C:62 Race (2024)",
          "Haro Shift Plus i/O 9 (2019)",
          "Kross Level 11.0 (2018)",
          "Trek Top Fuel 9.8 SL 27.5 (2018)",
          "Giant FastRoad-E+ (2018)",
          "Giant Vall-E+ 0 Pro (2018)",
          "Giant Tempt 3 (GE) 29 (2021)",
          "Cube Attention 29 (2018)",
          "Forward Volcano Express E-350 27.5 (2022)",
          "Bianchi Aria Aero 105 Disc (2024)",
          "Cube Nuroad WS C:62 Pro (2022)",
          "Scott Spark 920 (2022)",
          "Format 9213 (2022)",
          "Merida JULIET 7.40-D (2018)",
          "Merida One-Forty 600 (2021)",
          "Cube Hyde Race (2024)",
          "Eccoffect H-SLIM (2018)",
          "Cube Nuroad C:62 SLX (2025)",
          "Cube Nuroad Race (2022)",
          "Scott Addict Gravel 20 (2022)",
          "Giant Revolt Advanced Pro 1 (2022)",
          "Cube Reaction C:62 One 29 (2019)",
          "Aspect ALMA HD (2020)",
          "Aspect AMP (2019)",
          "Merida eSPRESSO 300 (2018)",
          "Cube Aim SL Allroad 29 (2019)",
          "Univega Vision E 1.0 Sky (2018)",
          "Stinger Zeta Pro 27,5\" (2020)",
          "KTM Life Cross Street HE (2019)",
          "Scott Contessa Speedster Gravel 15 (2021)",
          "Giant Embolden 29 1 (2022)",
          "Cube Stereo One22 Pro 29 (2023)",
          "Giant Embolden 2 (2019)",
          "Scott Genius 740 (2018)",
          "Giant EnviLiv Advanced Pro 2 Disc (2021)",
          "Cube Travel Pro (2024)",
          "Welt Edelweiss 1.0 HD (2019)",
          "Cube Touring Pro Easy Entry (2025)",
          "Merida eOne-Sixty 10K 29\"/27.5\" (2021)",
          "Merida JULIET 7.20-D (2018)",
          "Polygon MT Bromo N8 29 (2023)",
          "Eltreco XT 850 Pro (2024)",
          "Cube Kathmandu EXC (2025)",
          "Welt Rockfall 2.0 29er (2018)",
          "Cube Nuroad Pro FE (2022)",
          "Welt FAT Freedom 2.0 (2021)",
          "Giant Escape 1 Disc (2021)",
          "Polygon Path E5 Gent (2023)",
          "Aspect NICKEL (2019)",
          "Cube Reaction Hybrid Race 500 29 (2018)",
          "Cube Town Hybrid Exc 500 Easy Entry (2018)",
          "Cube Nature Hybrid EXC 500 Allroad Trapeze (2021)",
          "Cube Travel Pro (2023)",
          "Cube Nuride Hybrid Performance 625 Allroad Easy Entry (2023)",
          "Merida eSPRESSO CITY 900 EQ (2018)",
          "Trek Marlin 6 29 (2018)",
          "Cube Nuroad EX (2022)",
          "Cube Hyde (2024)",
          "Cube Nulane One (2025)",
          "Scott Contessa Spark 930 (2022)",
          "Stinger Laguna Pro 27.5\" (2023)",
          "Cube Stereo One55 C:62 SLT 29 (2024)",
          "Scott Roxter 600 (2019)",
          "Trek Lift+ Lowstep (2018)",
          "Cube Nature EXC Allroad (2023)",
          "Cube Nuride Hybrid Pro 625 Allroad (2023)",
          "Format 7711 27.5 (2023)",
          "Scott Aspect 750 (2018)",
          "Giant ATX Elite 0 (2019)",
          "Giant Revolt 0 (2022)",
          "Giant Contend AR 1 (2021)",
          "Kross Evado 5.0 (2018)",
          "Tern Vektron P9 (2019)",
          "Bianchi Sprint ICR Disc 105 (2024)",
          "Cube Stereo One22 Race 29 (2025)",
          "Format 1411 29 (2019)",
          "Cube AMS One11 C:68X Pro 29 (2025)",
          "Trek Session 8 27.5 (2018)",
          "Format 1411 29 (2018)",
          "Bear Bike Vienna (2021)",
          "Cube Nuroad C:62 Pro (2022)",
          "Giant Reign E+ 1 (2022)",
          "Eltreco Walter (2024)",
          "Colnago C68 Disc Force AXS (2024)",
          "Cube Touring Hybrid Pro 625 (2023)",
          "Cube Editor (2024)",
          "Cube Litening Aero C:68X SLX (2025)"
         ],
         "legendgroup": "1",
         "marker": {
          "color": "#EF553B",
          "symbol": "circle"
         },
         "mode": "markers",
         "name": "1",
         "showlegend": true,
         "type": "scattergl",
         "x": {
          "bdata": "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",
          "dtype": "f4"
         },
         "xaxis": "x",
         "y": {
          "bdata": "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",
          "dtype": "f4"
         },
         "yaxis": "y"
        },
        {
         "customdata": [
          [
           "Aspect",
           "Горный велосипед",
           45990
          ],
          [
           "Aspect",
           "Горный велосипед",
           76990
          ],
          [
           "Aspect",
           "Горный велосипед",
           49990
          ],
          [
           "Aspect",
           "Горный велосипед",
           53990
          ],
          [
           "Stels",
           "Горный велосипед",
           52660
          ],
          [
           "Aspect",
           "Горный велосипед",
           89990
          ],
          [
           "Aspect",
           "Горный велосипед",
           62990
          ],
          [
           "Aspect",
           "Горный велосипед",
           57990
          ],
          [
           "Aspect",
           "Горный велосипед",
           41990
          ],
          [
           "Welt",
           "Горный велосипед",
           59990
          ],
          [
           "Aspect",
           "Горный велосипед",
           119990
          ],
          [
           "Stels",
           "Горный велосипед",
           23730
          ],
          [
           "Aspect",
           "Горный велосипед",
           79990
          ],
          [
           "Aspect",
           "Горный велосипед",
           45990
          ],
          [
           "Stels",
           "Горный велосипед",
           39720
          ],
          [
           "Stark",
           "Горный велосипед",
           44990
          ],
          [
           "Stinger",
           "Горный велосипед",
           34900
          ],
          [
           "Aspect",
           "Горный велосипед",
           149990
          ],
          [
           "FOXX",
           "Горный велосипед",
           22900
          ],
          [
           "Aspect",
           "Горный велосипед",
           45990
          ],
          [
           "Superior",
           "Горный велосипед",
           140100
          ],
          [
           "Slash",
           "Горный велосипед",
           28500
          ],
          [
           "Stels",
           "Горный велосипед",
           39360
          ],
          [
           "Superior",
           "Горный велосипед",
           159200
          ],
          [
           "Welt",
           "Горный велосипед",
           39990
          ],
          [
           "Stels",
           "Горный велосипед",
           35290
          ],
          [
           "Aspect",
           "Горный велосипед",
           159990
          ],
          [
           "Welt",
           "Горный велосипед",
           47990
          ],
          [
           "Stels",
           "Горный велосипед",
           24430
          ],
          [
           "Aspect",
           "Горный велосипед",
           83990
          ],
          [
           "Welt",
           "Горный велосипед",
           88990
          ],
          [
           "Aspect",
           "Горный велосипед",
           49990
          ],
          [
           "Slash",
           "Горный велосипед",
           29900
          ],
          [
           "Aspect",
           "Горный велосипед",
           41990
          ],
          [
           "Aspect",
           "Горный велосипед",
           99490
          ],
          [
           "Aspect",
           "Горный велосипед",
           124990
          ],
          [
           "Haro",
           "Горный велосипед",
           216600
          ],
          [
           "Aspect",
           "Горный велосипед",
           179990
          ],
          [
           "Aspect",
           "Горный велосипед",
           65990
          ],
          [
           "Aspect",
           "Горный велосипед",
           69990
          ],
          [
           "Forward",
           "Горный велосипед",
           34950
          ],
          [
           "Stinger",
           "Горный велосипед",
           61700
          ],
          [
           "Stinger",
           "Горный велосипед",
           79800
          ],
          [
           "Aspect",
           "Горный велосипед",
           57990
          ],
          [
           "Aspect",
           "Горный велосипед",
           49990
          ],
          [
           "Welt",
           "Горный велосипед",
           108990
          ],
          [
           "Welt",
           "Горный велосипед",
           59990
          ],
          [
           "Cube",
           "Горный велосипед",
           88200
          ],
          [
           "Slash",
           "Горный велосипед",
           28900
          ],
          [
           "Stels",
           "Горный велосипед",
           36400
          ],
          [
           "Cube",
           "Горный велосипед",
           95550
          ],
          [
           "Cube",
           "Горный велосипед",
           226800
          ],
          [
           "Stels",
           "Горный велосипед",
           34170
          ],
          [
           "Forward",
           "Горный велосипед",
           35980
          ],
          [
           "Stark",
           "Горный велосипед",
           44990
          ],
          [
           "Aspect",
           "Горный велосипед",
           53990
          ],
          [
           "Stark",
           "Горный велосипед",
           34980
          ],
          [
           "Welt",
           "Горный велосипед",
           47990
          ],
          [
           "Stels",
           "Горный велосипед",
           24520
          ],
          [
           "Stinger",
           "Горный велосипед",
           73000
          ],
          [
           "Stinger",
           "Горный велосипед",
           49800
          ],
          [
           "Haro",
           "Горный велосипед",
           75700
          ],
          [
           "Stinger",
           "Горный велосипед",
           57200
          ],
          [
           "Aspect",
           "Горный велосипед",
           73990
          ],
          [
           "Aspect",
           "Горный велосипед",
           45990
          ],
          [
           "Aspect",
           "Горный велосипед",
           179990
          ],
          [
           "Stark",
           "Горный велосипед",
           53190
          ],
          [
           "Stinger",
           "Горный велосипед",
           120000
          ],
          [
           "Stels",
           "Горный велосипед",
           52660
          ],
          [
           "Stark",
           "Горный велосипед",
           43550
          ],
          [
           "Stels",
           "Горный велосипед",
           23730
          ],
          [
           "Stinger",
           "Горный велосипед",
           34900
          ],
          [
           "Stark",
           "Горный велосипед",
           39990
          ],
          [
           "Stels",
           "Горный велосипед",
           34880
          ],
          [
           "Stels",
           "Горный велосипед",
           53580
          ],
          [
           "Welt",
           "Горный велосипед",
           52990
          ],
          [
           "Aspect",
           "Горный велосипед",
           45990
          ],
          [
           "Welt",
           "Горный велосипед",
           43990
          ],
          [
           "Cube",
           "Горный велосипед",
           132300
          ],
          [
           "Superior",
           "Горный велосипед",
           184500
          ],
          [
           "Stels",
           "Горный велосипед",
           42130
          ],
          [
           "Scott",
           "Горный велосипед",
           482690
          ],
          [
           "Welt",
           "Горный велосипед",
           39990
          ],
          [
           "Aspect",
           "Горный велосипед",
           196990
          ],
          [
           "Cube",
           "Горный велосипед",
           102900
          ],
          [
           "Welt",
           "Горный велосипед",
           106990
          ],
          [
           "Welt",
           "Горный велосипед",
           58990
          ],
          [
           "Stinger",
           "Горный велосипед",
           135000
          ],
          [
           "Haro",
           "Горный велосипед",
           68400
          ],
          [
           "Stinger",
           "Горный велосипед",
           57200
          ],
          [
           "Superior",
           "Горный велосипед",
           143100
          ],
          [
           "Aspect",
           "Горный велосипед",
           65990
          ],
          [
           "Stark",
           "Горный велосипед",
           42790
          ],
          [
           "Stinger",
           "Горный велосипед",
           95000
          ],
          [
           "Format",
           "Горный велосипед",
           92500
          ],
          [
           "Welt",
           "Горный велосипед",
           99990
          ],
          [
           "Stark",
           "Горный велосипед",
           41990
          ],
          [
           "Welt",
           "Горный велосипед",
           39990
          ],
          [
           "Forward",
           "Горный велосипед",
           35190
          ],
          [
           "Stels",
           "Горный велосипед",
           46010
          ],
          [
           "FOXX",
           "Горный велосипед",
           31200
          ],
          [
           "Format",
           "Горный велосипед",
           162630
          ],
          [
           "Stinger",
           "Горный велосипед",
           34900
          ],
          [
           "Stinger",
           "Горный велосипед",
           142300
          ],
          [
           "Haro",
           "Горный велосипед",
           178800
          ],
          [
           "Scott",
           "Горный велосипед",
           127000
          ],
          [
           "Haro",
           "Горный велосипед",
           138200
          ],
          [
           "Stark",
           "Горный велосипед",
           50990
          ],
          [
           "Aspect",
           "Горный велосипед",
           62990
          ],
          [
           "Stels",
           "Горный велосипед",
           76120
          ],
          [
           "Cube",
           "Горный велосипед",
           147000
          ],
          [
           "Cube",
           "Горный велосипед",
           117600
          ],
          [
           "Stels",
           "Горный велосипед",
           34970
          ],
          [
           "Stinger",
           "Горный велосипед",
           51500
          ],
          [
           "Welt",
           "Горный велосипед",
           139990
          ],
          [
           "Superior",
           "Горный велосипед",
           238900
          ],
          [
           "Stels",
           "Горный велосипед",
           37880
          ],
          [
           "Stels",
           "Горный велосипед",
           23730
          ],
          [
           "Welt",
           "Горный велосипед",
           88990
          ],
          [
           "Welt",
           "Горный велосипед",
           43990
          ],
          [
           "Stinger",
           "Горный велосипед",
           47800
          ],
          [
           "Atom",
           "Горный велосипед",
           96750
          ],
          [
           "Stinger",
           "Горный велосипед",
           50300
          ],
          [
           "Stinger",
           "Горный велосипед",
           61700
          ],
          [
           "Stinger",
           "Горный велосипед",
           47800
          ],
          [
           "Format",
           "Горный велосипед",
           66590
          ],
          [
           "Atom",
           "Горный велосипед",
           80550
          ],
          [
           "Stels",
           "Горный велосипед",
           37880
          ],
          [
           "Cube",
           "Горный велосипед",
           88200
          ],
          [
           "Hagen",
           "Горный велосипед",
           97190
          ],
          [
           "Welt",
           "Горный велосипед",
           52990
          ],
          [
           "Stinger",
           "Горный велосипед",
           63200
          ],
          [
           "Cube",
           "Горный велосипед",
           162750
          ],
          [
           "Hagen",
           "Горный велосипед",
           70190
          ],
          [
           "Stark",
           "Горный велосипед",
           54990
          ],
          [
           "Hagen",
           "Горный велосипед",
           103040
          ],
          [
           "Stark",
           "Горный велосипед",
           54801
          ],
          [
           "Stark",
           "Горный велосипед",
           50990
          ],
          [
           "Welt",
           "Горный велосипед",
           129990
          ],
          [
           "Stark",
           "Горный велосипед",
           53190
          ],
          [
           "Stark",
           "Горный велосипед",
           39790
          ],
          [
           "Hagen",
           "Горный велосипед",
           65240
          ],
          [
           "Stinger",
           "Горный велосипед",
           210000
          ],
          [
           "Stark",
           "Горный велосипед",
           49990
          ],
          [
           "Format",
           "Горный велосипед",
           59370
          ],
          [
           "Atom",
           "Горный велосипед",
           99000
          ],
          [
           "Welt",
           "Горный велосипед",
           119990
          ],
          [
           "Format",
           "Горный велосипед",
           78000
          ],
          [
           "Titan Racing",
           "Горный велосипед",
           108000
          ],
          [
           "Stels",
           "Горный велосипед",
           140100
          ],
          [
           "Welt",
           "Горный велосипед",
           47990
          ],
          [
           "Stark",
           "Горный велосипед",
           42790
          ],
          [
           "Cube",
           "Горный велосипед",
           102900
          ],
          [
           "Format",
           "Горный велосипед",
           145500
          ],
          [
           "Stinger",
           "Горный велосипед",
           203500
          ],
          [
           "Stark",
           "Горный велосипед",
           54990
          ],
          [
           "Stels",
           "Горный велосипед",
           38800
          ],
          [
           "FOXX",
           "Горный велосипед",
           31200
          ],
          [
           "Superior",
           "Горный велосипед",
           381900
          ],
          [
           "Format",
           "Горный велосипед",
           88500
          ],
          [
           "Stark",
           "Горный велосипед",
           35690
          ],
          [
           "Stels",
           "Горный велосипед",
           59120
          ],
          [
           "Stinger",
           "Горный велосипед",
           73000
          ],
          [
           "Atom",
           "Горный велосипед",
           127800
          ],
          [
           "Welt",
           "Горный велосипед",
           64990
          ],
          [
           "Format",
           "Горный велосипед",
           59370
          ],
          [
           "Hagen",
           "Горный велосипед",
           59390
          ],
          [
           "Stels",
           "Горный велосипед",
           43970
          ],
          [
           "Stels",
           "Горный велосипед",
           56350
          ],
          [
           "Atom",
           "Горный велосипед",
           90000
          ],
          [
           "Hagen",
           "Горный велосипед",
           55340
          ],
          [
           "Hagen",
           "Горный велосипед",
           87740
          ],
          [
           "Stark",
           "Горный велосипед",
           38580
          ],
          [
           "Cube",
           "Горный велосипед",
           95550
          ],
          [
           "Stark",
           "Горный велосипед",
           55790
          ],
          [
           "Format",
           "Горный велосипед",
           64710
          ],
          [
           "Hagen",
           "Горный велосипед",
           128690
          ],
          [
           "Atom",
           "Горный велосипед",
           67050
          ],
          [
           "Format",
           "Горный велосипед",
           62720
          ],
          [
           "Cube",
           "Горный велосипед",
           176400
          ],
          [
           "Hagen",
           "Горный велосипед",
           70190
          ],
          [
           "Format",
           "Горный велосипед",
           126500
          ],
          [
           "Stinger",
           "Горный велосипед",
           120000
          ],
          [
           "Hagen",
           "Горный велосипед",
           62090
          ],
          [
           "Stark",
           "Горный велосипед",
           48990
          ],
          [
           "Stark",
           "Горный велосипед",
           67490
          ],
          [
           "Hagen",
           "Горный велосипед",
           175490
          ],
          [
           "Stinger",
           "Горный велосипед",
           125800
          ],
          [
           "Stinger",
           "Горный велосипед",
           79800
          ],
          [
           "Stark",
           "Горный велосипед",
           37690
          ],
          [
           "Polygon",
           "Горный велосипед",
           95550
          ],
          [
           "Stinger",
           "Горный велосипед",
           95000
          ],
          [
           "Stels",
           "Горный велосипед",
           44590
          ],
          [
           "Hagen",
           "Горный велосипед",
           66140
          ],
          [
           "Scott",
           "Горный велосипед",
           355000
          ],
          [
           "Format",
           "Горный велосипед",
           64710
          ],
          [
           "Stark",
           "Горный велосипед",
           45990
          ],
          [
           "Stark",
           "Горный велосипед",
           58990
          ],
          [
           "Format",
           "Горный велосипед",
           133410
          ],
          [
           "Stinger",
           "Горный велосипед",
           203500
          ],
          [
           "Hagen",
           "Горный велосипед",
           82340
          ],
          [
           "Hagen",
           "Горный велосипед",
           149390
          ],
          [
           "Polygon",
           "Горный велосипед",
           182250
          ],
          [
           "Hagen",
           "Горный велосипед",
           77390
          ],
          [
           "Format",
           "Горный велосипед",
           92500
          ],
          [
           "Format",
           "Горный велосипед",
           78000
          ],
          [
           "Polygon",
           "Горный велосипед",
           91450
          ],
          [
           "Hagen",
           "Горный велосипед",
           87740
          ],
          [
           "Stark",
           "Горный велосипед",
           55740
          ],
          [
           "Stark",
           "Горный велосипед",
           43640
          ],
          [
           "Stark",
           "Горный велосипед",
           63990
          ],
          [
           "Atom",
           "Горный велосипед",
           71100
          ],
          [
           "Format",
           "Горный велосипед",
           126500
          ],
          [
           "Polygon",
           "Горный велосипед",
           165600
          ],
          [
           "Polygon",
           "Горный велосипед",
           214455
          ],
          [
           "Stark",
           "Горный велосипед",
           44170
          ],
          [
           "Stark",
           "Горный велосипед",
           279990
          ],
          [
           "Sunpeed",
           "Горный велосипед",
           60600
          ],
          [
           "Stinger",
           "Горный велосипед",
           64200
          ],
          [
           "Stark",
           "Горный велосипед",
           39790
          ],
          [
           "Format",
           "Горный велосипед",
           145500
          ],
          [
           "KTM",
           "Горный велосипед",
           417600
          ],
          [
           "Stark",
           "Горный велосипед",
           163790
          ],
          [
           "Stark",
           "Горный велосипед",
           89990
          ],
          [
           "Stark",
           "Горный велосипед",
           45990
          ],
          [
           "Stels",
           "Горный велосипед",
           53350
          ],
          [
           "Stark",
           "Горный велосипед",
           58990
          ],
          [
           "Stark",
           "Горный велосипед",
           67490
          ],
          [
           "Polygon",
           "Горный велосипед",
           120450
          ],
          [
           "Stark",
           "Горный велосипед",
           49720
          ],
          [
           "Stark",
           "Горный велосипед",
           45990
          ],
          [
           "Cube",
           "Горный велосипед",
           311850
          ],
          [
           "Sunpeed",
           "Горный велосипед",
           84500
          ],
          [
           "Stark",
           "Горный велосипед",
           99990
          ],
          [
           "Hagen",
           "Горный велосипед",
           70190
          ],
          [
           "Stark",
           "Горный велосипед",
           48990
          ],
          [
           "Stark",
           "Горный велосипед",
           254680
          ],
          [
           "Stark",
           "Горный велосипед",
           62990
          ],
          [
           "Stark",
           "Горный велосипед",
           71990
          ],
          [
           "Stark",
           "Горный велосипед",
           53390
          ],
          [
           "Format",
           "Горный велосипед",
           144300
          ],
          [
           "Format",
           "Горный велосипед",
           62720
          ],
          [
           "Format",
           "Горный велосипед",
           113700
          ],
          [
           "Stark",
           "Горный велосипед",
           81990
          ],
          [
           "KTM",
           "Горный велосипед",
           530800
          ],
          [
           "Superior",
           "Горный велосипед",
           209200
          ],
          [
           "KTM",
           "Горный велосипед",
           429200
          ],
          [
           "Stark",
           "Горный велосипед",
           55790
          ],
          [
           "KTM",
           "Горный велосипед",
           257000
          ],
          [
           "Stark",
           "Горный велосипед",
           151990
          ],
          [
           "Stark",
           "Горный велосипед",
           68990
          ],
          [
           "Polygon",
           "Горный велосипед",
           182250
          ],
          [
           "Stark",
           "Горный велосипед",
           179990
          ],
          [
           "Stark",
           "Горный велосипед",
           58990
          ],
          [
           "Stark",
           "Горный велосипед",
           71990
          ],
          [
           "Stark",
           "Горный велосипед",
           119460
          ],
          [
           "Stark",
           "Горный велосипед",
           54990
          ],
          [
           "Stark",
           "Горный велосипед",
           82490
          ],
          [
           "Stark",
           "Горный велосипед",
           75410
          ],
          [
           "Stark",
           "Горный велосипед",
           99990
          ],
          [
           "Stark",
           "Горный велосипед",
           84490
          ],
          [
           "Stark",
           "Горный велосипед",
           62860
          ],
          [
           "Stark",
           "Горный велосипед",
           61990
          ],
          [
           "Stark",
           "Горный велосипед",
           63870
          ],
          [
           "Format",
           "Горный велосипед",
           58900
          ],
          [
           "FOXX",
           "Горный велосипед",
           35000
          ],
          [
           "Format",
           "Горный велосипед",
           66900
          ],
          [
           "Stark",
           "Горный велосипед",
           68990
          ],
          [
           "Stark",
           "Горный велосипед",
           45990
          ],
          [
           "Sunpeed",
           "Горный велосипед",
           75400
          ],
          [
           "Format",
           "Горный велосипед",
           52500
          ],
          [
           "Format",
           "Горный велосипед",
           81900
          ],
          [
           "Stark",
           "Горный велосипед",
           99990
          ],
          [
           "Format",
           "Горный велосипед",
           89900
          ],
          [
           "Stels",
           "Горный велосипед",
           55430
          ],
          [
           "Stels",
           "Горный велосипед",
           51230
          ],
          [
           "Stark",
           "Горный велосипед",
           163790
          ],
          [
           "Stark",
           "Горный велосипед",
           37990
          ],
          [
           "Hagen",
           "Горный велосипед",
           66140
          ],
          [
           "Stark",
           "Горный велосипед",
           89990
          ],
          [
           "Stark",
           "Горный велосипед",
           89990
          ],
          [
           "Stark",
           "Горный велосипед",
           211130
          ],
          [
           "Stark",
           "Горный велосипед",
           143990
          ],
          [
           "Stark",
           "Горный велосипед",
           76490
          ],
          [
           "Format",
           "Горный велосипед",
           76500
          ],
          [
           "Superior",
           "Горный велосипед",
           164300
          ],
          [
           "Cube",
           "Горный велосипед",
           220500
          ],
          [
           "Scott",
           "Горный велосипед",
           92990
          ],
          [
           "Scott",
           "Горный велосипед",
           79990
          ],
          [
           "KTM",
           "Горный велосипед",
           90000
          ],
          [
           "Welt",
           "Горный велосипед",
           29990
          ],
          [
           "Sunpeed",
           "Горный велосипед",
           42000
          ],
          [
           "KTM",
           "Горный велосипед",
           168500
          ],
          [
           "Haro",
           "Горный велосипед",
           368600
          ],
          [
           "KTM",
           "Горный велосипед",
           83500
          ],
          [
           "Scott",
           "Горный велосипед",
           116990
          ],
          [
           "KTM",
           "Горный велосипед",
           244000
          ],
          [
           "KTM",
           "Горный велосипед",
           155200
          ],
          [
           "Polygon",
           "Горный велосипед",
           120450
          ],
          [
           "Titan Racing",
           "Горный велосипед",
           130500
          ],
          [
           "Polygon",
           "Горный велосипед",
           62850
          ],
          [
           "Sunpeed",
           "Горный велосипед",
           84500
          ],
          [
           "KTM",
           "Горный велосипед",
           272400
          ],
          [
           "Sunpeed",
           "Горный велосипед",
           60000
          ],
          [
           "Polygon",
           "Горный велосипед",
           59700
          ],
          [
           "Polygon",
           "Горный велосипед",
           62850
          ],
          [
           "Atom",
           "Горный велосипед",
           62550
          ],
          [
           "Polygon",
           "Горный велосипед",
           91450
          ],
          [
           "Sunpeed",
           "Горный велосипед",
           60000
          ],
          [
           "Polygon",
           "Горный велосипед",
           50850
          ],
          [
           "Sunpeed",
           "Горный велосипед",
           60600
          ],
          [
           "Atom",
           "Горный велосипед",
           62550
          ],
          [
           "Polygon",
           "Горный велосипед",
           95550
          ],
          [
           "Atom",
           "Горный велосипед",
           67050
          ],
          [
           "KTM",
           "Горный велосипед",
           698400
          ],
          [
           "Sunpeed",
           "Горный велосипед",
           75400
          ],
          [
           "Stels",
           "Горный велосипед",
           22150
          ],
          [
           "Stels",
           "Горный велосипед",
           21200
          ],
          [
           "Welt",
           "Горный велосипед",
           39990
          ],
          [
           "Welt",
           "Горный велосипед",
           34990
          ],
          [
           "Stinger",
           "Горный велосипед",
           44000
          ],
          [
           "Aspect",
           "Горный велосипед",
           41990
          ],
          [
           "Stels",
           "Горный велосипед",
           23730
          ],
          [
           "Titan Racing",
           "Горный велосипед",
           64800
          ],
          [
           "Welt",
           "Горный велосипед",
           34990
          ],
          [
           "Stinger",
           "Горный велосипед",
           63200
          ],
          [
           "Stels",
           "Горный велосипед",
           18190
          ],
          [
           "Aspect",
           "Горный велосипед",
           41990
          ],
          [
           "Aspect",
           "Горный велосипед",
           41990
          ],
          [
           "Titan Racing",
           "Горный велосипед",
           36990
          ],
          [
           "Forward",
           "Горный велосипед",
           41190
          ],
          [
           "Titan Racing",
           "Горный велосипед",
           50400
          ],
          [
           "Forward",
           "Горный велосипед",
           31450
          ],
          [
           "Stinger",
           "Горный велосипед",
           44000
          ],
          [
           "Stark",
           "Горный велосипед",
           38890
          ],
          [
           "Welt",
           "Горный велосипед",
           58990
          ],
          [
           "Scott",
           "Горный велосипед",
           163000
          ],
          [
           "Stinger",
           "Горный велосипед",
           34000
          ],
          [
           "Welt",
           "Горный велосипед",
           29990
          ],
          [
           "Aspect",
           "Горный велосипед",
           52267
          ],
          [
           "Hagen",
           "Горный велосипед",
           77390
          ],
          [
           "Stark",
           "Горный велосипед",
           27990
          ],
          [
           "Format",
           "Горный велосипед",
           88500
          ],
          [
           "Scott",
           "Горный велосипед",
           266000
          ],
          [
           "Hagen",
           "Горный велосипед",
           62090
          ],
          [
           "Rock Machine",
           "Горный велосипед",
           154425
          ],
          [
           "Scott",
           "Горный велосипед",
           169000
          ],
          [
           "Hagen",
           "Горный велосипед",
           67040
          ],
          [
           "Format",
           "Горный велосипед",
           57050
          ],
          [
           "Hagen",
           "Горный велосипед",
           154340
          ],
          [
           "Forward",
           "Горный велосипед",
           41390
          ],
          [
           "Welt",
           "Горный велосипед",
           40990
          ],
          [
           "Hagen",
           "Горный велосипед",
           57590
          ],
          [
           "Stinger",
           "Горный велосипед",
           112000
          ],
          [
           "Scott",
           "Горный велосипед",
           72990
          ],
          [
           "Hagen",
           "Горный велосипед",
           77390
          ],
          [
           "Hagen",
           "Горный велосипед",
           55340
          ],
          [
           "Hagen",
           "Горный велосипед",
           82340
          ],
          [
           "Forward",
           "Горный велосипед",
           26790
          ],
          [
           "Stark",
           "Горный велосипед",
           68440
          ],
          [
           "Stark",
           "Горный велосипед",
           24100
          ],
          [
           "Welt",
           "Горный велосипед",
           33990
          ],
          [
           "Welt",
           "Горный велосипед",
           83990
          ],
          [
           "Aspect",
           "Горный велосипед",
           45467
          ],
          [
           "Stark",
           "Горный велосипед",
           25760
          ],
          [
           "Format",
           "Горный велосипед",
           91400
          ],
          [
           "Welt",
           "Горный велосипед",
           45490
          ],
          [
           "Aspect",
           "Горный велосипед",
           48490
          ],
          [
           "Forward",
           "Горный велосипед",
           24420
          ],
          [
           "Forward",
           "Горный велосипед",
           28100
          ],
          [
           "Aspect",
           "Горный велосипед",
           48990
          ],
          [
           "Hagen",
           "Горный велосипед",
           67040
          ],
          [
           "Welt",
           "Горный велосипед",
           33990
          ],
          [
           "Aspect",
           "Горный велосипед",
           52267
          ],
          [
           "Aspect",
           "Горный велосипед",
           49990
          ],
          [
           "Welt",
           "Горный велосипед",
           52990
          ],
          [
           "Aspect",
           "Горный велосипед",
           63990
          ],
          [
           "Welt",
           "Горный велосипед",
           61990
          ],
          [
           "Stinger",
           "Горный велосипед",
           49400
          ],
          [
           "Welt",
           "Горный велосипед",
           55990
          ],
          [
           "Hagen",
           "Горный велосипед",
           59390
          ],
          [
           "Aspect",
           "Горный велосипед",
           57990
          ],
          [
           "Stark",
           "Горный велосипед",
           25580
          ],
          [
           "Dewolf",
           "Горный велосипед",
           47990
          ],
          [
           "Stels",
           "Горный велосипед",
           56350
          ],
          [
           "Stinger",
           "Горный велосипед",
           44000
          ],
          [
           "Forward",
           "Горный велосипед",
           30910
          ],
          [
           "Hagen",
           "Горный велосипед",
           57590
          ],
          [
           "Welt",
           "Горный велосипед",
           57990
          ],
          [
           "Forward",
           "Горный велосипед",
           26950
          ],
          [
           "Stels",
           "Горный велосипед",
           23730
          ],
          [
           "Atom",
           "Горный велосипед",
           112500
          ],
          [
           "Giant",
           "Горный велосипед",
           49590
          ],
          [
           "Hagen",
           "Горный велосипед",
           70190
          ],
          [
           "Stels",
           "Горный велосипед",
           23730
          ],
          [
           "Hogger",
           "Горный велосипед",
           32080
          ],
          [
           "Aspect",
           "Горный велосипед",
           71490
          ],
          [
           "Atom",
           "Горный велосипед",
           76775
          ],
          [
           "Stark",
           "Горный велосипед",
           42760
          ],
          [
           "Forward",
           "Горный велосипед",
           35980
          ],
          [
           "Forward",
           "Горный велосипед",
           32380
          ],
          [
           "Welt",
           "Горный велосипед",
           75990
          ],
          [
           "Stark",
           "Горный велосипед",
           25990
          ],
          [
           "Stinger",
           "Горный велосипед",
           83100
          ],
          [
           "Welt",
           "Горный велосипед",
           37990
          ],
          [
           "Forward",
           "Горный велосипед",
           47190
          ],
          [
           "Welt",
           "Горный велосипед",
           30990
          ],
          [
           "Scott",
           "Горный велосипед",
           252490
          ],
          [
           "Welt",
           "Горный велосипед",
           42490
          ],
          [
           "Welt",
           "Горный велосипед",
           68990
          ],
          [
           "Format",
           "Горный велосипед",
           77250
          ],
          [
           "Stinger",
           "Горный велосипед",
           43700
          ],
          [
           "Giant",
           "Горный велосипед",
           86890
          ],
          [
           "Format",
           "Горный велосипед",
           71900
          ],
          [
           "Forward",
           "Горный велосипед",
           37410
          ],
          [
           "Forward",
           "Горный велосипед",
           24290
          ],
          [
           "Welt",
           "Горный велосипед",
           39990
          ],
          [
           "Forward",
           "Горный велосипед",
           36490
          ],
          [
           "Forward",
           "Горный велосипед",
           21860
          ],
          [
           "Welt",
           "Горный велосипед",
           68990
          ],
          [
           "Stinger",
           "Горный велосипед",
           40700
          ],
          [
           "Format",
           "Горный велосипед",
           38880
          ],
          [
           "Format",
           "Горный велосипед",
           66590
          ],
          [
           "Stark",
           "Горный велосипед",
           46740
          ],
          [
           "Hogger",
           "Горный велосипед",
           33120
          ],
          [
           "Stark",
           "Горный велосипед",
           99990
          ],
          [
           "Welt",
           "Горный велосипед",
           36990
          ],
          [
           "Welt",
           "Горный велосипед",
           38990
          ],
          [
           "Stark",
           "Горный велосипед",
           49990
          ],
          [
           "Format",
           "Горный велосипед",
           47520
          ],
          [
           "Format",
           "Горный велосипед",
           38880
          ],
          [
           "Format",
           "Горный велосипед",
           42210
          ],
          [
           "Giant",
           "Горный велосипед",
           54690
          ],
          [
           "Stark",
           "Горный велосипед",
           61190
          ],
          [
           "Welt",
           "Горный велосипед",
           35990
          ],
          [
           "Welt",
           "Горный велосипед",
           44990
          ],
          [
           "Welt",
           "Горный велосипед",
           65990
          ],
          [
           "Titan Racing",
           "Горный велосипед",
           34020
          ],
          [
           "Superior",
           "Горный велосипед",
           259500
          ],
          [
           "Stels",
           "Горный велосипед",
           22280
          ],
          [
           "Forward",
           "Горный велосипед",
           29000
          ],
          [
           "Superior",
           "Горный велосипед",
           124100
          ],
          [
           "Titan Racing",
           "Горный велосипед",
           39690
          ],
          [
           "Titan Racing",
           "Горный велосипед",
           39690
          ],
          [
           "Stinger",
           "Горный велосипед",
           49000
          ],
          [
           "Cube",
           "Горный велосипед",
           83700
          ],
          [
           "Superior",
           "Горный велосипед",
           81400
          ],
          [
           "Cube",
           "Горный велосипед",
           509250
          ],
          [
           "Cube",
           "Горный велосипед",
           398000
          ],
          [
           "Stels",
           "Горный велосипед",
           18980
          ],
          [
           "KTM",
           "Горный велосипед",
           145000
          ],
          [
           "Scott",
           "Горный велосипед",
           295000
          ],
          [
           "Rock Machine",
           "Горный велосипед",
           149925
          ],
          [
           "KTM",
           "Горный велосипед",
           1143000
          ],
          [
           "Stels",
           "Горный велосипед",
           15820
          ],
          [
           "Stinger",
           "Горный велосипед",
           51500
          ],
          [
           "Specialized",
           "Горный велосипед",
           337800
          ],
          [
           "Stinger",
           "Горный велосипед",
           88500
          ],
          [
           "Cube",
           "Горный велосипед",
           115500
          ],
          [
           "Scott",
           "Горный велосипед",
           86290
          ],
          [
           "Stinger",
           "Горный велосипед",
           49400
          ],
          [
           "Rock Machine",
           "Горный велосипед",
           90675
          ],
          [
           "Cube",
           "Горный велосипед",
           388500
          ],
          [
           "Rock Machine",
           "Горный велосипед",
           164175
          ],
          [
           "Forward",
           "Горный велосипед",
           28340
          ],
          [
           "Rock Machine",
           "Горный велосипед",
           72900
          ],
          [
           "Welt",
           "Горный велосипед",
           30990
          ],
          [
           "Scott",
           "Горный велосипед",
           105990
          ],
          [
           "Scott",
           "Горный велосипед",
           829990
          ],
          [
           "Titan Racing",
           "Горный велосипед",
           130050
          ],
          [
           "Stinger",
           "Горный велосипед",
           43700
          ],
          [
           "Stark",
           "Горный велосипед",
           35990
          ],
          [
           "Titan Racing",
           "Горный велосипед",
           156820
          ],
          [
           "Scott",
           "Горный велосипед",
           118990
          ],
          [
           "Titan Racing",
           "Горный велосипед",
           94500
          ],
          [
           "Cube",
           "Горный велосипед",
           117600
          ],
          [
           "Welt",
           "Горный велосипед",
           30990
          ],
          [
           "Stinger",
           "Горный велосипед",
           74200
          ],
          [
           "FOXX",
           "Горный велосипед",
           27800
          ],
          [
           "Stinger",
           "Горный велосипед",
           49000
          ],
          [
           "Rock Machine",
           "Горный велосипед",
           73425
          ],
          [
           "Aspect",
           "Горный велосипед",
           33567
          ],
          [
           "Cube",
           "Горный велосипед",
           132300
          ],
          [
           "Stark",
           "Горный велосипед",
           51770
          ],
          [
           "Forward",
           "Горный велосипед",
           25650
          ],
          [
           "Welt",
           "Горный велосипед",
           40990
          ],
          [
           "Welt",
           "Горный велосипед",
           58990
          ],
          [
           "Welt",
           "Горный велосипед",
           69990
          ],
          [
           "Welt",
           "Горный велосипед",
           33990
          ],
          [
           "Stark",
           "Горный велосипед",
           24420
          ],
          [
           "Titan Racing",
           "Горный велосипед",
           38520
          ],
          [
           "Cube",
           "Горный велосипед",
           102600
          ],
          [
           "Scott",
           "Горный велосипед",
           449990
          ],
          [
           "Welt",
           "Горный велосипед",
           35990
          ],
          [
           "Bianchi",
           "Горный велосипед",
           259100
          ],
          [
           "Aspect",
           "Горный велосипед",
           87542
          ],
          [
           "Cube",
           "Горный велосипед",
           74000
          ],
          [
           "Format",
           "Горный велосипед",
           63300
          ],
          [
           "Scott",
           "Горный велосипед",
           105990
          ],
          [
           "Sunpeed",
           "Горный велосипед",
           51200
          ],
          [
           "Stark",
           "Горный велосипед",
           29394
          ],
          [
           "Aspect",
           "Горный велосипед",
           36490
          ],
          [
           "Stinger",
           "Горный велосипед",
           88500
          ],
          [
           "Stark",
           "Горный велосипед",
           27990
          ],
          [
           "Aspect",
           "Горный велосипед",
           40792
          ],
          [
           "Haro",
           "Горный велосипед",
           66100
          ],
          [
           "Stinger",
           "Горный велосипед",
           50300
          ],
          [
           "Hogger",
           "Горный велосипед",
           28680
          ],
          [
           "Stels",
           "Горный велосипед",
           28820
          ],
          [
           "Polygon",
           "Горный велосипед",
           71850
          ],
          [
           "Forward",
           "Горный велосипед",
           28490
          ],
          [
           "Polygon",
           "Горный велосипед",
           71850
          ],
          [
           "Titan Racing",
           "Горный велосипед",
           49950
          ],
          [
           "Stels",
           "Горный велосипед",
           30360
          ],
          [
           "Stels",
           "Горный велосипед",
           23170
          ],
          [
           "Format",
           "Горный велосипед",
           160500
          ],
          [
           "Forward",
           "Горный велосипед",
           29080
          ],
          [
           "Polygon",
           "Горный велосипед",
           182250
          ],
          [
           "Stels",
           "Горный велосипед",
           22280
          ],
          [
           "Welt",
           "Горный велосипед",
           37990
          ],
          [
           "Welt",
           "Горный велосипед",
           45490
          ],
          [
           "Polygon",
           "Горный велосипед",
           95550
          ],
          [
           "Welt",
           "Горный велосипед",
           83990
          ],
          [
           "Stark",
           "Горный велосипед",
           23670
          ],
          [
           "Welt",
           "Горный велосипед",
           35990
          ],
          [
           "Stinger",
           "Горный велосипед",
           64200
          ],
          [
           "Stels",
           "Горный велосипед",
           23170
          ],
          [
           "Stark",
           "Горный велосипед",
           19990
          ],
          [
           "Stels",
           "Горный велосипед",
           39720
          ],
          [
           "Bergamont",
           "Горный велосипед",
           42745
          ],
          [
           "Stark",
           "Горный велосипед",
           18860
          ],
          [
           "Welt",
           "Горный велосипед",
           58990
          ],
          [
           "Merida",
           "Горный велосипед",
           64740
          ],
          [
           "Aspect",
           "Горный велосипед",
           95192
          ],
          [
           "Merida",
           "Горный велосипед",
           44490
          ],
          [
           "Aspect",
           "Горный велосипед",
           56942
          ],
          [
           "Welt",
           "Горный велосипед",
           55990
          ],
          [
           "Cube",
           "Горный велосипед",
           96300
          ],
          [
           "Bianchi",
           "Горный велосипед",
           423800
          ],
          [
           "Cube",
           "Горный велосипед",
           128500
          ],
          [
           "Cube",
           "Горный велосипед",
           1188600
          ],
          [
           "Rock Machine",
           "Горный велосипед",
           63900
          ],
          [
           "Cube",
           "Горный велосипед",
           153990
          ],
          [
           "Merida",
           "Горный велосипед",
           75530
          ],
          [
           "Superior",
           "Горный велосипед",
           160900
          ],
          [
           "Aspect",
           "Горный велосипед",
           36967
          ],
          [
           "Aspect",
           "Горный велосипед",
           36967
          ],
          [
           "Sunpeed",
           "Горный велосипед",
           51200
          ],
          [
           "Cube",
           "Горный велосипед",
           68580
          ],
          [
           "Aspect",
           "Горный велосипед",
           45467
          ],
          [
           "Cube",
           "Горный велосипед",
           106680
          ],
          [
           "Aspect",
           "Горный велосипед",
           40792
          ],
          [
           "Superior",
           "Горный велосипед",
           89800
          ],
          [
           "Cube",
           "Горный велосипед",
           245500
          ],
          [
           "Welt",
           "Горный велосипед",
           63990
          ],
          [
           "Trek",
           "Горный велосипед",
           69999
          ],
          [
           "Polygon",
           "Горный велосипед",
           182250
          ],
          [
           "Aspect",
           "Горный велосипед",
           33567
          ],
          [
           "Aspect",
           "Горный велосипед",
           37490
          ],
          [
           "Polygon",
           "Горный велосипед",
           165600
          ],
          [
           "Aspect",
           "Горный велосипед",
           63742
          ],
          [
           "Welt",
           "Горный велосипед",
           52990
          ],
          [
           "Polygon",
           "Горный велосипед",
           214500
          ],
          [
           "Polygon",
           "Горный велосипед",
           120450
          ],
          [
           "Stinger",
           "Горный велосипед",
           37100
          ],
          [
           "Polygon",
           "Горный велосипед",
           62850
          ],
          [
           "Aspect",
           "Горный велосипед",
           40792
          ],
          [
           "Welt",
           "Горный велосипед",
           70990
          ],
          [
           "Stark",
           "Горный велосипед",
           45590
          ],
          [
           "Aspect",
           "Горный велосипед",
           37490
          ],
          [
           "Polygon",
           "Горный велосипед",
           120450
          ],
          [
           "Scott",
           "Горный велосипед",
           230000
          ],
          [
           "Polygon",
           "Горный велосипед",
           94080
          ],
          [
           "Scott",
           "Горный велосипед",
           585090
          ],
          [
           "Polygon",
           "Горный велосипед",
           95550
          ],
          [
           "Polygon",
           "Горный велосипед",
           59700
          ],
          [
           "Aspect",
           "Горный велосипед",
           95192
          ],
          [
           "Forward",
           "Горный велосипед",
           27690
          ],
          [
           "Stels",
           "Горный велосипед",
           22280
          ],
          [
           "Aspect",
           "Горный велосипед",
           56942
          ],
          [
           "Stels",
           "Горный велосипед",
           22280
          ],
          [
           "Aspect",
           "Горный велосипед",
           37490
          ],
          [
           "Merida",
           "Горный велосипед",
           98800
          ],
          [
           "Scott",
           "Горный велосипед",
           79990
          ],
          [
           "Cube",
           "Горный велосипед",
           162750
          ],
          [
           "Welt",
           "Горный велосипед",
           37990
          ],
          [
           "Haro",
           "Горный велосипед",
           39700
          ],
          [
           "Cube",
           "Горный велосипед",
           916650
          ],
          [
           "Welt",
           "Горный велосипед",
           54990
          ],
          [
           "Welt",
           "Горный велосипед",
           38990
          ],
          [
           "Aspect",
           "Горный велосипед",
           36967
          ],
          [
           "Welt",
           "Горный велосипед",
           49490
          ],
          [
           "Aspect",
           "Горный велосипед",
           85990
          ],
          [
           "Aspect",
           "Горный велосипед",
           41490
          ],
          [
           "Aspect",
           "Горный велосипед",
           41490
          ],
          [
           "Polygon",
           "Горный велосипед",
           71850
          ],
          [
           "Scott",
           "Горный велосипед",
           165190
          ],
          [
           "Polygon",
           "Горный велосипед",
           71850
          ],
          [
           "Polygon",
           "Горный велосипед",
           62850
          ],
          [
           "Aspect",
           "Горный велосипед",
           50142
          ],
          [
           "Welt",
           "Горный велосипед",
           56990
          ],
          [
           "Stels",
           "Горный велосипед",
           21380
          ],
          [
           "Aspect",
           "Горный велосипед",
           63990
          ],
          [
           "Haro",
           "Горный велосипед",
           39500
          ],
          [
           "Aspect",
           "Горный велосипед",
           63990
          ],
          [
           "Aspect",
           "Горный велосипед",
           43990
          ],
          [
           "Welt",
           "Горный велосипед",
           52990
          ],
          [
           "Merida",
           "Горный велосипед",
           44490
          ],
          [
           "Cube",
           "Горный велосипед",
           207900
          ],
          [
           "Merida",
           "Горный велосипед",
           123500
          ],
          [
           "Aspect",
           "Горный велосипед",
           55242
          ],
          [
           "Haro",
           "Горный велосипед",
           49700
          ],
          [
           "Merida",
           "Горный велосипед",
           83980
          ],
          [
           "Merida",
           "Горный велосипед",
           108680
          ],
          [
           "Merida",
           "Горный велосипед",
           153140
          ],
          [
           "Forward",
           "Горный велосипед",
           29060
          ],
          [
           "Superior",
           "Горный велосипед",
           112200
          ],
          [
           "Superior",
           "Горный велосипед",
           254800
          ],
          [
           "Welt",
           "Горный велосипед",
           59990
          ],
          [
           "Scott",
           "Горный велосипед",
           67130
          ],
          [
           "Welt",
           "Горный велосипед",
           null
          ],
          [
           "Aspect",
           "Горный велосипед",
           37990
          ],
          [
           "Aspect",
           "Горный велосипед",
           67992
          ],
          [
           "Merida",
           "Горный велосипед",
           83980
          ],
          [
           "Polygon",
           "Горный велосипед",
           null
          ],
          [
           "Stinger",
           "Горный велосипед",
           33300
          ],
          [
           "Haro",
           "Горный велосипед",
           105400
          ],
          [
           "Merida",
           "Горный велосипед",
           80360
          ],
          [
           "Stels",
           "Горный велосипед",
           23530
          ],
          [
           "Tsinova",
           "Горный электровелосипед",
           48500
          ],
          [
           "Polygon",
           "Горный велосипед",
           45520
          ],
          [
           "Format",
           "Горный велосипед",
           107700
          ],
          [
           "Haro",
           "Горный велосипед",
           49700
          ],
          [
           "Aspect",
           "Горный велосипед",
           38990
          ],
          [
           "Cube",
           "Горный велосипед",
           97280
          ],
          [
           "Merida",
           "Горный велосипед",
           109668
          ],
          [
           "Merida",
           "Горный велосипед",
           null
          ],
          [
           "Scott",
           "Горный велосипед",
           252490
          ],
          [
           "Scott",
           "Горный велосипед",
           142290
          ],
          [
           "Aspect",
           "Горный велосипед",
           75990
          ],
          [
           "Stinger",
           "Горный велосипед",
           24000
          ],
          [
           "Merida",
           "Горный велосипед",
           77064
          ],
          [
           "Merida",
           "Горный велосипед",
           138320
          ],
          [
           "Aspect",
           "Горный велосипед",
           33567
          ],
          [
           "Welt",
           "Горный велосипед",
           44990
          ],
          [
           "Stinger",
           "Горный велосипед",
           26100
          ],
          [
           "Haro",
           "Горный велосипед",
           27490
          ],
          [
           "Merida",
           "Горный велосипед",
           49385
          ],
          [
           "Welt",
           "Горный велосипед",
           45990
          ],
          [
           "Aspect",
           "Горный велосипед",
           38490
          ],
          [
           "Merida",
           "Горный велосипед",
           227240
          ],
          [
           "Merida",
           "Горный велосипед",
           120540
          ],
          [
           "Welt",
           "Горный велосипед",
           null
          ],
          [
           "Merida",
           "Горный велосипед",
           539560
          ],
          [
           "Haro",
           "Горный велосипед",
           64700
          ],
          [
           "Stinger",
           "Горный велосипед",
           21700
          ],
          [
           "Stels",
           "Горный велосипед",
           19770
          ],
          [
           "Trek",
           "Горный велосипед",
           null
          ],
          [
           "Aspect",
           "Горный велосипед",
           38990
          ],
          [
           "Stinger",
           "Горный велосипед",
           37100
          ],
          [
           "Forward",
           "Горный велосипед",
           16280
          ],
          [
           "Rock Machine",
           "Горный велосипед",
           192675
          ],
          [
           "Aspect",
           "Горный велосипед",
           32490
          ],
          [
           "Stinger",
           "Горный велосипед",
           26200
          ],
          [
           "Welt",
           "Горный велосипед",
           60990
          ],
          [
           "Aspect",
           "Горный велосипед",
           91792
          ],
          [
           "Merida",
           "Горный велосипед",
           503880
          ],
          [
           "Cube",
           "Горный велосипед",
           null
          ],
          [
           "Cube",
           "Горный велосипед",
           77500
          ],
          [
           "Welt",
           "Горный велосипед",
           49990
          ],
          [
           "Aspect",
           "Горный велосипед",
           45990
          ],
          [
           "Aspect",
           "Горный велосипед",
           54490
          ],
          [
           "Format",
           "Горный велосипед",
           90900
          ],
          [
           "Stark",
           "Горный велосипед",
           20990
          ],
          [
           "Scott",
           "Горный велосипед",
           186090
          ],
          [
           "Pardus",
           "Горный велосипед",
           155200
          ],
          [
           "Aspect",
           "Горный велосипед",
           74990
          ],
          [
           "Aspect",
           "Горный велосипед",
           62490
          ],
          [
           "Forward",
           "Горный велосипед",
           null
          ],
          [
           "Haro",
           "Горный велосипед",
           105400
          ],
          [
           "Welt",
           "Горный велосипед",
           57990
          ],
          [
           "Welt",
           "Горный велосипед",
           null
          ],
          [
           "Stels",
           "Горный велосипед",
           23170
          ],
          [
           "Rock Machine",
           "Горный велосипед",
           57520
          ],
          [
           "Merida",
           "Горный велосипед",
           306280
          ],
          [
           "Welt",
           "Горный велосипед",
           61990
          ],
          [
           "Polygon",
           "Горный велосипед",
           94080
          ],
          [
           "Trek",
           "Горный велосипед",
           null
          ],
          [
           "Welt",
           "Горный велосипед",
           51990
          ],
          [
           "Cube",
           "Горный электровелосипед",
           138700
          ],
          [
           "Welt",
           "Горный велосипед",
           48990
          ],
          [
           "Scott",
           "Горный велосипед",
           279090
          ],
          [
           "Aspect",
           "Горный велосипед",
           33490
          ],
          [
           "Merida",
           "Горный велосипед",
           89540
          ],
          [
           "Hogger",
           "Горный велосипед",
           28830
          ],
          [
           "Stels",
           "Горный велосипед",
           46010
          ],
          [
           "Welt",
           "Горный велосипед",
           47990
          ],
          [
           "Stels",
           "Горный велосипед",
           23850
          ],
          [
           "Trek",
           "Горный велосипед",
           null
          ],
          [
           "Titan Racing",
           "Горный велосипед",
           108000
          ],
          [
           "Stels",
           "Горный велосипед",
           38620
          ],
          [
           "Welt",
           "Горный велосипед",
           49990
          ],
          [
           "Stels",
           "Горный велосипед",
           24430
          ],
          [
           "Giant",
           "Горный велосипед",
           48990
          ],
          [
           "Stels",
           "Горный велосипед",
           23530
          ],
          [
           "Merida",
           "Горный велосипед",
           167960
          ],
          [
           "Haro",
           "Горный велосипед",
           64400
          ],
          [
           "Stark",
           "Горный велосипед",
           53940
          ],
          [
           "Scott",
           "Горный велосипед",
           153400
          ],
          [
           "Aspect",
           "Горный велосипед",
           54490
          ],
          [
           "Cube",
           "Горный велосипед",
           null
          ],
          [
           "Forward",
           "Горный велосипед",
           23340
          ],
          [
           "Aspect",
           "Горный велосипед",
           28990
          ],
          [
           "Welt",
           "Горный велосипед",
           null
          ],
          [
           "Format",
           "Горный велосипед",
           147080
          ],
          [
           "Merida",
           "Горный велосипед",
           103320
          ],
          [
           "Format",
           "Горный велосипед",
           null
          ],
          [
           "Stark",
           "Горный велосипед",
           19990
          ],
          [
           "Format",
           "Горный велосипед",
           62730
          ],
          [
           "Scott",
           "Горный велосипед",
           82400
          ],
          [
           "Cube",
           "Горный велосипед",
           116690
          ],
          [
           "Haro",
           "Горный велосипед",
           62200
          ],
          [
           "Aspect",
           "Горный велосипед",
           171490
          ],
          [
           "Trek",
           "Горный велосипед",
           null
          ],
          [
           "Stels",
           "Горный велосипед",
           19760
          ],
          [
           "Pardus",
           "Горный велосипед",
           59600
          ],
          [
           "Slash",
           "Горный велосипед",
           32990
          ],
          [
           "Stinger",
           "Горный велосипед",
           34000
          ],
          [
           "Hagen",
           "Горный велосипед",
           92990
          ],
          [
           "Cube",
           "Горный велосипед",
           793000
          ],
          [
           "Rock Machine",
           "Горный велосипед",
           null
          ],
          [
           "Stinger",
           "Горный велосипед",
           20000
          ],
          [
           "Merida",
           "Горный велосипед",
           77064
          ],
          [
           "Stinger",
           "Горный велосипед",
           37100
          ],
          [
           "Cube",
           "Горный велосипед",
           null
          ],
          [
           "Stels",
           "Горный велосипед",
           21200
          ],
          [
           "Aspect",
           "Горный велосипед",
           132990
          ],
          [
           "Format",
           "Горный велосипед",
           116300
          ],
          [
           "Merida",
           "Горный велосипед",
           63232
          ],
          [
           "Trek",
           "Горный велосипед",
           null
          ],
          [
           "Welt",
           "Горный велосипед",
           26350
          ],
          [
           "Stels",
           "Горный велосипед",
           21200
          ],
          [
           "Aspect",
           "Горный велосипед",
           143642
          ],
          [
           "Cube",
           "Горный велосипед",
           null
          ],
          [
           "Welt",
           "Горный велосипед",
           29590
          ],
          [
           "Slash",
           "Горный велосипед",
           28990
          ],
          [
           "Cube",
           "Горный велосипед",
           null
          ],
          [
           "Stinger",
           "Горный велосипед",
           57100
          ],
          [
           "Stark",
           "Горный велосипед",
           42360
          ],
          [
           "Format",
           "Горный велосипед",
           57420
          ],
          [
           "Trek",
           "Горный велосипед",
           164999
          ],
          [
           "Aspect",
           "Горный велосипед",
           132990
          ],
          [
           "Polygon",
           "Горный велосипед",
           196700
          ],
          [
           "Scott",
           "Горный велосипед",
           272990
          ],
          [
           "Welt",
           "Горный велосипед",
           43990
          ],
          [
           "Stark",
           "Горный электровелосипед",
           63840
          ],
          [
           "Cube",
           "Горный велосипед",
           null
          ],
          [
           "Aspect",
           "Горный велосипед",
           33490
          ],
          [
           "Stark",
           "Горный велосипед",
           41250
          ],
          [
           "Cube",
           "Горный велосипед",
           null
          ],
          [
           "Welt",
           "Горный велосипед",
           32990
          ],
          [
           "Scott",
           "Горный велосипед",
           204690
          ],
          [
           "Cube",
           "Горный велосипед",
           114450
          ],
          [
           "Aspect",
           "Горный велосипед 26\"",
           38745
          ],
          [
           "Cube",
           "Горный велосипед",
           null
          ],
          [
           "Welt",
           "Горный велосипед",
           28990
          ],
          [
           "Welt",
           "Горный велосипед",
           null
          ],
          [
           "Merida",
           "Горный велосипед",
           167960
          ],
          [
           "Aspect",
           "Горный велосипед",
           49990
          ],
          [
           "Forward",
           "Горный велосипед",
           33460
          ],
          [
           "Rock Machine",
           "Горный велосипед",
           114675
          ],
          [
           "Rock Machine",
           "Горный велосипед",
           68175
          ],
          [
           "Welt",
           "Горный велосипед",
           null
          ],
          [
           "Polygon",
           "Горный велосипед",
           165600
          ],
          [
           "Cube",
           "Горный велосипед",
           269200
          ],
          [
           "Scott",
           "Горный велосипед",
           214490
          ],
          [
           "Forward",
           "Горный велосипед",
           null
          ],
          [
           "Cube",
           "Горный велосипед",
           null
          ],
          [
           "Trek",
           "Горный велосипед",
           null
          ],
          [
           "Stinger",
           "Горный велосипед",
           27400
          ],
          [
           "Welt",
           "Горный велосипед",
           51990
          ],
          [
           "Univega",
           "Горный электровелосипед",
           107250
          ],
          [
           "Merida",
           "Горный велосипед",
           246820
          ],
          [
           "Giant",
           "Горный велосипед",
           144990
          ],
          [
           "Stinger",
           "Горный велосипед",
           23200
          ],
          [
           "Cube",
           "Горный велосипед",
           77860
          ],
          [
           "Format",
           "Горный велосипед",
           null
          ],
          [
           "Giant",
           "Горный велосипед",
           null
          ],
          [
           "Stinger",
           "Горный велосипед",
           31600
          ],
          [
           "Cube",
           "Горный велосипед",
           127500
          ],
          [
           "Cube",
           "Горный велосипед",
           103680
          ],
          [
           "Giant",
           "Горный велосипед",
           null
          ],
          [
           "Format",
           "Горный велосипед",
           72500
          ],
          [
           "Stinger",
           "Горный велосипед",
           21700
          ],
          [
           "Cube",
           "Горный велосипед",
           81670
          ],
          [
           "Stark",
           "Горный велосипед",
           18840
          ],
          [
           "Giant",
           "Горный велосипед",
           36990
          ],
          [
           "Welt",
           "Горный велосипед",
           38990
          ],
          [
           "Welt",
           "Горный велосипед",
           null
          ],
          [
           "Merida",
           "Горный электровелосипед",
           null
          ],
          [
           "Merida",
           "Горный велосипед",
           77490
          ],
          [
           "Cube",
           "Горный велосипед",
           719800
          ],
          [
           "Cube",
           "Горный велосипед",
           117600
          ],
          [
           "Rock Machine",
           "Горный велосипед",
           null
          ],
          [
           "Aspect",
           "Горный велосипед",
           75990
          ],
          [
           "Merida",
           "Горный велосипед",
           89540
          ]
         ],
         "hovertemplate": "<b>%{hovertext}</b><br><br>Кластер=0<br>x=%{x}<br>y=%{y}<br>brand=%{customdata[0]}<br>category=%{customdata[1]}<br>price=%{customdata[2]}<extra></extra>",
         "hovertext": [
          "Aspect Radium Pro 29 (2025)",
          "Aspect Air 29 (2025)",
          "Aspect Nickel 29 (2025)",
          "Aspect Nickel Pro 29 (2025)",
          "Stels Navigator 930 D V010 (2023)",
          "Aspect Air Expert 29 (2025)",
          "Aspect Cobalt 29 (2025)",
          "Aspect Nickel Elite 29 (2025)",
          "Aspect Radium 29 (2025)",
          "Welt Ranger 1.0 29 (2025)",
          "Aspect Ronin (2025)",
          "Stels Navigator 620 MD V010 (2025)",
          "Aspect Air Pro 29 (2025)",
          "Aspect Radium Pro 27.5 (2025)",
          "Stels Navigator 920 MD V010 (2023)",
          "Stark Tank 29.1 D + (2025)",
          "Stinger Element 29\" (2025)",
          "Aspect Ronin Pro 29 (2025)",
          "FOXX Caiman 29\" (2025)",
          "Aspect Radium 3x Pro 29 (2025)",
          "Superior XP 919 (2024)",
          "Slash Forest 26 (2025)",
          "Stels Navigator 745 MD 27.5\" V010 (2023)",
          "Superior XP 6.2 (2025)",
          "Welt Storm 27 HD (2025)",
          "Stels Navigator 720 MD V010 (2023)",
          "Aspect Amp Expert 29 (2025)",
          "Welt Rocket 2.0 29 HD (2025)",
          "Stels Navigator 510 MD V010 (2025)",
          "Aspect Air Elite 29 (2025)",
          "Welt Ranger 3.0 29 (2025)",
          "Aspect Nickel 26 (2025)",
          "Slash Hornet 29 (2025)",
          "Aspect Radium 26 (2025)",
          "Aspect Amp Pro 29 (2025)",
          "Aspect Amp Elite 29 (2025)",
          "Haro Saguaro 2 (2025)",
          "Aspect Ronin Elite 29 (2025)",
          "Aspect Cobalt Pro 29 (2025)",
          "Aspect Cobalt Elite 29 (2025)",
          "Forward Sporting 27,5 X D (2022)",
          "Stinger Python Evo 29\" (2024)",
          "Stinger Python Pro 29\" (2024)",
          "Aspect Nickel Elite 27.5 (2025)",
          "Aspect Nickel 27.5 (2025)",
          "Welt Rambler 29 (2024)",
          "Welt Ranger 1.0 27 (2025)",
          "Cube Aim Pro 29 (2025)",
          "Slash Forest 27.5 (2025)",
          "Stels Navigator 630 MD Z010 (2025)",
          "Cube Aim Race 29 (2025)",
          "Cube Reaction C:62 One 29 (2025)",
          "Stels Navigator 710 MD V020 (2025)",
          "Forward Sporting 29 X D (2022)",
          "Stark Tank 27.1 D + (2025)",
          "Aspect Nickel Pro 27.5 (2025)",
          "Stark Hunter 27.2 D (2023)",
          "Welt Rocket 2.0 27 HD (2025)",
          "Stels Navigator 600 MD Z010 (2025)",
          "Stinger Reload STD 29\" (2024)",
          "Stinger Gradient STD 29\" (2025)",
          "Haro Double Peak Trail (2025)",
          "Stinger Graphite Comp 29\" (2024)",
          "Aspect Cobalt Expert 29 (2025)",
          "Aspect Radium Pro 26 (2025)",
          "Aspect Amp CF X (2025)",
          "Stark Hunter 29.2 HD (2025)",
          "Stinger Zeta STD 29\" (2024)",
          "Stels Navigator 950 MD V010 (2025)",
          "Stark Hunter 27.2+ HD (2023)",
          "Stels Navigator 600 V Z010 (2025)",
          "Stinger Element 27.5\" (2025)",
          "Stark Hunter 29.2 HD (2023)",
          "Stels Navigator 645 D V020 (2025)",
          "Stels Navigator 750 MD V010 (2025)",
          "Welt Rocket 3.0 29 HD (2025)",
          "Aspect Radium 3x Pro 27.5 (2025)",
          "Welt Rocket 1.0 29 HD (2025)",
          "Cube Attention SLX 29 (2025)",
          "Superior XP 6.6 (2025)",
          "Stels Navigator 745 D V010 (2023)",
          "Scott Scale 920 (2024)",
          "Welt Rocket 1.0 29 MD (2025)",
          "Aspect Amp CF RS (2025)",
          "Cube Aim SLX 29 (2025)",
          "Welt Edge 1.0 (2025)",
          "Welt Rocket 4.0 27 HD (2025)",
          "Stinger Genesis STD 29\" (2024)",
          "Haro Double Peak Sport (2025)",
          "Stinger Graphite Comp 27.5\" (2024)",
          "Superior XP 6.1 (2025)",
          "Aspect Cobalt Pro 27.5 (2025)",
          "Stark Indy 29.1 D (2025)",
          "Stinger Reload Evo 29\" (2024)",
          "Format 1411 29' (2024)",
          "Welt Rambler 1.0 (2025)",
          "Stark Tank 27.2 D+ (2024)",
          "Welt Rocket 1.0 27 MD (2025)",
          "Forward Sporting 27,5 XX D (2022)",
          "Stels Navigator 930 MD 29\" V010 (2023)",
          "FOXX Atlantic 29\" (2025)",
          "Format 1311 Plus (2023)",
          "Stinger Element 26\" (2025)",
          "Stinger Reload Pro 29\" (2024)",
          "Haro Saguaro 3 (2025)",
          "Scott Aspect 930 (2024)",
          "Haro Double Peak Comp (2025)",
          "Stark Tank 29.3 D + (2025)",
          "Aspect Cobalt 27.5 (2025)",
          "Stels Navigator 970 D V010 (2023)",
          "Cube Reaction Pro 29 (2025)",
          "Cube Attention Pro 29 (2025)",
          "Stels Navigator 910 MD V010 (2025)",
          "Stinger Graphite Pro 27.5\" (2024)",
          "Welt Edge 2.0 (2025)",
          "Superior XP 969 (2024)",
          "Stels Navigator 640 MD V010 (2023)",
          "Stels Navigator 610 D V020 (2024)",
          "Welt Ranger 3.0 27 (2025)",
          "Welt Rocket 1.0 27 HD (2025)",
          "Stinger Python STD 27.5\" (2024)",
          "Atom Xtrail X11 (2024)",
          "Stinger Graphite Pro 29\" (2023)",
          "Stinger Python Evo 27.5\" (2024)",
          "Stinger Python STD 29\" (2024)",
          "Format 1412 29 (2023)",
          "Atom Bion Nine 150 (2024)",
          "Stels Navigator 640 D V010 (2023)",
          "Cube Aim Pro 27.5 (2025)",
          "Hagen 5.10 29 (2025)",
          "Welt Rocket 3.0 27 HD (2025)",
          "Stinger Reload STD 27.5\" (2023)",
          "Cube Reaction TM One 29 (2025)",
          "Hagen 4.9 29 (2025)",
          "Stark Hunter 27.3 HD (2025)",
          "Hagen 5.11 29 (2025)",
          "Stark Funriser 29.4+ HD (2021)",
          "Stark Tank 27.3 D + (2025)",
          "Welt Rambler 3.0 (2025)",
          "Stark Hunter 27.2 HD (2025)",
          "Stark Slash 27.1 D (2025)",
          "Hagen 1.10 R 29 (2025)",
          "Stinger Genesis Evo 29\" (2024)",
          "Stark Hunter 29.2 HD (2024)",
          "Format 1415 29 (2023)",
          "Atom Bion Nine 550 (2024)",
          "Welt Rambler 2.0 (2025)",
          "Format 1214 27.5' (2024)",
          "Titan Racing Rogue Dash (2024)",
          "Stels Navigator 790 D V010 (2021)",
          "Welt Yourock 1.0 26 MD (2025)",
          "Stark Indy 27.1 D (2025)",
          "Cube Aim SLX 27.5 (2025)",
          "Format 1211 29' (2024)",
          "Stinger Zeta Evo 29\" (2024)",
          "Stark Hunter 29.3 HD (2025)",
          "Stels Navigator 645 MD V010 (2023)",
          "FOXX Atlantic 27.5\" (2025)",
          "Superior Team 29 Issue (2024)",
          "Format 1213 27.5' (2024)",
          "Stark Slash 26.1 D (2024)",
          "Stels Navigator 760 D V010 (2025)",
          "Stinger Reload STD 27.5\" (2024)",
          "Atom Bion Nine Pro (2024)",
          "Welt Yourock 2.0 26 HD (2025)",
          "Format 1415 27.5 (2023)",
          "Hagen 1.9 29 (2025)",
          "Stels Navigator 920 MD V020 (2023)",
          "Stels Adrenalin MD V010 (2025)",
          "Atom Bion Nine 350 (2024)",
          "Hagen 1.8 29 (2025)",
          "Hagen 3.12 29 (2025)",
          "Stark Slash 29.1 D (2024)",
          "Cube Aim Race 27.5 (2025)",
          "Stark Router 29.3 HD (2025)",
          "Format 1413 29 (2023)",
          "Hagen 5.12 29 (2025)",
          "Atom Bion Nine 50 (2024)",
          "Format 1414 29 (2023)",
          "Cube Reaction SLX 29 (2025)",
          "Hagen 1.10 29 (2025)",
          "Format 1212 27.5' (2024)",
          "Stinger Zeta STD 27.5\" (2024)",
          "Hagen 3.9 27.5 (2025)",
          "Stark Hunter 29.1 HD (2025)",
          "Stark Router 27.4 HD (2025)",
          "Hagen 7.12 29 (2025)",
          "Stinger Reload Pro 29\" (2023)",
          "Stinger Python Pro 27.5\" (2024)",
          "Stark Slash 26.1 D (2025)",
          "Polygon Xtrada 6 29 (2025)",
          "Stinger Reload Evo 27.5\" (2024)",
          "Stels Navigator 730 MD Z010 (2025)",
          "Hagen 4.8 29 (2025)",
          "Scott Scale 925 (2024)",
          "Format 1413 27.5 (2023)",
          "Stark Hunter 29.1 D (2025)",
          "Stark Router 29.2 HD (2025)",
          "Format 1312 (2023)",
          "Stinger Zeta Evo 27.5\" (2024)",
          "Hagen 4.10 29 (2025)",
          "Hagen 6.12 27.5 (2025)",
          "Polygon Syncline C3 29 (2025)",
          "Hagen 3.11 27.5 (2025)",
          "Format 1411 27.5' (2024)",
          "Format 1214 29' (2024)",
          "Polygon Xtrada 5 29 (2025)",
          "Hagen 3.12 27.5 (2025)",
          "Stark Tactic 27.5 + HD (2023)",
          "Stark Indy 27.2 D (2024)",
          "Stark Router 29.3 HD (2024)",
          "Atom Bion Nine LTD (2024)",
          "Format 1212 29' (2024)",
          "Polygon Syncline C2 29 (2025)",
          "Polygon Syncline C5 29 (2025)",
          "Stark Indy 29.2 D (2024)",
          "Stark Krafter Carbon 29.9 HD (2025)",
          "Sunpeed Rule 29\" (2024)",
          "Stinger Python Pro 27.5\" (2023)",
          "Stark Slash 29.1 D (2025)",
          "Format 1211 27.5' (2024)",
          "KTM Myroon Glorious (2024)",
          "Stark Tactic LT 29.7 HD (2025)",
          "Stark Armer 29.5 HD (2025)",
          "Stark Indy 29.1 HD (2025)",
          "Stels Navigator 730 D Z010 (2025)",
          "Stark Router 27.2 HD (2025)",
          "Stark Router 29.4 HD (2025)",
          "Polygon Xtrada 7 27.5 (2025)",
          "Stark Hunter 27.2 HD (2024)",
          "Stark Hunter 27.1 D (2025)",
          "Cube Reaction C:62 Pro 29 (2025)",
          "Sunpeed Ace 29\" (2024)",
          "Stark Armer 29.6 HD (2024)",
          "Hagen 4.9 27.5 (2025)",
          "Stark Hunter 27.1 HD (2025)",
          "Stark Krafter Carbon 29.9 HD (2024)",
          "Stark Router 27.3 HD (2024)",
          "Stark Tactic 29.4 HD (2025)",
          "Stark Viva 27.2 HD (2024)",
          "Format 1121 (2023)",
          "Format 1414 27.5 (2023)",
          "Format 1211 27.5 (2023)",
          "Stark Tactic 27.4+ HD (2024)",
          "KTM Myroon Master (2024)",
          "Superior XP 929 LTD (2024)",
          "KTM Myroon Elite (2024)",
          "Stark Router 27.3 HD (2025)",
          "KTM Ultra 1964 Pro (2024)",
          "Stark Krafter 29.7 HD (2025)",
          "Stark Router 27.4 HD (2024)",
          "Polygon Syncline C3 27,5 (2025)",
          "Stark Krafter 29.8 HD (2025)",
          "Stark Viva 27.3 HD (2024)",
          "Stark Tactic 27.4+ HD (2025)",
          "Stark Krafter 29.7 HD (2024)",
          "Stark Hunter 27.2 + HD (2025)",
          "Stark Funriser 29.4+ HD (2024)",
          "Stark Funriser 29.4 + HD (2025)",
          "Stark Krafter 29.6 HD (2025)",
          "Stark Tactic 29.5 HD (2024)",
          "Stark Tactic 27.4 HD (2024)",
          "Stark Tactic 27.3 D (2025)",
          "Stark Tactic 29.3 D (2025)",
          "Format 1413 29 (2025)",
          "FOXX Atlantic 26\" (2025)",
          "Format 1412 29 (2025)",
          "Stark Router 29.4 HD (2024)",
          "Stark Indy 27.1 HD (2025)",
          "Sunpeed Zero 5 29\" (2024)",
          "Format 1315 27,5 (2025)",
          "Format 1313 29 (2025)",
          "Stark Tactic 29.5 HD (2025)",
          "Format 1213 29 (2025)",
          "Stels Navigator 760 MD V010 (2023)",
          "Stels Navigator 630 D Z010 (2025)",
          "Stark Tactic LT 27.7 + HD (2025)",
          "Stark Slash 27.1 D (2024)",
          "Hagen 4.8 27.5 (2025)",
          "Stark Armer 27.5 HD (2024)",
          "Stark Armer 29.5 HD (2024)",
          "Stark Krafter 29.9 HD (2024)",
          "Stark Funriser 29.7 + HD (2025)",
          "Stark Tactic 29.4 HD (2024)",
          "Format 1314 PLUS 27,5 (2025)",
          "Superior XP 939 (2024)",
          "Cube Reaction TM Pro 29 (2025)",
          "Scott Aspect 950 (2022)",
          "Scott Aspect 750 (2022)",
          "KTM Penny Lane 271 (2024)",
          "Welt Ridge 1.1 D 27 (2024)",
          "Sunpeed Zero 1 29\" (2024)",
          "KTM Ultra Sport (2024)",
          "Haro Saguaro 1 (2025)",
          "KTM Wild Speed Disc 26 (2024)",
          "Scott Aspect 950 EQ (2022)",
          "KTM Ultra 1964 Comp (2024)",
          "KTM Ultra Ride (2024)",
          "Polygon Xtrada 7 29 (2025)",
          "Titan Racing Drone Dash (2024)",
          "Polygon Premier 4 29 (2025)",
          "Sunpeed Ace 27.5\" (2024)",
          "KTM Myroon Pro (2024)",
          "Sunpeed Zero 3 27.5\" (2024)",
          "Polygon Cascade 4 27.5 (2025)",
          "Polygon Premier 4 27.5 (2025)",
          "Atom Bion Seven 20 (2024)",
          "Polygon Xtrada 5 27.5 (2025)",
          "Sunpeed Zero 3 29\" (2024)",
          "Polygon Cascade 3 27.5 (2025)",
          "Sunpeed Rule 27.5\" (2024)",
          "Atom Bion Nine 20 (2024)",
          "Polygon Xtrada 6 27.5 (2025)",
          "Atom Bion Seven 50 (2024)",
          "KTM Myroon Prime (2024)",
          "Sunpeed Zero 5 27.5\" (2024)",
          "Stels Navigator 620 V K010 (2023)",
          "Stels Navigator 500 MD F020 (2023)",
          "Welt Storm 29 HD (2025)",
          "Welt Storm 29 MD (2025)",
          "Stinger Graphite Evo 29\" (2024)",
          "Aspect Radium 27.5 (2025)",
          "Stels Navigator 610 MD V050 (2025)",
          "Titan Racing Rogue Sport (2024)",
          "Welt Storm 27 MD (2025)",
          "Stinger Reload STD 29\" (2023)",
          "Stels Navigator 510 D V010 (2023)",
          "Aspect Radium 3x 29 (2025)",
          "Aspect Radium 3x 27.5 (2025)",
          "Titan Racing Rogue Ryde (2024)",
          "Forward Apache 29 X D (2024)",
          "Titan Racing Rogue Cruz (2024)",
          "Forward Sporting 27,5 X (2021)",
          "Stinger Graphite Evo 27.5\" (2024)",
          "Stark Hunter 27.2 HD (2023)",
          "Welt Rocket 4.0 29 HD (2025)",
          "Scott Scale 970 (2024)",
          "Stinger Element Evo 29\" (2024)",
          "Welt Ridge 1.1 D 29 (2024)",
          "Aspect Stimul 29 (2024)",
          "Hagen 5.9 29 (2025)",
          "Stark Tank 27.1 HD (2023)",
          "Format 1213 29' (2024)",
          "Scott Scale 940 (2024)",
          "Hagen 3.9 29 (2025)",
          "Rock Machine Blizz TRL 70-29 (2024)",
          "Scott Scale 965 (2024)",
          "Hagen 3.10 29 (2025)",
          "Format 1315 (2023)",
          "Hagen 7.11 29 (2025)",
          "Forward Buran 29 2.0 Disc (2021)",
          "Welt Raven 1.0 HD 29 (2024)",
          "Hagen 3.8 29 (2025)",
          "Stinger Genesis STD 29\" (2023)",
          "Scott Aspect 970 (2022)",
          "Hagen 3.11 29 (2025)",
          "Hagen 1.8 27.5 (2025)",
          "Hagen 4.10 27.5 (2025)",
          "Forward Sporting 27,5 2.0 D (2023)",
          "Stark Fat 27.3 HD (2024)",
          "Stark Respect 29.1 D Microshift (2023)",
          "Welt Ridge 1.1 HD 27 (2024)",
          "Welt Ranger 4.0 29 (2024)",
          "Aspect Legend 27.5 (2024)",
          "Stark Tank 26.1 D (2022)",
          "Format 1313 (2023)",
          "Welt Raven 2.1 HD 29 (2024)",
          "Aspect Stimul 27.5 (2022)",
          "Forward Sporting 27,5 2.2 D (2022)",
          "Forward Sporting 27,5 3.2 HD (2022)",
          "Aspect Legend 29 (2023)",
          "Hagen 3.10 27.5 (2025)",
          "Welt Peak 2.0 HD 27 (2022)",
          "Aspect Stimul 27.5 (2024)",
          "Aspect Stimul 29 (2023)",
          "Welt Rockfall 3.0 29 (2024)",
          "Aspect Thunder 29 (2023)",
          "Welt Rockfall 4.0 29 (2024)",
          "Stinger Python Evo 29\" (2023)",
          "Welt Rockfall 2.0 27 (2024)",
          "Hagen 1.9 27.5 (2025)",
          "Aspect Cobalt 29 (2023)",
          "Stark Tank 29.1 D Steel (2022)",
          "Dewolf Grow 30 (2022)",
          "Stels Adrenalin MD 27.5\" V010 (2023)",
          "Stinger Graphite Pro 27\" (2021)",
          "Forward Apache 27,5 3.2 Disc (2021)",
          "Hagen 3.8 27.5 (2025)",
          "Welt Rockfall 4.0 27 (2023)",
          "Forward Katana 27.5 D (2023)",
          "Stels Navigator 620 D 26\" V010 (2023)",
          "Atom Xtrail X12 (2024)",
          "Giant ATX 26 (2022)",
          "Hagen 1.10 27.5 (2025)",
          "Stels Navigator 620 MD 26 V010 (2023)",
          "Hogger Manava MD (2021)",
          "Aspect Air Comp 29 (2023)",
          "Atom XTrail X10 (2023)",
          "Stark Tank 29.2 D+ (2024)",
          "Forward Apache 27.5 2.0 D (2024)",
          "Forward Sporting 29 X (2021)",
          "Welt Rubicon 3.0 29 (2023)",
          "Stark Tank 27.1 D (2023)",
          "Stinger Quest STD 27.5\" (2023)",
          "Welt Ridge 2.0 HD 27 (2023)",
          "Forward Next 29 X D (2022)",
          "Welt Peak 1.0 HD 26 (2022)",
          "Scott Scale 940 (2022)",
          "Welt Raven 2.1 D 29 (2024)",
          "Welt Rockfall 5.0 27 (2023)",
          "Format 1314 Plus (2023)",
          "Stinger Graphite Evo 27.5\" (2023)",
          "Giant Talon 4 29 (2022)",
          "Format 1214 27.5 (2023)",
          "Forward Sporting 27,5 X D Courier (2022)",
          "Forward Hardi 26 2.0 D (2022)",
          "Welt Raven 1.0 HD 27 (2023)",
          "Forward Sporting 29 XX D (2022)",
          "Forward Hardi 26 2.0 Disc (2021)",
          "Welt Rockfall 5.0 29 (2023)",
          "Stinger Graphite Pro 29\" (2021)",
          "Format 1415 29 (2021)",
          "Format 1412 27.5 (2023)",
          "Stark Hunter 29.2 D (2024)",
          "Hogger Olympico MD (2021)",
          "Stark Krafter 29.8 HD (2023)",
          "Welt Raven 1.0 D 29 (2023)",
          "Welt Ridge 2.0 D 27,5 (2021)",
          "Stark Tactic 29.4 HD (2023)",
          "Format 1413 27.5 (2021)",
          "Format 1415 27,5 (2021)",
          "Format 1414 27.5 (2021)",
          "Giant Talon 5 29 (2022)",
          "Stark Armer 29.6 HD (2023)",
          "Welt Ridge 1.0 HD 27 (2022)",
          "Welt Raven 2.0 HD 27 (2023)",
          "Welt Ranger 3.0 27 (2024)",
          "Titan Racing Rogue SE (2024)",
          "Superior XP 979 (2024)",
          "Stels Navigator 700 MD Z010 (2025)",
          "Forward Sporting 27,5 3.2 HD (2023)",
          "Superior XP 909 (2024)",
          "Titan Racing Rogue Alpine (2024)",
          "Titan Racing Rogue Calypso Alpine (2024)",
          "Stinger Graphite Comp 29\" (2023)",
          "Cube Aim Race 29 (2024)",
          "Superior XC 879 (2024)",
          "Cube Reaction C:62 SLX 29 (2025)",
          "Cube Elite C:62 One (2024)",
          "Stels Navigator 710 D V010 (2023)",
          "KTM Ultra Glorious (2024)",
          "Scott Scale 930 (2024)",
          "Rock Machine Blizz CRB 20-29 (2024)",
          "KTM Myroon Exonic (2024)",
          "Stels Navigator 590 V K010 (2023)",
          "Stinger Graphite Pro 29\" (2024)",
          "Specialized Epic Hardtail (2024)",
          "Stinger Zeta STD 27.5\" (2023)",
          "Cube Analog 29 (2024)",
          "Scott Aspect 740 (2022)",
          "Stinger Python Evo 27.5\" (2023)",
          "Rock Machine Torrent 50-29 (2024)",
          "Cube Reaction C:62 Race 29 (2025)",
          "Rock Machine Blizz CRB 30-29 (2024)",
          "Forward Apache 27,5 1.0 Classic (2022)",
          "Rock Machine Manhattan 90-29 (2024)",
          "Welt Ridge 1.0 HD 27 (2024)",
          "Scott Aspect 940 (2024)",
          "Scott Scale RC World Cup AXS (2022)",
          "Titan Racing Cerberus Dash (2024)",
          "Stinger Graphite Evo 29\" (2023)",
          "Stark Hunter 29.2 D (2023)",
          "Titan Racing Cerberus Expert (2024)",
          "Scott Aspect 930 (2022)",
          "Titan Racing Cerberus Sport (2024)",
          "Cube Attention Pro 27.5 (2025)",
          "Welt Ridge 1.0 HD 29 (2024)",
          "Stinger Reload Evo 29\" (2023)",
          "FOXX Atlantic 29\" (2024)",
          "Stinger Graphite Comp 27.5\" (2023)",
          "Rock Machine Blizz 30-29 (2024)",
          "Aspect Ideal 27.5 (2024)",
          "Cube Attention SLX 27,5 (2025)",
          "Stark Hunter 27.2+ HD (2024)",
          "Forward Apache 27,5 1.0 (2021)",
          "Welt Raven 1.0 HD 27 (2024)",
          "Welt Ranger 2.0 27 (2024)",
          "Welt Reaver (2024)",
          "Welt Ridge 1.1 HD 29 (2024)",
          "Stark Outpost 27.1 D (2023)",
          "Titan Racing Calypso 26\" Disc (2024)",
          "Cube Aim SLX 29 (2024)",
          "Scott Scale RC Team Issue AXS (2022)",
          "Welt Ridge 2.0 HD 29 (2024)",
          "Bianchi Nitron 9.4 XT Deo (2024)",
          "Aspect Amp 29 (2024)",
          "Cube Aim 29 (2023)",
          "Format 1411 29 (2023)",
          "Scott Aspect 940 (2022)",
          "Sunpeed One 27.5\" (2024)",
          "Stark Tank 27.1 HD (2021)",
          "Aspect Ideal 26 (2023)",
          "Stinger Zeta STD 29\" (2023)",
          "Stark Tank 29.1 HD (2023)",
          "Aspect Nickel 27.5 (2024)",
          "Haro Double Peak 29 Trail (2021)",
          "Stinger Graphite Pro 27.5\" (2023)",
          "Hogger Bogota MD (2021)",
          "Stels Navigator 610 D V010 (2023)",
          "Polygon Premier 5 27.5 (2025)",
          "Forward Sporting 29 2.1 D (2023)",
          "Polygon Premier 5 29 (2023)",
          "Titan Racing Player Two (2024)",
          "Stels Navigator 910 MD V010 (2023)",
          "Stels Navigator 900 MD Z010 (2025)",
          "Format 1112 29 (2024)",
          "Forward Apache 27,5 1.2 (2022)",
          "Polygon Syncline C3 27,5 (2023)",
          "Stels Navigator 900 V F020 (2023)",
          "Welt Raven 1.0 D 27 (2024)",
          "Welt Raven 2.1 HD 27 (2024)",
          "Polygon Xtrada 6 27.5 (2023)",
          "Welt Ranger 4.0 27 (2024)",
          "Stark Respect 27.1 D Microshift (2023)",
          "Welt Ridge 2.0 HD 27 (2024)",
          "Stinger Python Pro 29\" (2023)",
          "Stels Navigator 900 MD F020 (2023)",
          "Stark Outpost 26.1 V (2022)",
          "Stels Navigator 920 D 29\" V010 (2023)",
          "Bergamont Revox 2 27,5 (2021)",
          "Stark Outpost 26.1 V (2023)",
          "Welt Ranger 2.0 29 (2024)",
          "Merida Big.Nine LTD (2023)",
          "Aspect Ronin 29 (2024)",
          "Merida Big.Seven Limited 2.0 (2022)",
          "Aspect Air 27.5 (2024)",
          "Welt Rockfall 2.0 29 (2024)",
          "Cube Aim EX 29 (2024)",
          "Bianchi Nitron 9.2 XT/SLX (2024)",
          "Cube Attention 29 (2024)",
          "Cube Phenix C:68X SLT (2025)",
          "Rock Machine Manhattan 40-29 (2024)",
          "Cube Acid 29 (2024)",
          "Merida Big.Nine 150 (2023)",
          "Superior XP 929 (2024)",
          "Aspect Ideal HD 27.5 (2024)",
          "Aspect Ideal HD 29 (2024)",
          "Sunpeed One 29\" (2024)",
          "Cube Aim SL 29 (2022)",
          "Aspect Legend 29 (2024)",
          "Cube Attention SL 29 (2022)",
          "Aspect Nickel 29 (2024)",
          "Superior XC 889 (2024)",
          "Cube Reaction C:62 Pro (2024)",
          "Welt Rockfall 5.0 27 (2024)",
          "Trek Marlin 6 29\" (2022)",
          "Polygon Syncline C3 29 (2023)",
          "Aspect Ideal 29 (2024)",
          "Aspect Nickel 29 (2023)",
          "Polygon Syncline C2 29 (2023)",
          "Aspect Air Pro 29 (2024)",
          "Welt Rockfall 3.0 27 (2024)",
          "Polygon Syncline C5 29 (2023)",
          "Polygon Xtrada 7 29 (2023)",
          "Stinger Element Pro 29\" (2023)",
          "Polygon Premier 4 27.5 (2023)",
          "Aspect Nickel 26 (2024)",
          "Welt Rockfall 5.0 29 (2024)",
          "Stark Hunter 27.2 D (2024)",
          "Aspect Nickel 26 (2023)",
          "Polygon Xtrada 7 27.5 (2023)",
          "Scott Scale 960 (2024)",
          "Polygon Xtrada 5 29 (2023)",
          "Scott Scale 910 (2024)",
          "Polygon Xtrada 6 29 (2023)",
          "Polygon Cascade 4 27.5 (2023)",
          "Aspect Amp Elite (2024)",
          "Forward Sporting 29 2.0 D (2023)",
          "Stels Navigator 700 MD F020 (2023)",
          "Aspect Air 29 (2024)",
          "Stels Navigator 700 D F010 (2023)",
          "Aspect Nickel 27.5 (2023)",
          "Merida Big.Nine 400 (2022)",
          "Scott Aspect 960 (2022)",
          "Cube Reaction TM One 27.5 (2025)",
          "Welt Raven 1.0 D 29 (2024)",
          "Haro Flightline Two 29 (2021)",
          "Cube Phenix C:68X SLX (2025)",
          "Welt Rockfall SE Plus 27 (2024)",
          "Welt Ridge 2.0 HD 27 (2022)",
          "Aspect Ideal HD 26 (2024)",
          "Welt Rubicon 1.0 27,5 (2021)",
          "Aspect Ronin (2022)",
          "Aspect Nickel 27.5 (2022)",
          "Aspect Nickel 29 (2022)",
          "Polygon Premier 5 29 (2025)",
          "Scott Scale 980 (2023)",
          "Polygon Premier 5 27.5 (2023)",
          "Polygon Premier 4 29 (2023)",
          "Aspect Cobalt 29 (2024)",
          "Welt Rockfall 4.0 27,5 (2021)",
          "Stels Navigator 700 V 27.5\" F020 (2023)",
          "Aspect Air 29 (2023)",
          "Haro Flightline Two 27.5 (2021)",
          "Aspect Air 27.5 (2023)",
          "Aspect Legend 27.5 (2023)",
          "Welt Ranger 2.0 27 (2023)",
          "Merida Big.Nine Limited 2.0 (2022)",
          "Cube Reaction C:62 One (2024)",
          "Merida Big.Trail 500 (2022)",
          "Aspect Thunder 29 (2024)",
          "Haro Flightline Two 27.5 DLX (2021)",
          "Merida Big.Nine 300 (2022)",
          "Merida Big.Nine 500 (2022)",
          "Merida Big.Trail 600 (2022)",
          "Forward Spike 27,5 D (2023)",
          "Superior XC 899 (2024)",
          "Superior Team 29 Elite (2024)",
          "Welt Ranger 2.0 29 (2023)",
          "Scott Aspect 770 (2022)",
          "Welt Rockfall 1.0 29 (2024)",
          "Aspect Ideal 27.5 (2023)",
          "Aspect Air Elite 29 (2024)",
          "Merida Big.Nine 200 (2022)",
          "Polygon Cascade 2 27.5 (2023)",
          "Stinger Element Evo 26\" (2024)",
          "Haro Double Peak 29 Comp (2021)",
          "Merida Big.Nine 100-3x (2021)",
          "Stels Navigator 700 Курьер MD Z010 (2024)",
          "Tsinova Kupper Unicorn Pro (2018)",
          "Polygon Cascade 3 27.5 (2023)",
          "Format 1212 27.5 (2023)",
          "Haro Flightline Two 29 DLX (2021)",
          "Aspect Ideal 27.5 (2022)",
          "Cube Aim EX 29 (2023)",
          "Merida Big.Trail 400 (2022)",
          "Merida Big.Seven 300 (2022)",
          "Scott Scale 950 (2022)",
          "Scott Aspect 910 (2022)",
          "Aspect Air Pro 27.5 (2022)",
          "Stinger Element Evo SE 29\" (2022)",
          "Merida Big.Nine 100-3x (2022)",
          "Merida Big.Nine 600 (2022)",
          "Aspect Ideal 26 (2024)",
          "Welt Raven 2.0 HD 29 (2023)",
          "Stinger Element Pro SE 29\" (2022)",
          "Haro Flightline One 27.5 (2021)",
          "Merida Big.Seven 10 (2023)",
          "Welt Rockfall 1.0 27 (2023)",
          "Aspect Ideal 29 (2023)",
          "Merida Big.Nine XT (2022)",
          "Merida Big.Nine Limited (2021)",
          "Welt Rockfall 1.0 27 (2024)",
          "Merida Big.Nine 9000 (2021)",
          "Haro Double Peak 29 Sport (2021)",
          "Stinger Element STD 29\" (2022)",
          "Stels Navigator 900 MD 29\" F010 (2023)",
          "Trek Procaliber 9.5 (2022)",
          "Aspect Nickel (2022)",
          "Stinger Element Pro 27.5\" (2023)",
          "Forward Flash 26 2.0 Disc (2021)",
          "Rock Machine Blizz CRB 50-29 (2024)",
          "Aspect NICKEL (2021)",
          "Stinger Element STD 27\" (2022)",
          "Welt Rockfall SE Plus 27 (2023)",
          "Aspect Amp Pro 29 (2024)",
          "Merida Big.Nine 9000 (2022)",
          "Cube Aim 29 (2022)",
          "Cube Aim Pro 29 (2024)",
          "Welt Rockfall 2.0 27.5 (2021)",
          "Aspect AIR 29 (2021)",
          "Aspect Air 29 (2022)",
          "Format 1213 27.5 (2023)",
          "Stark Respect 27.1 D Microshift (2022)",
          "Scott Scale 965 (2022)",
          "Pardus Naik 27.5\" (2024)",
          "Aspect Air Pro 29 (2023)",
          "Aspect Air Comp 27.5 (2022)",
          "Forward Sporting 27,5 2.0 (2023)",
          "Haro Double Peak 27.5 Comp (2021)",
          "Welt Rockfall 3.0 SE + (2021)",
          "Welt Rubicon 3.0 29 (2024)",
          "Stels Navigator 900 D F020 (2023)",
          "Rock Machine Manhattan 70-29 (2024)",
          "Merida Big.Nine 7000 (2022)",
          "Welt Rockfall 4.0 27 (2024)",
          "Polygon Xtrada 5 27.5 (2023)",
          "Trek Procaliber 9.8 (2021)",
          "Welt Rockfall 2.0 29 (2023)",
          "Cube Reaction Hybrid Pro 400 29 (2018)",
          "Welt Ranger 1.0 27 (2024)",
          "Scott Scale 930 (2022)",
          "Aspect NICKEL 29 (2021)",
          "Merida Big.Nine 200 (2021)",
          "Hogger Riser MD (2021)",
          "Stels Navigator 930 MD V010 (2025)",
          "Welt Ranger 1.0 27 (2023)",
          "Stels Navigator 705 MD V010 (2023)",
          "Trek Procaliber 9.6 (2022)",
          "Titan Racing Drone Sport (2024)",
          "Stels Navigator 920 MD V010 (2025)",
          "Welt Freedom 27 Plus (2024)",
          "Stels Navigator 510 MD V010 (2023)",
          "Giant Talon 4 27.5 (2022)",
          "Stels Navigator 700 MD Курьер Z010 (2025)",
          "Merida Big.Nine 700 (2022)",
          "Haro Double Peak 27.5 Trail (2021)",
          "Stark Hunter 27.3 HD (2024)",
          "Scott Voltage YZ 0.1 (2021)",
          "Aspect Air 27.5 (2022)",
          "Cube Race One 29 (2022)",
          "Forward Dakota 27,5 2.0 D (2022)",
          "Aspect IDEAL (2021)",
          "Welt Ridge 1.0 D 27 (2024)",
          "Format 1322 (2023)",
          "Merida Big.Nine 400 (2021)",
          "Format 1422 29 (2023)",
          "Stark Indy 26.1 D Microshift (2022)",
          "Format 1313 (2021)",
          "Scott Aspect 940 (2021)",
          "Cube Aim SLX Allroad 29 (2023)",
          "Haro Double Peak 27.5 Sport (2021)",
          "Aspect Limited 29 (2022)",
          "Trek Procaliber 9.7 (2022)",
          "Stels Navigator 500 V F020 (2023)",
          "Pardus Rock Crusher Sport 29\" (2024)",
          "Slash Stream 3.0 26 (2021)",
          "Stinger Element Evo 27.5\" (2024)",
          "Hagen Five Ten 29 (2024)",
          "Cube Elite C:68X SLT (2024)",
          "Rock Machine Vyöry 30-26 (2024)",
          "Stinger Caiman 26\" (2023)",
          "Merida Big.Seven 100 (2022)",
          "Stinger Element Pro 26\" (2023)",
          "Cube Elite C:68X Race (2023)",
          "Stels Navigator 500 MD 26\" F010 (2023)",
          "Aspect Amp Elite 29 (2022)",
          "Format 1122 (2023)",
          "Merida Big.Seven 20 (2022)",
          "Trek Roscoe 8 29\" (2022)",
          "Welt Ridge 1.0 D 29 (2023)",
          "Stels Navigator 500 D F010 (2023)",
          "Aspect Limited (2024)",
          "Cube Elite C:62 Pro (2023)",
          "Welt Ridge 2.0 D 29 (2024)",
          "Slash Stream 2.0 29 (2021)",
          "Cube Aim 27.5 (2022)",
          "Stinger Zeta STD 29\" (2021)",
          "Stark Hunter 29.3 HD (2023)",
          "Format 1411 29 (2021)",
          "Trek X-Caliber 9 29\" (2022)",
          "Aspect Amp Elite 27.5 (2022)",
          "Polygon Syncline C5 27,5 (2023)",
          "Scott Scale 960 (2023)",
          "Welt Rockfall 2.0 29 SRT (2021)",
          "Stark E-Hunter 27.2 D (2020)",
          "Cube Reaction C:62 One (2023)",
          "Aspect LEGEND 29 (2021)",
          "Stark Hunter 27.3 HD (2023)",
          "Cube Elite C:68X Race (2022)",
          "Welt Ridge 2.0 D 27 (2023)",
          "Scott Scale 970 (2023)",
          "Cube Aim Race Allroad 29 (2025)",
          "Aspect DISCOVERY (2018)",
          "Cube Reaction C:62 One (2021)",
          "Welt Ridge 2.0 D 27 (2024)",
          "Welt Ridge 1.0 D 29 (2024)",
          "Merida Big.Nine 3000 (2022)",
          "Aspect Stimul 27.5 (2023)",
          "Forward Apache 27,5 2.0 D (2023)",
          "Rock Machine Torrent 90-29 (2024)",
          "Rock Machine Torrent 20-29 (2024)",
          "Welt Raven 2.0 HD 27 (2024)",
          "Polygon Syncline C2 27,5 (2023)",
          "Cube Reaction C:62 Race (2024)",
          "Scott Scale 965 (2023)",
          "Forward Sporting 29 X D Courier (2022)",
          "Cube Reaction TM 29 (2023)",
          "Trek Farley 7 (2022)",
          "Stinger Element Evo 27.5\" (2023)",
          "Welt Rockfall 2.0 27 (2023)",
          "Univega Summit E Edition (2018)",
          "Merida Big.Nine XT (2021)",
          "Giant Fathom 2 (2021)",
          "Stinger Element Evo 29\" (2021)",
          "Cube Aim 27.5 (2023)",
          "Format 1112 (2023)",
          "Giant XTC Advanced 29 1.5 (2021)",
          "Stinger Element Pro SE 27\" (2022)",
          "Cube Attention 29 (2023)",
          "Cube Aim SLX 29 (2023)",
          "Giant Talon 29 0 (2022)",
          "Format 1411 29 (2022)",
          "Stinger Element STD 26\" (2022)",
          "Cube Aim Pro 29 (2023)",
          "Stark Respect 26.1 D Microshift (2023)",
          "Giant ATX 27.5 (2021)",
          "Welt Ridge 1.0 HD 27.5 (2021)",
          "Welt Rubicon 2.0 29 (2024)",
          "Merida eBIG.SEVEN 500 (2018)",
          "Merida Big.Seven 60-3x (2021)",
          "Cube Elite C:68X SLX (2024)",
          "Cube Aim SLX Allroad 29 (2025)",
          "Rock Machine Blizz TRL 40-29 (2024)",
          "Aspect Air Pro 29 (2022)",
          "Merida Big.Seven 300 (2021)"
         ],
         "legendgroup": "0",
         "marker": {
          "color": "#00cc96",
          "symbol": "circle"
         },
         "mode": "markers",
         "name": "0",
         "showlegend": true,
         "type": "scattergl",
         "x": {
          "bdata": "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",
          "dtype": "f4"
         },
         "xaxis": "x",
         "y": {
          "bdata": "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",
          "dtype": "f4"
         },
         "yaxis": "y"
        },
        {
         "customdata": [
          [
           "Aspect",
           "Женский велосипед",
           41990
          ],
          [
           "Aspect",
           "Шоссейный велосипед",
           99990
          ],
          [
           "Aspect",
           "Подростковый велосипед",
           39490
          ],
          [
           "Aspect",
           "Женский велосипед",
           47990
          ],
          [
           "Stels",
           "Подростковый велосипед",
           24790
          ],
          [
           "Merida",
           "Детский велосипед",
           35275
          ],
          [
           "Aspect",
           "Подростковый велосипед",
           39950
          ],
          [
           "Aspect",
           "Комфортный велосипед",
           58990
          ],
          [
           "Aspect",
           "Комфортный велосипед",
           58990
          ],
          [
           "Spinn",
           "Женский велосипед",
           43900
          ],
          [
           "Stels",
           "Детский велосипед",
           14190
          ],
          [
           "Aspect",
           "Подростковый велосипед",
           39490
          ],
          [
           "Stels",
           "Женский велосипед",
           32520
          ],
          [
           "Aspect",
           "Складной велосипед",
           47990
          ],
          [
           "Stels",
           "Подростковый велосипед",
           36430
          ],
          [
           "FOXX",
           "Женский велосипед",
           23850
          ],
          [
           "Aspect",
           "Женский велосипед",
           47990
          ],
          [
           "Spinn",
           "Женский велосипед",
           43900
          ],
          [
           "Stels",
           "Подростковый велосипед",
           20880
          ],
          [
           "Aspect",
           "Детский велосипед",
           34490
          ],
          [
           "Aspect",
           "Складной велосипед",
           49490
          ],
          [
           "Aspect",
           "Подростковый велосипед",
           41990
          ],
          [
           "Stels",
           "Подростковый велосипед",
           28470
          ],
          [
           "Format",
           "Шоссейный велосипед",
           101640
          ],
          [
           "Stark",
           "Двухподвесный велосипед",
           32990
          ],
          [
           "Stels",
           "Складной велосипед",
           17790
          ],
          [
           "Stark",
           "Шоссейный велосипед",
           56990
          ],
          [
           "Stels",
           "Детский велосипед",
           14190
          ],
          [
           "Stark",
           "Городской велосипед",
           31790
          ],
          [
           "Stels",
           "Женский велосипед",
           39720
          ],
          [
           "Stark",
           "Комфортный велосипед",
           55130
          ],
          [
           "Novatrack",
           "Подростковый велосипед",
           23040
          ],
          [
           "Stels",
           "Двухподвесный велосипед",
           22150
          ],
          [
           "Aspect",
           "Подростковый велосипед",
           41990
          ],
          [
           "Stark",
           "Складной велосипед",
           56990
          ],
          [
           "Schwinn",
           "Комфортный велосипед",
           54990
          ],
          [
           "Stels",
           "Подростковый велосипед",
           51250
          ],
          [
           "Aspect",
           "Детский велосипед",
           34490
          ],
          [
           "Stark",
           "Складной велосипед",
           61990
          ],
          [
           "Stels",
           "Женский велосипед",
           32520
          ],
          [
           "Aspect",
           "Складной велосипед",
           56490
          ],
          [
           "Novatrack",
           "Подростковый велосипед",
           22540
          ],
          [
           "Haro",
           "Подростковый велосипед",
           37900
          ],
          [
           "Stels",
           "Подростковый велосипед",
           26890
          ],
          [
           "Stark",
           "Городской велосипед",
           47990
          ],
          [
           "Stinger",
           "Подростковый велосипед",
           33200
          ],
          [
           "Novatrack",
           "Подростковый велосипед",
           23790
          ],
          [
           "Stels",
           "Комфортный велосипед",
           27330
          ],
          [
           "FOXX",
           "Подростковый велосипед",
           21500
          ],
          [
           "Stark",
           "Складной велосипед",
           59990
          ],
          [
           "Aspect",
           "Складной велосипед",
           52990
          ],
          [
           "Stark",
           "Женский велосипед",
           44780
          ],
          [
           "Stark",
           "Городской велосипед",
           33390
          ],
          [
           "Novatrack",
           "Подростковый велосипед",
           23070
          ],
          [
           "Novatrack",
           "Складной велосипед",
           30770
          ],
          [
           "Stark",
           "Складной велосипед",
           56990
          ],
          [
           "Stark",
           "Велосипед начального уровня",
           55540
          ],
          [
           "Format",
           "Городской велосипед",
           101640
          ],
          [
           "Stinger",
           "Женский велосипед",
           34900
          ],
          [
           "Stark",
           "Шоссейный велосипед",
           82420
          ],
          [
           "Stinger",
           "Женский велосипед",
           34900
          ],
          [
           "Stark",
           "Городской велосипед",
           48590
          ],
          [
           "Stark",
           "Женский велосипед",
           44990
          ],
          [
           "Novatrack",
           "Складной велосипед",
           29710
          ],
          [
           "Stels",
           "Подростковый велосипед",
           21110
          ],
          [
           "Aspect",
           "Складной велосипед",
           53990
          ],
          [
           "Spinn",
           "Комфортный велосипед",
           43900
          ],
          [
           "Polygon",
           "Шоссейный велосипед",
           117040
          ],
          [
           "Stinger",
           "Спортивный велосипед",
           16680
          ],
          [
           "Stels",
           "Подростковый велосипед",
           25310
          ],
          [
           "Electra",
           "Комфортный велосипед",
           93000
          ],
          [
           "Stark",
           "Женский велосипед",
           38690
          ],
          [
           "Stels",
           "Подростковый велосипед",
           37710
          ],
          [
           "Stinger",
           "Женский велосипед",
           34900
          ],
          [
           "Stark",
           "Велосипед начального уровня",
           61690
          ],
          [
           "Bear Bike",
           "Дорожный велосипед",
           50760
          ],
          [
           "Stels",
           "Комфортный велосипед",
           29040
          ],
          [
           "Novatrack",
           "Складной велосипед",
           46830
          ],
          [
           "Novatrack",
           "Складной велосипед",
           37070
          ],
          [
           "Novatrack",
           "Складной велосипед",
           30770
          ],
          [
           "Haro",
           "Детский велосипед",
           35300
          ],
          [
           "Spinn",
           "Комфортный велосипед",
           45900
          ],
          [
           "Slash",
           "Подростковый велосипед",
           29500
          ],
          [
           "Stels",
           "Подростковый велосипед",
           25310
          ],
          [
           "Polygon",
           "Женский велосипед",
           66150
          ],
          [
           "Stark",
           "Складной велосипед",
           32730
          ],
          [
           "Novatrack",
           "Подростковый велосипед",
           44050
          ],
          [
           "Maxiscoo",
           "Подростковый велосипед",
           32400
          ],
          [
           "Bear Bike",
           "Городской велосипед",
           86610
          ],
          [
           "Hagen",
           "Подростковый велосипед",
           51740
          ],
          [
           "Novatrack",
           "Складной велосипед",
           29710
          ],
          [
           "Novatrack",
           "Подростковый велосипед",
           25960
          ],
          [
           "Format",
           "Женский велосипед",
           57120
          ],
          [
           "Haro",
           "Подростковый велосипед",
           47500
          ],
          [
           "Titan Racing",
           "Подростковый велосипед",
           54000
          ],
          [
           "Novatrack",
           "Подростковый велосипед",
           26200
          ],
          [
           "Electra",
           "Женский велосипед",
           179000
          ],
          [
           "Pifagor",
           "Детский велосипед",
           33700
          ],
          [
           "Pifagor",
           "Подростковый велосипед",
           39900
          ],
          [
           "Novatrack",
           "Подростковый велосипед",
           27920
          ],
          [
           "Stels",
           "Детский велосипед",
           23000
          ],
          [
           "Novatrack",
           "Складной велосипед",
           37190
          ],
          [
           "Stels",
           "Складной велосипед",
           15990
          ],
          [
           "Maxiscoo",
           "Подростковый велосипед",
           32400
          ],
          [
           "Stels",
           "Подростковый велосипед",
           26890
          ],
          [
           "Maxiscoo",
           "Подростковый велосипед",
           38900
          ],
          [
           "Novatrack",
           "Детский велосипед",
           21880
          ],
          [
           "Maxiscoo",
           "Складной велосипед",
           31500
          ],
          [
           "Novatrack",
           "Подростковый велосипед",
           27680
          ],
          [
           "Scott",
           "Подростковый велосипед",
           64990
          ],
          [
           "Stinger",
           "Подростковый велосипед",
           33200
          ],
          [
           "Polygon",
           "Женский велосипед",
           75117
          ],
          [
           "Electra",
           "Комфортный велосипед",
           85000
          ],
          [
           "Scott",
           "Детский велосипед",
           51990
          ],
          [
           "Maxiscoo",
           "Подростковый велосипед",
           48900
          ],
          [
           "Maxiscoo",
           "Детский велосипед",
           35900
          ],
          [
           "Maxiscoo",
           "Подростковый велосипед",
           38900
          ],
          [
           "Novatrack",
           "Детский велосипед",
           28720
          ],
          [
           "Schwinn",
           "Женский велосипед",
           46990
          ],
          [
           "Maxiscoo",
           "Подростковый велосипед",
           37700
          ],
          [
           "Polygon",
           "Складной велосипед",
           51750
          ],
          [
           "Maxiscoo",
           "Складной велосипед",
           51300
          ],
          [
           "Polygon",
           "Городской велосипед",
           71610
          ],
          [
           "Novatrack",
           "Подростковый велосипед",
           33160
          ],
          [
           "Welt",
           "Подростковый велосипед",
           39990
          ],
          [
           "Novatrack",
           "Подростковый велосипед",
           34810
          ],
          [
           "Stark",
           "Подростковый велосипед",
           37490
          ],
          [
           "Titan Racing",
           "Детский велосипед",
           22410
          ],
          [
           "Maxiscoo",
           "Складной велосипед",
           43990
          ],
          [
           "Novatrack",
           "Детский велосипед",
           28320
          ],
          [
           "Novatrack",
           "Детский велосипед",
           29600
          ],
          [
           "Novatrack",
           "Детский велосипед",
           20230
          ],
          [
           "Novatrack",
           "Подростковый велосипед",
           34330
          ],
          [
           "Novatrack",
           "Подростковый велосипед",
           29600
          ],
          [
           "Novatrack",
           "Подростковый велосипед",
           34340
          ],
          [
           "Polygon",
           "Комфортный велосипед",
           93920
          ],
          [
           "Electra",
           "Комфортный велосипед",
           69000
          ],
          [
           "Hagen",
           "Подростковый велосипед",
           62090
          ],
          [
           "Welt",
           "Детский велосипед",
           34990
          ],
          [
           "Polygon",
           "Женский велосипед",
           68400
          ],
          [
           "Electra",
           "Женский велосипед",
           79000
          ],
          [
           "Polygon",
           "Городской велосипед",
           75117
          ],
          [
           "Stels",
           "Подростковый велосипед",
           32270
          ],
          [
           "Scott",
           "Подростковый велосипед",
           64990
          ],
          [
           "Novatrack",
           "Подростковый велосипед",
           43630
          ],
          [
           "Novatrack",
           "Складной велосипед",
           50100
          ],
          [
           "Electra",
           "Женский велосипед",
           69000
          ],
          [
           "Stark",
           "Детский велосипед",
           51990
          ],
          [
           "Novatrack",
           "Детский велосипед",
           25320
          ],
          [
           "Stark",
           "Детский велосипед",
           33990
          ],
          [
           "Novatrack",
           "Подростковый велосипед",
           39450
          ],
          [
           "Maxiscoo",
           "Подростковый велосипед",
           56900
          ],
          [
           "Polygon",
           "Комфортный велосипед",
           72600
          ],
          [
           "Novatrack",
           "Подростковый велосипед",
           35890
          ],
          [
           "Stels",
           "Детский велосипед",
           23160
          ],
          [
           "Format",
           "Шоссейный велосипед",
           49900
          ],
          [
           "Stark",
           "Подростковый велосипед",
           57590
          ],
          [
           "Polygon",
           "Женский велосипед",
           77865
          ],
          [
           "Format",
           "Подростковый велосипед",
           32900
          ],
          [
           "Format",
           "Подростковый велосипед",
           36500
          ],
          [
           "Format",
           "Подростковый велосипед",
           39900
          ],
          [
           "Maxiscoo",
           "Детский велосипед",
           35900
          ],
          [
           "Haro",
           "Детский велосипед",
           45200
          ],
          [
           "Electra",
           "Женский велосипед",
           79000
          ],
          [
           "FOXX",
           "Подростковый велосипед",
           24300
          ],
          [
           "Maxiscoo",
           "Детский велосипед",
           72900
          ],
          [
           "Stels",
           "Детский велосипед",
           25450
          ],
          [
           "Novatrack",
           "Подростковый велосипед",
           33970
          ],
          [
           "Stels",
           "Подростковый велосипед",
           36250
          ],
          [
           "Format",
           "Детский велосипед",
           34900
          ],
          [
           "Stels",
           "Подростковый велосипед",
           28470
          ],
          [
           "Sunpeed",
           "Шоссейный велосипед",
           93800
          ],
          [
           "Медведь",
           "Фэтбайк",
           109890
          ],
          [
           "Sunpeed",
           "Шоссейный велосипед",
           91400
          ],
          [
           "Scott",
           "Детский велосипед",
           51990
          ],
          [
           "Scott",
           "Женский велосипед",
           68990
          ],
          [
           "Welt",
           "Подростковый велосипед",
           47990
          ],
          [
           "Novatrack",
           "Детский велосипед для возраста от 5 до 9 лет (18\", 20\")",
           22140
          ],
          [
           "Electra",
           "Женский велосипед",
           179000
          ],
          [
           "Sunpeed",
           "Женский велосипед",
           36900
          ],
          [
           "Electra",
           "Комфортный велосипед",
           179000
          ],
          [
           "Polygon",
           "Шоссейный велосипед",
           90985
          ],
          [
           "Scott",
           "Подростковый велосипед",
           89990
          ],
          [
           "Maxiscoo",
           "Складной велосипед",
           43990
          ],
          [
           "KTM",
           "Подростковый велосипед",
           473400
          ],
          [
           "Polygon",
           "Шоссейный велосипед",
           136245
          ],
          [
           "KTM",
           "Подростковый велосипед",
           94400
          ],
          [
           "Scott",
           "Подростковый велосипед",
           89990
          ],
          [
           "KTM",
           "Детский велосипед",
           87900
          ],
          [
           "Polygon",
           "Классический шоссейник",
           147560
          ],
          [
           "KTM",
           "Детский велосипед",
           70320
          ],
          [
           "Sunpeed",
           "Подростковый велосипед",
           59900
          ],
          [
           "Polygon",
           "Шоссейный велосипед",
           105090
          ],
          [
           "KTM",
           "Детский велосипед",
           83500
          ],
          [
           "KTM",
           "Подростковый велосипед",
           83600
          ],
          [
           "Polygon",
           "Городской велосипед",
           107325
          ],
          [
           "Sunpeed",
           "Детский велосипед",
           33200
          ],
          [
           "Electra",
           "Комфортный велосипед",
           85000
          ],
          [
           "Stels",
           "Женский велосипед",
           18980
          ],
          [
           "Welt",
           "Женский велосипед",
           34990
          ],
          [
           "Aspect",
           "Подростковый велосипед",
           47990
          ],
          [
           "Aspect",
           "Женский велосипед",
           41990
          ],
          [
           "Stels",
           "Женский велосипед",
           25870
          ],
          [
           "Stels",
           "Женский велосипед",
           28020
          ],
          [
           "Haro",
           "Детский велосипед",
           26605
          ],
          [
           "Stels",
           "Женский велосипед",
           30850
          ],
          [
           "Aspect",
           "Складной велосипед",
           59990
          ],
          [
           "Stels",
           "Подростковый велосипед",
           23730
          ],
          [
           "Stels",
           "Складной велосипед",
           15630
          ],
          [
           "Stels",
           "Подростковый велосипед",
           20570
          ],
          [
           "Stels",
           "Женский велосипед",
           16710
          ],
          [
           "Novatrack",
           "Подростковый велосипед",
           24010
          ],
          [
           "Stels",
           "Складной велосипед",
           15630
          ],
          [
           "Giant",
           "Женский велосипед",
           50990
          ],
          [
           "Novatrack",
           "Подростковый велосипед",
           25900
          ],
          [
           "Stels",
           "Складной велосипед",
           34920
          ],
          [
           "Aspect",
           "Комфортный велосипед",
           42067
          ],
          [
           "Stels",
           "Женский велосипед",
           17070
          ],
          [
           "Stark",
           "Складной велосипед",
           33490
          ],
          [
           "Giant",
           "Женский велосипед",
           49990
          ],
          [
           "Stark",
           "Женский велосипед",
           38690
          ],
          [
           "Stels",
           "Складной велосипед",
           20570
          ],
          [
           "Format",
           "Женский велосипед",
           54080
          ],
          [
           "Stels",
           "Женский велосипед",
           28020
          ],
          [
           "Stels",
           "Складной велосипед",
           22150
          ],
          [
           "Stinger",
           "Женский велосипед",
           42000
          ],
          [
           "Stels",
           "Складной велосипед",
           37880
          ],
          [
           "Novatrack",
           "Подростковый велосипед",
           24010
          ],
          [
           "Welt",
           "Женский велосипед",
           48990
          ],
          [
           "Stels",
           "Складной велосипед",
           31600
          ],
          [
           "Stark",
           "Городской велосипед",
           53740
          ],
          [
           "Stels",
           "Подростковый велосипед",
           29290
          ],
          [
           "Aspect",
           "Городской велосипед",
           89667
          ],
          [
           "Aspect",
           "Женский велосипед",
           30167
          ],
          [
           "Stels",
           "Детский велосипед",
           26910
          ],
          [
           "Aspect",
           "Складной велосипед",
           41990
          ],
          [
           "Stinger",
           "Городской велосипед",
           36900
          ],
          [
           "Stark",
           "Женский велосипед",
           55130
          ],
          [
           "Aspect",
           "Комфортный велосипед",
           49490
          ],
          [
           "Stels",
           "Подростковый велосипед",
           22280
          ],
          [
           "Welt",
           "Подростковый велосипед",
           39990
          ],
          [
           "Welt",
           "Детский велосипед",
           35990
          ],
          [
           "Electra",
           "Женский велосипед",
           79000
          ],
          [
           "Maxiscoo",
           "Детский велосипед",
           30900
          ],
          [
           "Novatrack",
           "Подростковый велосипед",
           29480
          ],
          [
           "Pifagor",
           "Детский велосипед",
           40100
          ],
          [
           "Stels",
           "Женский велосипед",
           46560
          ],
          [
           "Welt",
           "Женский велосипед",
           34990
          ],
          [
           "Welt",
           "Женский велосипед",
           51990
          ],
          [
           "Titan Racing",
           "Детский велосипед",
           54000
          ],
          [
           "Novatrack",
           "Детский велосипед",
           25700
          ],
          [
           "Stark",
           "Женский велосипед",
           43860
          ],
          [
           "Alpinebike",
           "Детский велосипед",
           34990
          ],
          [
           "Alpinebike",
           "Подростковый велосипед",
           37990
          ],
          [
           "Novatrack",
           "Подростковый велосипед",
           28200
          ],
          [
           "Welt",
           "Детский велосипед",
           31990
          ],
          [
           "Welt",
           "Подростковый велосипед",
           47990
          ],
          [
           "Forward",
           "Детский велосипед",
           24590
          ],
          [
           "Alpinebike",
           "Подростковый велосипед",
           45990
          ],
          [
           "Giant",
           "Женский велосипед",
           38540
          ],
          [
           "Haro",
           "Женский велосипед",
           49550
          ],
          [
           "Welt",
           "Подростковый велосипед",
           41990
          ],
          [
           "Novatrack",
           "Подростковый велосипед",
           27590
          ],
          [
           "Haro",
           "Детский велосипед",
           29665
          ],
          [
           "Stels",
           "Подростковый велосипед",
           24900
          ],
          [
           "Novatrack",
           "Детский велосипед",
           29640
          ],
          [
           "Welt",
           "Женский велосипед",
           29990
          ],
          [
           "Novatrack",
           "Подростковый велосипед",
           30360
          ],
          [
           "Stark",
           "Складной велосипед",
           39770
          ],
          [
           "Stels",
           "Подростковый велосипед",
           21110
          ],
          [
           "Stark",
           "Складной велосипед",
           39480
          ],
          [
           "Giant",
           "Подростковый велосипед для девочек",
           34990
          ],
          [
           "Stark",
           "Женский велосипед",
           22790
          ],
          [
           "Welt",
           "Велосипед любительского уровня",
           26990
          ],
          [
           "Aspect",
           "Подростковый велосипед",
           31017
          ],
          [
           "Novatrack",
           "Детский велосипед",
           23440
          ],
          [
           "Stels",
           "Складной велосипед",
           19220
          ],
          [
           "Forward",
           "Велосипед начального уровня",
           37390
          ],
          [
           "Novatrack",
           "Подростковый велосипед",
           25630
          ],
          [
           "Forward",
           "Шоссейный велосипед",
           39790
          ],
          [
           "Forward",
           "Велосипед начального уровня",
           36790
          ],
          [
           "Stinger",
           "Подростковый велосипед",
           23800
          ],
          [
           "Stark",
           "Женский велосипед",
           47990
          ],
          [
           "Aspect",
           "Комфортный велосипед",
           46490
          ],
          [
           "Stels",
           "Складной велосипед",
           15990
          ],
          [
           "Stark",
           "Городской велосипед",
           30990
          ],
          [
           "Giant",
           "Женский велосипед",
           46990
          ],
          [
           "Dahon",
           "Складной велосипед",
           41100
          ],
          [
           "Format",
           "Шоссейный велосипед",
           137490
          ],
          [
           "Stark",
           "Женский велосипед",
           36590
          ],
          [
           "Stels",
           "Подростковый велосипед",
           36430
          ],
          [
           "Forward",
           "Женский велосипед",
           25120
          ],
          [
           "Stels",
           "Подростковый велосипед",
           19220
          ],
          [
           "Hogger",
           "Женский велосипед",
           27880
          ],
          [
           "Giant",
           "Детский велосипед для возраста от 5 до 9 лет (18\", 20\")",
           32990
          ],
          [
           "Dewolf",
           "Городской велосипед",
           37990
          ],
          [
           "Giant",
           "Подростковый велосипед",
           35990
          ],
          [
           "Forward",
           "Шоссейный велосипед",
           42690
          ],
          [
           "Stark",
           "Подростковый велосипед",
           19720
          ],
          [
           "Scott",
           "Спортивный велосипед",
           51300
          ],
          [
           "Bear Bike",
           "Классический шоссейник",
           43830
          ],
          [
           "Adriatica",
           "Городской велосипед",
           57360
          ],
          [
           "Novatrack",
           "Детский велосипед",
           20770
          ],
          [
           "Giant",
           "Подростковый велосипед для девочек",
           48990
          ],
          [
           "Giant",
           "Подростковый велосипед для девочек",
           43990
          ],
          [
           "Novatrack",
           "Подростковый велосипед",
           31770
          ],
          [
           "Stark",
           "Велосипед начального уровня",
           38010
          ],
          [
           "Forward",
           "Велосипед начального уровня",
           38090
          ],
          [
           "Stark",
           "Шоссейный велосипед",
           41070
          ],
          [
           "Giant",
           "Подростковый велосипед",
           46990
          ],
          [
           "Giant",
           "Подростковый велосипед для девочек",
           51990
          ],
          [
           "Maxiscoo",
           "Подростковый велосипед",
           18000
          ],
          [
           "Novatrack",
           "Детский велосипед",
           29160
          ],
          [
           "Novatrack",
           "Подростковый велосипед",
           32450
          ],
          [
           "Stels",
           "Подростковый велосипед",
           24900
          ],
          [
           "Novatrack",
           "Детский велосипед",
           24330
          ],
          [
           "Novatrack",
           "Подростковый велосипед",
           32370
          ],
          [
           "Novatrack",
           "Подростковый велосипед",
           31130
          ],
          [
           "Maxiscoo",
           "Подростковый велосипед",
           37700
          ],
          [
           "Welt",
           "Велосипед начального уровня",
           32490
          ],
          [
           "Novatrack",
           "Подростковый велосипед",
           35440
          ],
          [
           "Aspect",
           "Шоссейный велосипед",
           87542
          ],
          [
           "Stels",
           "Женский велосипед",
           20570
          ],
          [
           "Electra",
           "Женский велосипед",
           93000
          ],
          [
           "Titan Racing",
           "Шоссейный велосипед",
           69300
          ],
          [
           "Stark",
           "Женский велосипед",
           53740
          ],
          [
           "Haro",
           "Городской велосипед",
           49550
          ],
          [
           "Titan Racing",
           "Шоссейный велосипед",
           77490
          ],
          [
           "Stels",
           "Женский велосипед",
           20570
          ],
          [
           "Stinger",
           "Женский велосипед",
           43600
          ],
          [
           "Stark",
           "Женский велосипед",
           46630
          ],
          [
           "Stels",
           "Подростковый велосипед",
           19220
          ],
          [
           "Welt",
           "Шоссейный велосипед",
           44990
          ],
          [
           "Dahon",
           "Складной велосипед",
           71900
          ],
          [
           "Stels",
           "Складной велосипед",
           22940
          ],
          [
           "Stark",
           "Подростковый велосипед",
           53370
          ],
          [
           "Stels",
           "Подростковый велосипед",
           22150
          ],
          [
           "Aspect",
           "Детский велосипед",
           25990
          ],
          [
           "Format",
           "Подростковый велосипед",
           107430
          ],
          [
           "Stels",
           "Подростковый велосипед",
           20970
          ],
          [
           "Titan Racing",
           "Детский велосипед",
           22410
          ],
          [
           "Electra",
           "Подростковый велосипед",
           65000
          ],
          [
           "Scott",
           "Шоссейный велосипед",
           140990
          ],
          [
           "Stels",
           "Женский велосипед",
           16710
          ],
          [
           "FOXX",
           "Женский велосипед",
           18800
          ],
          [
           "FOXX",
           "Женский велосипед",
           21000
          ],
          [
           "Novatrack",
           "Складной велосипед",
           38290
          ],
          [
           "Electra",
           "Городской велосипед",
           105000
          ],
          [
           "Stels",
           "Женский велосипед",
           23000
          ],
          [
           "Kama",
           "Складной велосипед",
           34900
          ],
          [
           "Red Pepper",
           "Подростковый велосипед",
           35500
          ],
          [
           "Stels",
           "Подростковый велосипед",
           20570
          ],
          [
           "Forward",
           "Женский велосипед",
           18190
          ],
          [
           "FOXX",
           "Складной велосипед",
           18880
          ],
          [
           "Welt",
           "Подростковый велосипед",
           59990
          ],
          [
           "Stels",
           "Детский велосипед",
           25450
          ],
          [
           "Hagen",
           "Подростковый велосипед",
           59840
          ],
          [
           "Adriatica",
           "Городской велосипед",
           71000
          ],
          [
           "Scott",
           "Женский велосипед",
           79990
          ],
          [
           "KTM",
           "Женский велосипед",
           127400
          ],
          [
           "Stels",
           "Подростковый велосипед",
           22150
          ],
          [
           "Forward",
           "Подростковый велосипед",
           30290
          ],
          [
           "Merida",
           "Подростковый велосипед",
           37765
          ],
          [
           "Electra",
           "Городской велосипед",
           79000
          ],
          [
           "KTM",
           "Подростковый велосипед",
           90000
          ],
          [
           "Titan Racing",
           "Подростковый велосипед",
           24030
          ],
          [
           "Titan Racing",
           "Подростковый велосипед",
           32040
          ],
          [
           "Titan Racing",
           "Детский велосипед",
           49320
          ],
          [
           "Sunpeed",
           "Подростковый велосипед",
           35600
          ],
          [
           "Polygon",
           "Женский велосипед",
           75117
          ],
          [
           "Polygon",
           "Женский велосипед",
           68400
          ],
          [
           "Format",
           "Женский велосипед",
           42720
          ],
          [
           "Stinger",
           "Женский велосипед",
           21000
          ],
          [
           "Novatrack",
           "Детский велосипед",
           29160
          ],
          [
           "Stels",
           "Женский велосипед",
           32520
          ],
          [
           "Hagen",
           "Подростковый велосипед",
           59840
          ],
          [
           "Novatrack",
           "Подростковый велосипед",
           27840
          ],
          [
           "Stinger",
           "Женский велосипед",
           24100
          ],
          [
           "Stark",
           "Детский велосипед",
           18480
          ],
          [
           "Polygon",
           "Детский велосипед",
           34970
          ],
          [
           "Aspect",
           "Подростковый велосипед",
           31442
          ],
          [
           "Aspect",
           "Складной велосипед",
           53490
          ],
          [
           "Hogger",
           "Подростковый велосипед",
           24850
          ],
          [
           "Novatrack",
           "Подростковый велосипед",
           29440
          ],
          [
           "Polygon",
           "Городской велосипед",
           75117
          ],
          [
           "Format",
           "Городской велосипед",
           43470
          ],
          [
           "Stels",
           "Складной велосипед",
           17790
          ],
          [
           "Electra",
           "Женский велосипед",
           179000
          ],
          [
           "Stels",
           "Комфортный велосипед",
           15160
          ],
          [
           "Merida",
           "Классический шоссейник",
           108680
          ],
          [
           "Stels",
           "Городской велосипед",
           22150
          ],
          [
           "Stinger",
           "Велосипед начального уровня",
           14610
          ],
          [
           "Stels",
           "Комфортный велосипед",
           50810
          ],
          [
           "Scott",
           "Шоссейный велосипед",
           172690
          ],
          [
           "Aspect",
           "Комфортный велосипед",
           43342
          ],
          [
           "Cube",
           "Женский велосипед",
           null
          ],
          [
           "Cube",
           "Подростковый велосипед",
           75260
          ],
          [
           "Aspect",
           "Женский велосипед",
           35267
          ],
          [
           "Bear Bike",
           "Женский велосипед",
           47520
          ],
          [
           "Stels",
           "Складной эконом велосипед",
           19860
          ],
          [
           "Forward",
           "Велосипед начального уровня",
           10692
          ],
          [
           "Aspect",
           "Женский велосипед",
           36117
          ],
          [
           "Stels",
           "Складной велосипед",
           19220
          ],
          [
           "Welt",
           "Женский велосипед",
           35990
          ],
          [
           "Welt",
           "Женский велосипед",
           39990
          ],
          [
           "Forward",
           "Женский велосипед",
           22990
          ],
          [
           "Merida",
           "Подростковый велосипед",
           30212
          ],
          [
           "Aspect",
           "Женский велосипед",
           46490
          ],
          [
           "Stinger",
           "Женский велосипед",
           30900
          ],
          [
           "Welt",
           "Женский велосипед",
           34990
          ],
          [
           "Merida",
           "Детский велосипед",
           28220
          ],
          [
           "Forward",
           "Подростковый велосипед",
           22140
          ],
          [
           "Stels",
           "Комфортный велосипед",
           16070
          ],
          [
           "Cube",
           "Подростковый велосипед для мальчиков",
           45800
          ],
          [
           "Forward",
           "Складной велосипед",
           30410
          ],
          [
           "Polygon",
           "Женский велосипед",
           66150
          ],
          [
           "Giant",
           "Велосипед любительского уровня",
           40900
          ],
          [
           "Aspect",
           "Складной велосипед",
           53490
          ],
          [
           "Stark",
           "Складной велосипед",
           36990
          ],
          [
           "Polygon",
           "Складной велосипед",
           51750
          ],
          [
           "Forward",
           "Складной велосипед",
           25640
          ],
          [
           "Stark",
           "Складной велосипед",
           37530
          ],
          [
           "Haro",
           "Подростковый велосипед",
           27490
          ],
          [
           "Stinger",
           "Женский велосипед",
           42000
          ],
          [
           "Polygon",
           "Городской велосипед",
           71610
          ],
          [
           "Cube",
           "Детский велосипед",
           null
          ],
          [
           "Forward",
           "Велосипед начального уровня",
           11295
          ],
          [
           "Welt",
           "Комфортный велосипед",
           29990
          ],
          [
           "Trek",
           "Подростковый велосипед для мальчиков",
           21999
          ],
          [
           "Trek",
           "Шоссейный велосипед",
           110468
          ],
          [
           "Forward",
           "Складной велосипед",
           13590
          ],
          [
           "Stinger",
           "Городской велосипед",
           59000
          ],
          [
           "Stels",
           "Складной велосипед",
           22160
          ],
          [
           "Giant",
           "Комфортный велосипед",
           65890
          ],
          [
           "Stels",
           "Комфортный велосипед",
           14040
          ],
          [
           "Aspect",
           "Женский велосипед",
           28990
          ],
          [
           "Forward",
           "Велосипед начального уровня",
           12006
          ],
          [
           "Trek",
           "Дорожный велосипед",
           175500
          ],
          [
           "Forward",
           "Складной эконом велосипед",
           23720
          ],
          [
           "Schwinn",
           "Велосипед тандем",
           45192
          ],
          [
           "Forward",
           "Складной велосипед",
           12890
          ],
          [
           "Schwinn",
           "Комфортный велосипед",
           31950
          ],
          [
           "Merida",
           "Велосипед начального уровня",
           21440
          ],
          [
           "Stels",
           "Комфортный велосипед",
           22850
          ],
          [
           "Forward",
           "Велосипед начального уровня",
           14850
          ],
          [
           "Giant",
           "Детский велосипед для возраста от 5 до 9 лет (18\", 20\")",
           26490
          ],
          [
           "Forward",
           "Подростковый велосипед",
           20990
          ],
          [
           "Hagen",
           "Подростковый велосипед",
           49490
          ],
          [
           "Forward",
           "Велосипед начального уровня",
           12762
          ],
          [
           "Aspect",
           "Шоссейный велосипед",
           94767
          ],
          [
           "Stels",
           "Женский велосипед",
           19220
          ],
          [
           "Forward",
           "Велосипед начального уровня",
           8955
          ],
          [
           "Stels",
           "Детский велосипед",
           14080
          ],
          [
           "Trek",
           "Дорожный велосипед",
           149499
          ],
          [
           "Stels",
           "Женский велосипед",
           15820
          ],
          [
           "Welt",
           "Складной велосипед",
           33990
          ],
          [
           "Cube",
           "Подростковый велосипед",
           null
          ],
          [
           "Stels",
           "Складной велосипед",
           42680
          ],
          [
           "Stels",
           "Велосипед начального уровня",
           15880
          ],
          [
           "Polygon",
           "Шоссейный велосипед",
           90985
          ],
          [
           "Scott",
           "Велосипед начального уровня",
           20760
          ],
          [
           "Giant",
           "Городской велосипед",
           105690
          ],
          [
           "Aspect",
           "Детский велосипед",
           26767
          ],
          [
           "Trek",
           "Шоссейный велосипед",
           162533
          ],
          [
           "Stels",
           "Складной велосипед",
           28080
          ],
          [
           "Stels",
           "Комфортный велосипед",
           43640
          ],
          [
           "Stels",
           "Складной эконом велосипед",
           16900
          ],
          [
           "Trek",
           "Детский велосипед для возраста от 5 до 9 лет (18\", 20\")",
           35999
          ],
          [
           "Welt",
           "Подростковый велосипед",
           28990
          ],
          [
           "Aspect",
           "Комфортный велосипед",
           26775
          ],
          [
           "Giant",
           "Детский велосипед для возраста от 5 до 9 лет (18\", 20\")",
           34990
          ],
          [
           "Stels",
           "Подростковый велосипед для мальчиков",
           23300
          ],
          [
           "Welt",
           "Женский велосипед",
           25990
          ],
          [
           "Trek",
           "Подростковый велосипед для мальчиков",
           69999
          ],
          [
           "Aspect",
           "Шоссейный велосипед",
           67992
          ],
          [
           "Polygon",
           "Детский велосипед",
           34970
          ],
          [
           "Bear Bike",
           "Шоссейный велосипед",
           34000
          ],
          [
           "Forward",
           "Велосипед начального уровня",
           10854
          ],
          [
           "Forward",
           "Велосипед начального уровня",
           11979
          ],
          [
           "Aspect",
           "Складной велосипед",
           44990
          ],
          [
           "Stinger",
           "Велосипед начального уровня",
           9280
          ],
          [
           "Polygon",
           "Городской велосипед",
           107325
          ],
          [
           "Aspect",
           "Подростковый велосипед",
           31442
          ],
          [
           "Trek",
           "Подростковый велосипед",
           41499
          ],
          [
           "Giant",
           "Городской велосипед",
           54990
          ],
          [
           "Giant",
           "Детский велосипед для возраста от 5 до 9 лет (18\", 20\")",
           28490
          ],
          [
           "Cube",
           "Шоссейный велосипед",
           113520
          ],
          [
           "Stinger",
           "Женский велосипед",
           17800
          ],
          [
           "Welt",
           "Шоссейный велосипед",
           49990
          ],
          [
           "Giant",
           "Комфортный велосипед",
           65890
          ],
          [
           "Forward",
           "Складной эконом велосипед",
           27960
          ],
          [
           "Trek",
           "Комфортный велосипед",
           null
          ],
          [
           "Format",
           "Женский велосипед",
           38130
          ],
          [
           "Stels",
           "Велосипед начального уровня",
           20870
          ],
          [
           "Scott",
           "Велосипед начального уровня",
           27900
          ],
          [
           "Stels",
           "Городской велосипед",
           16710
          ],
          [
           "Stels",
           "Велосипед начального уровня",
           13680
          ],
          [
           "Forward",
           "Велосипед начального уровня",
           10296
          ],
          [
           "Aspect",
           "Подростковый велосипед",
           31017
          ],
          [
           "Aspect",
           "Складной велосипед",
           44990
          ],
          [
           "Scott",
           "Спортивный велосипед",
           86328
          ],
          [
           "Forward",
           "Велосипед любительского уровня",
           46390
          ],
          [
           "Stark",
           "Складной велосипед",
           31340
          ],
          [
           "Welt",
           "Женский велосипед",
           35990
          ],
          [
           "Scott",
           "Велосипед начального уровня",
           31990
          ],
          [
           "Stels",
           "Велосипед начального уровня",
           null
          ],
          [
           "Forward",
           "Велосипед начального уровня",
           10440
          ],
          [
           "Stinger",
           "Женский велосипед",
           24100
          ],
          [
           "Cube",
           "Подростковый велосипед",
           null
          ],
          [
           "Electra",
           "Дорожный велосипед",
           79000
          ],
          [
           "Stels",
           "Велосипед начального уровня",
           23440
          ],
          [
           "Stels",
           "Начальный двухподвесный велосипед",
           13110
          ],
          [
           "Forward",
           "Складной эконом велосипед",
           13590
          ],
          [
           "Format",
           "Подростковый велосипед",
           35990
          ],
          [
           "Merida",
           "Велосипед начального уровня",
           19575
          ],
          [
           "Stinger",
           "Женский велосипед",
           37000
          ],
          [
           "Giant",
           "Складной премиум велосипед",
           null
          ],
          [
           "Hagen",
           "Подростковый велосипед",
           49490
          ],
          [
           "Stels",
           "Складной эконом велосипед",
           16220
          ],
          [
           "Merida",
           "Подростковый велосипед для мальчиков",
           19430
          ],
          [
           "Giant",
           "Складной премиум велосипед",
           null
          ],
          [
           "Stels",
           "Велосипед начального уровня",
           14400
          ],
          [
           "Stels",
           "Женский велосипед",
           16610
          ],
          [
           "Merida",
           "Шоссейный велосипед",
           114800
          ],
          [
           "Aspect",
           "Женский велосипед",
           25990
          ],
          [
           "Shulz",
           "Складной велосипед",
           33000
          ],
          [
           "Trek",
           "Женский велосипед",
           39999
          ],
          [
           "Welt",
           "Подростковый велосипед",
           31990
          ],
          [
           "Stels",
           "Складной эконом велосипед",
           21300
          ],
          [
           "Format",
           "Циклокроссовый велосипед",
           65940
          ],
          [
           "Stels",
           "Комфортный велосипед",
           16710
          ],
          [
           "Forward",
           "Велосипед круизёр",
           15534
          ],
          [
           "Aspect",
           "Женский велосипед",
           32990
          ],
          [
           "Forward",
           "Велосипед начального уровня",
           30290
          ],
          [
           "Forward",
           "Подростковый велосипед для мальчиков",
           12006
          ],
          [
           "Forward",
           "Велосипед начального уровня",
           14652
          ],
          [
           "Format",
           "Подростковый велосипед",
           null
          ],
          [
           "Stinger",
           "Комфортный велосипед",
           31900
          ],
          [
           "Stels",
           "Велосипед начального уровня",
           15550
          ],
          [
           "Merida",
           "Подростковый велосипед для девочек",
           16147
          ],
          [
           "Giant",
           "Велосипед начального уровня",
           null
          ],
          [
           "Stels",
           "Подростковый велосипед",
           24790
          ],
          [
           "Scott",
           "Подростковый велосипед",
           64990
          ],
          [
           "Welt",
           "Складной велосипед",
           31990
          ],
          [
           "Format",
           "Подростковый велосипед",
           null
          ],
          [
           "Shulz",
           "Складной велосипед",
           34800
          ],
          [
           "Stels",
           "Велосипед начального уровня",
           14690
          ],
          [
           "Merida",
           "Детский велосипед для возраста от 5 до 9 лет (18\", 20\")",
           15405
          ],
          [
           "Welt",
           "Шоссейный велосипед",
           94990
          ],
          [
           "Stinger",
           "Женский велосипед",
           30900
          ],
          [
           "Stels",
           "Велосипед любительского уровня",
           26910
          ],
          [
           "Welt",
           "Подростковый велосипед",
           31190
          ],
          [
           "Dahon",
           "Складной премиум велосипед",
           null
          ],
          [
           "Schwinn",
           "Велосипед круизёр",
           41990
          ],
          [
           "Forward",
           "Велосипед начального уровня",
           26990
          ],
          [
           "Stels",
           "Велосипед начального уровня",
           22070
          ],
          [
           "Welt",
           "Женский велосипед",
           34990
          ],
          [
           "Merida",
           "Циклокроссовый велосипед",
           67253
          ],
          [
           "Giant",
           "Велосипед начального уровня",
           null
          ],
          [
           "Welt",
           "Подростковый велосипед",
           28990
          ],
          [
           "Format",
           "Подростковый велосипед для мальчиков",
           53240
          ],
          [
           "Aspect",
           "Женский велосипед",
           38990
          ],
          [
           "Stels",
           "Велосипед любительского уровня",
           35530
          ],
          [
           "Forward",
           "Подростковый велосипед",
           24690
          ],
          [
           "Stinger",
           "Спортивный велосипед",
           19300
          ],
          [
           "Aspect",
           "Шоссейный велосипед",
           84142
          ],
          [
           "Merida",
           "Подростковый велосипед",
           43990
          ],
          [
           "Welt",
           "Подростковый велосипед",
           26390
          ],
          [
           "Merida",
           "Подростковый велосипед для мальчиков",
           16147
          ],
          [
           "Merida",
           "Подростковый велосипед для мальчиков",
           16147
          ],
          [
           "Cube",
           "Подростковый велосипед",
           null
          ],
          [
           "Stels",
           "Складной велосипед",
           30370
          ],
          [
           "Scott",
           "Велосипед начального уровня",
           null
          ],
          [
           "Stels",
           "Велосипед начального уровня",
           11590
          ],
          [
           "Format",
           "Подростковый велосипед для мальчиков",
           35560
          ],
          [
           "Stinger",
           "Комфортный велосипед",
           41300
          ],
          [
           "Stinger",
           "Велосипед круизёр",
           31410
          ],
          [
           "Merida",
           "Детский велосипед для возраста от 5 до 9 лет (18\", 20\")",
           17775
          ],
          [
           "Merida",
           "Детский велосипед для возраста от 5 до 9 лет (18\", 20\")",
           17100
          ],
          [
           "Giant",
           "Детский велосипед",
           46690
          ],
          [
           "Giant",
           "Детский велосипед",
           26490
          ],
          [
           "Stinger",
           "Женский велосипед",
           21000
          ],
          [
           "Dewolf",
           "Подростковый велосипед для девочек",
           14900
          ],
          [
           "Forward",
           "Велосипед начального уровня",
           14184
          ],
          [
           "Aspect",
           "Складной велосипед",
           42990
          ],
          [
           "Aspect",
           "Подростковый велосипед",
           39942
          ],
          [
           "Stinger",
           "Подростковый велосипед для мальчиков",
           24700
          ],
          [
           "Cube",
           "Подростковый велосипед",
           73260
          ],
          [
           "Merida",
           "Подростковый велосипед",
           43160
          ],
          [
           "Stels",
           "Подростковый велосипед для мальчиков",
           13580
          ],
          [
           "Stels",
           "Велосипед начального уровня",
           15760
          ],
          [
           "Merida",
           "Детский велосипед для возраста от 5 до 9 лет (18\", 20\")",
           17100
          ],
          [
           "Stinger",
           "Спортивный велосипед",
           20250
          ],
          [
           "Stels",
           "Женский велосипед",
           22850
          ],
          [
           "Cube",
           "Детский велосипед",
           null
          ],
          [
           "Format",
           "Подростковый велосипед",
           54900
          ],
          [
           "Merida",
           "Подростковый велосипед для девочек",
           18880
          ],
          [
           "Giant",
           "Велосипед начального уровня",
           17000
          ],
          [
           "Giant",
           "Шоссейный велосипед",
           111990
          ],
          [
           "Format",
           "Подростковый велосипед для мальчиков",
           30890
          ],
          [
           "Scott",
           "Велосипед начального уровня",
           25520
          ],
          [
           "Shulz",
           "Складной эконом велосипед",
           null
          ],
          [
           "Format",
           "Городской велосипед",
           63530
          ],
          [
           "Stels",
           "Велосипед начального уровня",
           13070
          ],
          [
           "Welt",
           "Спортивный велосипед",
           18392
          ],
          [
           "Scott",
           "Комфортный велосипед",
           null
          ],
          [
           "Merida",
           "Детский велосипед для возраста от 5 до 9 лет (18\", 20\")",
           15879
          ],
          [
           "Stels",
           "Двухподвесный велосипед",
           28310
          ],
          [
           "Bear Bike",
           "Женский велосипед",
           29750
          ],
          [
           "Bear Bike",
           "Шоссейный велосипед",
           41400
          ],
          [
           "Schwinn",
           "Женский велосипед",
           22090
          ],
          [
           "Titan Racing",
           "Классический шоссейник",
           114750
          ],
          [
           "Cube",
           "Шоссейный велосипед",
           null
          ],
          [
           "Aspect",
           "Велосипед начального уровня",
           18795
          ],
          [
           "Stels",
           "Велосипед начального уровня",
           15350
          ],
          [
           "Forward",
           "Складной велосипед",
           14890
          ],
          [
           "Stels",
           "Двухподвесный велосипед",
           27370
          ],
          [
           "Stels",
           "Начальный двухподвесный велосипед",
           null
          ],
          [
           "Aspect",
           "Спортивный велосипед",
           26990
          ],
          [
           "Aspect",
           "Женский велосипед",
           32490
          ],
          [
           "Giant",
           "Шоссейный велосипед",
           144990
          ],
          [
           "Forward",
           "Подростковый велосипед",
           22560
          ],
          [
           "Cube",
           "Детский велосипед",
           null
          ],
          [
           "Stels",
           "Велосипед начального уровня",
           22280
          ],
          [
           "Stels",
           "Начальный двухподвесный велосипед",
           31550
          ],
          [
           "Welt",
           "Шоссейный велосипед",
           59990
          ],
          [
           "Slash",
           "Подростковый велосипед",
           27990
          ],
          [
           "Giant",
           "Детский велосипед для возраста от 5 до 9 лет (18\", 20\")",
           42490
          ],
          [
           "Welt",
           "Детский велосипед",
           24990
          ],
          [
           "Stinger",
           "Комфортный велосипед",
           21900
          ],
          [
           "Forward",
           "Велосипед начального уровня",
           15890
          ],
          [
           "Forward",
           "Подростковый велосипед для мальчиков",
           12006
          ],
          [
           "Cube",
           "Велосипед любительского уровня",
           39200
          ],
          [
           "Merida",
           "Детский велосипед для возраста от 5 до 9 лет (18\", 20\")",
           15276
          ],
          [
           "Forward",
           "Комфортный велосипед",
           21190
          ],
          [
           "Stels",
           "Женский велосипед",
           16710
          ],
          [
           "Forward",
           "Велосипед начального уровня",
           15890
          ],
          [
           "Bear Bike",
           "Городской велосипед",
           38970
          ],
          [
           "Stark",
           "Складной велосипед",
           47990
          ],
          [
           "Aspect",
           "Комфортный велосипед",
           33290
          ],
          [
           "Stels",
           "Подростковый велосипед для мальчиков",
           19220
          ],
          [
           "Shulz",
           "Складной эконом велосипед",
           26900
          ],
          [
           "Shulz",
           "Складной велосипед",
           29900
          ],
          [
           "Haro",
           "Подростковый велосипед",
           30685
          ],
          [
           "Cube",
           "Женский велосипед",
           null
          ],
          [
           "Stels",
           "Городской велосипед",
           25870
          ],
          [
           "Stark",
           "Велосипед для стрит/дёрт",
           31110
          ],
          [
           "Centurion",
           "Велосипед начального уровня",
           14300
          ],
          [
           "Stark",
           "Складной велосипед",
           37800
          ],
          [
           "Stels",
           "Двухподвесный велосипед",
           25690
          ],
          [
           "Forward",
           "Подростковый велосипед",
           25890
          ],
          [
           "Stels",
           "Подростковый велосипед",
           29290
          ],
          [
           "Giant",
           "Детский велосипед для возраста от 5 до 9 лет (18\", 20\")",
           16000
          ],
          [
           "Merida",
           "Спортивный велосипед",
           null
          ],
          [
           "Polygon",
           "Шоссейный велосипед",
           136245
          ],
          [
           "Forward",
           "Городской велосипед",
           30120
          ],
          [
           "Dahon",
           "Складной велосипед",
           56400
          ],
          [
           "Forward",
           "Складной эконом велосипед",
           16029
          ],
          [
           "Merida",
           "Велосипед любительского уровня",
           29700
          ],
          [
           "Scott",
           "Велосипед начального уровня",
           21980
          ],
          [
           "Format",
           "Подростковый велосипед для мальчиков",
           25500
          ],
          [
           "Stels",
           "Велосипед начального уровня",
           16410
          ],
          [
           "Shulz",
           "Складной велосипед",
           48800
          ],
          [
           "Stels",
           "Классический шоссейник",
           49490
          ],
          [
           "Aspect",
           "Детский велосипед",
           25990
          ],
          [
           "Forward",
           "Складной велосипед",
           null
          ],
          [
           "Marin",
           "Классический шоссейник",
           null
          ],
          [
           "Shulz",
           "Складной велосипед",
           46400
          ],
          [
           "Format",
           "Дорожный велосипед",
           69900
          ],
          [
           "Dahon",
           "Складной эконом велосипед",
           24500
          ],
          [
           "Forward",
           "Подростковый велосипед",
           20790
          ],
          [
           "Merida",
           "Велосипед начального уровня",
           28140
          ],
          [
           "Cube",
           "Велосипед начального уровня",
           26700
          ],
          [
           "Forward",
           "Велосипед начального уровня",
           16371
          ],
          [
           "Stels",
           "Комфортный велосипед",
           12020
          ],
          [
           "Merida",
           "Подростковый велосипед для мальчиков",
           26465
          ],
          [
           "Cube",
           "Детский велосипед",
           107690
          ],
          [
           "Giant",
           "Складной премиум велосипед",
           null
          ],
          [
           "Dahon",
           "Складной велосипед",
           73100
          ],
          [
           "Giant",
           "Детский велосипед",
           49990
          ],
          [
           "Stark",
           "Складной премиум велосипед",
           37674
          ],
          [
           "Giant",
           "Детский велосипед для возраста от 5 до 9 лет (18\", 20\")",
           null
          ],
          [
           "Haro",
           "Городской велосипед",
           52300
          ],
          [
           "Format",
           "Подростковый велосипед",
           null
          ],
          [
           "Electra",
           "Женский велосипед",
           85000
          ],
          [
           "Stinger",
           "Женский велосипед",
           36900
          ],
          [
           "Dahon",
           "Складной премиум велосипед",
           null
          ],
          [
           "Shulz",
           "Складной велосипед",
           28200
          ],
          [
           "Stels",
           "Женский велосипед",
           17280
          ],
          [
           "Dahon",
           "Складной премиум велосипед",
           93500
          ],
          [
           "Stels",
           "Подростковый велосипед",
           24790
          ],
          [
           "Merida",
           "Велосипед начального уровня",
           25675
          ],
          [
           "Merida",
           "Детский велосипед для возраста от 5 до 9 лет (18\", 20\")",
           17175
          ],
          [
           "Cube",
           "Велосипед начального уровня",
           44600
          ],
          [
           "Stels",
           "Женский велосипед",
           37880
          ],
          [
           "Tern",
           "Складной премиум велосипед",
           null
          ],
          [
           "Format",
           "Подростковый велосипед",
           null
          ],
          [
           "Dahon",
           "Складной велосипед",
           69600
          ],
          [
           "Stels",
           "Городской велосипед",
           33080
          ],
          [
           "Aspect",
           "Складной велосипед",
           39490
          ],
          [
           "Stark",
           "Велосипед любительского уровня",
           45980
          ],
          [
           "Stels",
           "Классический шоссейник",
           59190
          ],
          [
           "Shulz",
           "Складной велосипед",
           33000
          ],
          [
           "Stark",
           "Фэтбайк",
           55580
          ],
          [
           "FOXX",
           "Складной велосипед",
           17710
          ],
          [
           "Stels",
           "Детский велосипед",
           26910
          ],
          [
           "Welt",
           "Женский велосипед",
           44990
          ],
          [
           "Forward",
           "Велосипед начального уровня",
           18490
          ],
          [
           "Trek",
           "Детский велосипед",
           74999
          ],
          [
           "Stels",
           "Спортивный велосипед",
           21300
          ],
          [
           "Trek",
           "Классический шоссейник",
           null
          ],
          [
           "Stinger",
           "Подростковый велосипед",
           19000
          ],
          [
           "Dahon",
           "Складной велосипед",
           47500
          ],
          [
           "Electra",
           "Подростковый велосипед",
           65000
          ],
          [
           "Bear Bike",
           "Городской велосипед",
           29750
          ],
          [
           "Stels",
           "Подростковый велосипед",
           38200
          ],
          [
           "Cube",
           "Подростковый велосипед",
           null
          ],
          [
           "Bear Bike",
           "Шоссейный велосипед",
           56050
          ],
          [
           "Giant",
           "Женский велосипед",
           62990
          ],
          [
           "Merida",
           "Детский велосипед",
           39150
          ],
          [
           "Stels",
           "Женский велосипед",
           31430
          ],
          [
           "Polygon",
           "Складной велосипед",
           60937
          ],
          [
           "Bear Bike",
           "Женский велосипед",
           42760
          ],
          [
           "Shulz",
           "Складной велосипед",
           26400
          ],
          [
           "Stels",
           "Велосипед начального уровня",
           17370
          ],
          [
           "Stels",
           "Женский велосипед",
           null
          ],
          [
           "Stark",
           "Велосипед начального уровня",
           20390
          ],
          [
           "Merida",
           "Детский велосипед для возраста от 5 до 9 лет (18\", 20\")",
           17100
          ],
          [
           "Merida",
           "Подростковый велосипед для мальчиков",
           17400
          ],
          [
           "Kross",
           "Складной эконом велосипед",
           null
          ],
          [
           "Giant",
           "Складной премиум велосипед",
           null
          ],
          [
           "Format",
           "Шоссейный велосипед",
           97900
          ],
          [
           "Aspect",
           "Спортивный велосипед",
           26090
          ],
          [
           "Giant",
           "Комфортный велосипед",
           51990
          ],
          [
           "Polygon",
           "Подростковый велосипед",
           null
          ],
          [
           "Format",
           "Женский велосипед",
           46700
          ],
          [
           "Stark",
           "Двухподвесный велосипед",
           31210
          ],
          [
           "Stinger",
           "Велосипед начального уровня",
           15710
          ],
          [
           "Trek",
           "Классический шоссейник",
           null
          ],
          [
           "Forward",
           "Велосипед начального уровня",
           15363
          ],
          [
           "Hogger",
           "Детский велосипед",
           22330
          ],
          [
           "Stels",
           "Детский велосипед",
           20650
          ],
          [
           "Giant",
           "Детский велосипед",
           43990
          ],
          [
           "Giant",
           "Детский велосипед",
           null
          ],
          [
           "Stels",
           "Спортивный велосипед",
           23170
          ],
          [
           "Scott",
           "Велосипед начального уровня",
           23740
          ],
          [
           "Scott",
           "Велосипед начального уровня",
           23740
          ],
          [
           "Schwinn",
           "Велосипед начального уровня",
           13990
          ],
          [
           "Haro",
           "Подростковый велосипед",
           33300
          ],
          [
           "Cube",
           "Детский велосипед",
           31020
          ],
          [
           "Aspect",
           "Подростковый велосипед",
           31990
          ],
          [
           "Cube",
           "Детский велосипед",
           54250
          ],
          [
           "Haro",
           "Женский велосипед",
           28990
          ],
          [
           "Dahon",
           "Складной велосипед",
           44800
          ],
          [
           "Forward",
           "Подростковый велосипед для мальчиков",
           11061
          ],
          [
           "Welt",
           "Спортивный велосипед",
           18450
          ],
          [
           "Forward",
           "Складной велосипед",
           34640
          ],
          [
           "Forward",
           "Складной велосипед",
           11600
          ],
          [
           "Stels",
           "Велосипед любительского уровня",
           16880
          ],
          [
           "Scott",
           "Велосипед для стрит/дёрт",
           null
          ],
          [
           "Dahon",
           "Складной премиум велосипед",
           46732
          ],
          [
           "Aspect",
           "Женский велосипед",
           38490
          ],
          [
           "Dahon",
           "Складной велосипед",
           61900
          ],
          [
           "Marin",
           "Классический шоссейник",
           null
          ],
          [
           "Kross",
           "Городской велосипед",
           null
          ],
          [
           "Stels",
           "Велосипед начального уровня",
           14290
          ],
          [
           "Forward",
           "Велосипед начального уровня",
           16390
          ],
          [
           "Format",
           "Подростковый велосипед",
           null
          ],
          [
           "Schwinn",
           "Велосипед круизёр",
           31950
          ],
          [
           "Welt",
           "Детский велосипед",
           25990
          ],
          [
           "Stark",
           "Складной велосипед",
           47990
          ],
          [
           "Trek",
           "Детский велосипед для возраста от 5 до 9 лет (18\", 20\")",
           24999
          ],
          [
           "Aspect",
           "Велосипед любительского уровня",
           22995
          ],
          [
           "Stels",
           "Велосипед начального уровня",
           15350
          ],
          [
           "Aspect",
           "Шоссейный велосипед",
           114990
          ],
          [
           "Cube",
           "Подростковый велосипед",
           null
          ],
          [
           "Giant",
           "Женский велосипед",
           92690
          ],
          [
           "Shulz",
           "Складной велосипед",
           28400
          ],
          [
           "Forward",
           "Складной велосипед",
           29330
          ],
          [
           "Giant",
           "Комфортный велосипед",
           null
          ],
          [
           "Aspect",
           "Детский велосипед",
           22990
          ],
          [
           "Aspect",
           "Подростковый велосипед для мальчиков",
           26145
          ],
          [
           "Merida",
           "Подростковый велосипед",
           41800
          ],
          [
           "Aspect",
           "Складной премиум велосипед",
           30345
          ],
          [
           "Forward",
           "Подростковый велосипед для мальчиков",
           10521
          ],
          [
           "Trek",
           "Велосипед начального уровня",
           23950
          ],
          [
           "Trek",
           "Велосипед начального уровня",
           34750
          ],
          [
           "Welt",
           "Велосипед начального уровня",
           27490
          ],
          [
           "Welt",
           "Детский велосипед",
           26990
          ],
          [
           "Welt",
           "Подростковый велосипед",
           null
          ],
          [
           "Merida",
           "Велосипед любительского уровня",
           null
          ]
         ],
         "hovertemplate": "<b>%{hovertext}</b><br><br>Кластер=3<br>x=%{x}<br>y=%{y}<br>brand=%{customdata[0]}<br>category=%{customdata[1]}<br>price=%{customdata[2]}<extra></extra>",
         "hovertext": [
          "Aspect Alma 27 (2025)",
          "Aspect Travel (2025)",
          "Aspect Winner (2025)",
          "Aspect Alma Pro 27 (2025)",
          "Stels Navigator 410 MD 21-sp V010 (2025)",
          "Merida Matts J.20+ Eco (2022)",
          "Aspect Winner Lite 26 (2025)",
          "Aspect Citylife (2025)",
          "Aspect Weekend (2025)",
          "Spinn Uptown Ladies (2024)",
          "Stels Pilot 230 V Z010 (2025)",
          "Aspect Angel (2025)",
          "Stels Miss 7100 MD V020 (2025)",
          "Aspect Borneo 7 (2025)",
          "Stels Turbo 460 MD Z010 (2025)",
          "FOXX Latina 26\" (2025)",
          "Aspect Alma Pro 26 (2025)",
          "Spinn Luna 7D Step Thru (2024)",
          "Stels Navigator 440 V K010 (2023)",
          "Aspect Galaxy (2025)",
          "Aspect Komodo 7 (2025)",
          "Aspect Winner Lite (2025)",
          "Stels Navigator 450 MD V030 (2025)",
          "Format 5222 CF (2023)",
          "Stark Jumper FS 27.1 D (2024)",
          "Stels Pilot 750 V Z010 (2025)",
          "Stark Peloton 700.1 D (2024)",
          "Stels Pilot 225 V Z010 (2025)",
          "Stark Terros 28.2 V (2024)",
          "Stels Miss 7500 D V010 (2025)",
          "Stark Comfort Man (2025)",
          "Novatrack Battler 24\" (2023)",
          "Stels Focus MD 24\" 18-sp V010 (2025)",
          "Aspect Angel Lite (2025)",
          "Stark Cobra 27.2 D (2024)",
          "Schwinn Sierra 27,5 (2022)",
          "Stels Aggressor D 24\" V010 (2025)",
          "Aspect Champion (2025)",
          "Stark Cobra 29.2 HD (2024)",
          "Stels Miss 7100 D V010 (2023)",
          "Aspect Komodo 3 (2025)",
          "Novatrack Jenny Pro 24\" (2023)",
          "Haro Flightline 24\" (2025)",
          "Stels Navigator 465 MD V010 (2025)",
          "Stark Touring 28.2 D (2024)",
          "Stinger Element Jr. (2025)",
          "Novatrack Jenny Disc 24\" (2023)",
          "Stels Navigator 150 Lady 21-sp V010 (2023)",
          "FOXX Caiman Jr. (2025)",
          "Stark Cobra 27.2 HD (2024)",
          "Aspect Borneo 3 (2024)",
          "Stark Luna 27.2 D (2024)",
          "Stark Terros 28.3 V (2024)",
          "Novatrack Jenny 24\" (2023)",
          "Novatrack Aurora 24\" (2024)",
          "Stark Cobra 29.2 D (2024)",
          "Stark Fat 26.2 D (2025)",
          "Format 5222 27.5 (2023)",
          "Stinger Laguna 27.5\" (2025)",
          "Stark Peloton 700.4 D (2024)",
          "Stinger Laguna 29\" (2025)",
          "Stark Touring 28.3 D (2025)",
          "Stark Viva 27.2 D (2025)",
          "Novatrack Aurora 20\" 2.0 (2024)",
          "Stels Navigator 400 MD Z010 (2025)",
          "Aspect Borneo 3 (2025)",
          "Spinn Uptown Men (2024)",
          "Polygon Bend R2 27.5 (2025)",
          "Stinger Laguna 26 (2019)",
          "Stels Miss 4300 V Z010 (2025)",
          "Electra Townie 7D EQ Step Over (2022)",
          "Stark Luna 26.1 D (2025)",
          "Stels Adrenalin MD 24\" V010 (2023)",
          "Stinger Laguna 26\" (2025)",
          "Stark Fat 26.3 HD (2025)",
          "Bear Bike Perm (2021)",
          "Stels Navigator 130 Lady 3-sp V010 (2020)",
          "Novatrack Town 20\" (2024)",
          "Novatrack Vortex 20\" (2024)",
          "Novatrack Aurora 24\" 2.0 (2024)",
          "Haro Flightline 20\" (2025)",
          "Spinn Horizon 3 sp. (2024)",
          "Slash Runner 24 (2025)",
          "Stels Miss 4300 V 24\" V010 (2025)",
          "Polygon Oosten 26 (2025)",
          "Stark Jam 20.1 V (2024)",
          "Novatrack SUV 24\" (2024)",
          "Maxiscoo 3Bike 24'' Gir (2025)",
          "Bear Bike Palermo (2023)",
          "Hagen Teen 26 (2025)",
          "Novatrack Aurora 20\" (2024)",
          "Novatrack Action 24\" (2023)",
          "Format 7714 27.5 (2022)",
          "Haro Flightline 24\" Plus DS (2025)",
          "Titan Racing Cerberus JR 24\" (2024)",
          "Novatrack Battler Disc 24\" (2023)",
          "Electra Andi 3i (2022)",
          "Pifagor Axiom 20\" (2024)",
          "Pifagor Q.E.D. 24\" (2024)",
          "Novatrack Extreme 24\" (2024)",
          "Stels Leader 230 MD Z010 (2025)",
          "Novatrack Town 16\" (2024)",
          "Stels Pilot 450 V Z010 (2025)",
          "Maxiscoo 3Bike 24'' Boy (2025)",
          "Stels Navigator 465 MD V010 (2023)",
          "Maxiscoo 5Bike 24'' Boy (2025)",
          "Novatrack Prime V-brake 20\" 2.0 (2024)",
          "Maxiscoo S007 Standart 14\" (2024)",
          "Novatrack Action Disc 24\" (2023)",
          "Scott Contessa 24 Rigid (2023)",
          "Stinger Laguna Jr. (2025)",
          "Polygon Sierra DS Lady (2025)",
          "Electra Townie Original 7D EQ Step Over (2023)",
          "Scott Scale 20 Rigid (2023)",
          "Maxiscoo 7Bike Disc 24'' (2024)",
          "Maxiscoo 5Bike 20'' Girl (2025)",
          "Maxiscoo 5Bike 24'' Girl (2025)",
          "Novatrack Tiger Pro 20\" (2024)",
          "Schwinn Mesa 3 Women (2022)",
          "Maxiscoo 5Bike 24'' Girl (2024)",
          "Polygon Urbano 3 (2025)",
          "Maxiscoo S009 20\" (2024)",
          "Polygon Path 2 Gent (2025)",
          "Novatrack Extreme 24\" (2025)",
          "Welt Moovix 1.0 24 V (2025)",
          "Novatrack Extreme Disc 24\" (2025)",
          "Stark Slash 24.1 D (2025)",
          "Titan Racing Hades 20\" (2024)",
          "Maxiscoo S009 16\" (2024)",
          "Novatrack Tiger 20\" (2024)",
          "Novatrack Extreme Disc 20\" (2025)",
          "Novatrack Racer 20\" (2020)",
          "Novatrack Tornado HD 24\" (2024)",
          "Novatrack Novara 24\" (2022)",
          "Novatrack Katrina Disc 24\" (2025)",
          "Polygon Impression AX Disc 27.5 (2025)",
          "Electra Cruiser 3i Mens (2023)",
          "Hagen Teen Pro 26 Air (2025)",
          "Welt Moovix 2.0 20 V (2025)",
          "Polygon Oosten 28 (2025)",
          "Electra Cruiser Lux 3i Ladies (2020)",
          "Polygon Sierra DS Gent (2025)",
          "Stels Turbo 470 MD Z010 (2025)",
          "Scott Scale 24 Rigid (2023)",
          "Novatrack Extreme HD 24\" (2025)",
          "Novatrack Town Disc 20\" (2024)",
          "Electra Cruiser 3i Ladies (2023)",
          "Stark Geek 20 (2024)",
          "Novatrack Katrina 20\" (2025)",
          "Stark Rocket Fat 20.1 D (2024)",
          "Novatrack Extreme Rigid Disc 24\" (2025)",
          "Maxiscoo 7Bike Pro Disc 24\" (2024)",
          "Polygon Zenith Town 3 (2025)",
          "Novatrack Novara Disc 24\" (2025)",
          "Stels Mustang 20V Z010 (2025)",
          "Format 2232 (2025)",
          "Stark Geek City 24.2 V (2025)",
          "Polygon Zenith Active 3 (2025)",
          "Format 6414 (2025)",
          "Format 6413 (2025)",
          "Format 5413 (2025)",
          "Maxiscoo 5Bike 20'' Boy (2025)",
          "Haro Flightline 20\" Plus DS (2025)",
          "Electra Cruiser 7D Ladies (2022)",
          "FOXX Latina Jr. (2025)",
          "Maxiscoo 7Bike Pro Disc 20\" (2024)",
          "Stels Leader 250 MD Z010 (2025)",
          "Novatrack Novara 24\" (2025)",
          "Stels Turbo 450 MD Z010 (2025)",
          "Format 7413 (2025)",
          "Stels Navigator 450 MD V030 (2023)",
          "Sunpeed Mars Disc (2024)",
          "Медведь Fold 750 (2023)",
          "Sunpeed Mars (2024)",
          "Scott Roxter 20 Rigid (2023)",
          "Scott Contessa Active 60 29 (2022)",
          "Welt Brave 2.0 24 HD (2025)",
          "Novatrack Dart 20\" (2020)",
          "Electra Zelda 3i (2022)",
          "Sunpeed Stella 27.5\" (2024)",
          "Electra Straight 8 8i (2020)",
          "Polygon Strattos S2 (2025)",
          "Scott Roxter 26 Disc (2023)",
          "Maxiscoo S007 Pro 14\" (2024)",
          "KTM Macina Mini Me SX 24 (2024)",
          "Polygon Strattos S4 (2025)",
          "KTM Wild One 24 ATB (2024)",
          "Scott Contessa 26 Disc (2023)",
          "KTM Wild One 20 ATB (2024)",
          "Polygon Tambora G4 (2025)",
          "KTM Wild Cross 20 (2024)",
          "Sunpeed Hero 24\" (2024)",
          "Polygon Strattos S3 (2025)",
          "KTM Wildcat 20 (2024)",
          "KTM Wild Cross Street 24 (2024)",
          "Polygon Zeta Fitte (2025)",
          "Sunpeed Youth 20\" (2024)",
          "Electra Townie 7D Step Over (2020)",
          "Stels Miss 6000 V K010 (2023)",
          "Welt Bianca 1.0 27 MD (2025)",
          "Aspect Air Jr (2025)",
          "Aspect Alma 26 (2025)",
          "Stels Navigator 800 Lady V010 (2023)",
          "Stels Miss 5100 MD V040 (2025)",
          "Haro Flightline 20 (2021)",
          "Stels Miss 7500 MD V010 (2025)",
          "Aspect Borneo 8 (2025)",
          "Stels Navigator 430 MD V010 (2025)",
          "Stels Pilot 350 V Z010 (2025)",
          "Stels Navigator 440 MD V010 (2023)",
          "Stels Legenda 290 Z010 (2025)",
          "Novatrack Racer 24\" (2023)",
          "Stels Pilot 350 20\" Z011 (2023)",
          "Giant Tempt 4 27,5 (2022)",
          "Novatrack Prime 24\" (2024)",
          "Stels Pilot 950 MD V011 (2023)",
          "Aspect Weekend (2024)",
          "Stels Legenda 390 Z010 (2025)",
          "Stark Jam 24.1 V (2024)",
          "Giant Tempt 5 29 (2022)",
          "Stark Luna 27.1 D (2025)",
          "Stels Pilot 360 V010 (2023)",
          "Format 7715 27.5 (2022)",
          "Stels Miss 5100 MD V040 (2023)",
          "Stels Pilot 760 V020 (2023)",
          "Stinger Vega STD 27.5\" (2024)",
          "Stels Pilot 970 MD V022 (2023)",
          "Novatrack Jenny Pro Disc 24\" (2023)",
          "Welt Sienna 1.0 MD (2025)",
          "Stels Launch 930 MD Z010 (2025)",
          "Stark Comfort Man 3-speed (2024)",
          "Stels Navigator 430 MD V010 (2023)",
          "Aspect Allroad (2024)",
          "Aspect Oasis (2024)",
          "Stels Leader 220 MD Z010 (2025)",
          "Aspect Borneo 7 (2024)",
          "Stinger Toledo 26\" (2023)",
          "Stark Comfort Lady (2025)",
          "Aspect Weekend Disc (2023)",
          "Stels Turbo 410 V Z010 (2025)",
          "Welt Brave 1.0 24 MD (2025)",
          "Welt Brave 1.0 20 MD (2025)",
          "Electra Loft 7D Ladies (2020)",
          "Maxiscoo 5Bike 20'' Girl (2024)",
          "Novatrack Katrina Disc 24\" (2024)",
          "Pifagor Moonshine 20\" (2024)",
          "Stels Miss 7700 MD 27.5\" V010 (2023)",
          "Welt Bianca 26 MD (2025)",
          "Welt Monza 1.0 MD (2025)",
          "Titan Racing Hades 20 Team (2024)",
          "Novatrack Prime Disc 20\" (2024)",
          "Stark Luna 26.2 D (2024)",
          "Alpinebike Pegas 20 3 ск. (2025)",
          "Alpinebike Pegas 24 3 ск. (2025)",
          "Novatrack Prime Disc Metallic 24\" (2024)",
          "Welt Brave 1.0 20 V (2025)",
          "Welt Moovix 2.0 24 HD (2025)",
          "Forward Unit 20 2.0 D (2024)",
          "Alpinebike Pegas Disc 24 7 ск. (2025)",
          "Giant Bliss 26 (2022)",
          "Haro Soulville ST (2021)",
          "Welt Moovix 1.0 24 MD (2025)",
          "Novatrack Dozer 24\" (2024)",
          "Haro Flightline 20 Plus (2021)",
          "Stels Navigator 420 V V030 (2025)",
          "Novatrack Katrina Disc 20\" (2025)",
          "Welt Floxy 1.0 D 26 (2024)",
          "Novatrack Katrina Disc Metallic 24\" (2024)",
          "Stark Cobra 26.2 HD (2023)",
          "Stels Navigator 400 MD F010 (2025)",
          "Stark Cobra 29.2 HD (2023)",
          "Giant Alight 24 (2022)",
          "Stark Luna 26.1 V (2022)",
          "Welt Peak 1.0 D 26 (2022)",
          "Aspect Angel (2024)",
          "Novatrack Angel 6 sp. 20\" (2019)",
          "Stels Pilot 850 V Z012 (2025)",
          "Forward Next 29 2.0 Disc (2020)",
          "Novatrack Ancona 24\" (2024)",
          "Forward Sporting 29 D Tourist (2022)",
          "Forward Next 27,5 3.0 Disc (2020)",
          "Stinger Laguna 24\" (2021)",
          "Stark Viva 27.2 D (2024)",
          "Aspect Weekend (2023)",
          "Stels Pilot 450 20\" Z011 (2023)",
          "Stark Terros 28.2 V (2023)",
          "Giant Flourish 24 (2022)",
          "Dahon SUV D6 (2022)",
          "Format 2222 (2023)",
          "Stark Viva 27.2 HD (2023)",
          "Stels Navigator 460 MD K010 (2023)",
          "Forward Iris 26 2.0 D (2022)",
          "Stels Navigator 400 V F020 (2023)",
          "Hogger Runa MD (2021)",
          "Giant Enchant 20 Lite (2022)",
          "Dewolf Asphalt 10 (2022)",
          "Giant Enchant 24 Lite (2021)",
          "Forward Impulse 28 (2022)",
          "Stark Respect 24.1 V Steel (2023)",
          "Scott Contessa Active 60 29 (2021)",
          "Bear Bike Minsk (2020)",
          "Adriatica Sity Retro Man (2021)",
          "Novatrack Girlish Line 6 sp. 20\" (2021)",
          "Giant Enchant 24 Disc (2021)",
          "Giant Enchant 24 (2021)",
          "Novatrack Katrina 24\" (2019)",
          "Stark Router 27.3 D (2020)",
          "Forward Next 29 3.0 Disc (2020)",
          "Stark Peloton 700.1 (2022)",
          "Giant Enchant 24 Lite (2022)",
          "Giant Enchant 24 Disc (2022)",
          "Maxiscoo Starlight 24 Girl (2022)",
          "Novatrack Extreme Disc 20\" (2020)",
          "Novatrack Dozer Disc 24\" (2021)",
          "Stels Navigator 420 V V030 (2023)",
          "Novatrack Ancona 20\" (2019)",
          "Novatrack Dozer Disc STD 24\" (2021)",
          "Novatrack Novara Disc 24\" (2022)",
          "Maxiscoo 5Bike 24'' Boy (2024)",
          "Welt Ridge 1.0 D 27 (2022)",
          "Novatrack Extreme HD 24\" (2024)",
          "Aspect Travel (2024)",
          "Stels Miss 6000 MD V010 (2023)",
          "Electra Townie 7D EQ Step Thru (2022)",
          "Titan Racing Valerian Ryde (2024)",
          "Stark Comfort Lady 3-speed (2024)",
          "Haro Soulville (2021)",
          "Titan Racing Valerian Sport (2024)",
          "Stels Miss 6000 D V010 (2023)",
          "Stinger Liberty Evo (2021)",
          "Stark Touring Lady 28.2 D (2025)",
          "Stels Turbo 400 V Z010 (2025)",
          "Welt R80 (2024)",
          "Dahon QIX D3 (2022)",
          "Stels Pilot 650 V010 (2023)",
          "Stark Geek 24 (2024)",
          "Stels Focus MD 24\" 18-sp V010 (2024)",
          "Aspect Galaxy (2023)",
          "Format 6612 24 (2022)",
          "Stels Mustang V 24\" V020 (2023)",
          "Titan Racing Calypso 20\" (2024)",
          "Electra Cruiser Lux 7D Ladies 24 (2022)",
          "Scott Speedster 40 (2022)",
          "Stels Legenda 350 Z010 (2025)",
          "FOXX Salsa 26\" (2024)",
          "FOXX Latina 26\" (2024)",
          "Novatrack Vortex 24\" (2024)",
          "Electra Loft 7i Mens (2020)",
          "Stels Navigator 375 VC Z011 (2024)",
          "Kama Lite 20 (2024)",
          "Red Pepper 24\" (2024)",
          "Stels Navigator 440 MD Z010 (2025)",
          "Forward Talica 28 2.0 (2024)",
          "FOXX Shift 6 sp, 20\" (2024)",
          "Welt Brave 3.0 24 HD (2025)",
          "Stels Leader 250 MD 20\" Z010 (2024)",
          "Hagen Teen Pro 24 Air (2025)",
          "Adriatica Sity 2 Man (2021)",
          "Scott Contessa Active 50 29 (2022)",
          "KTM Tourella (2024)",
          "Stels Mustang MD 24\" V010 (2023)",
          "Forward Twister 24 2.0 D (2024)",
          "Merida Matts J.24+ Eco (2022)",
          "Electra Cruiser 7D Mens (2022)",
          "KTM Wildcat 24 (2024)",
          "Titan Racing Calypso 24\" (2024)",
          "Titan Racing Hades 24\" (2024)",
          "Titan Racing Cerberus JR 20\" (2024)",
          "Sunpeed Jump 24\" (2024)",
          "Polygon Sierra DS Lady (2023)",
          "Polygon Oosten 28 (2023)",
          "Format 7732 (2023)",
          "Stinger Laguna STD 27\" (2022)",
          "Novatrack Tornado Disc 20\" (2024)",
          "Stels Miss 7100 MD V020 (2023)",
          "Hagen Teen Pro 24 Carbon (2025)",
          "Novatrack Prime Disc 24\" (2024)",
          "Stinger Laguna Evo 27.5\" (2023)",
          "Stark Respect 20.1 V Steel (2023)",
          "Polygon Relic 20 (2025)",
          "Aspect Winner Lite (2024)",
          "Aspect Borneo 8 (2024)",
          "Hogger Urban MD 24\" (2021)",
          "Novatrack Extreme Disc 21 sp. 24\" (2024)",
          "Polygon Sierra DS Gent (2023)",
          "Format 5342 (2021)",
          "Stels Pilot 750 Z010 (2023)",
          "Electra Honeycomb 3i (2022)",
          "Stels Navigator 700 V V020 (2018)",
          "Merida Silex 200 (2022)",
          "Stels Navigator 800 V V010 (2023)",
          "Stinger Latina 24 (2018)",
          "Stels Energy VI V010 (2023)",
          "Scott Speedster 30 (2022)",
          "Aspect Weekend Disc (2024)",
          "Cube Ella (2025)",
          "Cube Acid 240 Disc (2023)",
          "Aspect Oasis HD (2024)",
          "Bear Bike Marrakesh (2021)",
          "Stels Pilot 950 MD V010 (2018)",
          "Forward Sporting 1.0 (2018)",
          "Aspect Alma (2024)",
          "Stels Pilot 850 Z010 (2023)",
          "Welt Floxy 2.0 HD 27 (2024)",
          "Welt Edelweiss 1.0 HD 27 (2024)",
          "Forward Barcelona 26 2.0 (2024)",
          "Merida Matts J.24 Eco (2022)",
          "Aspect Citylife (2023)",
          "Stinger Laguna Evo 27.5\" (2024)",
          "Welt Edelweiss 1.0 D 27 (2024)",
          "Merida Matts J.20 Eco (2022)",
          "Forward Spike 24 D (2023)",
          "Stels Navigator 350 V Z011 (2024)",
          "Cube Kid 240 Race (2018)",
          "Forward Tracer 26 3.0 (2021)",
          "Polygon Oosten 26 (2023)",
          "Giant Momentum iRide Rocker 3 (2018)",
          "Aspect Komodo 3 (2024)",
          "Stark Cobra 29.2 D (2023)",
          "Polygon Urbano 3 (2023)",
          "Forward Tracer 26 2.0 Disc (2021)",
          "Stark Cobra 26.2 D (2023)",
          "Haro Flightline One 26 (2021)",
          "Stinger Vega STD 29\" (2024)",
          "Polygon Path 2 Gent (2023)",
          "Cube Acid 200 (2025)",
          "Forward Flash 3.0 (2018)",
          "Welt King Al 3 (2024)",
          "Trek Precaliber 24 7-speed Boy's (2018)",
          "Trek Domane AL 2 (2022)",
          "Forward Sevilla 26 2.0 (2022)",
          "Stinger Vancouver Evo (2021)",
          "Stels Pilot 370 V010 (2023)",
          "Giant iNeed Street Mid Step (2021)",
          "Stels Navigator 360 V010 (2018)",
          "Aspect Oasis (2023)",
          "Forward Titan 2.0 low (2018)",
          "Trek 520 Grando (2022)",
          "Forward Tracer 26 2.0 disc (2020)",
          "Schwinn Tango Tandem (2018)",
          "Forward Valencia 24 2.0 (2022)",
          "Schwinn Hollywood (2018)",
          "Merida Matts J24 Boy (2018)",
          "Stels Navigator 350 Gent 28\" Z010 (2023)",
          "Forward Apache 2.0 disc (2018)",
          "Giant Enchant 20 Lite (2021)",
          "Forward Unit 24 1.0 (2023)",
          "Hagen Teen 24 (2025)",
          "Forward Apache 1.0 (2018)",
          "Aspect Allroad Pro (2024)",
          "Stels Pilot 850 V Z011 (2025)",
          "Forward Flash 1.0 (2018)",
          "Stels Pilot 240 MD V010 (2023)",
          "Trek 520 (2022)",
          "Stels Miss 5000 V V050 (2023)",
          "Welt Subway 20 (2024)",
          "Cube Nuroad Rookie (2025)",
          "Stels Pilot 630 MD V010 (2023)",
          "Stels Miss 5300 MD V030 (2018)",
          "Polygon Strattos S2 (2023)",
          "Scott Voltage JR 20 (2018)",
          "Giant Cypress 3 City (2022)",
          "Aspect Galaxy (2024)",
          "Trek Domane AL 3 Disc (2022)",
          "Stels Pilot 770 V010 (2023)",
          "Stels Navigator 830 Gent V010 (2021)",
          "Stels Pilot 850 Z011 (2022)",
          "Trek Precaliber 20 7Sp Girls (2022)",
          "Welt Peak 24 R (2024)",
          "Aspect CITYLIFE (2018)",
          "Giant XtC Jr 20 (2022)",
          "Stels Navigator 480 MD V030 (2018)",
          "Welt Floxy 2.0 D 27 (2024)",
          "Trek Wahoo 24 (2022)",
          "Aspect Road (2024)",
          "Polygon Relic 20 (2023)",
          "Bear Bike Minsk (2022)",
          "Forward Hardi 1.0 (2018)",
          "Forward Sporting 2.0 29 disc (2018)",
          "Aspect Komodo 3 (2023)",
          "Stinger Defender 26 (2018)",
          "Polygon Zeta Fitte (2023)",
          "Aspect Angel Lite (2024)",
          "Trek Precaliber 24 8Sp Boys (2022)",
          "Giant Escape 3 Disc (2021)",
          "Giant XtC Jr 20 (2021)",
          "Cube Cross Race (2022)",
          "Stinger Latina D 26\" (2023)",
          "Welt R90 (2024)",
          "Giant iNeed Street (2021)",
          "Forward Tracer 26 3.0 (2020)",
          "Trek L100 Men (2019)",
          "Format 7733 (2023)",
          "Stels Navigator 730 MD V010 (2020)",
          "Scott Voltage JR 24 disc (2018)",
          "Stels Navigator 350 V Z010 (2023)",
          "Stels Navigator 430 MD V020 (2018)",
          "Forward Flash 2.0 (2018)",
          "Aspect Winner (2024)",
          "Aspect Komodo 3 (2022)",
          "Scott Contessa Speedster Gravel 25 (2019)",
          "Forward Bizon 26 D (2022)",
          "Stark Jam 24.2 V (2023)",
          "Welt Queen Al 3 (2023)",
          "Scott Contessa 730 (2018)",
          "Stels Navigator 550 V 26 V020 (2018)",
          "Forward Sporting 2.0 disc (2018)",
          "Stinger Laguna Evo 26\" (2023)",
          "Cube Acid 240 Disc (2025)",
          "Electra Loft 7D Mens (2020)",
          "Stels Navigator 660 MD 27.5\"+ V020 (2018)",
          "Stels Crosswind V 21-Sp Z010 (2018)",
          "Forward Sevilla 26 2.0 (2020)",
          "Format 6413 (2024)",
          "Merida Matts J20 Boy (2018)",
          "Stinger Verona 26\" (2023)",
          "Giant Expressway 1 (2020)",
          "Hagen Teen 24 R (2025)",
          "Stels Pilot 970 V V020 (2018)",
          "Merida Fox J24 (2019)",
          "Giant Halfway (2019)",
          "Stels Navigator 400 MD V010 (2018)",
          "Stels Miss 5000 MD 26\" V020 (2023)",
          "Merida Silex 200 (2021)",
          "Aspect Oasis (2022)",
          "Shulz Krabi Coaster (2021)",
          "Trek 820 WSD (2022)",
          "Welt Peak 1.0 HD 24 (2024)",
          "Stels Pilot 970 MD V021 (2018)",
          "Format 2323 (2020)",
          "Stels Navigator 350 V Z011 (2025)",
          "Forward Surf 2.0 (2018)",
          "Aspect Alma (2022)",
          "Forward Quadro 27,5 2.0 Disc (2020)",
          "Forward Titan 1.0 (2018)",
          "Forward Toronto 1.0 (2018)",
          "Format 6423 24 (2023)",
          "Stinger Verona (2021)",
          "Stels Navigator 410 V-18 sp V030 (2018)",
          "Merida Princess J24 (2019)",
          "Giant Rincon (2018)",
          "Stels Navigator 410 MD 21-sp V010 (2023)",
          "Scott Roxter 24 Rigid (2023)",
          "Welt Subway 24 (2024)",
          "Format 6414 24 (2023)",
          "Shulz Easy Fat (2021)",
          "Stels Miss 6100 V 26 V010 (2018)",
          "Merida Princess J20 (2019)",
          "Welt Denali (2025)",
          "Stinger Laguna Evo 26\" (2024)",
          "Stels Navigator 680 MD V040 (2018)",
          "Welt Floxy 1.0 HD 24 (2024)",
          "Dahon CIAO EI7 (2019)",
          "Schwinn Hornet (2020)",
          "Forward Edge 27.5 2.0 Disc (2020)",
          "Stels Navigator 470 V V020 (2018)",
          "Welt Edelweiss 1.0 HD 26 (2022)",
          "Merida Mission CX 300 SE (2020)",
          "Giant Revel 2 (2018)",
          "Welt Floxy 24 R (2024)",
          "Format 6612 (2020)",
          "Aspect Oasis HD (2023)",
          "Stels Aggressor MD 26\" V010 (2019)",
          "Forward Twister 24 2.0 D (2023)",
          "Stinger Latina 26\" (2022)",
          "Aspect Road Pro (2024)",
          "Merida Matts J24 Plus Pro (2023)",
          "Welt Floxy 24 (2024)",
          "Merida Chica J24 (2019)",
          "Merida Spider J24 (2019)",
          "Cube Acid 260 Disc Allroad (2025)",
          "Stels Pilot 780 V010 (2023)",
          "Scott Aspect 670 (2018)",
          "Stels Navigator 550 V V030 (2018)",
          "Format 6412 (2020)",
          "Stinger Barcelona STD (2021)",
          "Stinger Cruiser Nexus 7 26\" (2019)",
          "Merida Chica J20 (2019)",
          "Merida Spider J20 (2019)",
          "Giant ARX 20 (2022)",
          "Giant XTC Jr 20 Lite (2021)",
          "Stinger Laguna STD 26\" (2022)",
          "Dewolf J250 Girl (2018)",
          "Forward Dakota 26 1.0 (2018)",
          "Aspect Komodo 7 (2024)",
          "Aspect Air Jr (2024)",
          "Stinger Element 24\" (2022)",
          "Cube Acid 240 Allroad (2023)",
          "Merida Matts J24 Pro (2023)",
          "Stels Navigator 420 MD V010 (2018)",
          "Stels Miss 5100 MD V031 (2018)",
          "Merida Dino J20 (2019)",
          "Stinger Vesta Std 26\" (2020)",
          "Stels Navigator 350 Lady 28\" Z010 (2023)",
          "Cube Acid 200 Disc Allroad (2025)",
          "Format 6612 (2021)",
          "Merida MATTS J24 GIRL (2018)",
          "Giant XtC Jr 20 (2018)",
          "Giant Revolt 2 (2022)",
          "Format 6612 (2018)",
          "Scott Aspect 680 (2018)",
          "Shulz Krabi Multi Disk (2020)",
          "Format 5223 27.5 (2023)",
          "Stels Navigator 550 MD V010 (2018)",
          "Welt Edelweiss 1.0 D (2019)",
          "Scott Silence 30 Men (2018)",
          "Merida Bella J20 (2019)",
          "Stels Focus MD 21 Sp 27.5 V010 (2023)",
          "Bear Bike Algeria (2022)",
          "Bear Bike Minsk (2021)",
          "Schwinn Cabo (2022)",
          "Titan Racing Switch Sport (2024)",
          "Cube Attain Pro (2025)",
          "Aspect WINNER (2018)",
          "Stels Navigator 500 MD V040 (2019)",
          "Forward Arsenal 20 2.0 (2022)",
          "Stels Focus MD 21-sp V010 (2023)",
          "Stels Challenger V 26 V010 (2018)",
          "Aspect ALMA (2020)",
          "Aspect ALMA (2021)",
          "Giant Contend AR 2 (2022)",
          "Forward Titan 24 2.0 D (2022)",
          "Cube Reaction 200 Pro (2025)",
          "Stels Navigator 700 MD F010 (2023)",
          "Stels Challenger V Z010 (2023)",
          "Welt R100 Disc (2024)",
          "Slash Ranger (2021)",
          "Giant ARX 20 (2021)",
          "Welt Peak 20 (2024)",
          "Stinger Victoria (2022)",
          "Forward Flash 26 1.0 (2019)",
          "Forward Titan 2.1 (2018)",
          "Cube Aim Allroad 27.5 (2018)",
          "Merida Fox J20 (2019)",
          "Forward Parma 28 (2022)",
          "Stels Navigator 355 V Z010 (2023)",
          "Forward Flash 26 1.0 (2020)",
          "Bear Bike London (2021)",
          "Stark Jam 24.1 V (2025)",
          "Aspect WEEKEND (2020)",
          "Stels Navigator 400 V 24\" F010 (2023)",
          "Shulz Krabi Coaster (2020)",
          "Shulz Krabi Multi Disc (2021)",
          "Haro Flightline 24 Plus (2021)",
          "Cube Town One (2025)",
          "Stels Navigator 800 Gent V010 (2023)",
          "Stark Pusher 1 (2018)",
          "Centurion R'Bock 24-D (2018)",
          "Stark Cobra 27.2 D (2022)",
          "Stels Focus 18-sp. V030 (2023)",
          "Forward Unit 24 2.0 D (2024)",
          "Stels Miss 4300 V V010 (2024)",
          "Giant XTC Jr 20 Lite (2019)",
          "Merida JULIET 6.10-V (2018)",
          "Polygon Strattos S4 (2023)",
          "Forward Rockford 28 (2021)",
          "Dahon K3 (2021)",
          "Forward Tracer 1.0 (2018)",
          "Merida Juliet 6.20-MD (2018)",
          "Scott Scale JR 20 (2018)",
          "Format 6413 (2019)",
          "Stels Navigator 610 MD 27.5\" V020 (2018)",
          "Shulz Big Daddy (2021)",
          "Stels XT 280 V010 (2020)",
          "Aspect Champion (2022)",
          "Forward Tracer 26 3.0 (2022)",
          "Marin Four Corners 27.5 (2020)",
          "Shulz Lentus (2021)",
          "Format 5232 (2024)",
          "Dahon Dream D6 (2021)",
          "Forward Iris 24 2.0 D (2022)",
          "Merida Matts 6.10-MD (2019)",
          "Cube Kid 240 (2018)",
          "Forward Toronto 26 2.0 disc (2019)",
          "Stels Navigator 355 Lady Z010 (2018)",
          "Merida MATTS J CHAMPION (2019)",
          "Cube Reaction 200 Pro (2023)",
          "Giant ExpressWay 2 (2019)",
          "Dahon K3 Plus (2022)",
          "Giant STP 20 FS (2022)",
          "Stark Cobra 26.2 D (2021)",
          "Giant XtC Jr 20 (2020)",
          "Haro Beasley 27,5 (2021)",
          "Format 6412 26 (2023)",
          "Electra Townie Original 7D EQ Step Thru (2023)",
          "Stinger Vega STD 27\" (2021)",
          "Dahon CURVE I3 (2019)",
          "Shulz Hopper XL (2021)",
          "Stels Miss 5000 V K010 (2023)",
          "Dahon CURL I4 (2019)",
          "Stels Turbo 410 MD Z010 (2025)",
          "Merida MATTS J CHAMPION (2018)",
          "Merida FOX J20 (2018)",
          "Cube Aim Allroad 27.5 (2019)",
          "Stels Miss 7500 MD V010 (2023)",
          "Tern Link C8 (2019)",
          "Format 6422 (2023)",
          "Dahon Launch D8 (2022)",
          "Stels Cross 130 MD Gent V010 (2019)",
          "Aspect Komodo 7 (2023)",
          "Stark Shooter 1 (2020)",
          "Stels XT 300 V010 (2020)",
          "Shulz Krabi V-brake (2021)",
          "Stark Fat 26.3 D (2024)",
          "FOXX Shift 6 sp, 24\" (2024)",
          "Stels Leader 220 MD 22\" Z010 (2024)",
          "Welt Grace 3 (2024)",
          "Forward Sporting 27,5 2.0 Disc (2020)",
          "Trek Roscoe 20 (2022)",
          "Stels Miss 6300 V V010 (2018)",
          "Trek Speed Concept (2018)",
          "Stinger Caiman 24\" (2022)",
          "Dahon Mariner D8 (2021)",
          "Electra Cruiser 7D Ladies 24 (2022)",
          "Bear Bike London (2022)",
          "Stels Aggressor MD 24\" V010 (2023)",
          "Cube Ella 240 (2025)",
          "Bear Bike Riga (2021)",
          "Giant Vida (2021)",
          "Merida Matts J.20+ (2021)",
          "Stels Miss 6100 MD V030 (2023)",
          "Polygon Urbano 5 (2023)",
          "Bear Bike Amsterdam (2021)",
          "Shulz Hopper Mini (2021)",
          "Stels Navigator 610 V 27.5 V030 (2018)",
          "Stels Miss 710 MD (2025)",
          "Stark Hunter 26.2 D (2018)",
          "Merida SPIDER J20 (2018)",
          "Merida SPIDER J24 (2018)",
          "Kross FLEX 3.0 (2018)",
          "Giant ExpressWay 1 (2019)",
          "Format 2323 700C (2023)",
          "Aspect ALMA (2019)",
          "Giant Flourish 4 (2022)",
          "Polygon Xtrada 24 (2023)",
          "Format 7715 27.5 (2023)",
          "Stark Jumper FS 27.1 D (2023)",
          "Stinger Element 26 (2019)",
          "Trek Madone 9.0 (2018)",
          "Forward Dakota 26 2.0 (2018)",
          "Hogger Urban MD 20\" (2021)",
          "Stels Aggressor MD 20\" V010 (2019)",
          "Giant STP 20 (2022)",
          "Giant STP 20 FS Liv (2021)",
          "Stels Miss 6100 MD V020 (2018)",
          "Scott Scale JR 24 (2018)",
          "Scott Voltage JR 24 (2018)",
          "Schwinn HIGH TIMBER 24 GIRL (2018)",
          "Haro Flightline 24 (2021)",
          "Cube Acid 200 Allroad (2022)",
          "Aspect Winner (2023)",
          "Cube Acid 200 (2023)",
          "Haro Flightline One 27.5 ST (2021)",
          "Dahon Vybe D7 (2022)",
          "Forward Dakota 24 2.1 (2018)",
          "Welt Edelweiss 1.0 (2018)",
          "Forward Enigma 20 3.0 (2021)",
          "Forward Valencia 24 2.0 (2021)",
          "Stels Navigator 710 MD 27,5\" V010 (2019)",
          "Scott Voltage YZ 20 (2018)",
          "Dahon ESPRESSO D24 (2019)",
          "Aspect CITYLIFE (2021)",
          "Dahon K-One (2022)",
          "Marin Four Corners (2020)",
          "Kross Evado 3.0 (2018)",
          "Stels Navigator 430 V V030 (2018)",
          "Forward Sporting 27,5 1.0 (2020)",
          "Format 6413 24 (2023)",
          "Schwinn Panther (2018)",
          "Welt Floxy 20 R (2024)",
          "Stark Jam 20.1 V (2025)",
          "Trek Precaliber 20 7-speed Boy's (2020)",
          "Aspect OASIS (2018)",
          "Stels Navigator 510 V V010 (2018)",
          "Aspect ROAD PRO (2021)",
          "Cube Acid 240 (2025)",
          "Giant Flourish FS 2 (2022)",
          "Shulz Hopper 3 (2021)",
          "Forward Enigma 20 2.0 (2021)",
          "Giant Cypress (2018)",
          "Aspect CHAMPION (2021)",
          "Aspect AIR JR (2018)",
          "Merida Matts J. 24+ (2022)",
          "Aspect FOREST (2018)",
          "Forward Dakota 24 2.0 (2018)",
          "Trek 820 (2018)",
          "Trek Skye S Women's 29 (2018)",
          "Welt Ridge 1.0 HD 26 (2020)",
          "Welt Edelweiss 20 (2021)",
          "Welt Peak 24 (2024)",
          "Merida MATTS 6.20-MD (2018)"
         ],
         "legendgroup": "3",
         "marker": {
          "color": "#ab63fa",
          "symbol": "circle"
         },
         "mode": "markers",
         "name": "3",
         "showlegend": true,
         "type": "scattergl",
         "x": {
          "bdata": "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",
          "dtype": "f4"
         },
         "xaxis": "x",
         "y": {
          "bdata": "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",
          "dtype": "f4"
         },
         "yaxis": "y"
        }
       ],
       "layout": {
        "legend": {
         "title": {
          "text": "Кластер"
         },
         "tracegroupgap": 0
        },
        "showlegend": true,
        "template": {
         "data": {
          "bar": [
           {
            "error_x": {
             "color": "#2a3f5f"
            },
            "error_y": {
             "color": "#2a3f5f"
            },
            "marker": {
             "line": {
              "color": "#E5ECF6",
              "width": 0.5
             },
             "pattern": {
              "fillmode": "overlay",
              "size": 10,
              "solidity": 0.2
             }
            },
            "type": "bar"
           }
          ],
          "barpolar": [
           {
            "marker": {
             "line": {
              "color": "#E5ECF6",
              "width": 0.5
             },
             "pattern": {
              "fillmode": "overlay",
              "size": 10,
              "solidity": 0.2
             }
            },
            "type": "barpolar"
           }
          ],
          "carpet": [
           {
            "aaxis": {
             "endlinecolor": "#2a3f5f",
             "gridcolor": "white",
             "linecolor": "white",
             "minorgridcolor": "white",
             "startlinecolor": "#2a3f5f"
            },
            "baxis": {
             "endlinecolor": "#2a3f5f",
             "gridcolor": "white",
             "linecolor": "white",
             "minorgridcolor": "white",
             "startlinecolor": "#2a3f5f"
            },
            "type": "carpet"
           }
          ],
          "choropleth": [
           {
            "colorbar": {
             "outlinewidth": 0,
             "ticks": ""
            },
            "type": "choropleth"
           }
          ],
          "contour": [
           {
            "colorbar": {
             "outlinewidth": 0,
             "ticks": ""
            },
            "colorscale": [
             [
              0,
              "#0d0887"
             ],
             [
              0.1111111111111111,
              "#46039f"
             ],
             [
              0.2222222222222222,
              "#7201a8"
             ],
             [
              0.3333333333333333,
              "#9c179e"
             ],
             [
              0.4444444444444444,
              "#bd3786"
             ],
             [
              0.5555555555555556,
              "#d8576b"
             ],
             [
              0.6666666666666666,
              "#ed7953"
             ],
             [
              0.7777777777777778,
              "#fb9f3a"
             ],
             [
              0.8888888888888888,
              "#fdca26"
             ],
             [
              1,
              "#f0f921"
             ]
            ],
            "type": "contour"
           }
          ],
          "contourcarpet": [
           {
            "colorbar": {
             "outlinewidth": 0,
             "ticks": ""
            },
            "type": "contourcarpet"
           }
          ],
          "heatmap": [
           {
            "colorbar": {
             "outlinewidth": 0,
             "ticks": ""
            },
            "colorscale": [
             [
              0,
              "#0d0887"
             ],
             [
              0.1111111111111111,
              "#46039f"
             ],
             [
              0.2222222222222222,
              "#7201a8"
             ],
             [
              0.3333333333333333,
              "#9c179e"
             ],
             [
              0.4444444444444444,
              "#bd3786"
             ],
             [
              0.5555555555555556,
              "#d8576b"
             ],
             [
              0.6666666666666666,
              "#ed7953"
             ],
             [
              0.7777777777777778,
              "#fb9f3a"
             ],
             [
              0.8888888888888888,
              "#fdca26"
             ],
             [
              1,
              "#f0f921"
             ]
            ],
            "type": "heatmap"
           }
          ],
          "histogram": [
           {
            "marker": {
             "pattern": {
              "fillmode": "overlay",
              "size": 10,
              "solidity": 0.2
             }
            },
            "type": "histogram"
           }
          ],
          "histogram2d": [
           {
            "colorbar": {
             "outlinewidth": 0,
             "ticks": ""
            },
            "colorscale": [
             [
              0,
              "#0d0887"
             ],
             [
              0.1111111111111111,
              "#46039f"
             ],
             [
              0.2222222222222222,
              "#7201a8"
             ],
             [
              0.3333333333333333,
              "#9c179e"
             ],
             [
              0.4444444444444444,
              "#bd3786"
             ],
             [
              0.5555555555555556,
              "#d8576b"
             ],
             [
              0.6666666666666666,
              "#ed7953"
             ],
             [
              0.7777777777777778,
              "#fb9f3a"
             ],
             [
              0.8888888888888888,
              "#fdca26"
             ],
             [
              1,
              "#f0f921"
             ]
            ],
            "type": "histogram2d"
           }
          ],
          "histogram2dcontour": [
           {
            "colorbar": {
             "outlinewidth": 0,
             "ticks": ""
            },
            "colorscale": [
             [
              0,
              "#0d0887"
             ],
             [
              0.1111111111111111,
              "#46039f"
             ],
             [
              0.2222222222222222,
              "#7201a8"
             ],
             [
              0.3333333333333333,
              "#9c179e"
             ],
             [
              0.4444444444444444,
              "#bd3786"
             ],
             [
              0.5555555555555556,
              "#d8576b"
             ],
             [
              0.6666666666666666,
              "#ed7953"
             ],
             [
              0.7777777777777778,
              "#fb9f3a"
             ],
             [
              0.8888888888888888,
              "#fdca26"
             ],
             [
              1,
              "#f0f921"
             ]
            ],
            "type": "histogram2dcontour"
           }
          ],
          "mesh3d": [
           {
            "colorbar": {
             "outlinewidth": 0,
             "ticks": ""
            },
            "type": "mesh3d"
           }
          ],
          "parcoords": [
           {
            "line": {
             "colorbar": {
              "outlinewidth": 0,
              "ticks": ""
             }
            },
            "type": "parcoords"
           }
          ],
          "pie": [
           {
            "automargin": true,
            "type": "pie"
           }
          ],
          "scatter": [
           {
            "fillpattern": {
             "fillmode": "overlay",
             "size": 10,
             "solidity": 0.2
            },
            "type": "scatter"
           }
          ],
          "scatter3d": [
           {
            "line": {
             "colorbar": {
              "outlinewidth": 0,
              "ticks": ""
             }
            },
            "marker": {
             "colorbar": {
              "outlinewidth": 0,
              "ticks": ""
             }
            },
            "type": "scatter3d"
           }
          ],
          "scattercarpet": [
           {
            "marker": {
             "colorbar": {
              "outlinewidth": 0,
              "ticks": ""
             }
            },
            "type": "scattercarpet"
           }
          ],
          "scattergeo": [
           {
            "marker": {
             "colorbar": {
              "outlinewidth": 0,
              "ticks": ""
             }
            },
            "type": "scattergeo"
           }
          ],
          "scattergl": [
           {
            "marker": {
             "colorbar": {
              "outlinewidth": 0,
              "ticks": ""
             }
            },
            "type": "scattergl"
           }
          ],
          "scattermap": [
           {
            "marker": {
             "colorbar": {
              "outlinewidth": 0,
              "ticks": ""
             }
            },
            "type": "scattermap"
           }
          ],
          "scattermapbox": [
           {
            "marker": {
             "colorbar": {
              "outlinewidth": 0,
              "ticks": ""
             }
            },
            "type": "scattermapbox"
           }
          ],
          "scatterpolar": [
           {
            "marker": {
             "colorbar": {
              "outlinewidth": 0,
              "ticks": ""
             }
            },
            "type": "scatterpolar"
           }
          ],
          "scatterpolargl": [
           {
            "marker": {
             "colorbar": {
              "outlinewidth": 0,
              "ticks": ""
             }
            },
            "type": "scatterpolargl"
           }
          ],
          "scatterternary": [
           {
            "marker": {
             "colorbar": {
              "outlinewidth": 0,
              "ticks": ""
             }
            },
            "type": "scatterternary"
           }
          ],
          "surface": [
           {
            "colorbar": {
             "outlinewidth": 0,
             "ticks": ""
            },
            "colorscale": [
             [
              0,
              "#0d0887"
             ],
             [
              0.1111111111111111,
              "#46039f"
             ],
             [
              0.2222222222222222,
              "#7201a8"
             ],
             [
              0.3333333333333333,
              "#9c179e"
             ],
             [
              0.4444444444444444,
              "#bd3786"
             ],
             [
              0.5555555555555556,
              "#d8576b"
             ],
             [
              0.6666666666666666,
              "#ed7953"
             ],
             [
              0.7777777777777778,
              "#fb9f3a"
             ],
             [
              0.8888888888888888,
              "#fdca26"
             ],
             [
              1,
              "#f0f921"
             ]
            ],
            "type": "surface"
           }
          ],
          "table": [
           {
            "cells": {
             "fill": {
              "color": "#EBF0F8"
             },
             "line": {
              "color": "white"
             }
            },
            "header": {
             "fill": {
              "color": "#C8D4E3"
             },
             "line": {
              "color": "white"
             }
            },
            "type": "table"
           }
          ]
         },
         "layout": {
          "annotationdefaults": {
           "arrowcolor": "#2a3f5f",
           "arrowhead": 0,
           "arrowwidth": 1
          },
          "autotypenumbers": "strict",
          "coloraxis": {
           "colorbar": {
            "outlinewidth": 0,
            "ticks": ""
           }
          },
          "colorscale": {
           "diverging": [
            [
             0,
             "#8e0152"
            ],
            [
             0.1,
             "#c51b7d"
            ],
            [
             0.2,
             "#de77ae"
            ],
            [
             0.3,
             "#f1b6da"
            ],
            [
             0.4,
             "#fde0ef"
            ],
            [
             0.5,
             "#f7f7f7"
            ],
            [
             0.6,
             "#e6f5d0"
            ],
            [
             0.7,
             "#b8e186"
            ],
            [
             0.8,
             "#7fbc41"
            ],
            [
             0.9,
             "#4d9221"
            ],
            [
             1,
             "#276419"
            ]
           ],
           "sequential": [
            [
             0,
             "#0d0887"
            ],
            [
             0.1111111111111111,
             "#46039f"
            ],
            [
             0.2222222222222222,
             "#7201a8"
            ],
            [
             0.3333333333333333,
             "#9c179e"
            ],
            [
             0.4444444444444444,
             "#bd3786"
            ],
            [
             0.5555555555555556,
             "#d8576b"
            ],
            [
             0.6666666666666666,
             "#ed7953"
            ],
            [
             0.7777777777777778,
             "#fb9f3a"
            ],
            [
             0.8888888888888888,
             "#fdca26"
            ],
            [
             1,
             "#f0f921"
            ]
           ],
           "sequentialminus": [
            [
             0,
             "#0d0887"
            ],
            [
             0.1111111111111111,
             "#46039f"
            ],
            [
             0.2222222222222222,
             "#7201a8"
            ],
            [
             0.3333333333333333,
             "#9c179e"
            ],
            [
             0.4444444444444444,
             "#bd3786"
            ],
            [
             0.5555555555555556,
             "#d8576b"
            ],
            [
             0.6666666666666666,
             "#ed7953"
            ],
            [
             0.7777777777777778,
             "#fb9f3a"
            ],
            [
             0.8888888888888888,
             "#fdca26"
            ],
            [
             1,
             "#f0f921"
            ]
           ]
          },
          "colorway": [
           "#636efa",
           "#EF553B",
           "#00cc96",
           "#ab63fa",
           "#FFA15A",
           "#19d3f3",
           "#FF6692",
           "#B6E880",
           "#FF97FF",
           "#FECB52"
          ],
          "font": {
           "color": "#2a3f5f"
          },
          "geo": {
           "bgcolor": "white",
           "lakecolor": "white",
           "landcolor": "#E5ECF6",
           "showlakes": true,
           "showland": true,
           "subunitcolor": "white"
          },
          "hoverlabel": {
           "align": "left"
          },
          "hovermode": "closest",
          "mapbox": {
           "style": "light"
          },
          "paper_bgcolor": "white",
          "plot_bgcolor": "#E5ECF6",
          "polar": {
           "angularaxis": {
            "gridcolor": "white",
            "linecolor": "white",
            "ticks": ""
           },
           "bgcolor": "#E5ECF6",
           "radialaxis": {
            "gridcolor": "white",
            "linecolor": "white",
            "ticks": ""
           }
          },
          "scene": {
           "xaxis": {
            "backgroundcolor": "#E5ECF6",
            "gridcolor": "white",
            "gridwidth": 2,
            "linecolor": "white",
            "showbackground": true,
            "ticks": "",
            "zerolinecolor": "white"
           },
           "yaxis": {
            "backgroundcolor": "#E5ECF6",
            "gridcolor": "white",
            "gridwidth": 2,
            "linecolor": "white",
            "showbackground": true,
            "ticks": "",
            "zerolinecolor": "white"
           },
           "zaxis": {
            "backgroundcolor": "#E5ECF6",
            "gridcolor": "white",
            "gridwidth": 2,
            "linecolor": "white",
            "showbackground": true,
            "ticks": "",
            "zerolinecolor": "white"
           }
          },
          "shapedefaults": {
           "line": {
            "color": "#2a3f5f"
           }
          },
          "ternary": {
           "aaxis": {
            "gridcolor": "white",
            "linecolor": "white",
            "ticks": ""
           },
           "baxis": {
            "gridcolor": "white",
            "linecolor": "white",
            "ticks": ""
           },
           "bgcolor": "#E5ECF6",
           "caxis": {
            "gridcolor": "white",
            "linecolor": "white",
            "ticks": ""
           }
          },
          "title": {
           "x": 0.05
          },
          "xaxis": {
           "automargin": true,
           "gridcolor": "white",
           "linecolor": "white",
           "ticks": "",
           "title": {
            "standoff": 15
           },
           "zerolinecolor": "white",
           "zerolinewidth": 2
          },
          "yaxis": {
           "automargin": true,
           "gridcolor": "white",
           "linecolor": "white",
           "ticks": "",
           "title": {
            "standoff": 15
           },
           "zerolinecolor": "white",
           "zerolinewidth": 2
          }
         }
        },
        "title": {
         "text": "UMAP + KMeans кластеризация"
        },
        "xaxis": {
         "anchor": "y",
         "domain": [
          0,
          1
         ],
         "title": {
          "text": "UMAP 1"
         }
        },
        "yaxis": {
         "anchor": "x",
         "domain": [
          0,
          1
         ],
         "title": {
          "text": "UMAP 2"
         }
        }
       }
      }
     },
     "metadata": {},
     "output_type": "display_data"
    }
   ],
   "source": [
    "metadata, embeddings = load_data()\n",
    "visualize_umap_kmeans(embeddings, metadata)"
   ]
  },
  {
   "cell_type": "code",
   "execution_count": null,
   "id": "da791bdf",
   "metadata": {},
   "outputs": [],
   "source": []
  },
  {
   "cell_type": "code",
   "execution_count": 9,
   "id": "063afb5d",
   "metadata": {},
   "outputs": [],
   "source": [
    "llm = ChatOpenAI(\n",
    "    model=\"deepseek-chat\",\n",
    "    max_tokens=10000,\n",
    "    temperature=0.7,\n",
    "    top_p=0.8,\n",
    "    api_key=os.getenv(\"API_KEY\"),\n",
    "    base_url=os.getenv(\"BASE_URL\"),\n",
    "    extra_body={\"response_format\": {\"type\": \"json_object\"}}\n",
    ")"
   ]
  },
  {
   "cell_type": "code",
   "execution_count": 11,
   "id": "78485367",
   "metadata": {},
   "outputs": [
    {
     "name": "stdout",
     "output_type": "stream",
     "text": [
      "{\n",
      "  \"answer\": \"Велосипед - это транспортное средство, приводимое в движение мускульной силой человека через педали или (редко) через ручные рычаги. Он имеет два колеса, расположенных одно за другим, и предназначен для передвижения по различным поверхностям. Велосипеды используются для перевозки людей, грузов, а также в спортивных и рекреационных целях.\"\n",
      "}\n"
     ]
    }
   ],
   "source": [
    "print(llm.invoke(\"Что такое велосипед? Ответь в формате JSON {\\\"answer\\\":...}\").content)"
   ]
  },
  {
   "cell_type": "code",
   "execution_count": null,
   "id": "b19d1469",
   "metadata": {},
   "outputs": [],
   "source": []
  }
 ],
 "metadata": {
  "kernelspec": {
   "display_name": ".venv",
   "language": "python",
   "name": "python3"
  },
  "language_info": {
   "codemirror_mode": {
    "name": "ipython",
    "version": 3
   },
   "file_extension": ".py",
   "mimetype": "text/x-python",
   "name": "python",
   "nbconvert_exporter": "python",
   "pygments_lexer": "ipython3",
   "version": "3.11.9"
  }
 },
 "nbformat": 4,
 "nbformat_minor": 5
}
